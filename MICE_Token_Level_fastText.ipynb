{
  "nbformat": 4,
  "nbformat_minor": 0,
  "metadata": {
    "colab": {
      "name": "Copy of 31/05 MICE - Token-Level - fastText.ipynb",
      "provenance": [],
      "collapsed_sections": [
        "kZ2HEOXDguxN"
      ],
      "toc_visible": true,
      "authorship_tag": "ABX9TyPWGC8p+fUOKtk8nhRPHWtJ",
      "include_colab_link": true
    },
    "kernelspec": {
      "display_name": "Python 3",
      "name": "python3"
    },
    "language_info": {
      "name": "python"
    }
  },
  "cells": [
    {
      "cell_type": "markdown",
      "metadata": {
        "id": "view-in-github",
        "colab_type": "text"
      },
      "source": [
        "<a href=\"https://colab.research.google.com/github/alinaalborova/russian_idioms_processing/blob/main/MICE_Token_Level_fastText.ipynb\" target=\"_parent\"><img src=\"https://colab.research.google.com/assets/colab-badge.svg\" alt=\"Open In Colab\"/></a>"
      ]
    },
    {
      "cell_type": "markdown",
      "metadata": {
        "id": "_n5x1wCqtCTH"
      },
      "source": [
        "# Idiom Type and Token Classification\n",
        "\n",
        "Based on [MICE: Mining Idioms with Contextual Embeddings](https://arxiv.org/pdf/2008.05759.pdf) by  Škvorc et al.\n"
      ]
    },
    {
      "cell_type": "markdown",
      "metadata": {
        "id": "c7tUrqp827WI"
      },
      "source": [
        "## Libraries"
      ]
    },
    {
      "cell_type": "code",
      "metadata": {
        "id": "YlDZpk7oLnm-"
      },
      "source": [
        "from tensorflow.keras.layers import Bidirectional, LSTM, Dense, Activation, Concatenate, Masking, GRU\n",
        "from tensorflow.keras import Sequential\n",
        "from tensorflow.keras import Input, Model\n",
        "from tensorflow.keras.utils import to_categorical\n",
        "from ast import literal_eval\n",
        "from tensorflow.keras.preprocessing.sequence import pad_sequences\n",
        "from collections import Counter\n",
        "import numpy as np\n",
        "import pandas as pd\n",
        "from sklearn.metrics import f1_score\n",
        "#from keras.utils import plot_model\n",
        "from sklearn.model_selection import train_test_split\n",
        "from sklearn.model_selection import cross_val_score\n",
        "import tensorflow as tf\n",
        "#import transformers as ppb\n",
        "import warnings\n",
        "warnings.filterwarnings('ignore')\n",
        "from sklearn.metrics import roc_auc_score, confusion_matrix, ConfusionMatrixDisplay"
      ],
      "execution_count": null,
      "outputs": []
    },
    {
      "cell_type": "code",
      "metadata": {
        "colab": {
          "base_uri": "https://localhost:8080/"
        },
        "id": "ZbeCOyi4WbiY",
        "outputId": "fb534b90-e390-4b08-f404-795d9ca7f4f6"
      },
      "source": [
        "!pip install fasttext\n",
        "import fasttext.util\n",
        "fasttext.util.download_model('ru', if_exists='ignore')  # Russian\n",
        "ft = fasttext.load_model('cc.ru.300.bin')"
      ],
      "execution_count": null,
      "outputs": [
        {
          "output_type": "stream",
          "text": [
            "Requirement already satisfied: fasttext in /usr/local/lib/python3.7/dist-packages (0.9.2)\n",
            "Requirement already satisfied: numpy in /usr/local/lib/python3.7/dist-packages (from fasttext) (1.19.5)\n",
            "Requirement already satisfied: pybind11>=2.2 in /usr/local/lib/python3.7/dist-packages (from fasttext) (2.6.2)\n",
            "Requirement already satisfied: setuptools>=0.7.0 in /usr/local/lib/python3.7/dist-packages (from fasttext) (56.1.0)\n"
          ],
          "name": "stdout"
        },
        {
          "output_type": "stream",
          "text": [
            "Warning : `load_model` does not return WordVectorModel or SupervisedModel any more, but a `FastText` object which is very similar.\n"
          ],
          "name": "stderr"
        }
      ]
    },
    {
      "cell_type": "markdown",
      "metadata": {
        "id": "uJ07_hgeCG7N"
      },
      "source": [
        "## Dataset"
      ]
    },
    {
      "cell_type": "code",
      "metadata": {
        "colab": {
          "base_uri": "https://localhost:8080/"
        },
        "id": "iGdFYdryCFnx",
        "outputId": "5a84f011-d16a-46ed-c63d-a58eb7b79a32"
      },
      "source": [
        "from google.colab import drive\n",
        "drive.mount(\"/content/drive\")"
      ],
      "execution_count": null,
      "outputs": [
        {
          "output_type": "stream",
          "text": [
            "Drive already mounted at /content/drive; to attempt to forcibly remount, call drive.mount(\"/content/drive\", force_remount=True).\n"
          ],
          "name": "stdout"
        }
      ]
    },
    {
      "cell_type": "code",
      "metadata": {
        "colab": {
          "base_uri": "https://localhost:8080/",
          "height": 111
        },
        "id": "p_LXZJEgCP1I",
        "outputId": "5304e1a4-09c0-4bff-a926-3b2e371c70ef"
      },
      "source": [
        "dataset_vnc_dir = '/content/drive/MyDrive/ВКР/Sense Disambiguation Corpus/token_level_vnc.csv'\n",
        "data_vnc = pd.read_csv(dataset_vnc_dir )\n",
        "data_vnc.drop(data_vnc.iloc[:, :1], axis=1, inplace=True)\n",
        "data_vnc.head(2)"
      ],
      "execution_count": null,
      "outputs": [
        {
          "output_type": "execute_result",
          "data": {
            "text/html": [
              "<div>\n",
              "<style scoped>\n",
              "    .dataframe tbody tr th:only-of-type {\n",
              "        vertical-align: middle;\n",
              "    }\n",
              "\n",
              "    .dataframe tbody tr th {\n",
              "        vertical-align: top;\n",
              "    }\n",
              "\n",
              "    .dataframe thead th {\n",
              "        text-align: right;\n",
              "    }\n",
              "</style>\n",
              "<table border=\"1\" class=\"dataframe\">\n",
              "  <thead>\n",
              "    <tr style=\"text-align: right;\">\n",
              "      <th></th>\n",
              "      <th>Idiom Normal</th>\n",
              "      <th>Idiom Inflected</th>\n",
              "      <th>Token</th>\n",
              "      <th>Label</th>\n",
              "      <th>Context</th>\n",
              "    </tr>\n",
              "  </thead>\n",
              "  <tbody>\n",
              "    <tr>\n",
              "      <th>0</th>\n",
              "      <td>взваливать на плечи</td>\n",
              "      <td>взваливают на плечи</td>\n",
              "      <td>бесчеловечный</td>\n",
              "      <td>2</td>\n",
              "      <td>Там несвобода, и тут несвобода, там сажают и ...</td>\n",
              "    </tr>\n",
              "    <tr>\n",
              "      <th>1</th>\n",
              "      <td>выступить на сцену</td>\n",
              "      <td>выступить на сцену</td>\n",
              "      <td>выступить</td>\n",
              "      <td>0</td>\n",
              "      <td>Monsieur Орлов, наш учитель пения, говорил мн...</td>\n",
              "    </tr>\n",
              "  </tbody>\n",
              "</table>\n",
              "</div>"
            ],
            "text/plain": [
              "          Idiom Normal  ...                                            Context\n",
              "0  взваливать на плечи  ...   Там несвобода, и тут несвобода, там сажают и ...\n",
              "1   выступить на сцену  ...   Monsieur Орлов, наш учитель пения, говорил мн...\n",
              "\n",
              "[2 rows x 5 columns]"
            ]
          },
          "metadata": {
            "tags": []
          },
          "execution_count": 28
        }
      ]
    },
    {
      "cell_type": "code",
      "metadata": {
        "colab": {
          "base_uri": "https://localhost:8080/"
        },
        "id": "lWbTSEvZcBFR",
        "outputId": "0797a558-7d15-4836-bd08-0f3a2ce6da58"
      },
      "source": [
        "data_vnc.Label.value_counts()"
      ],
      "execution_count": null,
      "outputs": [
        {
          "output_type": "execute_result",
          "data": {
            "text/plain": [
              "2    1923\n",
              "1     965\n",
              "0     958\n",
              "Name: Label, dtype: int64"
            ]
          },
          "metadata": {
            "tags": []
          },
          "execution_count": 5
        }
      ]
    },
    {
      "cell_type": "code",
      "metadata": {
        "colab": {
          "base_uri": "https://localhost:8080/"
        },
        "id": "PX3x1pJbvQB_",
        "outputId": "8f3c0485-e70a-4adc-d86e-17169569b884"
      },
      "source": [
        "data_vnc.shape"
      ],
      "execution_count": null,
      "outputs": [
        {
          "output_type": "execute_result",
          "data": {
            "text/plain": [
              "(18699, 8)"
            ]
          },
          "metadata": {
            "tags": []
          },
          "execution_count": 8
        }
      ]
    },
    {
      "cell_type": "code",
      "metadata": {
        "colab": {
          "base_uri": "https://localhost:8080/"
        },
        "id": "xBUS3mxovE9b",
        "outputId": "4ee4bf4d-475f-4ed8-d9b6-b85d27e43c85"
      },
      "source": [
        "len(data_vnc['Idiom Normal'].value_counts())"
      ],
      "execution_count": null,
      "outputs": [
        {
          "output_type": "execute_result",
          "data": {
            "text/plain": [
              "51"
            ]
          },
          "metadata": {
            "tags": []
          },
          "execution_count": 6
        }
      ]
    },
    {
      "cell_type": "code",
      "metadata": {
        "colab": {
          "base_uri": "https://localhost:8080/",
          "height": 111
        },
        "id": "1__zN0o2bMHa",
        "outputId": "a831c51f-c4c5-4a27-e582-c743e62768ed"
      },
      "source": [
        "dataset_anc_dir = '/content/drive/MyDrive/ВКР/Sense Disambiguation Corpus/token_level_anc.csv'\n",
        "data_anc = pd.read_csv(dataset_anc_dir )\n",
        "data_anc.drop(data_anc.iloc[:, :1], axis=1, inplace=True)\n",
        "data_anc.head(2)"
      ],
      "execution_count": null,
      "outputs": [
        {
          "output_type": "execute_result",
          "data": {
            "text/html": [
              "<div>\n",
              "<style scoped>\n",
              "    .dataframe tbody tr th:only-of-type {\n",
              "        vertical-align: middle;\n",
              "    }\n",
              "\n",
              "    .dataframe tbody tr th {\n",
              "        vertical-align: top;\n",
              "    }\n",
              "\n",
              "    .dataframe thead th {\n",
              "        text-align: right;\n",
              "    }\n",
              "</style>\n",
              "<table border=\"1\" class=\"dataframe\">\n",
              "  <thead>\n",
              "    <tr style=\"text-align: right;\">\n",
              "      <th></th>\n",
              "      <th>Idiom Normal</th>\n",
              "      <th>Idiom Inflected</th>\n",
              "      <th>Token</th>\n",
              "      <th>Label</th>\n",
              "      <th>Context</th>\n",
              "    </tr>\n",
              "  </thead>\n",
              "  <tbody>\n",
              "    <tr>\n",
              "      <th>0</th>\n",
              "      <td>старый воробей</td>\n",
              "      <td>старые воробьи</td>\n",
              "      <td>старые</td>\n",
              "      <td>1</td>\n",
              "      <td>― Ведь мы с вами, Марья Алексевна, старые вор...</td>\n",
              "    </tr>\n",
              "    <tr>\n",
              "      <th>1</th>\n",
              "      <td>заблудшая овца</td>\n",
              "      <td>заблудшим овцам</td>\n",
              "      <td>заблудшим</td>\n",
              "      <td>1</td>\n",
              "      <td>― Хирлемс не должен быть слишком строг, если...</td>\n",
              "    </tr>\n",
              "  </tbody>\n",
              "</table>\n",
              "</div>"
            ],
            "text/plain": [
              "     Idiom Normal  ...                                            Context\n",
              "0  старый воробей  ...   ― Ведь мы с вами, Марья Алексевна, старые вор...\n",
              "1  заблудшая овца  ...    ― Хирлемс не должен быть слишком строг, если...\n",
              "\n",
              "[2 rows x 5 columns]"
            ]
          },
          "metadata": {
            "tags": []
          },
          "execution_count": 56
        }
      ]
    },
    {
      "cell_type": "code",
      "metadata": {
        "colab": {
          "base_uri": "https://localhost:8080/"
        },
        "id": "DBToZl7vtLeo",
        "outputId": "eb9fba12-5a51-45b8-b418-1fdcc498bc67"
      },
      "source": [
        "data_anc['Idiom Normal'].value_counts()"
      ],
      "execution_count": null,
      "outputs": [
        {
          "output_type": "execute_result",
          "data": {
            "text/plain": [
              "больное место                 1170\n",
              "болевая точка                 1141\n",
              "правая рука                   1114\n",
              "путеводная звезда              998\n",
              "нож острый                     971\n",
              "лавровый венок                 939\n",
              "бедный родственник             904\n",
              "зелёная улица                  786\n",
              "вавилонское столпотворение     774\n",
              "тяжёлая рука                   656\n",
              "наша сестра                    638\n",
              "ваш брат                       587\n",
              "дальний прицел                 573\n",
              "старый воробей                 556\n",
              "пороховая бочка                554\n",
              "чёрная кость                   505\n",
              "синяя птица                    462\n",
              "заблудшая овца                 438\n",
              "красная бумажка                412\n",
              "вторая ступень                 400\n",
              "девичья кожа                   373\n",
              "старый гриб                    304\n",
              "другой разговор                279\n",
              "долгая песня                   257\n",
              "музейная редкость              219\n",
              "избитая дорога                 212\n",
              "маковое зерно                  193\n",
              "ободранная кошка               187\n",
              "куриная голова                 154\n",
              "чернильная строка               47\n",
              "Name: Idiom Normal, dtype: int64"
            ]
          },
          "metadata": {
            "tags": []
          },
          "execution_count": 13
        }
      ]
    },
    {
      "cell_type": "code",
      "metadata": {
        "colab": {
          "base_uri": "https://localhost:8080/"
        },
        "id": "u5gLTJiitUym",
        "outputId": "f1bf6d34-6227-46c9-8cc3-6a697b6aed9a"
      },
      "source": [
        "len(data_anc['Idiom Normal'].value_counts())"
      ],
      "execution_count": null,
      "outputs": [
        {
          "output_type": "execute_result",
          "data": {
            "text/plain": [
              "30"
            ]
          },
          "metadata": {
            "tags": []
          },
          "execution_count": 14
        }
      ]
    },
    {
      "cell_type": "code",
      "metadata": {
        "colab": {
          "base_uri": "https://localhost:8080/",
          "height": 111
        },
        "id": "6kSMItV0er4B",
        "outputId": "2a940db1-23ea-4fa6-9932-0232ef804b0d"
      },
      "source": [
        "data = pd.concat([data_vnc, data_anc], ignore_index=True)\n",
        "data.head(2)"
      ],
      "execution_count": null,
      "outputs": [
        {
          "output_type": "execute_result",
          "data": {
            "text/html": [
              "<div>\n",
              "<style scoped>\n",
              "    .dataframe tbody tr th:only-of-type {\n",
              "        vertical-align: middle;\n",
              "    }\n",
              "\n",
              "    .dataframe tbody tr th {\n",
              "        vertical-align: top;\n",
              "    }\n",
              "\n",
              "    .dataframe thead th {\n",
              "        text-align: right;\n",
              "    }\n",
              "</style>\n",
              "<table border=\"1\" class=\"dataframe\">\n",
              "  <thead>\n",
              "    <tr style=\"text-align: right;\">\n",
              "      <th></th>\n",
              "      <th>Idiom Normal</th>\n",
              "      <th>Idiom Inflected</th>\n",
              "      <th>Token</th>\n",
              "      <th>Label</th>\n",
              "      <th>Context</th>\n",
              "    </tr>\n",
              "  </thead>\n",
              "  <tbody>\n",
              "    <tr>\n",
              "      <th>0</th>\n",
              "      <td>взваливать на плечи</td>\n",
              "      <td>взваливают на плечи</td>\n",
              "      <td>бесчеловечный</td>\n",
              "      <td>2</td>\n",
              "      <td>Там несвобода, и тут несвобода, там сажают и ...</td>\n",
              "    </tr>\n",
              "    <tr>\n",
              "      <th>1</th>\n",
              "      <td>выступить на сцену</td>\n",
              "      <td>выступить на сцену</td>\n",
              "      <td>выступить</td>\n",
              "      <td>0</td>\n",
              "      <td>Monsieur Орлов, наш учитель пения, говорил мн...</td>\n",
              "    </tr>\n",
              "  </tbody>\n",
              "</table>\n",
              "</div>"
            ],
            "text/plain": [
              "          Idiom Normal  ...                                            Context\n",
              "0  взваливать на плечи  ...   Там несвобода, и тут несвобода, там сажают и ...\n",
              "1   выступить на сцену  ...   Monsieur Орлов, наш учитель пения, говорил мн...\n",
              "\n",
              "[2 rows x 5 columns]"
            ]
          },
          "metadata": {
            "tags": []
          },
          "execution_count": 8
        }
      ]
    },
    {
      "cell_type": "code",
      "metadata": {
        "colab": {
          "base_uri": "https://localhost:8080/",
          "height": 230
        },
        "id": "RTjCivomgQsz",
        "outputId": "03b026b3-b7c1-4015-8aa4-62d3b5587b0a"
      },
      "source": [
        "data.tail(2)"
      ],
      "execution_count": null,
      "outputs": [
        {
          "output_type": "execute_result",
          "data": {
            "text/html": [
              "<div>\n",
              "<style scoped>\n",
              "    .dataframe tbody tr th:only-of-type {\n",
              "        vertical-align: middle;\n",
              "    }\n",
              "\n",
              "    .dataframe tbody tr th {\n",
              "        vertical-align: top;\n",
              "    }\n",
              "\n",
              "    .dataframe thead th {\n",
              "        text-align: right;\n",
              "    }\n",
              "</style>\n",
              "<table border=\"1\" class=\"dataframe\">\n",
              "  <thead>\n",
              "    <tr style=\"text-align: right;\">\n",
              "      <th></th>\n",
              "      <th>Idiom Normal</th>\n",
              "      <th>Idiom Inflected</th>\n",
              "      <th>Token</th>\n",
              "      <th>Label</th>\n",
              "      <th>Context</th>\n",
              "      <th>Context Embedding</th>\n",
              "      <th>Idiom Embedding</th>\n",
              "      <th>Token Embedding</th>\n",
              "    </tr>\n",
              "  </thead>\n",
              "  <tbody>\n",
              "    <tr>\n",
              "      <th>35500</th>\n",
              "      <td>бедный родственник</td>\n",
              "      <td>бедных родственниках</td>\n",
              "      <td>бедных</td>\n",
              "      <td>0</td>\n",
              "      <td>[Егор Дмитрич Глумов, муж]   У молодой женщин...</td>\n",
              "      <td>tf.Tensor(\\n[[-0.2779434   0.15737975 -0.09745...</td>\n",
              "      <td>NaN</td>\n",
              "      <td>tf.Tensor(\\n[[ 0.00859448 -0.20205446  0.63864...</td>\n",
              "    </tr>\n",
              "    <tr>\n",
              "      <th>35501</th>\n",
              "      <td>бедный родственник</td>\n",
              "      <td>бедных родственниках</td>\n",
              "      <td>родственниках</td>\n",
              "      <td>0</td>\n",
              "      <td>[Егор Дмитрич Глумов, муж]   У молодой женщин...</td>\n",
              "      <td>tf.Tensor(\\n[[-0.2779434   0.15737975 -0.09745...</td>\n",
              "      <td>NaN</td>\n",
              "      <td>tf.Tensor(\\n[[ 0.0848169  -0.22677557  0.73319...</td>\n",
              "    </tr>\n",
              "  </tbody>\n",
              "</table>\n",
              "</div>"
            ],
            "text/plain": [
              "             Idiom Normal  ...                                    Token Embedding\n",
              "35500  бедный родственник  ...  tf.Tensor(\\n[[ 0.00859448 -0.20205446  0.63864...\n",
              "35501  бедный родственник  ...  tf.Tensor(\\n[[ 0.0848169  -0.22677557  0.73319...\n",
              "\n",
              "[2 rows x 8 columns]"
            ]
          },
          "metadata": {
            "tags": []
          },
          "execution_count": 16
        }
      ]
    },
    {
      "cell_type": "markdown",
      "metadata": {
        "id": "cUH7P_6n3S7a"
      },
      "source": [
        "## Embed"
      ]
    },
    {
      "cell_type": "code",
      "metadata": {
        "id": "iwKa8yJiYWjU"
      },
      "source": [
        "import re\n",
        "GROUPING_SPACE_REGEX = re.compile('([^\\w_-]|[+])', re.U)\n",
        "\n",
        "def tokenize(text):\n",
        "  \"\"\"\n",
        "  Split text into tokens. Don't split by hyphen.\n",
        "  \"\"\"\n",
        "  return [t for t in GROUPING_SPACE_REGEX.split(text)\n",
        "          if t and not t.isspace()]\n"
      ],
      "execution_count": null,
      "outputs": []
    },
    {
      "cell_type": "code",
      "metadata": {
        "id": "C1WOOXNDZRQ6"
      },
      "source": [
        "def get_embeddings(text, padded_size=140):\n",
        "  vec_size = 300\n",
        "  embeddings_list = []\n",
        "  for i, sentence in enumerate(text):\n",
        "    local_embeddings = np.empty(shape=(padded_size, ), dtype=object)\n",
        "    for id, token in enumerate(local_embeddings):\n",
        "      try:\n",
        "        local_embeddings[id] = ft.get_word_vector(sentence[id])\n",
        "      except:\n",
        "        local_embeddings[id] = np.zeros(vec_size)\n",
        "    embeddings_list.append(local_embeddings)\n",
        "  return embeddings_list"
      ],
      "execution_count": null,
      "outputs": []
    },
    {
      "cell_type": "markdown",
      "metadata": {
        "id": "-8Qtz4jxj685"
      },
      "source": [
        "## VNC"
      ]
    },
    {
      "cell_type": "code",
      "metadata": {
        "id": "NG2Dmrocyh1d"
      },
      "source": [
        "contexts_tokenized_vnc = data_vnc.Context.apply(tokenize)"
      ],
      "execution_count": null,
      "outputs": []
    },
    {
      "cell_type": "code",
      "metadata": {
        "id": "WqMggU9Gykad"
      },
      "source": [
        "tokens_vnc = data_vnc.Token.apply(tokenize)"
      ],
      "execution_count": null,
      "outputs": []
    },
    {
      "cell_type": "code",
      "metadata": {
        "id": "0204uVXQYyFU"
      },
      "source": [
        "embedded_tokens_vnc = get_embeddings(tokens_vnc, padded_size=30)"
      ],
      "execution_count": null,
      "outputs": []
    },
    {
      "cell_type": "code",
      "metadata": {
        "id": "6PTpkGGHziYg"
      },
      "source": [
        "embedded_contexts_vnc = get_embeddings(contexts_tokenized_vnc)"
      ],
      "execution_count": null,
      "outputs": []
    },
    {
      "cell_type": "code",
      "metadata": {
        "id": "03o4hb0XeILS"
      },
      "source": [
        "del ft"
      ],
      "execution_count": null,
      "outputs": []
    },
    {
      "cell_type": "code",
      "metadata": {
        "colab": {
          "base_uri": "https://localhost:8080/"
        },
        "id": "BnbjuHC4tUL-",
        "outputId": "bdf269ff-0a3a-457b-d678-08a08a6b9dec"
      },
      "source": [
        "len(contexts_tokenized_vnc)"
      ],
      "execution_count": null,
      "outputs": [
        {
          "output_type": "execute_result",
          "data": {
            "text/plain": [
              "3846"
            ]
          },
          "metadata": {
            "tags": []
          },
          "execution_count": 11
        }
      ]
    },
    {
      "cell_type": "code",
      "metadata": {
        "id": "wrdp7OElmE1o"
      },
      "source": [
        "#data_vnc['Token Embedding'] = tokens_vnc"
      ],
      "execution_count": null,
      "outputs": []
    },
    {
      "cell_type": "code",
      "metadata": {
        "id": "j5lUz-Qmm_fq"
      },
      "source": [
        "labels_vnc = to_categorical(data_vnc.Label)\n",
        "#X_vnc = data_vnc[['Context Embedding', 'Token Embedding']]\n",
        "tokens_train_vnc, tokens_test_vnc = train_test_split(embedded_tokens_vnc, test_size=0.3, random_state=34)\n",
        "contexts_train_vnc, contexts_test_vnc = train_test_split(embedded_contexts_vnc, test_size=0.3, random_state=34)\n",
        "Y_train_vnc, Y_test_vnc = train_test_split(labels_vnc, test_size=0.3, random_state=34)\n",
        "tokens_train_vnc = tf.convert_to_tensor(tokens_train_vnc)\n",
        "tokens_test_vnc = tf.convert_to_tensor(tokens_test_vnc)\n",
        "contexts_train_vnc = tf.convert_to_tensor(contexts_train_vnc)\n",
        "contexts_test_vnc = tf.convert_to_tensor(contexts_test_vnc)"
      ],
      "execution_count": null,
      "outputs": []
    },
    {
      "cell_type": "markdown",
      "metadata": {
        "id": "-H4GbpTTnM8R"
      },
      "source": [
        "### Classifier"
      ]
    },
    {
      "cell_type": "code",
      "metadata": {
        "id": "9AKdEjgu8-ou"
      },
      "source": [
        "MAX_CONTEXT_LEN = 140\n",
        "MAX_TOKEN_LEN = 30\n",
        "VECTOR_DIM = 300\n",
        "NUM_CLASSES = 3"
      ],
      "execution_count": null,
      "outputs": []
    },
    {
      "cell_type": "code",
      "metadata": {
        "id": "nzhB5L6gnPPm"
      },
      "source": [
        "def build_model():\n",
        "    input_token = Input(shape=(MAX_TOKEN_LEN, VECTOR_DIM), name='input1')\n",
        "    input_context = Input(shape=(MAX_CONTEXT_LEN,VECTOR_DIM), name='input2')\n",
        "\n",
        "    #token\n",
        "    forward_layer = GRU(10, return_sequences=False, dropout=0.5)\n",
        "    backward_layer = GRU(10, return_sequences=False, dropout=0.5,\n",
        "                    go_backwards=True)\n",
        "    bidirectional1 = Bidirectional(forward_layer, backward_layer=backward_layer,\n",
        "                      input_shape=(MAX_TOKEN_LEN,VECTOR_DIM))(input_token)\n",
        "\n",
        "    #context\n",
        "    bidirectional2 = Bidirectional(forward_layer, backward_layer=backward_layer,\n",
        "                      input_shape=(MAX_CONTEXT_LEN,VECTOR_DIM))(input_context)\n",
        "\n",
        "    concat = Concatenate(axis=1)([bidirectional1, bidirectional2])\n",
        "\n",
        "    dense = Dense(NUM_CLASSES)(concat)\n",
        "    softmax = Activation('softmax', name='output')(dense)\n",
        "\n",
        "    model = Model(inputs=[input_token, input_context], outputs=softmax)\n",
        "    model.compile(loss='binary_crossentropy', optimizer='rmsprop', metrics=['accuracy'])\n",
        "    return model"
      ],
      "execution_count": null,
      "outputs": []
    },
    {
      "cell_type": "code",
      "metadata": {
        "id": "x28KJ5Ep9FyZ"
      },
      "source": [
        "model_vnc = build_model()"
      ],
      "execution_count": null,
      "outputs": []
    },
    {
      "cell_type": "code",
      "metadata": {
        "colab": {
          "base_uri": "https://localhost:8080/"
        },
        "id": "AOEIbZOE9KGO",
        "outputId": "e85cef3f-5c51-4622-8baa-94454810b66e"
      },
      "source": [
        "model_vnc.fit({'input1': tokens_train_vnc, 'input2': contexts_train_vnc}, \n",
        "               {'output': Y_train_vnc}, batch_size=8, epochs=10)"
      ],
      "execution_count": null,
      "outputs": [
        {
          "output_type": "stream",
          "text": [
            "Epoch 1/10\n",
            "337/337 [==============================] - 44s 107ms/step - loss: 0.5941 - accuracy: 0.4955\n",
            "Epoch 2/10\n",
            "337/337 [==============================] - 36s 107ms/step - loss: 0.5103 - accuracy: 0.5765\n",
            "Epoch 3/10\n",
            "337/337 [==============================] - 36s 108ms/step - loss: 0.4448 - accuracy: 0.6683\n",
            "Epoch 4/10\n",
            "337/337 [==============================] - 36s 107ms/step - loss: 0.4145 - accuracy: 0.7036\n",
            "Epoch 5/10\n",
            "337/337 [==============================] - 36s 106ms/step - loss: 0.3941 - accuracy: 0.7173\n",
            "Epoch 6/10\n",
            "337/337 [==============================] - 36s 106ms/step - loss: 0.3721 - accuracy: 0.7448\n",
            "Epoch 7/10\n",
            "337/337 [==============================] - 36s 108ms/step - loss: 0.3444 - accuracy: 0.7693\n",
            "Epoch 8/10\n",
            "337/337 [==============================] - 41s 121ms/step - loss: 0.3268 - accuracy: 0.7968\n",
            "Epoch 9/10\n",
            "337/337 [==============================] - 35s 103ms/step - loss: 0.3086 - accuracy: 0.7983\n",
            "Epoch 10/10\n",
            "337/337 [==============================] - 35s 104ms/step - loss: 0.2928 - accuracy: 0.8187\n"
          ],
          "name": "stdout"
        },
        {
          "output_type": "execute_result",
          "data": {
            "text/plain": [
              "<tensorflow.python.keras.callbacks.History at 0x7fce808fded0>"
            ]
          },
          "metadata": {
            "tags": []
          },
          "execution_count": 16
        }
      ]
    },
    {
      "cell_type": "code",
      "metadata": {
        "colab": {
          "base_uri": "https://localhost:8080/"
        },
        "id": "2bZm3Lv3rFfn",
        "outputId": "6b0cf6e2-56f6-4163-9b90-205afcc97d12"
      },
      "source": [
        "acc = model_vnc.evaluate({'input1': tokens_test_vnc, 'input2': contexts_test_vnc}, \n",
        "               {'output': Y_test_vnc})[1]\n",
        "preds = model_vnc.predict({'input1': tokens_test_vnc, 'input2': contexts_test_vnc})\n",
        "f_score = f1_score(np.argmax(preds, axis=1), np.argmax(Y_test_vnc, axis=1), average='macro')\n",
        "print(f_score)"
      ],
      "execution_count": null,
      "outputs": [
        {
          "output_type": "stream",
          "text": [
            "37/37 [==============================] - 1s 36ms/step - loss: 0.2833 - accuracy: 0.8215\n",
            "0.7962327397456991\n"
          ],
          "name": "stdout"
        }
      ]
    },
    {
      "cell_type": "code",
      "metadata": {
        "id": "gqEsswuCvogw"
      },
      "source": [
        "from sklearn.metrics import roc_curve, auc"
      ],
      "execution_count": null,
      "outputs": []
    },
    {
      "cell_type": "code",
      "metadata": {
        "id": "uGuXD7CEtcVu"
      },
      "source": [
        "n_classes = 3\n",
        "\n",
        "fpr = dict()\n",
        "tpr = dict()\n",
        "roc_auc = dict()\n",
        "for i in range(n_classes):\n",
        "    fpr[i], tpr[i], _ = roc_curve(Y_test_vnc[:, i], preds[:, i])\n",
        "    roc_auc[i] = auc(fpr[i], tpr[i])"
      ],
      "execution_count": null,
      "outputs": []
    },
    {
      "cell_type": "code",
      "metadata": {
        "colab": {
          "base_uri": "https://localhost:8080/"
        },
        "id": "fUqEPkttwfeg",
        "outputId": "8da8e2f3-f626-4292-9223-dad9019aa6ef"
      },
      "source": [
        "roc_auc"
      ],
      "execution_count": null,
      "outputs": [
        {
          "output_type": "execute_result",
          "data": {
            "text/plain": [
              "{0: 0.9186511809486628, 1: 0.9386616879333103, 2: 0.954031688818803}"
            ]
          },
          "metadata": {
            "tags": []
          },
          "execution_count": 53
        }
      ]
    },
    {
      "cell_type": "code",
      "metadata": {
        "colab": {
          "base_uri": "https://localhost:8080/",
          "height": 349
        },
        "id": "yb9dABVbkupM",
        "outputId": "5efdcbc7-8627-4fb9-fd66-69b3a79862c5"
      },
      "source": [
        "matrix = confusion_matrix(np.argmax(Y_test_vnc, axis=1), np.argmax(preds, axis=1))\n",
        "print(matrix)\n",
        "disp = ConfusionMatrixDisplay(matrix, display_labels=['Literal', 'Idiomatic'])\n",
        "disp.plot()"
      ],
      "execution_count": null,
      "outputs": [
        {
          "output_type": "stream",
          "text": [
            "[[231  37  14]\n",
            " [ 72 211  10]\n",
            " [ 52  21 506]]\n"
          ],
          "name": "stdout"
        },
        {
          "output_type": "execute_result",
          "data": {
            "text/plain": [
              "<sklearn.metrics._plot.confusion_matrix.ConfusionMatrixDisplay at 0x7fce7baf5f50>"
            ]
          },
          "metadata": {
            "tags": []
          },
          "execution_count": 41
        },
        {
          "output_type": "display_data",
          "data": {
            "image/png": "[encoded data removed]",
            "text/plain": [
              "<Figure size 432x288 with 2 Axes>"
            ]
          },
          "metadata": {
            "tags": [],
            "needs_background": "light"
          }
        }
      ]
    },
    {
      "cell_type": "code",
      "metadata": {
        "colab": {
          "base_uri": "https://localhost:8080/"
        },
        "id": "chqkRAn3TBh9",
        "outputId": "c8338d5b-130f-4106-8a60-2a4932b4ffae"
      },
      "source": [
        "preds_vnc = model_vnc.predict({'input1': tokens_test_vnc, 'input2': contexts_test_vnc})\n",
        "f1_score(np.argmax(preds_vnc, axis=1), np.argmax(Y_test_vnc, axis=1), average='micro')"
      ],
      "execution_count": null,
      "outputs": [
        {
          "output_type": "execute_result",
          "data": {
            "text/plain": [
              "0.8379549393414212"
            ]
          },
          "metadata": {
            "tags": []
          },
          "execution_count": 40
        }
      ]
    },
    {
      "cell_type": "code",
      "metadata": {
        "colab": {
          "base_uri": "https://localhost:8080/"
        },
        "id": "O-txznUBTPWA",
        "outputId": "15f7dde5-0445-4f0d-ffb4-ed85cb57b0a8"
      },
      "source": [
        "preds_vnc = model_vnc.predict({'input1': tokens_test_vnc, 'input2': contexts_test_vnc})\n",
        "f1_score(np.argmax(preds_vnc, axis=1), np.argmax(Y_test_vnc, axis=1), average='macro')"
      ],
      "execution_count": null,
      "outputs": [
        {
          "output_type": "execute_result",
          "data": {
            "text/plain": [
              "0.8170743932512124"
            ]
          },
          "metadata": {
            "tags": []
          },
          "execution_count": 41
        }
      ]
    },
    {
      "cell_type": "code",
      "metadata": {
        "colab": {
          "base_uri": "https://localhost:8080/"
        },
        "id": "RjQdHxIaTfSi",
        "outputId": "22c55cce-cc65-4bd9-ab3f-2f9a8679a376"
      },
      "source": [
        "preds_vnc = model_vnc.predict({'input1': tokens_test_vnc, 'input2': contexts_test_vnc})\n",
        "f1_score(np.argmax(preds_vnc, axis=1), np.argmax(Y_test_vnc, axis=1), average='weighted')"
      ],
      "execution_count": null,
      "outputs": [
        {
          "output_type": "execute_result",
          "data": {
            "text/plain": [
              "0.8374484670151875"
            ]
          },
          "metadata": {
            "tags": []
          },
          "execution_count": 42
        }
      ]
    },
    {
      "cell_type": "markdown",
      "metadata": {
        "id": "SABSFxZNrNz0"
      },
      "source": [
        "## ANC"
      ]
    },
    {
      "cell_type": "code",
      "metadata": {
        "id": "IEZOe1q8sfQc"
      },
      "source": [
        "contexts_tokenized_anc = data_anc.Context.apply(tokenize)\n",
        "embedded_contexts_anc = get_embeddings(contexts_tokenized_anc)\n",
        "tokens_anc = data_anc.Token.apply(tokenize)\n",
        "embedded_tokens_anc = get_embeddings(tokens_anc, padded_size=30)"
      ],
      "execution_count": null,
      "outputs": []
    },
    {
      "cell_type": "code",
      "metadata": {
        "id": "N2uoYzhZsneO"
      },
      "source": [
        "labels_anc = to_categorical(data_anc.Label)\n",
        "tokens_train_anc, tokens_test_anc = train_test_split(embedded_tokens_anc, test_size=0.3, random_state=34)\n",
        "contexts_train_anc, contexts_test_anc = train_test_split(embedded_contexts_anc, test_size=0.3, random_state=34)\n",
        "Y_train_anc, Y_test_anc = train_test_split(labels_anc, test_size=0.3, random_state=34)\n",
        "tokens_train_anc = tf.convert_to_tensor(tokens_train_anc)\n",
        "tokens_test_anc = tf.convert_to_tensor(tokens_test_anc)\n",
        "contexts_train_anc = tf.convert_to_tensor(contexts_train_anc)\n",
        "contexts_test_anc = tf.convert_to_tensor(contexts_test_anc)"
      ],
      "execution_count": null,
      "outputs": []
    },
    {
      "cell_type": "markdown",
      "metadata": {
        "id": "J8vv7_Zks3ge"
      },
      "source": [
        "### Classifier"
      ]
    },
    {
      "cell_type": "code",
      "metadata": {
        "id": "dTd64lCeVheR"
      },
      "source": [
        "model_anc = build_model()"
      ],
      "execution_count": null,
      "outputs": []
    },
    {
      "cell_type": "code",
      "metadata": {
        "colab": {
          "base_uri": "https://localhost:8080/"
        },
        "id": "K_k9TTCfs7hb",
        "outputId": "05c9c367-385a-41c9-9f17-e696275a77aa"
      },
      "source": [
        "model_anc.fit({'input1': tokens_train_anc, 'input2': contexts_train_anc}, \n",
        "               {'output': Y_train_anc}, batch_size=8, epochs=10)"
      ],
      "execution_count": null,
      "outputs": [
        {
          "output_type": "stream",
          "text": [
            "Epoch 1/10\n",
            "223/223 [==============================] - 37s 129ms/step - loss: 0.6197 - accuracy: 0.4843\n",
            "Epoch 2/10\n",
            "223/223 [==============================] - 26s 118ms/step - loss: 0.6079 - accuracy: 0.4949\n",
            "Epoch 3/10\n",
            "223/223 [==============================] - 26s 118ms/step - loss: 0.6083 - accuracy: 0.4949\n",
            "Epoch 4/10\n",
            "223/223 [==============================] - 26s 118ms/step - loss: 0.6081 - accuracy: 0.4949\n",
            "Epoch 5/10\n",
            "223/223 [==============================] - 26s 118ms/step - loss: 0.6077 - accuracy: 0.4949\n",
            "Epoch 6/10\n",
            "223/223 [==============================] - 27s 119ms/step - loss: 0.6085 - accuracy: 0.4949\n",
            "Epoch 7/10\n",
            "223/223 [==============================] - 26s 118ms/step - loss: 0.6082 - accuracy: 0.4949\n",
            "Epoch 8/10\n",
            "223/223 [==============================] - 26s 117ms/step - loss: 0.6081 - accuracy: 0.4949\n",
            "Epoch 9/10\n",
            "223/223 [==============================] - 27s 122ms/step - loss: 0.6082 - accuracy: 0.4949\n",
            "Epoch 10/10\n",
            "223/223 [==============================] - 27s 123ms/step - loss: 0.6080 - accuracy: 0.4949\n"
          ],
          "name": "stdout"
        },
        {
          "output_type": "execute_result",
          "data": {
            "text/plain": [
              "<tensorflow.python.keras.callbacks.History at 0x7fce78714e50>"
            ]
          },
          "metadata": {
            "tags": []
          },
          "execution_count": 60
        }
      ]
    },
    {
      "cell_type": "code",
      "metadata": {
        "colab": {
          "base_uri": "https://localhost:8080/"
        },
        "id": "6txZ7eLitC1R",
        "outputId": "58d54093-1a18-4fd5-d779-3fa402a63bad"
      },
      "source": [
        "model_anc.evaluate({'input1': tokens_test_anc, 'input2': contexts_test_anc}, \n",
        "               {'output': Y_test_anc})"
      ],
      "execution_count": null,
      "outputs": [
        {
          "output_type": "stream",
          "text": [
            "24/24 [==============================] - 3s 50ms/step - loss: 0.6041 - accuracy: 0.5118\n"
          ],
          "name": "stdout"
        },
        {
          "output_type": "execute_result",
          "data": {
            "text/plain": [
              "[0.6041263341903687, 0.5118110179901123]"
            ]
          },
          "metadata": {
            "tags": []
          },
          "execution_count": 62
        }
      ]
    },
    {
      "cell_type": "code",
      "metadata": {
        "colab": {
          "base_uri": "https://localhost:8080/"
        },
        "id": "wEiu6Q9681_n",
        "outputId": "da5dc0ee-265e-4b83-d4ab-bc2a8cb8a34a"
      },
      "source": [
        "preds_anc = model_anc.predict({'input1': tokens_test_anc, 'input2': contexts_test_anc})\n",
        "f1_score(np.argmax(preds_anc, axis=1), np.argmax(Y_test_anc, axis=1), average='micro')"
      ],
      "execution_count": null,
      "outputs": [
        {
          "output_type": "execute_result",
          "data": {
            "text/plain": [
              "0.5118110236220472"
            ]
          },
          "metadata": {
            "tags": []
          },
          "execution_count": 63
        }
      ]
    },
    {
      "cell_type": "code",
      "metadata": {
        "colab": {
          "base_uri": "https://localhost:8080/"
        },
        "id": "2JqngCkVR0qd",
        "outputId": "55b5273f-12d0-46f9-997d-e0a815b2328b"
      },
      "source": [
        "f1_score(np.argmax(preds_anc, axis=1), np.argmax(Y_test_anc, axis=1), average='macro')"
      ],
      "execution_count": null,
      "outputs": [
        {
          "output_type": "execute_result",
          "data": {
            "text/plain": [
              "0.22569444444444445"
            ]
          },
          "metadata": {
            "tags": []
          },
          "execution_count": 63
        }
      ]
    },
    {
      "cell_type": "code",
      "metadata": {
        "colab": {
          "base_uri": "https://localhost:8080/"
        },
        "id": "8-Sa67P46Tdp",
        "outputId": "42846a9d-1700-4693-a819-1b17d3c37fde"
      },
      "source": [
        "f1_score(np.argmax(preds_anc, axis=1), np.argmax(Y_test_anc, axis=1), average='weighted')"
      ],
      "execution_count": null,
      "outputs": [
        {
          "output_type": "execute_result",
          "data": {
            "text/plain": [
              "0.6770833333333334"
            ]
          },
          "metadata": {
            "tags": []
          },
          "execution_count": 64
        }
      ]
    },
    {
      "cell_type": "code",
      "metadata": {
        "id": "sNs0MSsqSJKl"
      },
      "source": [
        " n_classes = 3\n",
        "\n",
        "fpr = dict()\n",
        "tpr = dict()\n",
        "roc_auc = dict()\n",
        "for i in range(n_classes):\n",
        "    fpr[i], tpr[i], _ = roc_curve(Y_test_anc[:, i], preds_anc[:, i])\n",
        "    roc_auc[i] = auc(fpr[i], tpr[i])"
      ],
      "execution_count": null,
      "outputs": []
    },
    {
      "cell_type": "code",
      "metadata": {
        "colab": {
          "base_uri": "https://localhost:8080/"
        },
        "id": "jmmzMh_-0lno",
        "outputId": "c955ae1b-d0ee-44ea-ae6f-b8e816e0a850"
      },
      "source": [
        "roc_auc"
      ],
      "execution_count": null,
      "outputs": [
        {
          "output_type": "execute_result",
          "data": {
            "text/plain": [
              "{0: 0.5, 1: 0.5, 2: 0.5}"
            ]
          },
          "metadata": {
            "tags": []
          },
          "execution_count": 65
        }
      ]
    },
    {
      "cell_type": "code",
      "metadata": {
        "colab": {
          "base_uri": "https://localhost:8080/",
          "height": 347
        },
        "id": "7tdJdUVB0r7F",
        "outputId": "9c4ae01a-af5e-42eb-b655-1ba1e1b2e0ab"
      },
      "source": [
        "matrix = confusion_matrix(np.argmax(Y_test_anc, axis=1), np.argmax(preds_anc, axis=1))\n",
        "print(matrix)\n",
        "disp = ConfusionMatrixDisplay(matrix, display_labels=['Literal', 'Idiomatic'])\n",
        "disp.plot()"
      ],
      "execution_count": null,
      "outputs": [
        {
          "output_type": "stream",
          "text": [
            "[[  0   0 184]\n",
            " [  0   0 188]\n",
            " [  0   0 390]]\n"
          ],
          "name": "stdout"
        },
        {
          "output_type": "execute_result",
          "data": {
            "text/plain": [
              "<sklearn.metrics._plot.confusion_matrix.ConfusionMatrixDisplay at 0x7fce76efc690>"
            ]
          },
          "metadata": {
            "tags": []
          },
          "execution_count": 67
        },
        {
          "output_type": "display_data",
          "data": {
            "image/png": "[encoded data removed]",
            "text/plain": [
              "<Figure size 432x288 with 2 Axes>"
            ]
          },
          "metadata": {
            "tags": [],
            "needs_background": "light"
          }
        }
      ]
    },
    {
      "cell_type": "code",
      "metadata": {
        "id": "NMosTOfu1uMD"
      },
      "source": [
        ""
      ],
      "execution_count": null,
      "outputs": []
    }
  ]
}