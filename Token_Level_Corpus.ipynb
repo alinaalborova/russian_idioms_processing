{
  "nbformat": 4,
  "nbformat_minor": 0,
  "metadata": {
    "colab": {
      "name": "Token-Level Corpus.ipynb",
      "provenance": [],
      "toc_visible": true,
      "authorship_tag": "ABX9TyONEFZt63M3f3JrP+zzNv1W",
      "include_colab_link": true
    },
    "kernelspec": {
      "name": "python3",
      "display_name": "Python 3"
    },
    "language_info": {
      "name": "python"
    }
  },
  "cells": [
    {
      "cell_type": "markdown",
      "metadata": {
        "id": "view-in-github",
        "colab_type": "text"
      },
      "source": [
        "<a href=\"https://colab.research.google.com/github/alinaalborova/russian_idioms_processing/blob/main/Token_Level_Corpus.ipynb\" target=\"_parent\"><img src=\"https://colab.research.google.com/assets/colab-badge.svg\" alt=\"Open In Colab\"/></a>"
      ]
    },
    {
      "cell_type": "code",
      "metadata": {
        "id": "te_auqSY31UL"
      },
      "source": [
        "import pandas as pd\n",
        "import numpy as np\n",
        "import re"
      ],
      "execution_count": null,
      "outputs": []
    },
    {
      "cell_type": "code",
      "metadata": {
        "colab": {
          "base_uri": "https://localhost:8080/"
        },
        "id": "mR0v8JF23cH8",
        "outputId": "71958ca8-71b9-4705-d5f5-fbec1ce25590"
      },
      "source": [
        "from google.colab import drive\n",
        "drive.mount(\"/content/drive\")"
      ],
      "execution_count": null,
      "outputs": [
        {
          "output_type": "stream",
          "text": [
            "Mounted at /content/drive\n"
          ],
          "name": "stdout"
        }
      ]
    },
    {
      "cell_type": "code",
      "metadata": {
        "colab": {
          "base_uri": "https://localhost:8080/",
          "height": 111
        },
        "id": "KhBHnBOr3ky_",
        "outputId": "0d450b05-0f62-4201-b0df-1ec5cbf9f264"
      },
      "source": [
        "dataset_vnc_dir = '/content/drive/MyDrive/ВКР/Sense Disambiguation Corpus/VNCs_Annotated.csv'\n",
        "data_vnc = pd.read_csv(dataset_vnc_dir )\n",
        "data_vnc.head(2)"
      ],
      "execution_count": null,
      "outputs": [
        {
          "output_type": "execute_result",
          "data": {
            "text/html": [
              "<div>\n",
              "<style scoped>\n",
              "    .dataframe tbody tr th:only-of-type {\n",
              "        vertical-align: middle;\n",
              "    }\n",
              "\n",
              "    .dataframe tbody tr th {\n",
              "        vertical-align: top;\n",
              "    }\n",
              "\n",
              "    .dataframe thead th {\n",
              "        text-align: right;\n",
              "    }\n",
              "</style>\n",
              "<table border=\"1\" class=\"dataframe\">\n",
              "  <thead>\n",
              "    <tr style=\"text-align: right;\">\n",
              "      <th></th>\n",
              "      <th>Idiom Normal</th>\n",
              "      <th>Idiom Inflected</th>\n",
              "      <th>Label</th>\n",
              "      <th>Example</th>\n",
              "    </tr>\n",
              "  </thead>\n",
              "  <tbody>\n",
              "    <tr>\n",
              "      <th>0</th>\n",
              "      <td>бить карту</td>\n",
              "      <td>бил карту</td>\n",
              "      <td>0</td>\n",
              "      <td>Он бил карту за картой и загребал золото и кре...</td>\n",
              "    </tr>\n",
              "    <tr>\n",
              "      <th>1</th>\n",
              "      <td>бить карту</td>\n",
              "      <td>бил карту</td>\n",
              "      <td>0</td>\n",
              "      <td>Ермолов держал карты, сощуря правый глаз; ког...</td>\n",
              "    </tr>\n",
              "  </tbody>\n",
              "</table>\n",
              "</div>"
            ],
            "text/plain": [
              "  Idiom Normal  ...                                            Example\n",
              "0   бить карту  ...  Он бил карту за картой и загребал золото и кре...\n",
              "1   бить карту  ...   Ермолов держал карты, сощуря правый глаз; ког...\n",
              "\n",
              "[2 rows x 4 columns]"
            ]
          },
          "metadata": {
            "tags": []
          },
          "execution_count": 3
        }
      ]
    },
    {
      "cell_type": "code",
      "metadata": {
        "colab": {
          "base_uri": "https://localhost:8080/",
          "height": 111
        },
        "id": "sTbLuolX3ojM",
        "outputId": "00dfb21f-0ea1-4b25-f085-0e3f782dcfb6"
      },
      "source": [
        "dataset_anc_dir = '/content/drive/MyDrive/ВКР/Sense Disambiguation Corpus/ANCs_Annotated.csv'\n",
        "data_anc = pd.read_csv(dataset_anc_dir )\n",
        "data_anc.head(2)"
      ],
      "execution_count": null,
      "outputs": [
        {
          "output_type": "execute_result",
          "data": {
            "text/html": [
              "<div>\n",
              "<style scoped>\n",
              "    .dataframe tbody tr th:only-of-type {\n",
              "        vertical-align: middle;\n",
              "    }\n",
              "\n",
              "    .dataframe tbody tr th {\n",
              "        vertical-align: top;\n",
              "    }\n",
              "\n",
              "    .dataframe thead th {\n",
              "        text-align: right;\n",
              "    }\n",
              "</style>\n",
              "<table border=\"1\" class=\"dataframe\">\n",
              "  <thead>\n",
              "    <tr style=\"text-align: right;\">\n",
              "      <th></th>\n",
              "      <th>Idiom Normal</th>\n",
              "      <th>Idiom Inflected</th>\n",
              "      <th>Label</th>\n",
              "      <th>Example</th>\n",
              "    </tr>\n",
              "  </thead>\n",
              "  <tbody>\n",
              "    <tr>\n",
              "      <th>0</th>\n",
              "      <td>избитая дорога</td>\n",
              "      <td>избитой дороге</td>\n",
              "      <td>0</td>\n",
              "      <td>С бурной быстротой, возможной только в сновид...</td>\n",
              "    </tr>\n",
              "    <tr>\n",
              "      <th>1</th>\n",
              "      <td>избитая дорога</td>\n",
              "      <td>избитой дороге</td>\n",
              "      <td>0</td>\n",
              "      <td>Как почтовый возок на избитой дороге, прыгает...</td>\n",
              "    </tr>\n",
              "  </tbody>\n",
              "</table>\n",
              "</div>"
            ],
            "text/plain": [
              "     Idiom Normal  ...                                            Example\n",
              "0  избитая дорога  ...   С бурной быстротой, возможной только в сновид...\n",
              "1  избитая дорога  ...   Как почтовый возок на избитой дороге, прыгает...\n",
              "\n",
              "[2 rows x 4 columns]"
            ]
          },
          "metadata": {
            "tags": []
          },
          "execution_count": 4
        }
      ]
    },
    {
      "cell_type": "code",
      "metadata": {
        "id": "OF-3oU0b467E"
      },
      "source": [
        "import re\n",
        "GROUPING_SPACE_REGEX = re.compile('([^\\w_-]|[+])', re.U)\n",
        "\n",
        "def tokenize(text):\n",
        "  \"\"\"\n",
        "  Split text into tokens. Don't split by hyphen.\n",
        "  \"\"\"\n",
        "  return [t for t in GROUPING_SPACE_REGEX.split(text)\n",
        "          if t and t.isalpha() and not t.isspace()]"
      ],
      "execution_count": null,
      "outputs": []
    },
    {
      "cell_type": "markdown",
      "metadata": {
        "id": "HvfED26Y_n65"
      },
      "source": [
        "## ANC"
      ]
    },
    {
      "cell_type": "code",
      "metadata": {
        "id": "1wloyI5s5SKF"
      },
      "source": [
        "examples = data_anc.Example.values\n",
        "idioms = data_anc['Idiom Normal'].values\n",
        "idioms_inflected = data_anc['Idiom Inflected'].values\n",
        "labels = data_anc.Label.values"
      ],
      "execution_count": null,
      "outputs": []
    },
    {
      "cell_type": "code",
      "metadata": {
        "id": "oN6rCLV838MO",
        "colab": {
          "base_uri": "https://localhost:8080/",
          "height": 419
        },
        "outputId": "04466902-e2cf-44a7-89a1-2be4ef78422c"
      },
      "source": [
        "tokens_all = []\n",
        "examples_per_tokens = []\n",
        "labels_per_tokens = []\n",
        "idioms_per_tokens = []\n",
        "idioms_inflected_per_tokens = []\n",
        "for id, example in enumerate(examples):\n",
        "  tokens = tokenize(example)\n",
        "  for token_id, token in enumerate(tokens):\n",
        "    if token.isalpha():\n",
        "      tokens_all.append(token)\n",
        "      examples_per_tokens.append(example)\n",
        "      idioms_per_tokens.append(idioms[id])\n",
        "      idioms_inflected_per_tokens.append(idioms_inflected[id])\n",
        "      if token not in idioms_inflected[id].split():\n",
        "        labels_per_tokens.append(2)\n",
        "      else:\n",
        "        if token_id < len(tokens) - 1:\n",
        "          if tokens[token_id-1] in idioms_inflected[id].split() or tokens[token_id+1] in idioms_inflected[id].split():\n",
        "          #print(tokens[id-1], 'or', tokens[id+1], 'in', idioms_inflected[id].split())\n",
        "            if labels[id] == 1:\n",
        "              labels_per_tokens.append(1)\n",
        "            else:\n",
        "              labels_per_tokens.append(0)\n",
        "          else:\n",
        "            labels_per_tokens.append(2)\n",
        "            #print(tokens[token_id-1], 'or', tokens[token_id+1], 'not in', idioms_inflected[id].split())\n",
        "        else:\n",
        "          if tokens[token_id-1] in idioms_inflected[id].split():\n",
        "          #print(tokens[id-1], 'or', tokens[id+1], 'in', idioms_inflected[id].split())\n",
        "            if labels[id] == 1:\n",
        "              labels_per_tokens.append(1)\n",
        "            else:\n",
        "              labels_per_tokens.append(0)\n",
        "          else:\n",
        "            labels_per_tokens.append(2)\n",
        "            #print(tokens[token_id-1], 'or', tokens[token_id+1], 'not in', idioms_inflected[id].split())\n",
        "        \n",
        "token_level_data_anc = pd.DataFrame(columns=['Idiom Normal', 'Idiom Inflected', 'Token', 'Label', 'Context'])\n",
        "token_level_data_anc['Idiom Normal'] = idioms_per_tokens\n",
        "token_level_data_anc['Idiom Inflected'] = idioms_inflected_per_tokens\n",
        "token_level_data_anc['Token'] = tokens_all\n",
        "token_level_data_anc['Label'] = labels_per_tokens\n",
        "token_level_data_anc['Context'] = examples_per_tokens\n",
        "token_level_data_anc.head(100)"
      ],
      "execution_count": null,
      "outputs": [
        {
          "output_type": "execute_result",
          "data": {
            "text/html": [
              "<div>\n",
              "<style scoped>\n",
              "    .dataframe tbody tr th:only-of-type {\n",
              "        vertical-align: middle;\n",
              "    }\n",
              "\n",
              "    .dataframe tbody tr th {\n",
              "        vertical-align: top;\n",
              "    }\n",
              "\n",
              "    .dataframe thead th {\n",
              "        text-align: right;\n",
              "    }\n",
              "</style>\n",
              "<table border=\"1\" class=\"dataframe\">\n",
              "  <thead>\n",
              "    <tr style=\"text-align: right;\">\n",
              "      <th></th>\n",
              "      <th>Idiom Normal</th>\n",
              "      <th>Idiom Inflected</th>\n",
              "      <th>Token</th>\n",
              "      <th>Label</th>\n",
              "      <th>Context</th>\n",
              "    </tr>\n",
              "  </thead>\n",
              "  <tbody>\n",
              "    <tr>\n",
              "      <th>0</th>\n",
              "      <td>избитая дорога</td>\n",
              "      <td>избитой дороге</td>\n",
              "      <td>С</td>\n",
              "      <td>2</td>\n",
              "      <td>С бурной быстротой, возможной только в сновид...</td>\n",
              "    </tr>\n",
              "    <tr>\n",
              "      <th>1</th>\n",
              "      <td>избитая дорога</td>\n",
              "      <td>избитой дороге</td>\n",
              "      <td>бурной</td>\n",
              "      <td>2</td>\n",
              "      <td>С бурной быстротой, возможной только в сновид...</td>\n",
              "    </tr>\n",
              "    <tr>\n",
              "      <th>2</th>\n",
              "      <td>избитая дорога</td>\n",
              "      <td>избитой дороге</td>\n",
              "      <td>быстротой</td>\n",
              "      <td>2</td>\n",
              "      <td>С бурной быстротой, возможной только в сновид...</td>\n",
              "    </tr>\n",
              "    <tr>\n",
              "      <th>3</th>\n",
              "      <td>избитая дорога</td>\n",
              "      <td>избитой дороге</td>\n",
              "      <td>возможной</td>\n",
              "      <td>2</td>\n",
              "      <td>С бурной быстротой, возможной только в сновид...</td>\n",
              "    </tr>\n",
              "    <tr>\n",
              "      <th>4</th>\n",
              "      <td>избитая дорога</td>\n",
              "      <td>избитой дороге</td>\n",
              "      <td>только</td>\n",
              "      <td>2</td>\n",
              "      <td>С бурной быстротой, возможной только в сновид...</td>\n",
              "    </tr>\n",
              "    <tr>\n",
              "      <th>...</th>\n",
              "      <td>...</td>\n",
              "      <td>...</td>\n",
              "      <td>...</td>\n",
              "      <td>...</td>\n",
              "      <td>...</td>\n",
              "    </tr>\n",
              "    <tr>\n",
              "      <th>95</th>\n",
              "      <td>избитая дорога</td>\n",
              "      <td>избитой дороге</td>\n",
              "      <td>близкий</td>\n",
              "      <td>2</td>\n",
              "      <td>В темноте слышно было, как тяжело катились по...</td>\n",
              "    </tr>\n",
              "    <tr>\n",
              "      <th>96</th>\n",
              "      <td>избитая дорога</td>\n",
              "      <td>избитой дороге</td>\n",
              "      <td>ночлег</td>\n",
              "      <td>2</td>\n",
              "      <td>В темноте слышно было, как тяжело катились по...</td>\n",
              "    </tr>\n",
              "    <tr>\n",
              "      <th>97</th>\n",
              "      <td>избитая дорога</td>\n",
              "      <td>избитой дороге</td>\n",
              "      <td>как</td>\n",
              "      <td>2</td>\n",
              "      <td>В темноте слышно было, как тяжело катились по...</td>\n",
              "    </tr>\n",
              "    <tr>\n",
              "      <th>98</th>\n",
              "      <td>избитая дорога</td>\n",
              "      <td>избитой дороге</td>\n",
              "      <td>переговаривались</td>\n",
              "      <td>2</td>\n",
              "      <td>В темноте слышно было, как тяжело катились по...</td>\n",
              "    </tr>\n",
              "    <tr>\n",
              "      <th>99</th>\n",
              "      <td>избитая дорога</td>\n",
              "      <td>избитой дороге</td>\n",
              "      <td>ямщики</td>\n",
              "      <td>2</td>\n",
              "      <td>В темноте слышно было, как тяжело катились по...</td>\n",
              "    </tr>\n",
              "  </tbody>\n",
              "</table>\n",
              "<p>100 rows × 5 columns</p>\n",
              "</div>"
            ],
            "text/plain": [
              "      Idiom Normal  ...                                            Context\n",
              "0   избитая дорога  ...   С бурной быстротой, возможной только в сновид...\n",
              "1   избитая дорога  ...   С бурной быстротой, возможной только в сновид...\n",
              "2   избитая дорога  ...   С бурной быстротой, возможной только в сновид...\n",
              "3   избитая дорога  ...   С бурной быстротой, возможной только в сновид...\n",
              "4   избитая дорога  ...   С бурной быстротой, возможной только в сновид...\n",
              "..             ...  ...                                                ...\n",
              "95  избитая дорога  ...   В темноте слышно было, как тяжело катились по...\n",
              "96  избитая дорога  ...   В темноте слышно было, как тяжело катились по...\n",
              "97  избитая дорога  ...   В темноте слышно было, как тяжело катились по...\n",
              "98  избитая дорога  ...   В темноте слышно было, как тяжело катились по...\n",
              "99  избитая дорога  ...   В темноте слышно было, как тяжело катились по...\n",
              "\n",
              "[100 rows x 5 columns]"
            ]
          },
          "metadata": {
            "tags": []
          },
          "execution_count": 23
        }
      ]
    },
    {
      "cell_type": "code",
      "metadata": {
        "colab": {
          "base_uri": "https://localhost:8080/"
        },
        "id": "DsIJy8jd-0nJ",
        "outputId": "b20f9c23-4fb1-4ae1-8566-2a2b3df78353"
      },
      "source": [
        "token_level_data_anc.shape"
      ],
      "execution_count": null,
      "outputs": [
        {
          "output_type": "execute_result",
          "data": {
            "text/plain": [
              "(16803, 5)"
            ]
          },
          "metadata": {
            "tags": []
          },
          "execution_count": 8
        }
      ]
    },
    {
      "cell_type": "code",
      "metadata": {
        "colab": {
          "base_uri": "https://localhost:8080/",
          "height": 1000
        },
        "id": "P2vnOnAA-YjH",
        "outputId": "17088e65-521c-497f-f3ee-a34197cbd0f4"
      },
      "source": [
        "token_level_data_anc.iloc[1200:1250]"
      ],
      "execution_count": null,
      "outputs": [
        {
          "output_type": "execute_result",
          "data": {
            "text/html": [
              "<div>\n",
              "<style scoped>\n",
              "    .dataframe tbody tr th:only-of-type {\n",
              "        vertical-align: middle;\n",
              "    }\n",
              "\n",
              "    .dataframe tbody tr th {\n",
              "        vertical-align: top;\n",
              "    }\n",
              "\n",
              "    .dataframe thead th {\n",
              "        text-align: right;\n",
              "    }\n",
              "</style>\n",
              "<table border=\"1\" class=\"dataframe\">\n",
              "  <thead>\n",
              "    <tr style=\"text-align: right;\">\n",
              "      <th></th>\n",
              "      <th>Idiom Normal</th>\n",
              "      <th>Idiom Inflected</th>\n",
              "      <th>Token</th>\n",
              "      <th>Label</th>\n",
              "      <th>Context</th>\n",
              "    </tr>\n",
              "  </thead>\n",
              "  <tbody>\n",
              "    <tr>\n",
              "      <th>1200</th>\n",
              "      <td>путеводная звезда</td>\n",
              "      <td>путеводной звезды</td>\n",
              "      <td>смыслил</td>\n",
              "      <td>2</td>\n",
              "      <td>И если случайно оказывалось, что в какой-то о...</td>\n",
              "    </tr>\n",
              "    <tr>\n",
              "      <th>1201</th>\n",
              "      <td>путеводная звезда</td>\n",
              "      <td>путеводной звезды</td>\n",
              "      <td>ни</td>\n",
              "      <td>2</td>\n",
              "      <td>И если случайно оказывалось, что в какой-то о...</td>\n",
              "    </tr>\n",
              "    <tr>\n",
              "      <th>1202</th>\n",
              "      <td>путеводная звезда</td>\n",
              "      <td>путеводной звезды</td>\n",
              "      <td>уха</td>\n",
              "      <td>2</td>\n",
              "      <td>И если случайно оказывалось, что в какой-то о...</td>\n",
              "    </tr>\n",
              "    <tr>\n",
              "      <th>1203</th>\n",
              "      <td>путеводная звезда</td>\n",
              "      <td>путеводной звезды</td>\n",
              "      <td>ни</td>\n",
              "      <td>2</td>\n",
              "      <td>И если случайно оказывалось, что в какой-то о...</td>\n",
              "    </tr>\n",
              "    <tr>\n",
              "      <th>1204</th>\n",
              "      <td>путеводная звезда</td>\n",
              "      <td>путеводной звезды</td>\n",
              "      <td>рыла</td>\n",
              "      <td>2</td>\n",
              "      <td>И если случайно оказывалось, что в какой-то о...</td>\n",
              "    </tr>\n",
              "    <tr>\n",
              "      <th>1205</th>\n",
              "      <td>путеводная звезда</td>\n",
              "      <td>путеводной звезды</td>\n",
              "      <td>где</td>\n",
              "      <td>2</td>\n",
              "      <td>И если случайно оказывалось, что в какой-то о...</td>\n",
              "    </tr>\n",
              "    <tr>\n",
              "      <th>1206</th>\n",
              "      <td>путеводная звезда</td>\n",
              "      <td>путеводной звезды</td>\n",
              "      <td>он</td>\n",
              "      <td>2</td>\n",
              "      <td>И если случайно оказывалось, что в какой-то о...</td>\n",
              "    </tr>\n",
              "    <tr>\n",
              "      <th>1207</th>\n",
              "      <td>путеводная звезда</td>\n",
              "      <td>путеводной звезды</td>\n",
              "      <td>как</td>\n",
              "      <td>2</td>\n",
              "      <td>И если случайно оказывалось, что в какой-то о...</td>\n",
              "    </tr>\n",
              "    <tr>\n",
              "      <th>1208</th>\n",
              "      <td>путеводная звезда</td>\n",
              "      <td>путеводной звезды</td>\n",
              "      <td>в</td>\n",
              "      <td>2</td>\n",
              "      <td>И если случайно оказывалось, что в какой-то о...</td>\n",
              "    </tr>\n",
              "    <tr>\n",
              "      <th>1209</th>\n",
              "      <td>путеводная звезда</td>\n",
              "      <td>путеводной звезды</td>\n",
              "      <td>безбрежном</td>\n",
              "      <td>2</td>\n",
              "      <td>И если случайно оказывалось, что в какой-то о...</td>\n",
              "    </tr>\n",
              "    <tr>\n",
              "      <th>1210</th>\n",
              "      <td>путеводная звезда</td>\n",
              "      <td>путеводной звезды</td>\n",
              "      <td>океане</td>\n",
              "      <td>2</td>\n",
              "      <td>И если случайно оказывалось, что в какой-то о...</td>\n",
              "    </tr>\n",
              "    <tr>\n",
              "      <th>1211</th>\n",
              "      <td>путеводная звезда</td>\n",
              "      <td>путеводной звезды</td>\n",
              "      <td>плыл</td>\n",
              "      <td>2</td>\n",
              "      <td>И если случайно оказывалось, что в какой-то о...</td>\n",
              "    </tr>\n",
              "    <tr>\n",
              "      <th>1212</th>\n",
              "      <td>путеводная звезда</td>\n",
              "      <td>путеводной звезды</td>\n",
              "      <td>не</td>\n",
              "      <td>2</td>\n",
              "      <td>И если случайно оказывалось, что в какой-то о...</td>\n",
              "    </tr>\n",
              "    <tr>\n",
              "      <th>1213</th>\n",
              "      <td>путеводная звезда</td>\n",
              "      <td>путеводной звезды</td>\n",
              "      <td>имея</td>\n",
              "      <td>2</td>\n",
              "      <td>И если случайно оказывалось, что в какой-то о...</td>\n",
              "    </tr>\n",
              "    <tr>\n",
              "      <th>1214</th>\n",
              "      <td>путеводная звезда</td>\n",
              "      <td>путеводной звезды</td>\n",
              "      <td>перед</td>\n",
              "      <td>2</td>\n",
              "      <td>И если случайно оказывалось, что в какой-то о...</td>\n",
              "    </tr>\n",
              "    <tr>\n",
              "      <th>1215</th>\n",
              "      <td>путеводная звезда</td>\n",
              "      <td>путеводной звезды</td>\n",
              "      <td>собой</td>\n",
              "      <td>2</td>\n",
              "      <td>И если случайно оказывалось, что в какой-то о...</td>\n",
              "    </tr>\n",
              "    <tr>\n",
              "      <th>1216</th>\n",
              "      <td>путеводная звезда</td>\n",
              "      <td>путеводной звезды</td>\n",
              "      <td>никаких</td>\n",
              "      <td>2</td>\n",
              "      <td>И если случайно оказывалось, что в какой-то о...</td>\n",
              "    </tr>\n",
              "    <tr>\n",
              "      <th>1217</th>\n",
              "      <td>путеводная звезда</td>\n",
              "      <td>путеводной звезды</td>\n",
              "      <td>ориентиров</td>\n",
              "      <td>2</td>\n",
              "      <td>И если случайно оказывалось, что в какой-то о...</td>\n",
              "    </tr>\n",
              "    <tr>\n",
              "      <th>1218</th>\n",
              "      <td>путеводная звезда</td>\n",
              "      <td>путеводной звезды</td>\n",
              "      <td>кроме</td>\n",
              "      <td>2</td>\n",
              "      <td>И если случайно оказывалось, что в какой-то о...</td>\n",
              "    </tr>\n",
              "    <tr>\n",
              "      <th>1219</th>\n",
              "      <td>путеводная звезда</td>\n",
              "      <td>путеводной звезды</td>\n",
              "      <td>той</td>\n",
              "      <td>2</td>\n",
              "      <td>И если случайно оказывалось, что в какой-то о...</td>\n",
              "    </tr>\n",
              "    <tr>\n",
              "      <th>1220</th>\n",
              "      <td>путеводная звезда</td>\n",
              "      <td>путеводной звезды</td>\n",
              "      <td>путеводной</td>\n",
              "      <td>1</td>\n",
              "      <td>И если случайно оказывалось, что в какой-то о...</td>\n",
              "    </tr>\n",
              "    <tr>\n",
              "      <th>1221</th>\n",
              "      <td>путеводная звезда</td>\n",
              "      <td>путеводной звезды</td>\n",
              "      <td>звезды</td>\n",
              "      <td>1</td>\n",
              "      <td>И если случайно оказывалось, что в какой-то о...</td>\n",
              "    </tr>\n",
              "    <tr>\n",
              "      <th>1222</th>\n",
              "      <td>путеводная звезда</td>\n",
              "      <td>путеводной звезды</td>\n",
              "      <td>которая</td>\n",
              "      <td>2</td>\n",
              "      <td>И если случайно оказывалось, что в какой-то о...</td>\n",
              "    </tr>\n",
              "    <tr>\n",
              "      <th>1223</th>\n",
              "      <td>путеводная звезда</td>\n",
              "      <td>путеводной звезды</td>\n",
              "      <td>называлась</td>\n",
              "      <td>2</td>\n",
              "      <td>И если случайно оказывалось, что в какой-то о...</td>\n",
              "    </tr>\n",
              "    <tr>\n",
              "      <th>1224</th>\n",
              "      <td>путеводная звезда</td>\n",
              "      <td>путеводной звезды</td>\n",
              "      <td>Очередным</td>\n",
              "      <td>2</td>\n",
              "      <td>И если случайно оказывалось, что в какой-то о...</td>\n",
              "    </tr>\n",
              "    <tr>\n",
              "      <th>1225</th>\n",
              "      <td>путеводная звезда</td>\n",
              "      <td>путеводной звезды</td>\n",
              "      <td>Указанием</td>\n",
              "      <td>2</td>\n",
              "      <td>И если случайно оказывалось, что в какой-то о...</td>\n",
              "    </tr>\n",
              "    <tr>\n",
              "      <th>1226</th>\n",
              "      <td>путеводная звезда</td>\n",
              "      <td>путеводной звезды</td>\n",
              "      <td>Я</td>\n",
              "      <td>2</td>\n",
              "      <td>Я, спотыкаясь, делаю шаг, другой, и вот я уже...</td>\n",
              "    </tr>\n",
              "    <tr>\n",
              "      <th>1227</th>\n",
              "      <td>путеводная звезда</td>\n",
              "      <td>путеводной звезды</td>\n",
              "      <td>спотыкаясь</td>\n",
              "      <td>2</td>\n",
              "      <td>Я, спотыкаясь, делаю шаг, другой, и вот я уже...</td>\n",
              "    </tr>\n",
              "    <tr>\n",
              "      <th>1228</th>\n",
              "      <td>путеводная звезда</td>\n",
              "      <td>путеводной звезды</td>\n",
              "      <td>делаю</td>\n",
              "      <td>2</td>\n",
              "      <td>Я, спотыкаясь, делаю шаг, другой, и вот я уже...</td>\n",
              "    </tr>\n",
              "    <tr>\n",
              "      <th>1229</th>\n",
              "      <td>путеводная звезда</td>\n",
              "      <td>путеводной звезды</td>\n",
              "      <td>шаг</td>\n",
              "      <td>2</td>\n",
              "      <td>Я, спотыкаясь, делаю шаг, другой, и вот я уже...</td>\n",
              "    </tr>\n",
              "    <tr>\n",
              "      <th>1230</th>\n",
              "      <td>путеводная звезда</td>\n",
              "      <td>путеводной звезды</td>\n",
              "      <td>другой</td>\n",
              "      <td>2</td>\n",
              "      <td>Я, спотыкаясь, делаю шаг, другой, и вот я уже...</td>\n",
              "    </tr>\n",
              "    <tr>\n",
              "      <th>1231</th>\n",
              "      <td>путеводная звезда</td>\n",
              "      <td>путеводной звезды</td>\n",
              "      <td>и</td>\n",
              "      <td>2</td>\n",
              "      <td>Я, спотыкаясь, делаю шаг, другой, и вот я уже...</td>\n",
              "    </tr>\n",
              "    <tr>\n",
              "      <th>1232</th>\n",
              "      <td>путеводная звезда</td>\n",
              "      <td>путеводной звезды</td>\n",
              "      <td>вот</td>\n",
              "      <td>2</td>\n",
              "      <td>Я, спотыкаясь, делаю шаг, другой, и вот я уже...</td>\n",
              "    </tr>\n",
              "    <tr>\n",
              "      <th>1233</th>\n",
              "      <td>путеводная звезда</td>\n",
              "      <td>путеводной звезды</td>\n",
              "      <td>я</td>\n",
              "      <td>2</td>\n",
              "      <td>Я, спотыкаясь, делаю шаг, другой, и вот я уже...</td>\n",
              "    </tr>\n",
              "    <tr>\n",
              "      <th>1234</th>\n",
              "      <td>путеводная звезда</td>\n",
              "      <td>путеводной звезды</td>\n",
              "      <td>уже</td>\n",
              "      <td>2</td>\n",
              "      <td>Я, спотыкаясь, делаю шаг, другой, и вот я уже...</td>\n",
              "    </tr>\n",
              "    <tr>\n",
              "      <th>1235</th>\n",
              "      <td>путеводная звезда</td>\n",
              "      <td>путеводной звезды</td>\n",
              "      <td>иду</td>\n",
              "      <td>2</td>\n",
              "      <td>Я, спотыкаясь, делаю шаг, другой, и вот я уже...</td>\n",
              "    </tr>\n",
              "    <tr>\n",
              "      <th>1236</th>\n",
              "      <td>путеводная звезда</td>\n",
              "      <td>путеводной звезды</td>\n",
              "      <td>начиная</td>\n",
              "      <td>2</td>\n",
              "      <td>Я, спотыкаясь, делаю шаг, другой, и вот я уже...</td>\n",
              "    </tr>\n",
              "    <tr>\n",
              "      <th>1237</th>\n",
              "      <td>путеводная звезда</td>\n",
              "      <td>путеводной звезды</td>\n",
              "      <td>спешить</td>\n",
              "      <td>2</td>\n",
              "      <td>Я, спотыкаясь, делаю шаг, другой, и вот я уже...</td>\n",
              "    </tr>\n",
              "    <tr>\n",
              "      <th>1238</th>\n",
              "      <td>путеводная звезда</td>\n",
              "      <td>путеводной звезды</td>\n",
              "      <td>не</td>\n",
              "      <td>2</td>\n",
              "      <td>Я, спотыкаясь, делаю шаг, другой, и вот я уже...</td>\n",
              "    </tr>\n",
              "    <tr>\n",
              "      <th>1239</th>\n",
              "      <td>путеводная звезда</td>\n",
              "      <td>путеводной звезды</td>\n",
              "      <td>думая</td>\n",
              "      <td>2</td>\n",
              "      <td>Я, спотыкаясь, делаю шаг, другой, и вот я уже...</td>\n",
              "    </tr>\n",
              "    <tr>\n",
              "      <th>1240</th>\n",
              "      <td>путеводная звезда</td>\n",
              "      <td>путеводной звезды</td>\n",
              "      <td>не</td>\n",
              "      <td>2</td>\n",
              "      <td>Я, спотыкаясь, делаю шаг, другой, и вот я уже...</td>\n",
              "    </tr>\n",
              "    <tr>\n",
              "      <th>1241</th>\n",
              "      <td>путеводная звезда</td>\n",
              "      <td>путеводной звезды</td>\n",
              "      <td>надеясь</td>\n",
              "      <td>2</td>\n",
              "      <td>Я, спотыкаясь, делаю шаг, другой, и вот я уже...</td>\n",
              "    </tr>\n",
              "    <tr>\n",
              "      <th>1242</th>\n",
              "      <td>путеводная звезда</td>\n",
              "      <td>путеводной звезды</td>\n",
              "      <td>не</td>\n",
              "      <td>2</td>\n",
              "      <td>Я, спотыкаясь, делаю шаг, другой, и вот я уже...</td>\n",
              "    </tr>\n",
              "    <tr>\n",
              "      <th>1243</th>\n",
              "      <td>путеводная звезда</td>\n",
              "      <td>путеводной звезды</td>\n",
              "      <td>останавливаясь</td>\n",
              "      <td>2</td>\n",
              "      <td>Я, спотыкаясь, делаю шаг, другой, и вот я уже...</td>\n",
              "    </tr>\n",
              "    <tr>\n",
              "      <th>1244</th>\n",
              "      <td>путеводная звезда</td>\n",
              "      <td>путеводной звезды</td>\n",
              "      <td>все</td>\n",
              "      <td>2</td>\n",
              "      <td>Я, спотыкаясь, делаю шаг, другой, и вот я уже...</td>\n",
              "    </tr>\n",
              "    <tr>\n",
              "      <th>1245</th>\n",
              "      <td>путеводная звезда</td>\n",
              "      <td>путеводной звезды</td>\n",
              "      <td>быстрее</td>\n",
              "      <td>2</td>\n",
              "      <td>Я, спотыкаясь, делаю шаг, другой, и вот я уже...</td>\n",
              "    </tr>\n",
              "    <tr>\n",
              "      <th>1246</th>\n",
              "      <td>путеводная звезда</td>\n",
              "      <td>путеводной звезды</td>\n",
              "      <td>иду</td>\n",
              "      <td>2</td>\n",
              "      <td>Я, спотыкаясь, делаю шаг, другой, и вот я уже...</td>\n",
              "    </tr>\n",
              "    <tr>\n",
              "      <th>1247</th>\n",
              "      <td>путеводная звезда</td>\n",
              "      <td>путеводной звезды</td>\n",
              "      <td>как</td>\n",
              "      <td>2</td>\n",
              "      <td>Я, спотыкаясь, делаю шаг, другой, и вот я уже...</td>\n",
              "    </tr>\n",
              "    <tr>\n",
              "      <th>1248</th>\n",
              "      <td>путеводная звезда</td>\n",
              "      <td>путеводной звезды</td>\n",
              "      <td>на</td>\n",
              "      <td>2</td>\n",
              "      <td>Я, спотыкаясь, делаю шаг, другой, и вот я уже...</td>\n",
              "    </tr>\n",
              "    <tr>\n",
              "      <th>1249</th>\n",
              "      <td>путеводная звезда</td>\n",
              "      <td>путеводной звезды</td>\n",
              "      <td>свет</td>\n",
              "      <td>2</td>\n",
              "      <td>Я, спотыкаясь, делаю шаг, другой, и вот я уже...</td>\n",
              "    </tr>\n",
              "  </tbody>\n",
              "</table>\n",
              "</div>"
            ],
            "text/plain": [
              "           Idiom Normal  ...                                            Context\n",
              "1200  путеводная звезда  ...   И если случайно оказывалось, что в какой-то о...\n",
              "1201  путеводная звезда  ...   И если случайно оказывалось, что в какой-то о...\n",
              "1202  путеводная звезда  ...   И если случайно оказывалось, что в какой-то о...\n",
              "1203  путеводная звезда  ...   И если случайно оказывалось, что в какой-то о...\n",
              "1204  путеводная звезда  ...   И если случайно оказывалось, что в какой-то о...\n",
              "1205  путеводная звезда  ...   И если случайно оказывалось, что в какой-то о...\n",
              "1206  путеводная звезда  ...   И если случайно оказывалось, что в какой-то о...\n",
              "1207  путеводная звезда  ...   И если случайно оказывалось, что в какой-то о...\n",
              "1208  путеводная звезда  ...   И если случайно оказывалось, что в какой-то о...\n",
              "1209  путеводная звезда  ...   И если случайно оказывалось, что в какой-то о...\n",
              "1210  путеводная звезда  ...   И если случайно оказывалось, что в какой-то о...\n",
              "1211  путеводная звезда  ...   И если случайно оказывалось, что в какой-то о...\n",
              "1212  путеводная звезда  ...   И если случайно оказывалось, что в какой-то о...\n",
              "1213  путеводная звезда  ...   И если случайно оказывалось, что в какой-то о...\n",
              "1214  путеводная звезда  ...   И если случайно оказывалось, что в какой-то о...\n",
              "1215  путеводная звезда  ...   И если случайно оказывалось, что в какой-то о...\n",
              "1216  путеводная звезда  ...   И если случайно оказывалось, что в какой-то о...\n",
              "1217  путеводная звезда  ...   И если случайно оказывалось, что в какой-то о...\n",
              "1218  путеводная звезда  ...   И если случайно оказывалось, что в какой-то о...\n",
              "1219  путеводная звезда  ...   И если случайно оказывалось, что в какой-то о...\n",
              "1220  путеводная звезда  ...   И если случайно оказывалось, что в какой-то о...\n",
              "1221  путеводная звезда  ...   И если случайно оказывалось, что в какой-то о...\n",
              "1222  путеводная звезда  ...   И если случайно оказывалось, что в какой-то о...\n",
              "1223  путеводная звезда  ...   И если случайно оказывалось, что в какой-то о...\n",
              "1224  путеводная звезда  ...   И если случайно оказывалось, что в какой-то о...\n",
              "1225  путеводная звезда  ...   И если случайно оказывалось, что в какой-то о...\n",
              "1226  путеводная звезда  ...   Я, спотыкаясь, делаю шаг, другой, и вот я уже...\n",
              "1227  путеводная звезда  ...   Я, спотыкаясь, делаю шаг, другой, и вот я уже...\n",
              "1228  путеводная звезда  ...   Я, спотыкаясь, делаю шаг, другой, и вот я уже...\n",
              "1229  путеводная звезда  ...   Я, спотыкаясь, делаю шаг, другой, и вот я уже...\n",
              "1230  путеводная звезда  ...   Я, спотыкаясь, делаю шаг, другой, и вот я уже...\n",
              "1231  путеводная звезда  ...   Я, спотыкаясь, делаю шаг, другой, и вот я уже...\n",
              "1232  путеводная звезда  ...   Я, спотыкаясь, делаю шаг, другой, и вот я уже...\n",
              "1233  путеводная звезда  ...   Я, спотыкаясь, делаю шаг, другой, и вот я уже...\n",
              "1234  путеводная звезда  ...   Я, спотыкаясь, делаю шаг, другой, и вот я уже...\n",
              "1235  путеводная звезда  ...   Я, спотыкаясь, делаю шаг, другой, и вот я уже...\n",
              "1236  путеводная звезда  ...   Я, спотыкаясь, делаю шаг, другой, и вот я уже...\n",
              "1237  путеводная звезда  ...   Я, спотыкаясь, делаю шаг, другой, и вот я уже...\n",
              "1238  путеводная звезда  ...   Я, спотыкаясь, делаю шаг, другой, и вот я уже...\n",
              "1239  путеводная звезда  ...   Я, спотыкаясь, делаю шаг, другой, и вот я уже...\n",
              "1240  путеводная звезда  ...   Я, спотыкаясь, делаю шаг, другой, и вот я уже...\n",
              "1241  путеводная звезда  ...   Я, спотыкаясь, делаю шаг, другой, и вот я уже...\n",
              "1242  путеводная звезда  ...   Я, спотыкаясь, делаю шаг, другой, и вот я уже...\n",
              "1243  путеводная звезда  ...   Я, спотыкаясь, делаю шаг, другой, и вот я уже...\n",
              "1244  путеводная звезда  ...   Я, спотыкаясь, делаю шаг, другой, и вот я уже...\n",
              "1245  путеводная звезда  ...   Я, спотыкаясь, делаю шаг, другой, и вот я уже...\n",
              "1246  путеводная звезда  ...   Я, спотыкаясь, делаю шаг, другой, и вот я уже...\n",
              "1247  путеводная звезда  ...   Я, спотыкаясь, делаю шаг, другой, и вот я уже...\n",
              "1248  путеводная звезда  ...   Я, спотыкаясь, делаю шаг, другой, и вот я уже...\n",
              "1249  путеводная звезда  ...   Я, спотыкаясь, делаю шаг, другой, и вот я уже...\n",
              "\n",
              "[50 rows x 5 columns]"
            ]
          },
          "metadata": {
            "tags": []
          },
          "execution_count": 8
        }
      ]
    },
    {
      "cell_type": "code",
      "metadata": {
        "colab": {
          "base_uri": "https://localhost:8080/"
        },
        "id": "JqaGUgd48O20",
        "outputId": "92cfb0f1-c4a6-4be7-b8c3-994a2a493ead"
      },
      "source": [
        "len(labels_per_tokens)"
      ],
      "execution_count": null,
      "outputs": [
        {
          "output_type": "execute_result",
          "data": {
            "text/plain": [
              "16803"
            ]
          },
          "metadata": {
            "tags": []
          },
          "execution_count": 9
        }
      ]
    },
    {
      "cell_type": "code",
      "metadata": {
        "colab": {
          "base_uri": "https://localhost:8080/"
        },
        "id": "oRE88KWliBqT",
        "outputId": "3f1a8c5d-6ea4-4bd2-cd51-e3aa2e59a51d"
      },
      "source": [
        "contexts_unique_anc = list(set(token_level_data_anc.Context.values))\n",
        "len(contexts_unique_anc)"
      ],
      "execution_count": null,
      "outputs": [
        {
          "output_type": "execute_result",
          "data": {
            "text/plain": [
              "806"
            ]
          },
          "metadata": {
            "tags": []
          },
          "execution_count": 13
        }
      ]
    },
    {
      "cell_type": "markdown",
      "metadata": {
        "id": "fBzrGFa9_rtI"
      },
      "source": [
        "## VNC"
      ]
    },
    {
      "cell_type": "code",
      "metadata": {
        "id": "bC53Rd_U5X3j"
      },
      "source": [
        "examples = data_vnc.Example.values\n",
        "idioms = data_vnc['Idiom Normal'].values\n",
        "idioms_inflected = data_vnc['Idiom Inflected'].values\n",
        "labels = data_vnc.Label.values"
      ],
      "execution_count": null,
      "outputs": []
    },
    {
      "cell_type": "code",
      "metadata": {
        "colab": {
          "base_uri": "https://localhost:8080/",
          "height": 419
        },
        "id": "q1RLIAQqAXlf",
        "outputId": "5294b6e9-1a86-454d-9edb-2ae68f3a85b7"
      },
      "source": [
        "tokens_all = []\n",
        "examples_per_tokens = []\n",
        "labels_per_tokens = []\n",
        "idioms_per_tokens = []\n",
        "idioms_inflected_per_tokens = []\n",
        "context_ids = []\n",
        "for id, example in enumerate(examples):\n",
        "  tokens = tokenize(example)\n",
        "  for token_id, token in enumerate(tokens):\n",
        "    if token.isalpha():\n",
        "      tokens_all.append(token)\n",
        "      examples_per_tokens.append(example)\n",
        "      context_ids.append(id)\n",
        "      idioms_per_tokens.append(idioms[id])\n",
        "      idioms_inflected_per_tokens.append(idioms_inflected[id])\n",
        "      if token not in idioms_inflected[id].split():\n",
        "        labels_per_tokens.append(2)\n",
        "      else:\n",
        "        if token_id < len(tokens) - 1:\n",
        "          if tokens[token_id-1] in idioms_inflected[id].split() or tokens[token_id+1] in idioms_inflected[id].split():\n",
        "          #print(tokens[id-1], 'or', tokens[id+1], 'in', idioms_inflected[id].split())\n",
        "            if labels[id] == 1:\n",
        "              labels_per_tokens.append(1)\n",
        "            else:\n",
        "              labels_per_tokens.append(0)\n",
        "          else:\n",
        "            labels_per_tokens.append(2)\n",
        "            #print(tokens[token_id-1], 'or', tokens[token_id+1], 'not in', idioms_inflected[id].split())\n",
        "        else:\n",
        "          if tokens[token_id-1] in idioms_inflected[id].split():\n",
        "          #print(tokens[id-1], 'or', tokens[id+1], 'in', idioms_inflected[id].split())\n",
        "            if labels[id] == 1:\n",
        "              labels_per_tokens.append(1)\n",
        "            else:\n",
        "              labels_per_tokens.append(0)\n",
        "          else:\n",
        "            labels_per_tokens.append(2)\n",
        "            #print(tokens[token_id-1], 'or', tokens[token_id+1], 'not in', idioms_inflected[id].split())\n",
        "        \n",
        "token_level_data_vnc = pd.DataFrame(columns=['Idiom Normal', 'Idiom Inflected', 'Token', 'Label', 'Context'])\n",
        "token_level_data_vnc['Idiom Normal'] = idioms_per_tokens\n",
        "token_level_data_vnc['Idiom Inflected'] = idioms_inflected_per_tokens\n",
        "token_level_data_vnc['Token'] = tokens_all\n",
        "token_level_data_vnc['Label'] = labels_per_tokens\n",
        "token_level_data_vnc['Context'] = examples_per_tokens\n",
        "token_level_data_vnc['Context ID'] = context_ids\n",
        "token_level_data_vnc.head(100)"
      ],
      "execution_count": null,
      "outputs": [
        {
          "output_type": "execute_result",
          "data": {
            "text/html": [
              "<div>\n",
              "<style scoped>\n",
              "    .dataframe tbody tr th:only-of-type {\n",
              "        vertical-align: middle;\n",
              "    }\n",
              "\n",
              "    .dataframe tbody tr th {\n",
              "        vertical-align: top;\n",
              "    }\n",
              "\n",
              "    .dataframe thead th {\n",
              "        text-align: right;\n",
              "    }\n",
              "</style>\n",
              "<table border=\"1\" class=\"dataframe\">\n",
              "  <thead>\n",
              "    <tr style=\"text-align: right;\">\n",
              "      <th></th>\n",
              "      <th>Idiom Normal</th>\n",
              "      <th>Idiom Inflected</th>\n",
              "      <th>Token</th>\n",
              "      <th>Label</th>\n",
              "      <th>Context</th>\n",
              "      <th>Context ID</th>\n",
              "    </tr>\n",
              "  </thead>\n",
              "  <tbody>\n",
              "    <tr>\n",
              "      <th>0</th>\n",
              "      <td>бить карту</td>\n",
              "      <td>бил карту</td>\n",
              "      <td>Он</td>\n",
              "      <td>2</td>\n",
              "      <td>Он бил карту за картой и загребал золото и кре...</td>\n",
              "      <td>0</td>\n",
              "    </tr>\n",
              "    <tr>\n",
              "      <th>1</th>\n",
              "      <td>бить карту</td>\n",
              "      <td>бил карту</td>\n",
              "      <td>бил</td>\n",
              "      <td>0</td>\n",
              "      <td>Он бил карту за картой и загребал золото и кре...</td>\n",
              "      <td>0</td>\n",
              "    </tr>\n",
              "    <tr>\n",
              "      <th>2</th>\n",
              "      <td>бить карту</td>\n",
              "      <td>бил карту</td>\n",
              "      <td>карту</td>\n",
              "      <td>0</td>\n",
              "      <td>Он бил карту за картой и загребал золото и кре...</td>\n",
              "      <td>0</td>\n",
              "    </tr>\n",
              "    <tr>\n",
              "      <th>3</th>\n",
              "      <td>бить карту</td>\n",
              "      <td>бил карту</td>\n",
              "      <td>за</td>\n",
              "      <td>2</td>\n",
              "      <td>Он бил карту за картой и загребал золото и кре...</td>\n",
              "      <td>0</td>\n",
              "    </tr>\n",
              "    <tr>\n",
              "      <th>4</th>\n",
              "      <td>бить карту</td>\n",
              "      <td>бил карту</td>\n",
              "      <td>картой</td>\n",
              "      <td>2</td>\n",
              "      <td>Он бил карту за картой и загребал золото и кре...</td>\n",
              "      <td>0</td>\n",
              "    </tr>\n",
              "    <tr>\n",
              "      <th>...</th>\n",
              "      <td>...</td>\n",
              "      <td>...</td>\n",
              "      <td>...</td>\n",
              "      <td>...</td>\n",
              "      <td>...</td>\n",
              "      <td>...</td>\n",
              "    </tr>\n",
              "    <tr>\n",
              "      <th>95</th>\n",
              "      <td>бросать тень</td>\n",
              "      <td>бросать тень</td>\n",
              "      <td>действительно</td>\n",
              "      <td>2</td>\n",
              "      <td>Может быть, действительно, не разглядел или п...</td>\n",
              "      <td>6</td>\n",
              "    </tr>\n",
              "    <tr>\n",
              "      <th>96</th>\n",
              "      <td>бросать тень</td>\n",
              "      <td>бросать тень</td>\n",
              "      <td>не</td>\n",
              "      <td>2</td>\n",
              "      <td>Может быть, действительно, не разглядел или п...</td>\n",
              "      <td>6</td>\n",
              "    </tr>\n",
              "    <tr>\n",
              "      <th>97</th>\n",
              "      <td>бросать тень</td>\n",
              "      <td>бросать тень</td>\n",
              "      <td>разглядел</td>\n",
              "      <td>2</td>\n",
              "      <td>Может быть, действительно, не разглядел или п...</td>\n",
              "      <td>6</td>\n",
              "    </tr>\n",
              "    <tr>\n",
              "      <th>98</th>\n",
              "      <td>бросать тень</td>\n",
              "      <td>бросать тень</td>\n",
              "      <td>или</td>\n",
              "      <td>2</td>\n",
              "      <td>Может быть, действительно, не разглядел или п...</td>\n",
              "      <td>6</td>\n",
              "    </tr>\n",
              "    <tr>\n",
              "      <th>99</th>\n",
              "      <td>бросать тень</td>\n",
              "      <td>бросать тень</td>\n",
              "      <td>поосторожничал</td>\n",
              "      <td>2</td>\n",
              "      <td>Может быть, действительно, не разглядел или п...</td>\n",
              "      <td>6</td>\n",
              "    </tr>\n",
              "  </tbody>\n",
              "</table>\n",
              "<p>100 rows × 6 columns</p>\n",
              "</div>"
            ],
            "text/plain": [
              "    Idiom Normal  ... Context ID\n",
              "0     бить карту  ...          0\n",
              "1     бить карту  ...          0\n",
              "2     бить карту  ...          0\n",
              "3     бить карту  ...          0\n",
              "4     бить карту  ...          0\n",
              "..           ...  ...        ...\n",
              "95  бросать тень  ...          6\n",
              "96  бросать тень  ...          6\n",
              "97  бросать тень  ...          6\n",
              "98  бросать тень  ...          6\n",
              "99  бросать тень  ...          6\n",
              "\n",
              "[100 rows x 6 columns]"
            ]
          },
          "metadata": {
            "tags": []
          },
          "execution_count": 11
        }
      ]
    },
    {
      "cell_type": "code",
      "metadata": {
        "colab": {
          "base_uri": "https://localhost:8080/"
        },
        "id": "O-eTfBMSKVwO",
        "outputId": "2e036b3a-495c-4df2-a484-967467754b18"
      },
      "source": [
        "contexts_unique = list(set(token_level_data_vnc.Context.values))\n",
        "len(contexts_unique)"
      ],
      "execution_count": null,
      "outputs": [
        {
          "output_type": "execute_result",
          "data": {
            "text/plain": [
              "892"
            ]
          },
          "metadata": {
            "tags": []
          },
          "execution_count": 12
        }
      ]
    },
    {
      "cell_type": "markdown",
      "metadata": {
        "id": "2EDwfwr9STNF"
      },
      "source": [
        "## Align with the data"
      ]
    },
    {
      "cell_type": "code",
      "metadata": {
        "colab": {
          "base_uri": "https://localhost:8080/"
        },
        "id": "FNIyEXSUSSU4",
        "outputId": "8b0488a3-ee71-4c38-9536-cb559160c04b"
      },
      "source": [
        "embeddings_per_token = []\n",
        "for context in examples_per_tokens:\n",
        "  if context in contexts_unique_anc:\n",
        "    embeddings_per_token.append(embedded_contexts_anc[contexts_unique_anc.index(context)])\n",
        "\n",
        "len(embeddings_per_token)"
      ],
      "execution_count": null,
      "outputs": [
        {
          "output_type": "execute_result",
          "data": {
            "text/plain": [
              "16803"
            ]
          },
          "metadata": {
            "tags": []
          },
          "execution_count": 27
        }
      ]
    },
    {
      "cell_type": "code",
      "metadata": {
        "colab": {
          "base_uri": "https://localhost:8080/",
          "height": 606
        },
        "id": "VKsj9FTCT-l1",
        "outputId": "b4225be0-cbc6-46da-ed44-5a4b8386aa61"
      },
      "source": [
        "token_level_data_anc['Context Embedding'] = embeddings_per_token\n",
        "token_level_data_anc"
      ],
      "execution_count": null,
      "outputs": [
        {
          "output_type": "execute_result",
          "data": {
            "text/html": [
              "<div>\n",
              "<style scoped>\n",
              "    .dataframe tbody tr th:only-of-type {\n",
              "        vertical-align: middle;\n",
              "    }\n",
              "\n",
              "    .dataframe tbody tr th {\n",
              "        vertical-align: top;\n",
              "    }\n",
              "\n",
              "    .dataframe thead th {\n",
              "        text-align: right;\n",
              "    }\n",
              "</style>\n",
              "<table border=\"1\" class=\"dataframe\">\n",
              "  <thead>\n",
              "    <tr style=\"text-align: right;\">\n",
              "      <th></th>\n",
              "      <th>Idiom Normal</th>\n",
              "      <th>Idiom Inflected</th>\n",
              "      <th>Token</th>\n",
              "      <th>Label</th>\n",
              "      <th>Context</th>\n",
              "      <th>Context Embedding</th>\n",
              "    </tr>\n",
              "  </thead>\n",
              "  <tbody>\n",
              "    <tr>\n",
              "      <th>0</th>\n",
              "      <td>избитая дорога</td>\n",
              "      <td>избитой дороге</td>\n",
              "      <td>С</td>\n",
              "      <td>2</td>\n",
              "      <td>С бурной быстротой, возможной только в сновид...</td>\n",
              "      <td>((tf.Tensor(0.04656217, shape=(), dtype=float3...</td>\n",
              "    </tr>\n",
              "    <tr>\n",
              "      <th>1</th>\n",
              "      <td>избитая дорога</td>\n",
              "      <td>избитой дороге</td>\n",
              "      <td>бурной</td>\n",
              "      <td>2</td>\n",
              "      <td>С бурной быстротой, возможной только в сновид...</td>\n",
              "      <td>((tf.Tensor(0.04656217, shape=(), dtype=float3...</td>\n",
              "    </tr>\n",
              "    <tr>\n",
              "      <th>2</th>\n",
              "      <td>избитая дорога</td>\n",
              "      <td>избитой дороге</td>\n",
              "      <td>быстротой</td>\n",
              "      <td>2</td>\n",
              "      <td>С бурной быстротой, возможной только в сновид...</td>\n",
              "      <td>((tf.Tensor(0.04656217, shape=(), dtype=float3...</td>\n",
              "    </tr>\n",
              "    <tr>\n",
              "      <th>3</th>\n",
              "      <td>избитая дорога</td>\n",
              "      <td>избитой дороге</td>\n",
              "      <td>возможной</td>\n",
              "      <td>2</td>\n",
              "      <td>С бурной быстротой, возможной только в сновид...</td>\n",
              "      <td>((tf.Tensor(0.04656217, shape=(), dtype=float3...</td>\n",
              "    </tr>\n",
              "    <tr>\n",
              "      <th>4</th>\n",
              "      <td>избитая дорога</td>\n",
              "      <td>избитой дороге</td>\n",
              "      <td>только</td>\n",
              "      <td>2</td>\n",
              "      <td>С бурной быстротой, возможной только в сновид...</td>\n",
              "      <td>((tf.Tensor(0.04656217, shape=(), dtype=float3...</td>\n",
              "    </tr>\n",
              "    <tr>\n",
              "      <th>...</th>\n",
              "      <td>...</td>\n",
              "      <td>...</td>\n",
              "      <td>...</td>\n",
              "      <td>...</td>\n",
              "      <td>...</td>\n",
              "      <td>...</td>\n",
              "    </tr>\n",
              "    <tr>\n",
              "      <th>16798</th>\n",
              "      <td>бедный родственник</td>\n",
              "      <td>бедных родственниках</td>\n",
              "      <td>ей</td>\n",
              "      <td>2</td>\n",
              "      <td>[Егор Дмитрич Глумов, муж]   У молодой женщин...</td>\n",
              "      <td>((tf.Tensor(-0.2779434, shape=(), dtype=float3...</td>\n",
              "    </tr>\n",
              "    <tr>\n",
              "      <th>16799</th>\n",
              "      <td>бедный родственник</td>\n",
              "      <td>бедных родственниках</td>\n",
              "      <td>заботиться</td>\n",
              "      <td>2</td>\n",
              "      <td>[Егор Дмитрич Глумов, муж]   У молодой женщин...</td>\n",
              "      <td>((tf.Tensor(-0.2779434, shape=(), dtype=float3...</td>\n",
              "    </tr>\n",
              "    <tr>\n",
              "      <th>16800</th>\n",
              "      <td>бедный родственник</td>\n",
              "      <td>бедных родственниках</td>\n",
              "      <td>о</td>\n",
              "      <td>2</td>\n",
              "      <td>[Егор Дмитрич Глумов, муж]   У молодой женщин...</td>\n",
              "      <td>((tf.Tensor(-0.2779434, shape=(), dtype=float3...</td>\n",
              "    </tr>\n",
              "    <tr>\n",
              "      <th>16801</th>\n",
              "      <td>бедный родственник</td>\n",
              "      <td>бедных родственниках</td>\n",
              "      <td>бедных</td>\n",
              "      <td>0</td>\n",
              "      <td>[Егор Дмитрич Глумов, муж]   У молодой женщин...</td>\n",
              "      <td>((tf.Tensor(-0.2779434, shape=(), dtype=float3...</td>\n",
              "    </tr>\n",
              "    <tr>\n",
              "      <th>16802</th>\n",
              "      <td>бедный родственник</td>\n",
              "      <td>бедных родственниках</td>\n",
              "      <td>родственниках</td>\n",
              "      <td>0</td>\n",
              "      <td>[Егор Дмитрич Глумов, муж]   У молодой женщин...</td>\n",
              "      <td>((tf.Tensor(-0.2779434, shape=(), dtype=float3...</td>\n",
              "    </tr>\n",
              "  </tbody>\n",
              "</table>\n",
              "<p>16803 rows × 6 columns</p>\n",
              "</div>"
            ],
            "text/plain": [
              "             Idiom Normal  ...                                  Context Embedding\n",
              "0          избитая дорога  ...  ((tf.Tensor(0.04656217, shape=(), dtype=float3...\n",
              "1          избитая дорога  ...  ((tf.Tensor(0.04656217, shape=(), dtype=float3...\n",
              "2          избитая дорога  ...  ((tf.Tensor(0.04656217, shape=(), dtype=float3...\n",
              "3          избитая дорога  ...  ((tf.Tensor(0.04656217, shape=(), dtype=float3...\n",
              "4          избитая дорога  ...  ((tf.Tensor(0.04656217, shape=(), dtype=float3...\n",
              "...                   ...  ...                                                ...\n",
              "16798  бедный родственник  ...  ((tf.Tensor(-0.2779434, shape=(), dtype=float3...\n",
              "16799  бедный родственник  ...  ((tf.Tensor(-0.2779434, shape=(), dtype=float3...\n",
              "16800  бедный родственник  ...  ((tf.Tensor(-0.2779434, shape=(), dtype=float3...\n",
              "16801  бедный родственник  ...  ((tf.Tensor(-0.2779434, shape=(), dtype=float3...\n",
              "16802  бедный родственник  ...  ((tf.Tensor(-0.2779434, shape=(), dtype=float3...\n",
              "\n",
              "[16803 rows x 6 columns]"
            ]
          },
          "metadata": {
            "tags": []
          },
          "execution_count": 29
        }
      ]
    },
    {
      "cell_type": "code",
      "metadata": {
        "colab": {
          "base_uri": "https://localhost:8080/"
        },
        "id": "hgyGW-X3FoHk",
        "outputId": "f292ffd8-6559-4be6-9eec-0d501feef385"
      },
      "source": [
        "test_sentence = tokenize(token_level_data_vnc.Context[14243])\n",
        "test_sentence"
      ],
      "execution_count": null,
      "outputs": [
        {
          "output_type": "execute_result",
          "data": {
            "text/plain": [
              "['Поэтому',\n",
              " 'я',\n",
              " 'предлагаю',\n",
              " 'тебе',\n",
              " 'определиться',\n",
              " 'ты',\n",
              " 'хочешь',\n",
              " 'работать',\n",
              " 'или',\n",
              " 'умывать',\n",
              " 'руки']"
            ]
          },
          "metadata": {
            "tags": []
          },
          "execution_count": 11
        }
      ]
    },
    {
      "cell_type": "code",
      "metadata": {
        "colab": {
          "base_uri": "https://localhost:8080/",
          "height": 35
        },
        "id": "VQGnmFD_Bf50",
        "outputId": "c3e8d79e-9a0e-4884-fee6-9f6dbf96325a"
      },
      "source": [
        "test_idiom = token_level_data_vnc['Idiom Inflected'][14243]\n",
        "test_idiom"
      ],
      "execution_count": null,
      "outputs": [
        {
          "output_type": "execute_result",
          "data": {
            "application/vnd.google.colaboratory.intrinsic+json": {
              "type": "string"
            },
            "text/plain": [
              "'умывать руки'"
            ]
          },
          "metadata": {
            "tags": []
          },
          "execution_count": 12
        }
      ]
    },
    {
      "cell_type": "code",
      "metadata": {
        "colab": {
          "base_uri": "https://localhost:8080/"
        },
        "id": "5sr843AvEotI",
        "outputId": "e8045527-e2fa-4c6f-fd7c-85e40e5b1418"
      },
      "source": [
        "for id, token in enumerate(test_sentence):\n",
        "  context_words = []\n",
        "  if id != len(test_sentence)-1:\n",
        "    if token + ' ' + test_sentence[id+1] == test_idiom:  ## 2word expressions\n",
        "      if id == 0 or id == 1 or id == 2:\n",
        "        try:\n",
        "          context_words.append(test_sentence[:6+len(test_idiom.split())])\n",
        "        except:\n",
        "          context_words.append(test_sentence[:]) # if the context is too short\n",
        "      elif id == len(test_sentence)-2 or id == len(test_sentence)-3:\n",
        "        try:\n",
        "          context_words.append(test_sentence[-6-len(test_idiom.split()):])\n",
        "        except:\n",
        "          context_words.append(test_sentence[:])\n",
        "      else:\n",
        "        context_words.append(test_sentence[id-3:id-1]+test_idiom.split()+test_sentence[id+2:id+4])\n",
        "    else:\n",
        "      try:\n",
        "        context_words.append(test_sentence[:6+len(test_idiom.split())])\n",
        "      except:\n",
        "        context_words.append(test_sentence[:]) # if the context is too short\n",
        "  else:\n",
        "    if test_sentence[id-1] + ' ' + token == test_idiom:  ## 2word expressions\n",
        "      try:\n",
        "        context_words.append(test_sentence[-6-len(test_idiom.split()):]) # if the context is too short\n",
        "      except:\n",
        "        context_words.append(test_sentence[:]) # if the context is too short\n",
        "  print(token, context_words)\n",
        "  \n"
      ],
      "execution_count": null,
      "outputs": [
        {
          "output_type": "stream",
          "text": [
            "Поэтому [['Поэтому', 'я', 'предлагаю', 'тебе', 'определиться', 'ты', 'хочешь', 'работать']]\n",
            "я [['Поэтому', 'я', 'предлагаю', 'тебе', 'определиться', 'ты', 'хочешь', 'работать']]\n",
            "предлагаю [['Поэтому', 'я', 'предлагаю', 'тебе', 'определиться', 'ты', 'хочешь', 'работать']]\n",
            "тебе [['Поэтому', 'я', 'предлагаю', 'тебе', 'определиться', 'ты', 'хочешь', 'работать']]\n",
            "определиться [['Поэтому', 'я', 'предлагаю', 'тебе', 'определиться', 'ты', 'хочешь', 'работать']]\n",
            "ты [['Поэтому', 'я', 'предлагаю', 'тебе', 'определиться', 'ты', 'хочешь', 'работать']]\n",
            "хочешь [['Поэтому', 'я', 'предлагаю', 'тебе', 'определиться', 'ты', 'хочешь', 'работать']]\n",
            "работать [['Поэтому', 'я', 'предлагаю', 'тебе', 'определиться', 'ты', 'хочешь', 'работать']]\n",
            "или [['Поэтому', 'я', 'предлагаю', 'тебе', 'определиться', 'ты', 'хочешь', 'работать']]\n",
            "умывать [['тебе', 'определиться', 'ты', 'хочешь', 'работать', 'или', 'умывать', 'руки']]\n",
            "руки [['тебе', 'определиться', 'ты', 'хочешь', 'работать', 'или', 'умывать', 'руки']]\n"
          ],
          "name": "stdout"
        }
      ]
    },
    {
      "cell_type": "code",
      "metadata": {
        "colab": {
          "base_uri": "https://localhost:8080/"
        },
        "id": "W-naiF3BI4EK",
        "outputId": "8dcc3875-b2c0-46bf-ded7-5e44e55fc9ce"
      },
      "source": [
        "test_sentence[:6+len(test_idiom.split())]"
      ],
      "execution_count": null,
      "outputs": [
        {
          "output_type": "execute_result",
          "data": {
            "text/plain": [
              "['Поэтому',\n",
              " 'я',\n",
              " 'предлагаю',\n",
              " 'тебе',\n",
              " 'определиться',\n",
              " 'ты',\n",
              " 'хочешь',\n",
              " 'работать']"
            ]
          },
          "metadata": {
            "tags": []
          },
          "execution_count": 14
        }
      ]
    },
    {
      "cell_type": "code",
      "metadata": {
        "colab": {
          "base_uri": "https://localhost:8080/",
          "height": 1000
        },
        "id": "Dd-_GFkzAnUp",
        "outputId": "fb0342a4-65b9-441a-c4a0-c91596a09bdc"
      },
      "source": [
        "token_level_data_vnc.iloc[14300:14350]"
      ],
      "execution_count": null,
      "outputs": [
        {
          "output_type": "execute_result",
          "data": {
            "text/html": [
              "<div>\n",
              "<style scoped>\n",
              "    .dataframe tbody tr th:only-of-type {\n",
              "        vertical-align: middle;\n",
              "    }\n",
              "\n",
              "    .dataframe tbody tr th {\n",
              "        vertical-align: top;\n",
              "    }\n",
              "\n",
              "    .dataframe thead th {\n",
              "        text-align: right;\n",
              "    }\n",
              "</style>\n",
              "<table border=\"1\" class=\"dataframe\">\n",
              "  <thead>\n",
              "    <tr style=\"text-align: right;\">\n",
              "      <th></th>\n",
              "      <th>Idiom Normal</th>\n",
              "      <th>Idiom Inflected</th>\n",
              "      <th>Token</th>\n",
              "      <th>Label</th>\n",
              "      <th>Context</th>\n",
              "    </tr>\n",
              "  </thead>\n",
              "  <tbody>\n",
              "    <tr>\n",
              "      <th>14300</th>\n",
              "      <td>умывать руки</td>\n",
              "      <td>умывать руки</td>\n",
              "      <td>кассационного</td>\n",
              "      <td>2</td>\n",
              "      <td>Решение 1869 года за № 724, окончательно уста...</td>\n",
              "    </tr>\n",
              "    <tr>\n",
              "      <th>14301</th>\n",
              "      <td>умывать руки</td>\n",
              "      <td>умывать руки</td>\n",
              "      <td>обжалования</td>\n",
              "      <td>2</td>\n",
              "      <td>Решение 1869 года за № 724, окончательно уста...</td>\n",
              "    </tr>\n",
              "    <tr>\n",
              "      <th>14302</th>\n",
              "      <td>умывать руки</td>\n",
              "      <td>умывать руки</td>\n",
              "      <td>определений</td>\n",
              "      <td>2</td>\n",
              "      <td>Решение 1869 года за № 724, окончательно уста...</td>\n",
              "    </tr>\n",
              "    <tr>\n",
              "      <th>14303</th>\n",
              "      <td>умывать руки</td>\n",
              "      <td>умывать руки</td>\n",
              "      <td>судебных</td>\n",
              "      <td>2</td>\n",
              "      <td>Решение 1869 года за № 724, окончательно уста...</td>\n",
              "    </tr>\n",
              "    <tr>\n",
              "      <th>14304</th>\n",
              "      <td>умывать руки</td>\n",
              "      <td>умывать руки</td>\n",
              "      <td>палат</td>\n",
              "      <td>2</td>\n",
              "      <td>Решение 1869 года за № 724, окончательно уста...</td>\n",
              "    </tr>\n",
              "    <tr>\n",
              "      <th>14305</th>\n",
              "      <td>умывать руки</td>\n",
              "      <td>умывать руки</td>\n",
              "      <td>о</td>\n",
              "      <td>2</td>\n",
              "      <td>Решение 1869 года за № 724, окончательно уста...</td>\n",
              "    </tr>\n",
              "    <tr>\n",
              "      <th>14306</th>\n",
              "      <td>умывать руки</td>\n",
              "      <td>умывать руки</td>\n",
              "      <td>предании</td>\n",
              "      <td>2</td>\n",
              "      <td>Решение 1869 года за № 724, окончательно уста...</td>\n",
              "    </tr>\n",
              "    <tr>\n",
              "      <th>14307</th>\n",
              "      <td>умывать руки</td>\n",
              "      <td>умывать руки</td>\n",
              "      <td>суду</td>\n",
              "      <td>2</td>\n",
              "      <td>Решение 1869 года за № 724, окончательно уста...</td>\n",
              "    </tr>\n",
              "    <tr>\n",
              "      <th>14308</th>\n",
              "      <td>умывать руки</td>\n",
              "      <td>умывать руки</td>\n",
              "      <td>доказывает</td>\n",
              "      <td>2</td>\n",
              "      <td>Решение 1869 года за № 724, окончательно уста...</td>\n",
              "    </tr>\n",
              "    <tr>\n",
              "      <th>14309</th>\n",
              "      <td>умывать руки</td>\n",
              "      <td>умывать руки</td>\n",
              "      <td>что</td>\n",
              "      <td>2</td>\n",
              "      <td>Решение 1869 года за № 724, окончательно уста...</td>\n",
              "    </tr>\n",
              "    <tr>\n",
              "      <th>14310</th>\n",
              "      <td>умывать руки</td>\n",
              "      <td>умывать руки</td>\n",
              "      <td>сенат</td>\n",
              "      <td>2</td>\n",
              "      <td>Решение 1869 года за № 724, окончательно уста...</td>\n",
              "    </tr>\n",
              "    <tr>\n",
              "      <th>14311</th>\n",
              "      <td>умывать руки</td>\n",
              "      <td>умывать руки</td>\n",
              "      <td>не</td>\n",
              "      <td>2</td>\n",
              "      <td>Решение 1869 года за № 724, окончательно уста...</td>\n",
              "    </tr>\n",
              "    <tr>\n",
              "      <th>14312</th>\n",
              "      <td>умывать руки</td>\n",
              "      <td>умывать руки</td>\n",
              "      <td>считает</td>\n",
              "      <td>2</td>\n",
              "      <td>Решение 1869 года за № 724, окончательно уста...</td>\n",
              "    </tr>\n",
              "    <tr>\n",
              "      <th>14313</th>\n",
              "      <td>умывать руки</td>\n",
              "      <td>умывать руки</td>\n",
              "      <td>возможным</td>\n",
              "      <td>2</td>\n",
              "      <td>Решение 1869 года за № 724, окончательно уста...</td>\n",
              "    </tr>\n",
              "    <tr>\n",
              "      <th>14314</th>\n",
              "      <td>умывать руки</td>\n",
              "      <td>умывать руки</td>\n",
              "      <td>умывать</td>\n",
              "      <td>1</td>\n",
              "      <td>Решение 1869 года за № 724, окончательно уста...</td>\n",
              "    </tr>\n",
              "    <tr>\n",
              "      <th>14315</th>\n",
              "      <td>умывать руки</td>\n",
              "      <td>умывать руки</td>\n",
              "      <td>руки</td>\n",
              "      <td>1</td>\n",
              "      <td>Решение 1869 года за № 724, окончательно уста...</td>\n",
              "    </tr>\n",
              "    <tr>\n",
              "      <th>14316</th>\n",
              "      <td>умывать руки</td>\n",
              "      <td>умывать руки</td>\n",
              "      <td>относительно</td>\n",
              "      <td>2</td>\n",
              "      <td>Решение 1869 года за № 724, окончательно уста...</td>\n",
              "    </tr>\n",
              "    <tr>\n",
              "      <th>14317</th>\n",
              "      <td>умывать руки</td>\n",
              "      <td>умывать руки</td>\n",
              "      <td>деятельности</td>\n",
              "      <td>2</td>\n",
              "      <td>Решение 1869 года за № 724, окончательно уста...</td>\n",
              "    </tr>\n",
              "    <tr>\n",
              "      <th>14318</th>\n",
              "      <td>умывать руки</td>\n",
              "      <td>умывать руки</td>\n",
              "      <td>судебной</td>\n",
              "      <td>2</td>\n",
              "      <td>Решение 1869 года за № 724, окончательно уста...</td>\n",
              "    </tr>\n",
              "    <tr>\n",
              "      <th>14319</th>\n",
              "      <td>умывать руки</td>\n",
              "      <td>умывать руки</td>\n",
              "      <td>палаты</td>\n",
              "      <td>2</td>\n",
              "      <td>Решение 1869 года за № 724, окончательно уста...</td>\n",
              "    </tr>\n",
              "    <tr>\n",
              "      <th>14320</th>\n",
              "      <td>умывать руки</td>\n",
              "      <td>умывать руки</td>\n",
              "      <td>да</td>\n",
              "      <td>2</td>\n",
              "      <td>Решение 1869 года за № 724, окончательно уста...</td>\n",
              "    </tr>\n",
              "    <tr>\n",
              "      <th>14321</th>\n",
              "      <td>умывать руки</td>\n",
              "      <td>умывать руки</td>\n",
              "      <td>это</td>\n",
              "      <td>2</td>\n",
              "      <td>Решение 1869 года за № 724, окончательно уста...</td>\n",
              "    </tr>\n",
              "    <tr>\n",
              "      <th>14322</th>\n",
              "      <td>умывать руки</td>\n",
              "      <td>умывать руки</td>\n",
              "      <td>было</td>\n",
              "      <td>2</td>\n",
              "      <td>Решение 1869 года за № 724, окончательно уста...</td>\n",
              "    </tr>\n",
              "    <tr>\n",
              "      <th>14323</th>\n",
              "      <td>умывать руки</td>\n",
              "      <td>умывать руки</td>\n",
              "      <td>бы</td>\n",
              "      <td>2</td>\n",
              "      <td>Решение 1869 года за № 724, окончательно уста...</td>\n",
              "    </tr>\n",
              "    <tr>\n",
              "      <th>14324</th>\n",
              "      <td>умывать руки</td>\n",
              "      <td>умывать руки</td>\n",
              "      <td>и</td>\n",
              "      <td>2</td>\n",
              "      <td>Решение 1869 года за № 724, окончательно уста...</td>\n",
              "    </tr>\n",
              "    <tr>\n",
              "      <th>14325</th>\n",
              "      <td>умывать руки</td>\n",
              "      <td>умывать руки</td>\n",
              "      <td>невозможно</td>\n",
              "      <td>2</td>\n",
              "      <td>Решение 1869 года за № 724, окончательно уста...</td>\n",
              "    </tr>\n",
              "    <tr>\n",
              "      <th>14326</th>\n",
              "      <td>умывать руки</td>\n",
              "      <td>умывать руки</td>\n",
              "      <td>ибо</td>\n",
              "      <td>2</td>\n",
              "      <td>Решение 1869 года за № 724, окончательно уста...</td>\n",
              "    </tr>\n",
              "    <tr>\n",
              "      <th>14327</th>\n",
              "      <td>умывать руки</td>\n",
              "      <td>умывать руки</td>\n",
              "      <td>на</td>\n",
              "      <td>2</td>\n",
              "      <td>Решение 1869 года за № 724, окончательно уста...</td>\n",
              "    </tr>\n",
              "    <tr>\n",
              "      <th>14328</th>\n",
              "      <td>умывать руки</td>\n",
              "      <td>умывать руки</td>\n",
              "      <td>основании</td>\n",
              "      <td>2</td>\n",
              "      <td>Решение 1869 года за № 724, окончательно уста...</td>\n",
              "    </tr>\n",
              "    <tr>\n",
              "      <th>14329</th>\n",
              "      <td>умывать руки</td>\n",
              "      <td>умывать руки</td>\n",
              "      <td>решения</td>\n",
              "      <td>2</td>\n",
              "      <td>Решение 1869 года за № 724, окончательно уста...</td>\n",
              "    </tr>\n",
              "    <tr>\n",
              "      <th>14330</th>\n",
              "      <td>умывать руки</td>\n",
              "      <td>умывать руки</td>\n",
              "      <td>года</td>\n",
              "      <td>2</td>\n",
              "      <td>Решение 1869 года за № 724, окончательно уста...</td>\n",
              "    </tr>\n",
              "    <tr>\n",
              "      <th>14331</th>\n",
              "      <td>умывать руки</td>\n",
              "      <td>умывать руки</td>\n",
              "      <td>суд</td>\n",
              "      <td>2</td>\n",
              "      <td>Решение 1869 года за № 724, окончательно уста...</td>\n",
              "    </tr>\n",
              "    <tr>\n",
              "      <th>14332</th>\n",
              "      <td>умывать руки</td>\n",
              "      <td>умывать руки</td>\n",
              "      <td>не</td>\n",
              "      <td>2</td>\n",
              "      <td>Решение 1869 года за № 724, окончательно уста...</td>\n",
              "    </tr>\n",
              "    <tr>\n",
              "      <th>14333</th>\n",
              "      <td>умывать руки</td>\n",
              "      <td>умывать руки</td>\n",
              "      <td>вправе</td>\n",
              "      <td>2</td>\n",
              "      <td>Решение 1869 года за № 724, окончательно уста...</td>\n",
              "    </tr>\n",
              "    <tr>\n",
              "      <th>14334</th>\n",
              "      <td>умывать руки</td>\n",
              "      <td>умывать руки</td>\n",
              "      <td>входить</td>\n",
              "      <td>2</td>\n",
              "      <td>Решение 1869 года за № 724, окончательно уста...</td>\n",
              "    </tr>\n",
              "    <tr>\n",
              "      <th>14335</th>\n",
              "      <td>умывать руки</td>\n",
              "      <td>умывать руки</td>\n",
              "      <td>в</td>\n",
              "      <td>2</td>\n",
              "      <td>Решение 1869 года за № 724, окончательно уста...</td>\n",
              "    </tr>\n",
              "    <tr>\n",
              "      <th>14336</th>\n",
              "      <td>умывать руки</td>\n",
              "      <td>умывать руки</td>\n",
              "      <td>обсуждение</td>\n",
              "      <td>2</td>\n",
              "      <td>Решение 1869 года за № 724, окончательно уста...</td>\n",
              "    </tr>\n",
              "    <tr>\n",
              "      <th>14337</th>\n",
              "      <td>умывать руки</td>\n",
              "      <td>умывать руки</td>\n",
              "      <td>правильности</td>\n",
              "      <td>2</td>\n",
              "      <td>Решение 1869 года за № 724, окончательно уста...</td>\n",
              "    </tr>\n",
              "    <tr>\n",
              "      <th>14338</th>\n",
              "      <td>умывать руки</td>\n",
              "      <td>умывать руки</td>\n",
              "      <td>и</td>\n",
              "      <td>2</td>\n",
              "      <td>Решение 1869 года за № 724, окончательно уста...</td>\n",
              "    </tr>\n",
              "    <tr>\n",
              "      <th>14339</th>\n",
              "      <td>умывать руки</td>\n",
              "      <td>умывать руки</td>\n",
              "      <td>полноты</td>\n",
              "      <td>2</td>\n",
              "      <td>Решение 1869 года за № 724, окончательно уста...</td>\n",
              "    </tr>\n",
              "    <tr>\n",
              "      <th>14340</th>\n",
              "      <td>умывать руки</td>\n",
              "      <td>умывать руки</td>\n",
              "      <td>следствия</td>\n",
              "      <td>2</td>\n",
              "      <td>Решение 1869 года за № 724, окончательно уста...</td>\n",
              "    </tr>\n",
              "    <tr>\n",
              "      <th>14341</th>\n",
              "      <td>умывать руки</td>\n",
              "      <td>умывать руки</td>\n",
              "      <td>по</td>\n",
              "      <td>2</td>\n",
              "      <td>Решение 1869 года за № 724, окончательно уста...</td>\n",
              "    </tr>\n",
              "    <tr>\n",
              "      <th>14342</th>\n",
              "      <td>умывать руки</td>\n",
              "      <td>умывать руки</td>\n",
              "      <td>которому</td>\n",
              "      <td>2</td>\n",
              "      <td>Решение 1869 года за № 724, окончательно уста...</td>\n",
              "    </tr>\n",
              "    <tr>\n",
              "      <th>14343</th>\n",
              "      <td>умывать руки</td>\n",
              "      <td>умывать руки</td>\n",
              "      <td>состоялось</td>\n",
              "      <td>2</td>\n",
              "      <td>Решение 1869 года за № 724, окончательно уста...</td>\n",
              "    </tr>\n",
              "    <tr>\n",
              "      <th>14344</th>\n",
              "      <td>умывать руки</td>\n",
              "      <td>умывать руки</td>\n",
              "      <td>определение</td>\n",
              "      <td>2</td>\n",
              "      <td>Решение 1869 года за № 724, окончательно уста...</td>\n",
              "    </tr>\n",
              "    <tr>\n",
              "      <th>14345</th>\n",
              "      <td>умывать руки</td>\n",
              "      <td>умывать руки</td>\n",
              "      <td>палаты</td>\n",
              "      <td>2</td>\n",
              "      <td>Решение 1869 года за № 724, окончательно уста...</td>\n",
              "    </tr>\n",
              "    <tr>\n",
              "      <th>14346</th>\n",
              "      <td>умывать руки</td>\n",
              "      <td>умывать руки</td>\n",
              "      <td>а</td>\n",
              "      <td>2</td>\n",
              "      <td>Решение 1869 года за № 724, окончательно уста...</td>\n",
              "    </tr>\n",
              "    <tr>\n",
              "      <th>14347</th>\n",
              "      <td>умывать руки</td>\n",
              "      <td>умывать руки</td>\n",
              "      <td>между</td>\n",
              "      <td>2</td>\n",
              "      <td>Решение 1869 года за № 724, окончательно уста...</td>\n",
              "    </tr>\n",
              "    <tr>\n",
              "      <th>14348</th>\n",
              "      <td>умывать руки</td>\n",
              "      <td>умывать руки</td>\n",
              "      <td>тем</td>\n",
              "      <td>2</td>\n",
              "      <td>Решение 1869 года за № 724, окончательно уста...</td>\n",
              "    </tr>\n",
              "    <tr>\n",
              "      <th>14349</th>\n",
              "      <td>умывать руки</td>\n",
              "      <td>умывать руки</td>\n",
              "      <td>судебное</td>\n",
              "      <td>2</td>\n",
              "      <td>Решение 1869 года за № 724, окончательно уста...</td>\n",
              "    </tr>\n",
              "  </tbody>\n",
              "</table>\n",
              "</div>"
            ],
            "text/plain": [
              "       Idiom Normal  ...                                            Context\n",
              "14300  умывать руки  ...   Решение 1869 года за № 724, окончательно уста...\n",
              "14301  умывать руки  ...   Решение 1869 года за № 724, окончательно уста...\n",
              "14302  умывать руки  ...   Решение 1869 года за № 724, окончательно уста...\n",
              "14303  умывать руки  ...   Решение 1869 года за № 724, окончательно уста...\n",
              "14304  умывать руки  ...   Решение 1869 года за № 724, окончательно уста...\n",
              "14305  умывать руки  ...   Решение 1869 года за № 724, окончательно уста...\n",
              "14306  умывать руки  ...   Решение 1869 года за № 724, окончательно уста...\n",
              "14307  умывать руки  ...   Решение 1869 года за № 724, окончательно уста...\n",
              "14308  умывать руки  ...   Решение 1869 года за № 724, окончательно уста...\n",
              "14309  умывать руки  ...   Решение 1869 года за № 724, окончательно уста...\n",
              "14310  умывать руки  ...   Решение 1869 года за № 724, окончательно уста...\n",
              "14311  умывать руки  ...   Решение 1869 года за № 724, окончательно уста...\n",
              "14312  умывать руки  ...   Решение 1869 года за № 724, окончательно уста...\n",
              "14313  умывать руки  ...   Решение 1869 года за № 724, окончательно уста...\n",
              "14314  умывать руки  ...   Решение 1869 года за № 724, окончательно уста...\n",
              "14315  умывать руки  ...   Решение 1869 года за № 724, окончательно уста...\n",
              "14316  умывать руки  ...   Решение 1869 года за № 724, окончательно уста...\n",
              "14317  умывать руки  ...   Решение 1869 года за № 724, окончательно уста...\n",
              "14318  умывать руки  ...   Решение 1869 года за № 724, окончательно уста...\n",
              "14319  умывать руки  ...   Решение 1869 года за № 724, окончательно уста...\n",
              "14320  умывать руки  ...   Решение 1869 года за № 724, окончательно уста...\n",
              "14321  умывать руки  ...   Решение 1869 года за № 724, окончательно уста...\n",
              "14322  умывать руки  ...   Решение 1869 года за № 724, окончательно уста...\n",
              "14323  умывать руки  ...   Решение 1869 года за № 724, окончательно уста...\n",
              "14324  умывать руки  ...   Решение 1869 года за № 724, окончательно уста...\n",
              "14325  умывать руки  ...   Решение 1869 года за № 724, окончательно уста...\n",
              "14326  умывать руки  ...   Решение 1869 года за № 724, окончательно уста...\n",
              "14327  умывать руки  ...   Решение 1869 года за № 724, окончательно уста...\n",
              "14328  умывать руки  ...   Решение 1869 года за № 724, окончательно уста...\n",
              "14329  умывать руки  ...   Решение 1869 года за № 724, окончательно уста...\n",
              "14330  умывать руки  ...   Решение 1869 года за № 724, окончательно уста...\n",
              "14331  умывать руки  ...   Решение 1869 года за № 724, окончательно уста...\n",
              "14332  умывать руки  ...   Решение 1869 года за № 724, окончательно уста...\n",
              "14333  умывать руки  ...   Решение 1869 года за № 724, окончательно уста...\n",
              "14334  умывать руки  ...   Решение 1869 года за № 724, окончательно уста...\n",
              "14335  умывать руки  ...   Решение 1869 года за № 724, окончательно уста...\n",
              "14336  умывать руки  ...   Решение 1869 года за № 724, окончательно уста...\n",
              "14337  умывать руки  ...   Решение 1869 года за № 724, окончательно уста...\n",
              "14338  умывать руки  ...   Решение 1869 года за № 724, окончательно уста...\n",
              "14339  умывать руки  ...   Решение 1869 года за № 724, окончательно уста...\n",
              "14340  умывать руки  ...   Решение 1869 года за № 724, окончательно уста...\n",
              "14341  умывать руки  ...   Решение 1869 года за № 724, окончательно уста...\n",
              "14342  умывать руки  ...   Решение 1869 года за № 724, окончательно уста...\n",
              "14343  умывать руки  ...   Решение 1869 года за № 724, окончательно уста...\n",
              "14344  умывать руки  ...   Решение 1869 года за № 724, окончательно уста...\n",
              "14345  умывать руки  ...   Решение 1869 года за № 724, окончательно уста...\n",
              "14346  умывать руки  ...   Решение 1869 года за № 724, окончательно уста...\n",
              "14347  умывать руки  ...   Решение 1869 года за № 724, окончательно уста...\n",
              "14348  умывать руки  ...   Решение 1869 года за № 724, окончательно уста...\n",
              "14349  умывать руки  ...   Решение 1869 года за № 724, окончательно уста...\n",
              "\n",
              "[50 rows x 5 columns]"
            ]
          },
          "metadata": {
            "tags": []
          },
          "execution_count": 16
        }
      ]
    },
    {
      "cell_type": "code",
      "metadata": {
        "id": "dIVrD9zjDVVJ"
      },
      "source": [
        ""
      ],
      "execution_count": null,
      "outputs": []
    },
    {
      "cell_type": "code",
      "metadata": {
        "id": "q9wMddt1DdGr"
      },
      "source": [
        ""
      ],
      "execution_count": null,
      "outputs": []
    },
    {
      "cell_type": "markdown",
      "metadata": {
        "id": "oD8m8zePoBjr"
      },
      "source": [
        "## Statistics"
      ]
    },
    {
      "cell_type": "code",
      "metadata": {
        "colab": {
          "base_uri": "https://localhost:8080/"
        },
        "id": "peufikrQoESH",
        "outputId": "5c41444a-d512-409b-9529-9f25055db9f6"
      },
      "source": [
        "token_level_data_vnc.shape"
      ],
      "execution_count": null,
      "outputs": [
        {
          "output_type": "execute_result",
          "data": {
            "text/plain": [
              "(18699, 5)"
            ]
          },
          "metadata": {
            "tags": []
          },
          "execution_count": 24
        }
      ]
    },
    {
      "cell_type": "code",
      "metadata": {
        "colab": {
          "base_uri": "https://localhost:8080/"
        },
        "id": "dOznIeHQolaV",
        "outputId": "f70e27b6-9b8c-48e0-8fe0-d176dc0ba769"
      },
      "source": [
        "token_level_data_anc.shape"
      ],
      "execution_count": null,
      "outputs": [
        {
          "output_type": "execute_result",
          "data": {
            "text/plain": [
              "(16803, 6)"
            ]
          },
          "metadata": {
            "tags": []
          },
          "execution_count": 30
        }
      ]
    },
    {
      "cell_type": "code",
      "metadata": {
        "colab": {
          "base_uri": "https://localhost:8080/"
        },
        "id": "XPSdT_HroF0r",
        "outputId": "35ee11e3-498e-448b-cf10-2191860e46a5"
      },
      "source": [
        "token_level_data_vnc.Label.value_counts()"
      ],
      "execution_count": null,
      "outputs": [
        {
          "output_type": "execute_result",
          "data": {
            "text/plain": [
              "2    16711\n",
              "1     1000\n",
              "0      988\n",
              "Name: Label, dtype: int64"
            ]
          },
          "metadata": {
            "tags": []
          },
          "execution_count": 26
        }
      ]
    },
    {
      "cell_type": "code",
      "metadata": {
        "colab": {
          "base_uri": "https://localhost:8080/"
        },
        "id": "k5RAQFC2oGYL",
        "outputId": "35fca6c4-86da-4817-c5cc-43cfba7d74e9"
      },
      "source": [
        "token_level_data_anc.shape"
      ],
      "execution_count": null,
      "outputs": [
        {
          "output_type": "execute_result",
          "data": {
            "text/plain": [
              "(16803, 5)"
            ]
          },
          "metadata": {
            "tags": []
          },
          "execution_count": 27
        }
      ]
    },
    {
      "cell_type": "code",
      "metadata": {
        "colab": {
          "base_uri": "https://localhost:8080/"
        },
        "id": "wZVUz5k8ojAR",
        "outputId": "8abe8e83-bcc8-4bc7-fb37-291bcebcceaa"
      },
      "source": [
        "token_level_data_anc.Label.value_counts()"
      ],
      "execution_count": null,
      "outputs": [
        {
          "output_type": "execute_result",
          "data": {
            "text/plain": [
              "2    15501\n",
              "0      674\n",
              "1      628\n",
              "Name: Label, dtype: int64"
            ]
          },
          "metadata": {
            "tags": []
          },
          "execution_count": 31
        }
      ]
    },
    {
      "cell_type": "markdown",
      "metadata": {
        "id": "zCOsVV5Go9HF"
      },
      "source": [
        "## Download"
      ]
    },
    {
      "cell_type": "code",
      "metadata": {
        "id": "puuGdpHmomje"
      },
      "source": [
        "token_level_data_anc.to_csv('token_level_anc.csv', encoding='utf-8-sig')"
      ],
      "execution_count": null,
      "outputs": []
    },
    {
      "cell_type": "code",
      "metadata": {
        "id": "-LSPICCUpvN6"
      },
      "source": [
        "token_level_data_vnc.to_csv('token_level_vnc.csv', encoding='utf-8-sig')"
      ],
      "execution_count": null,
      "outputs": []
    },
    {
      "cell_type": "code",
      "metadata": {
        "id": "6RmJ_rLypyKw"
      },
      "source": [
        ""
      ],
      "execution_count": null,
      "outputs": []
    }
  ]
}