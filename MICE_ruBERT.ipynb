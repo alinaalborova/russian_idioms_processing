{
  "nbformat": 4,
  "nbformat_minor": 0,
  "metadata": {
    "colab": {
      "name": "1.06. MICE - ruBERT.ipynb",
      "provenance": [],
      "collapsed_sections": [
        "fRBmEtbQfmZs"
      ],
      "toc_visible": true,
      "authorship_tag": "ABX9TyPfY6r9xI47bCWSXmAITaoL",
      "include_colab_link": true
    },
    "kernelspec": {
      "display_name": "Python 3",
      "name": "python3"
    },
    "language_info": {
      "name": "python"
    },
    "widgets": {
      "application/vnd.jupyter.widget-state+json": {
        "b9a022779c974d308303d1b57c774b5f": {
          "model_module": "@jupyter-widgets/controls",
          "model_name": "HBoxModel",
          "state": {
            "_view_name": "HBoxView",
            "_dom_classes": [],
            "_model_name": "HBoxModel",
            "_view_module": "@jupyter-widgets/controls",
            "_model_module_version": "1.5.0",
            "_view_count": null,
            "_view_module_version": "1.5.0",
            "box_style": "",
            "layout": "IPY_MODEL_103464c34fe54041bfc97c2b2175af0d",
            "_model_module": "@jupyter-widgets/controls",
            "children": [
              "IPY_MODEL_c71a93f3f4824e158ee72d1a805c8ba6",
              "IPY_MODEL_5eb98b81129644ada1c3d8a36566bbb7"
            ]
          }
        },
        "103464c34fe54041bfc97c2b2175af0d": {
          "model_module": "@jupyter-widgets/base",
          "model_name": "LayoutModel",
          "state": {
            "_view_name": "LayoutView",
            "grid_template_rows": null,
            "right": null,
            "justify_content": null,
            "_view_module": "@jupyter-widgets/base",
            "overflow": null,
            "_model_module_version": "1.2.0",
            "_view_count": null,
            "flex_flow": null,
            "width": null,
            "min_width": null,
            "border": null,
            "align_items": null,
            "bottom": null,
            "_model_module": "@jupyter-widgets/base",
            "top": null,
            "grid_column": null,
            "overflow_y": null,
            "overflow_x": null,
            "grid_auto_flow": null,
            "grid_area": null,
            "grid_template_columns": null,
            "flex": null,
            "_model_name": "LayoutModel",
            "justify_items": null,
            "grid_row": null,
            "max_height": null,
            "align_content": null,
            "visibility": null,
            "align_self": null,
            "height": null,
            "min_height": null,
            "padding": null,
            "grid_auto_rows": null,
            "grid_gap": null,
            "max_width": null,
            "order": null,
            "_view_module_version": "1.2.0",
            "grid_template_areas": null,
            "object_position": null,
            "object_fit": null,
            "grid_auto_columns": null,
            "margin": null,
            "display": null,
            "left": null
          }
        },
        "c71a93f3f4824e158ee72d1a805c8ba6": {
          "model_module": "@jupyter-widgets/controls",
          "model_name": "FloatProgressModel",
          "state": {
            "_view_name": "ProgressView",
            "style": "IPY_MODEL_bb8899695d994cf7a6530ce3d6b07d1f",
            "_dom_classes": [],
            "description": "Downloading: 100%",
            "_model_name": "FloatProgressModel",
            "bar_style": "success",
            "max": 642,
            "_view_module": "@jupyter-widgets/controls",
            "_model_module_version": "1.5.0",
            "value": 642,
            "_view_count": null,
            "_view_module_version": "1.5.0",
            "orientation": "horizontal",
            "min": 0,
            "description_tooltip": null,
            "_model_module": "@jupyter-widgets/controls",
            "layout": "IPY_MODEL_684b49249af84c1c9ae6f0fa01270177"
          }
        },
        "5eb98b81129644ada1c3d8a36566bbb7": {
          "model_module": "@jupyter-widgets/controls",
          "model_name": "HTMLModel",
          "state": {
            "_view_name": "HTMLView",
            "style": "IPY_MODEL_38ebb7a5532c4c3caadefa12c6322879",
            "_dom_classes": [],
            "description": "",
            "_model_name": "HTMLModel",
            "placeholder": "​",
            "_view_module": "@jupyter-widgets/controls",
            "_model_module_version": "1.5.0",
            "value": " 642/642 [00:00&lt;00:00, 907B/s]",
            "_view_count": null,
            "_view_module_version": "1.5.0",
            "description_tooltip": null,
            "_model_module": "@jupyter-widgets/controls",
            "layout": "IPY_MODEL_73b1723ea0e74f8d929b120ae5217e34"
          }
        },
        "bb8899695d994cf7a6530ce3d6b07d1f": {
          "model_module": "@jupyter-widgets/controls",
          "model_name": "ProgressStyleModel",
          "state": {
            "_view_name": "StyleView",
            "_model_name": "ProgressStyleModel",
            "description_width": "initial",
            "_view_module": "@jupyter-widgets/base",
            "_model_module_version": "1.5.0",
            "_view_count": null,
            "_view_module_version": "1.2.0",
            "bar_color": null,
            "_model_module": "@jupyter-widgets/controls"
          }
        },
        "684b49249af84c1c9ae6f0fa01270177": {
          "model_module": "@jupyter-widgets/base",
          "model_name": "LayoutModel",
          "state": {
            "_view_name": "LayoutView",
            "grid_template_rows": null,
            "right": null,
            "justify_content": null,
            "_view_module": "@jupyter-widgets/base",
            "overflow": null,
            "_model_module_version": "1.2.0",
            "_view_count": null,
            "flex_flow": null,
            "width": null,
            "min_width": null,
            "border": null,
            "align_items": null,
            "bottom": null,
            "_model_module": "@jupyter-widgets/base",
            "top": null,
            "grid_column": null,
            "overflow_y": null,
            "overflow_x": null,
            "grid_auto_flow": null,
            "grid_area": null,
            "grid_template_columns": null,
            "flex": null,
            "_model_name": "LayoutModel",
            "justify_items": null,
            "grid_row": null,
            "max_height": null,
            "align_content": null,
            "visibility": null,
            "align_self": null,
            "height": null,
            "min_height": null,
            "padding": null,
            "grid_auto_rows": null,
            "grid_gap": null,
            "max_width": null,
            "order": null,
            "_view_module_version": "1.2.0",
            "grid_template_areas": null,
            "object_position": null,
            "object_fit": null,
            "grid_auto_columns": null,
            "margin": null,
            "display": null,
            "left": null
          }
        },
        "38ebb7a5532c4c3caadefa12c6322879": {
          "model_module": "@jupyter-widgets/controls",
          "model_name": "DescriptionStyleModel",
          "state": {
            "_view_name": "StyleView",
            "_model_name": "DescriptionStyleModel",
            "description_width": "",
            "_view_module": "@jupyter-widgets/base",
            "_model_module_version": "1.5.0",
            "_view_count": null,
            "_view_module_version": "1.2.0",
            "_model_module": "@jupyter-widgets/controls"
          }
        },
        "73b1723ea0e74f8d929b120ae5217e34": {
          "model_module": "@jupyter-widgets/base",
          "model_name": "LayoutModel",
          "state": {
            "_view_name": "LayoutView",
            "grid_template_rows": null,
            "right": null,
            "justify_content": null,
            "_view_module": "@jupyter-widgets/base",
            "overflow": null,
            "_model_module_version": "1.2.0",
            "_view_count": null,
            "flex_flow": null,
            "width": null,
            "min_width": null,
            "border": null,
            "align_items": null,
            "bottom": null,
            "_model_module": "@jupyter-widgets/base",
            "top": null,
            "grid_column": null,
            "overflow_y": null,
            "overflow_x": null,
            "grid_auto_flow": null,
            "grid_area": null,
            "grid_template_columns": null,
            "flex": null,
            "_model_name": "LayoutModel",
            "justify_items": null,
            "grid_row": null,
            "max_height": null,
            "align_content": null,
            "visibility": null,
            "align_self": null,
            "height": null,
            "min_height": null,
            "padding": null,
            "grid_auto_rows": null,
            "grid_gap": null,
            "max_width": null,
            "order": null,
            "_view_module_version": "1.2.0",
            "grid_template_areas": null,
            "object_position": null,
            "object_fit": null,
            "grid_auto_columns": null,
            "margin": null,
            "display": null,
            "left": null
          }
        },
        "2aa8875c4ecc424c9004c02d92718677": {
          "model_module": "@jupyter-widgets/controls",
          "model_name": "HBoxModel",
          "state": {
            "_view_name": "HBoxView",
            "_dom_classes": [],
            "_model_name": "HBoxModel",
            "_view_module": "@jupyter-widgets/controls",
            "_model_module_version": "1.5.0",
            "_view_count": null,
            "_view_module_version": "1.5.0",
            "box_style": "",
            "layout": "IPY_MODEL_c1a82ebf825840cd90ba271073feba3c",
            "_model_module": "@jupyter-widgets/controls",
            "children": [
              "IPY_MODEL_83559d4737ec4279bd42c8a95dd476c1",
              "IPY_MODEL_cd0bbbad464243229d7995c3678ea15b"
            ]
          }
        },
        "c1a82ebf825840cd90ba271073feba3c": {
          "model_module": "@jupyter-widgets/base",
          "model_name": "LayoutModel",
          "state": {
            "_view_name": "LayoutView",
            "grid_template_rows": null,
            "right": null,
            "justify_content": null,
            "_view_module": "@jupyter-widgets/base",
            "overflow": null,
            "_model_module_version": "1.2.0",
            "_view_count": null,
            "flex_flow": null,
            "width": null,
            "min_width": null,
            "border": null,
            "align_items": null,
            "bottom": null,
            "_model_module": "@jupyter-widgets/base",
            "top": null,
            "grid_column": null,
            "overflow_y": null,
            "overflow_x": null,
            "grid_auto_flow": null,
            "grid_area": null,
            "grid_template_columns": null,
            "flex": null,
            "_model_name": "LayoutModel",
            "justify_items": null,
            "grid_row": null,
            "max_height": null,
            "align_content": null,
            "visibility": null,
            "align_self": null,
            "height": null,
            "min_height": null,
            "padding": null,
            "grid_auto_rows": null,
            "grid_gap": null,
            "max_width": null,
            "order": null,
            "_view_module_version": "1.2.0",
            "grid_template_areas": null,
            "object_position": null,
            "object_fit": null,
            "grid_auto_columns": null,
            "margin": null,
            "display": null,
            "left": null
          }
        },
        "83559d4737ec4279bd42c8a95dd476c1": {
          "model_module": "@jupyter-widgets/controls",
          "model_name": "FloatProgressModel",
          "state": {
            "_view_name": "ProgressView",
            "style": "IPY_MODEL_03ad40b1b0c04220b2022b681ccbce9e",
            "_dom_classes": [],
            "description": "Downloading: 100%",
            "_model_name": "FloatProgressModel",
            "bar_style": "success",
            "max": 1649718,
            "_view_module": "@jupyter-widgets/controls",
            "_model_module_version": "1.5.0",
            "value": 1649718,
            "_view_count": null,
            "_view_module_version": "1.5.0",
            "orientation": "horizontal",
            "min": 0,
            "description_tooltip": null,
            "_model_module": "@jupyter-widgets/controls",
            "layout": "IPY_MODEL_8cfe8a757c4a40978a0dab6e10553821"
          }
        },
        "cd0bbbad464243229d7995c3678ea15b": {
          "model_module": "@jupyter-widgets/controls",
          "model_name": "HTMLModel",
          "state": {
            "_view_name": "HTMLView",
            "style": "IPY_MODEL_3ba6ba99f3154b4fa42cc3e85900540e",
            "_dom_classes": [],
            "description": "",
            "_model_name": "HTMLModel",
            "placeholder": "​",
            "_view_module": "@jupyter-widgets/controls",
            "_model_module_version": "1.5.0",
            "value": " 1.65M/1.65M [00:00&lt;00:00, 7.33MB/s]",
            "_view_count": null,
            "_view_module_version": "1.5.0",
            "description_tooltip": null,
            "_model_module": "@jupyter-widgets/controls",
            "layout": "IPY_MODEL_0607098a27c7484e873bc2eb0b4b3cbc"
          }
        },
        "03ad40b1b0c04220b2022b681ccbce9e": {
          "model_module": "@jupyter-widgets/controls",
          "model_name": "ProgressStyleModel",
          "state": {
            "_view_name": "StyleView",
            "_model_name": "ProgressStyleModel",
            "description_width": "initial",
            "_view_module": "@jupyter-widgets/base",
            "_model_module_version": "1.5.0",
            "_view_count": null,
            "_view_module_version": "1.2.0",
            "bar_color": null,
            "_model_module": "@jupyter-widgets/controls"
          }
        },
        "8cfe8a757c4a40978a0dab6e10553821": {
          "model_module": "@jupyter-widgets/base",
          "model_name": "LayoutModel",
          "state": {
            "_view_name": "LayoutView",
            "grid_template_rows": null,
            "right": null,
            "justify_content": null,
            "_view_module": "@jupyter-widgets/base",
            "overflow": null,
            "_model_module_version": "1.2.0",
            "_view_count": null,
            "flex_flow": null,
            "width": null,
            "min_width": null,
            "border": null,
            "align_items": null,
            "bottom": null,
            "_model_module": "@jupyter-widgets/base",
            "top": null,
            "grid_column": null,
            "overflow_y": null,
            "overflow_x": null,
            "grid_auto_flow": null,
            "grid_area": null,
            "grid_template_columns": null,
            "flex": null,
            "_model_name": "LayoutModel",
            "justify_items": null,
            "grid_row": null,
            "max_height": null,
            "align_content": null,
            "visibility": null,
            "align_self": null,
            "height": null,
            "min_height": null,
            "padding": null,
            "grid_auto_rows": null,
            "grid_gap": null,
            "max_width": null,
            "order": null,
            "_view_module_version": "1.2.0",
            "grid_template_areas": null,
            "object_position": null,
            "object_fit": null,
            "grid_auto_columns": null,
            "margin": null,
            "display": null,
            "left": null
          }
        },
        "3ba6ba99f3154b4fa42cc3e85900540e": {
          "model_module": "@jupyter-widgets/controls",
          "model_name": "DescriptionStyleModel",
          "state": {
            "_view_name": "StyleView",
            "_model_name": "DescriptionStyleModel",
            "description_width": "",
            "_view_module": "@jupyter-widgets/base",
            "_model_module_version": "1.5.0",
            "_view_count": null,
            "_view_module_version": "1.2.0",
            "_model_module": "@jupyter-widgets/controls"
          }
        },
        "0607098a27c7484e873bc2eb0b4b3cbc": {
          "model_module": "@jupyter-widgets/base",
          "model_name": "LayoutModel",
          "state": {
            "_view_name": "LayoutView",
            "grid_template_rows": null,
            "right": null,
            "justify_content": null,
            "_view_module": "@jupyter-widgets/base",
            "overflow": null,
            "_model_module_version": "1.2.0",
            "_view_count": null,
            "flex_flow": null,
            "width": null,
            "min_width": null,
            "border": null,
            "align_items": null,
            "bottom": null,
            "_model_module": "@jupyter-widgets/base",
            "top": null,
            "grid_column": null,
            "overflow_y": null,
            "overflow_x": null,
            "grid_auto_flow": null,
            "grid_area": null,
            "grid_template_columns": null,
            "flex": null,
            "_model_name": "LayoutModel",
            "justify_items": null,
            "grid_row": null,
            "max_height": null,
            "align_content": null,
            "visibility": null,
            "align_self": null,
            "height": null,
            "min_height": null,
            "padding": null,
            "grid_auto_rows": null,
            "grid_gap": null,
            "max_width": null,
            "order": null,
            "_view_module_version": "1.2.0",
            "grid_template_areas": null,
            "object_position": null,
            "object_fit": null,
            "grid_auto_columns": null,
            "margin": null,
            "display": null,
            "left": null
          }
        },
        "23b479f963b946e39c15a536f518b482": {
          "model_module": "@jupyter-widgets/controls",
          "model_name": "HBoxModel",
          "state": {
            "_view_name": "HBoxView",
            "_dom_classes": [],
            "_model_name": "HBoxModel",
            "_view_module": "@jupyter-widgets/controls",
            "_model_module_version": "1.5.0",
            "_view_count": null,
            "_view_module_version": "1.5.0",
            "box_style": "",
            "layout": "IPY_MODEL_c677dd26cd68407caa8543a5627fc95e",
            "_model_module": "@jupyter-widgets/controls",
            "children": [
              "IPY_MODEL_7c34c021928041548a70acaa86ff689f",
              "IPY_MODEL_79a9716c9caf4366a03728feeae8b8cf"
            ]
          }
        },
        "c677dd26cd68407caa8543a5627fc95e": {
          "model_module": "@jupyter-widgets/base",
          "model_name": "LayoutModel",
          "state": {
            "_view_name": "LayoutView",
            "grid_template_rows": null,
            "right": null,
            "justify_content": null,
            "_view_module": "@jupyter-widgets/base",
            "overflow": null,
            "_model_module_version": "1.2.0",
            "_view_count": null,
            "flex_flow": null,
            "width": null,
            "min_width": null,
            "border": null,
            "align_items": null,
            "bottom": null,
            "_model_module": "@jupyter-widgets/base",
            "top": null,
            "grid_column": null,
            "overflow_y": null,
            "overflow_x": null,
            "grid_auto_flow": null,
            "grid_area": null,
            "grid_template_columns": null,
            "flex": null,
            "_model_name": "LayoutModel",
            "justify_items": null,
            "grid_row": null,
            "max_height": null,
            "align_content": null,
            "visibility": null,
            "align_self": null,
            "height": null,
            "min_height": null,
            "padding": null,
            "grid_auto_rows": null,
            "grid_gap": null,
            "max_width": null,
            "order": null,
            "_view_module_version": "1.2.0",
            "grid_template_areas": null,
            "object_position": null,
            "object_fit": null,
            "grid_auto_columns": null,
            "margin": null,
            "display": null,
            "left": null
          }
        },
        "7c34c021928041548a70acaa86ff689f": {
          "model_module": "@jupyter-widgets/controls",
          "model_name": "FloatProgressModel",
          "state": {
            "_view_name": "ProgressView",
            "style": "IPY_MODEL_92bdbb22921b4daba05df8f4a68d6a0d",
            "_dom_classes": [],
            "description": "Downloading: 100%",
            "_model_name": "FloatProgressModel",
            "bar_style": "success",
            "max": 112,
            "_view_module": "@jupyter-widgets/controls",
            "_model_module_version": "1.5.0",
            "value": 112,
            "_view_count": null,
            "_view_module_version": "1.5.0",
            "orientation": "horizontal",
            "min": 0,
            "description_tooltip": null,
            "_model_module": "@jupyter-widgets/controls",
            "layout": "IPY_MODEL_99b3ffd184cd4cb3b178d2ddf7a4bb91"
          }
        },
        "79a9716c9caf4366a03728feeae8b8cf": {
          "model_module": "@jupyter-widgets/controls",
          "model_name": "HTMLModel",
          "state": {
            "_view_name": "HTMLView",
            "style": "IPY_MODEL_e3a8b3020f4d4e81af63572a8b1055f1",
            "_dom_classes": [],
            "description": "",
            "_model_name": "HTMLModel",
            "placeholder": "​",
            "_view_module": "@jupyter-widgets/controls",
            "_model_module_version": "1.5.0",
            "value": " 112/112 [00:00&lt;00:00, 316B/s]",
            "_view_count": null,
            "_view_module_version": "1.5.0",
            "description_tooltip": null,
            "_model_module": "@jupyter-widgets/controls",
            "layout": "IPY_MODEL_c233d41010834124a42e183acf260182"
          }
        },
        "92bdbb22921b4daba05df8f4a68d6a0d": {
          "model_module": "@jupyter-widgets/controls",
          "model_name": "ProgressStyleModel",
          "state": {
            "_view_name": "StyleView",
            "_model_name": "ProgressStyleModel",
            "description_width": "initial",
            "_view_module": "@jupyter-widgets/base",
            "_model_module_version": "1.5.0",
            "_view_count": null,
            "_view_module_version": "1.2.0",
            "bar_color": null,
            "_model_module": "@jupyter-widgets/controls"
          }
        },
        "99b3ffd184cd4cb3b178d2ddf7a4bb91": {
          "model_module": "@jupyter-widgets/base",
          "model_name": "LayoutModel",
          "state": {
            "_view_name": "LayoutView",
            "grid_template_rows": null,
            "right": null,
            "justify_content": null,
            "_view_module": "@jupyter-widgets/base",
            "overflow": null,
            "_model_module_version": "1.2.0",
            "_view_count": null,
            "flex_flow": null,
            "width": null,
            "min_width": null,
            "border": null,
            "align_items": null,
            "bottom": null,
            "_model_module": "@jupyter-widgets/base",
            "top": null,
            "grid_column": null,
            "overflow_y": null,
            "overflow_x": null,
            "grid_auto_flow": null,
            "grid_area": null,
            "grid_template_columns": null,
            "flex": null,
            "_model_name": "LayoutModel",
            "justify_items": null,
            "grid_row": null,
            "max_height": null,
            "align_content": null,
            "visibility": null,
            "align_self": null,
            "height": null,
            "min_height": null,
            "padding": null,
            "grid_auto_rows": null,
            "grid_gap": null,
            "max_width": null,
            "order": null,
            "_view_module_version": "1.2.0",
            "grid_template_areas": null,
            "object_position": null,
            "object_fit": null,
            "grid_auto_columns": null,
            "margin": null,
            "display": null,
            "left": null
          }
        },
        "e3a8b3020f4d4e81af63572a8b1055f1": {
          "model_module": "@jupyter-widgets/controls",
          "model_name": "DescriptionStyleModel",
          "state": {
            "_view_name": "StyleView",
            "_model_name": "DescriptionStyleModel",
            "description_width": "",
            "_view_module": "@jupyter-widgets/base",
            "_model_module_version": "1.5.0",
            "_view_count": null,
            "_view_module_version": "1.2.0",
            "_model_module": "@jupyter-widgets/controls"
          }
        },
        "c233d41010834124a42e183acf260182": {
          "model_module": "@jupyter-widgets/base",
          "model_name": "LayoutModel",
          "state": {
            "_view_name": "LayoutView",
            "grid_template_rows": null,
            "right": null,
            "justify_content": null,
            "_view_module": "@jupyter-widgets/base",
            "overflow": null,
            "_model_module_version": "1.2.0",
            "_view_count": null,
            "flex_flow": null,
            "width": null,
            "min_width": null,
            "border": null,
            "align_items": null,
            "bottom": null,
            "_model_module": "@jupyter-widgets/base",
            "top": null,
            "grid_column": null,
            "overflow_y": null,
            "overflow_x": null,
            "grid_auto_flow": null,
            "grid_area": null,
            "grid_template_columns": null,
            "flex": null,
            "_model_name": "LayoutModel",
            "justify_items": null,
            "grid_row": null,
            "max_height": null,
            "align_content": null,
            "visibility": null,
            "align_self": null,
            "height": null,
            "min_height": null,
            "padding": null,
            "grid_auto_rows": null,
            "grid_gap": null,
            "max_width": null,
            "order": null,
            "_view_module_version": "1.2.0",
            "grid_template_areas": null,
            "object_position": null,
            "object_fit": null,
            "grid_auto_columns": null,
            "margin": null,
            "display": null,
            "left": null
          }
        },
        "4b74167677844857be06dacc1b706148": {
          "model_module": "@jupyter-widgets/controls",
          "model_name": "HBoxModel",
          "state": {
            "_view_name": "HBoxView",
            "_dom_classes": [],
            "_model_name": "HBoxModel",
            "_view_module": "@jupyter-widgets/controls",
            "_model_module_version": "1.5.0",
            "_view_count": null,
            "_view_module_version": "1.5.0",
            "box_style": "",
            "layout": "IPY_MODEL_7a3cce4718a14a899a154505b669cfd2",
            "_model_module": "@jupyter-widgets/controls",
            "children": [
              "IPY_MODEL_f3d1be15c2904f72ab5c806f347d24c6",
              "IPY_MODEL_273c9c36819d482da1e842c33bf07990"
            ]
          }
        },
        "7a3cce4718a14a899a154505b669cfd2": {
          "model_module": "@jupyter-widgets/base",
          "model_name": "LayoutModel",
          "state": {
            "_view_name": "LayoutView",
            "grid_template_rows": null,
            "right": null,
            "justify_content": null,
            "_view_module": "@jupyter-widgets/base",
            "overflow": null,
            "_model_module_version": "1.2.0",
            "_view_count": null,
            "flex_flow": null,
            "width": null,
            "min_width": null,
            "border": null,
            "align_items": null,
            "bottom": null,
            "_model_module": "@jupyter-widgets/base",
            "top": null,
            "grid_column": null,
            "overflow_y": null,
            "overflow_x": null,
            "grid_auto_flow": null,
            "grid_area": null,
            "grid_template_columns": null,
            "flex": null,
            "_model_name": "LayoutModel",
            "justify_items": null,
            "grid_row": null,
            "max_height": null,
            "align_content": null,
            "visibility": null,
            "align_self": null,
            "height": null,
            "min_height": null,
            "padding": null,
            "grid_auto_rows": null,
            "grid_gap": null,
            "max_width": null,
            "order": null,
            "_view_module_version": "1.2.0",
            "grid_template_areas": null,
            "object_position": null,
            "object_fit": null,
            "grid_auto_columns": null,
            "margin": null,
            "display": null,
            "left": null
          }
        },
        "f3d1be15c2904f72ab5c806f347d24c6": {
          "model_module": "@jupyter-widgets/controls",
          "model_name": "FloatProgressModel",
          "state": {
            "_view_name": "ProgressView",
            "style": "IPY_MODEL_1892a7fe60954b4f907043776f1feb56",
            "_dom_classes": [],
            "description": "Downloading: 100%",
            "_model_name": "FloatProgressModel",
            "bar_style": "success",
            "max": 2,
            "_view_module": "@jupyter-widgets/controls",
            "_model_module_version": "1.5.0",
            "value": 2,
            "_view_count": null,
            "_view_module_version": "1.5.0",
            "orientation": "horizontal",
            "min": 0,
            "description_tooltip": null,
            "_model_module": "@jupyter-widgets/controls",
            "layout": "IPY_MODEL_1de13793343c4b01b9df339892dcea03"
          }
        },
        "273c9c36819d482da1e842c33bf07990": {
          "model_module": "@jupyter-widgets/controls",
          "model_name": "HTMLModel",
          "state": {
            "_view_name": "HTMLView",
            "style": "IPY_MODEL_9a2837f3990a4e7688ed08391b7c29c2",
            "_dom_classes": [],
            "description": "",
            "_model_name": "HTMLModel",
            "placeholder": "​",
            "_view_module": "@jupyter-widgets/controls",
            "_model_module_version": "1.5.0",
            "value": " 2.00/2.00 [00:00&lt;00:00, 9.16B/s]",
            "_view_count": null,
            "_view_module_version": "1.5.0",
            "description_tooltip": null,
            "_model_module": "@jupyter-widgets/controls",
            "layout": "IPY_MODEL_295ad87fd2904077b26ad28c2a0dbff6"
          }
        },
        "1892a7fe60954b4f907043776f1feb56": {
          "model_module": "@jupyter-widgets/controls",
          "model_name": "ProgressStyleModel",
          "state": {
            "_view_name": "StyleView",
            "_model_name": "ProgressStyleModel",
            "description_width": "initial",
            "_view_module": "@jupyter-widgets/base",
            "_model_module_version": "1.5.0",
            "_view_count": null,
            "_view_module_version": "1.2.0",
            "bar_color": null,
            "_model_module": "@jupyter-widgets/controls"
          }
        },
        "1de13793343c4b01b9df339892dcea03": {
          "model_module": "@jupyter-widgets/base",
          "model_name": "LayoutModel",
          "state": {
            "_view_name": "LayoutView",
            "grid_template_rows": null,
            "right": null,
            "justify_content": null,
            "_view_module": "@jupyter-widgets/base",
            "overflow": null,
            "_model_module_version": "1.2.0",
            "_view_count": null,
            "flex_flow": null,
            "width": null,
            "min_width": null,
            "border": null,
            "align_items": null,
            "bottom": null,
            "_model_module": "@jupyter-widgets/base",
            "top": null,
            "grid_column": null,
            "overflow_y": null,
            "overflow_x": null,
            "grid_auto_flow": null,
            "grid_area": null,
            "grid_template_columns": null,
            "flex": null,
            "_model_name": "LayoutModel",
            "justify_items": null,
            "grid_row": null,
            "max_height": null,
            "align_content": null,
            "visibility": null,
            "align_self": null,
            "height": null,
            "min_height": null,
            "padding": null,
            "grid_auto_rows": null,
            "grid_gap": null,
            "max_width": null,
            "order": null,
            "_view_module_version": "1.2.0",
            "grid_template_areas": null,
            "object_position": null,
            "object_fit": null,
            "grid_auto_columns": null,
            "margin": null,
            "display": null,
            "left": null
          }
        },
        "9a2837f3990a4e7688ed08391b7c29c2": {
          "model_module": "@jupyter-widgets/controls",
          "model_name": "DescriptionStyleModel",
          "state": {
            "_view_name": "StyleView",
            "_model_name": "DescriptionStyleModel",
            "description_width": "",
            "_view_module": "@jupyter-widgets/base",
            "_model_module_version": "1.5.0",
            "_view_count": null,
            "_view_module_version": "1.2.0",
            "_model_module": "@jupyter-widgets/controls"
          }
        },
        "295ad87fd2904077b26ad28c2a0dbff6": {
          "model_module": "@jupyter-widgets/base",
          "model_name": "LayoutModel",
          "state": {
            "_view_name": "LayoutView",
            "grid_template_rows": null,
            "right": null,
            "justify_content": null,
            "_view_module": "@jupyter-widgets/base",
            "overflow": null,
            "_model_module_version": "1.2.0",
            "_view_count": null,
            "flex_flow": null,
            "width": null,
            "min_width": null,
            "border": null,
            "align_items": null,
            "bottom": null,
            "_model_module": "@jupyter-widgets/base",
            "top": null,
            "grid_column": null,
            "overflow_y": null,
            "overflow_x": null,
            "grid_auto_flow": null,
            "grid_area": null,
            "grid_template_columns": null,
            "flex": null,
            "_model_name": "LayoutModel",
            "justify_items": null,
            "grid_row": null,
            "max_height": null,
            "align_content": null,
            "visibility": null,
            "align_self": null,
            "height": null,
            "min_height": null,
            "padding": null,
            "grid_auto_rows": null,
            "grid_gap": null,
            "max_width": null,
            "order": null,
            "_view_module_version": "1.2.0",
            "grid_template_areas": null,
            "object_position": null,
            "object_fit": null,
            "grid_auto_columns": null,
            "margin": null,
            "display": null,
            "left": null
          }
        },
        "990ad3a0cab64111ab8e067af6a20448": {
          "model_module": "@jupyter-widgets/controls",
          "model_name": "HBoxModel",
          "state": {
            "_view_name": "HBoxView",
            "_dom_classes": [],
            "_model_name": "HBoxModel",
            "_view_module": "@jupyter-widgets/controls",
            "_model_module_version": "1.5.0",
            "_view_count": null,
            "_view_module_version": "1.5.0",
            "box_style": "",
            "layout": "IPY_MODEL_cc557d4d80fb409fb65f755b2efd16ec",
            "_model_module": "@jupyter-widgets/controls",
            "children": [
              "IPY_MODEL_e17c9c96257c45db87f7f69778b0e21a",
              "IPY_MODEL_c92dcf7dad174d57afab74b40634e7d5"
            ]
          }
        },
        "cc557d4d80fb409fb65f755b2efd16ec": {
          "model_module": "@jupyter-widgets/base",
          "model_name": "LayoutModel",
          "state": {
            "_view_name": "LayoutView",
            "grid_template_rows": null,
            "right": null,
            "justify_content": null,
            "_view_module": "@jupyter-widgets/base",
            "overflow": null,
            "_model_module_version": "1.2.0",
            "_view_count": null,
            "flex_flow": null,
            "width": null,
            "min_width": null,
            "border": null,
            "align_items": null,
            "bottom": null,
            "_model_module": "@jupyter-widgets/base",
            "top": null,
            "grid_column": null,
            "overflow_y": null,
            "overflow_x": null,
            "grid_auto_flow": null,
            "grid_area": null,
            "grid_template_columns": null,
            "flex": null,
            "_model_name": "LayoutModel",
            "justify_items": null,
            "grid_row": null,
            "max_height": null,
            "align_content": null,
            "visibility": null,
            "align_self": null,
            "height": null,
            "min_height": null,
            "padding": null,
            "grid_auto_rows": null,
            "grid_gap": null,
            "max_width": null,
            "order": null,
            "_view_module_version": "1.2.0",
            "grid_template_areas": null,
            "object_position": null,
            "object_fit": null,
            "grid_auto_columns": null,
            "margin": null,
            "display": null,
            "left": null
          }
        },
        "e17c9c96257c45db87f7f69778b0e21a": {
          "model_module": "@jupyter-widgets/controls",
          "model_name": "FloatProgressModel",
          "state": {
            "_view_name": "ProgressView",
            "style": "IPY_MODEL_7197f70ce5bd4f17bcc09f7e33ea2b5a",
            "_dom_classes": [],
            "description": "Downloading: 100%",
            "_model_name": "FloatProgressModel",
            "bar_style": "success",
            "max": 711456796,
            "_view_module": "@jupyter-widgets/controls",
            "_model_module_version": "1.5.0",
            "value": 711456796,
            "_view_count": null,
            "_view_module_version": "1.5.0",
            "orientation": "horizontal",
            "min": 0,
            "description_tooltip": null,
            "_model_module": "@jupyter-widgets/controls",
            "layout": "IPY_MODEL_16c5ea2646c7425797fdd27a218aa757"
          }
        },
        "c92dcf7dad174d57afab74b40634e7d5": {
          "model_module": "@jupyter-widgets/controls",
          "model_name": "HTMLModel",
          "state": {
            "_view_name": "HTMLView",
            "style": "IPY_MODEL_6cba5e2c12f74893952c833494190472",
            "_dom_classes": [],
            "description": "",
            "_model_name": "HTMLModel",
            "placeholder": "​",
            "_view_module": "@jupyter-widgets/controls",
            "_model_module_version": "1.5.0",
            "value": " 711M/711M [10:30&lt;00:00, 1.13MB/s]",
            "_view_count": null,
            "_view_module_version": "1.5.0",
            "description_tooltip": null,
            "_model_module": "@jupyter-widgets/controls",
            "layout": "IPY_MODEL_f7831fa91ef94ecaae9b65adcae76071"
          }
        },
        "7197f70ce5bd4f17bcc09f7e33ea2b5a": {
          "model_module": "@jupyter-widgets/controls",
          "model_name": "ProgressStyleModel",
          "state": {
            "_view_name": "StyleView",
            "_model_name": "ProgressStyleModel",
            "description_width": "initial",
            "_view_module": "@jupyter-widgets/base",
            "_model_module_version": "1.5.0",
            "_view_count": null,
            "_view_module_version": "1.2.0",
            "bar_color": null,
            "_model_module": "@jupyter-widgets/controls"
          }
        },
        "16c5ea2646c7425797fdd27a218aa757": {
          "model_module": "@jupyter-widgets/base",
          "model_name": "LayoutModel",
          "state": {
            "_view_name": "LayoutView",
            "grid_template_rows": null,
            "right": null,
            "justify_content": null,
            "_view_module": "@jupyter-widgets/base",
            "overflow": null,
            "_model_module_version": "1.2.0",
            "_view_count": null,
            "flex_flow": null,
            "width": null,
            "min_width": null,
            "border": null,
            "align_items": null,
            "bottom": null,
            "_model_module": "@jupyter-widgets/base",
            "top": null,
            "grid_column": null,
            "overflow_y": null,
            "overflow_x": null,
            "grid_auto_flow": null,
            "grid_area": null,
            "grid_template_columns": null,
            "flex": null,
            "_model_name": "LayoutModel",
            "justify_items": null,
            "grid_row": null,
            "max_height": null,
            "align_content": null,
            "visibility": null,
            "align_self": null,
            "height": null,
            "min_height": null,
            "padding": null,
            "grid_auto_rows": null,
            "grid_gap": null,
            "max_width": null,
            "order": null,
            "_view_module_version": "1.2.0",
            "grid_template_areas": null,
            "object_position": null,
            "object_fit": null,
            "grid_auto_columns": null,
            "margin": null,
            "display": null,
            "left": null
          }
        },
        "6cba5e2c12f74893952c833494190472": {
          "model_module": "@jupyter-widgets/controls",
          "model_name": "DescriptionStyleModel",
          "state": {
            "_view_name": "StyleView",
            "_model_name": "DescriptionStyleModel",
            "description_width": "",
            "_view_module": "@jupyter-widgets/base",
            "_model_module_version": "1.5.0",
            "_view_count": null,
            "_view_module_version": "1.2.0",
            "_model_module": "@jupyter-widgets/controls"
          }
        },
        "f7831fa91ef94ecaae9b65adcae76071": {
          "model_module": "@jupyter-widgets/base",
          "model_name": "LayoutModel",
          "state": {
            "_view_name": "LayoutView",
            "grid_template_rows": null,
            "right": null,
            "justify_content": null,
            "_view_module": "@jupyter-widgets/base",
            "overflow": null,
            "_model_module_version": "1.2.0",
            "_view_count": null,
            "flex_flow": null,
            "width": null,
            "min_width": null,
            "border": null,
            "align_items": null,
            "bottom": null,
            "_model_module": "@jupyter-widgets/base",
            "top": null,
            "grid_column": null,
            "overflow_y": null,
            "overflow_x": null,
            "grid_auto_flow": null,
            "grid_area": null,
            "grid_template_columns": null,
            "flex": null,
            "_model_name": "LayoutModel",
            "justify_items": null,
            "grid_row": null,
            "max_height": null,
            "align_content": null,
            "visibility": null,
            "align_self": null,
            "height": null,
            "min_height": null,
            "padding": null,
            "grid_auto_rows": null,
            "grid_gap": null,
            "max_width": null,
            "order": null,
            "_view_module_version": "1.2.0",
            "grid_template_areas": null,
            "object_position": null,
            "object_fit": null,
            "grid_auto_columns": null,
            "margin": null,
            "display": null,
            "left": null
          }
        },
        "f70b61af3f454662b723639b6f238805": {
          "model_module": "@jupyter-widgets/controls",
          "model_name": "HBoxModel",
          "state": {
            "_view_name": "HBoxView",
            "_dom_classes": [],
            "_model_name": "HBoxModel",
            "_view_module": "@jupyter-widgets/controls",
            "_model_module_version": "1.5.0",
            "_view_count": null,
            "_view_module_version": "1.5.0",
            "box_style": "",
            "layout": "IPY_MODEL_cae6a390ee1a415392e87780e470cc47",
            "_model_module": "@jupyter-widgets/controls",
            "children": [
              "IPY_MODEL_7c225d1935a046d7bc4be57be57390e9",
              "IPY_MODEL_c61cc09f0c65459fbd6879f16c875fe7"
            ]
          }
        },
        "cae6a390ee1a415392e87780e470cc47": {
          "model_module": "@jupyter-widgets/base",
          "model_name": "LayoutModel",
          "state": {
            "_view_name": "LayoutView",
            "grid_template_rows": null,
            "right": null,
            "justify_content": null,
            "_view_module": "@jupyter-widgets/base",
            "overflow": null,
            "_model_module_version": "1.2.0",
            "_view_count": null,
            "flex_flow": null,
            "width": null,
            "min_width": null,
            "border": null,
            "align_items": null,
            "bottom": null,
            "_model_module": "@jupyter-widgets/base",
            "top": null,
            "grid_column": null,
            "overflow_y": null,
            "overflow_x": null,
            "grid_auto_flow": null,
            "grid_area": null,
            "grid_template_columns": null,
            "flex": null,
            "_model_name": "LayoutModel",
            "justify_items": null,
            "grid_row": null,
            "max_height": null,
            "align_content": null,
            "visibility": null,
            "align_self": null,
            "height": null,
            "min_height": null,
            "padding": null,
            "grid_auto_rows": null,
            "grid_gap": null,
            "max_width": null,
            "order": null,
            "_view_module_version": "1.2.0",
            "grid_template_areas": null,
            "object_position": null,
            "object_fit": null,
            "grid_auto_columns": null,
            "margin": null,
            "display": null,
            "left": null
          }
        },
        "7c225d1935a046d7bc4be57be57390e9": {
          "model_module": "@jupyter-widgets/controls",
          "model_name": "FloatProgressModel",
          "state": {
            "_view_name": "ProgressView",
            "style": "IPY_MODEL_875e16e59a254a8281ab982c076d93fe",
            "_dom_classes": [],
            "description": "100%",
            "_model_name": "FloatProgressModel",
            "bar_style": "success",
            "max": 1699,
            "_view_module": "@jupyter-widgets/controls",
            "_model_module_version": "1.5.0",
            "value": 1699,
            "_view_count": null,
            "_view_module_version": "1.5.0",
            "orientation": "horizontal",
            "min": 0,
            "description_tooltip": null,
            "_model_module": "@jupyter-widgets/controls",
            "layout": "IPY_MODEL_3ec9b5c1fe66419a9906405282ef75fc"
          }
        },
        "c61cc09f0c65459fbd6879f16c875fe7": {
          "model_module": "@jupyter-widgets/controls",
          "model_name": "HTMLModel",
          "state": {
            "_view_name": "HTMLView",
            "style": "IPY_MODEL_bd376f6d2acf431284fb52a418cec6d0",
            "_dom_classes": [],
            "description": "",
            "_model_name": "HTMLModel",
            "placeholder": "​",
            "_view_module": "@jupyter-widgets/controls",
            "_model_module_version": "1.5.0",
            "value": " 1699/1699 [12:31&lt;00:00,  2.26it/s]",
            "_view_count": null,
            "_view_module_version": "1.5.0",
            "description_tooltip": null,
            "_model_module": "@jupyter-widgets/controls",
            "layout": "IPY_MODEL_5c682f7e64b1473492edf69bfb150bf1"
          }
        },
        "875e16e59a254a8281ab982c076d93fe": {
          "model_module": "@jupyter-widgets/controls",
          "model_name": "ProgressStyleModel",
          "state": {
            "_view_name": "StyleView",
            "_model_name": "ProgressStyleModel",
            "description_width": "initial",
            "_view_module": "@jupyter-widgets/base",
            "_model_module_version": "1.5.0",
            "_view_count": null,
            "_view_module_version": "1.2.0",
            "bar_color": null,
            "_model_module": "@jupyter-widgets/controls"
          }
        },
        "3ec9b5c1fe66419a9906405282ef75fc": {
          "model_module": "@jupyter-widgets/base",
          "model_name": "LayoutModel",
          "state": {
            "_view_name": "LayoutView",
            "grid_template_rows": null,
            "right": null,
            "justify_content": null,
            "_view_module": "@jupyter-widgets/base",
            "overflow": null,
            "_model_module_version": "1.2.0",
            "_view_count": null,
            "flex_flow": null,
            "width": null,
            "min_width": null,
            "border": null,
            "align_items": null,
            "bottom": null,
            "_model_module": "@jupyter-widgets/base",
            "top": null,
            "grid_column": null,
            "overflow_y": null,
            "overflow_x": null,
            "grid_auto_flow": null,
            "grid_area": null,
            "grid_template_columns": null,
            "flex": null,
            "_model_name": "LayoutModel",
            "justify_items": null,
            "grid_row": null,
            "max_height": null,
            "align_content": null,
            "visibility": null,
            "align_self": null,
            "height": null,
            "min_height": null,
            "padding": null,
            "grid_auto_rows": null,
            "grid_gap": null,
            "max_width": null,
            "order": null,
            "_view_module_version": "1.2.0",
            "grid_template_areas": null,
            "object_position": null,
            "object_fit": null,
            "grid_auto_columns": null,
            "margin": null,
            "display": null,
            "left": null
          }
        },
        "bd376f6d2acf431284fb52a418cec6d0": {
          "model_module": "@jupyter-widgets/controls",
          "model_name": "DescriptionStyleModel",
          "state": {
            "_view_name": "StyleView",
            "_model_name": "DescriptionStyleModel",
            "description_width": "",
            "_view_module": "@jupyter-widgets/base",
            "_model_module_version": "1.5.0",
            "_view_count": null,
            "_view_module_version": "1.2.0",
            "_model_module": "@jupyter-widgets/controls"
          }
        },
        "5c682f7e64b1473492edf69bfb150bf1": {
          "model_module": "@jupyter-widgets/base",
          "model_name": "LayoutModel",
          "state": {
            "_view_name": "LayoutView",
            "grid_template_rows": null,
            "right": null,
            "justify_content": null,
            "_view_module": "@jupyter-widgets/base",
            "overflow": null,
            "_model_module_version": "1.2.0",
            "_view_count": null,
            "flex_flow": null,
            "width": null,
            "min_width": null,
            "border": null,
            "align_items": null,
            "bottom": null,
            "_model_module": "@jupyter-widgets/base",
            "top": null,
            "grid_column": null,
            "overflow_y": null,
            "overflow_x": null,
            "grid_auto_flow": null,
            "grid_area": null,
            "grid_template_columns": null,
            "flex": null,
            "_model_name": "LayoutModel",
            "justify_items": null,
            "grid_row": null,
            "max_height": null,
            "align_content": null,
            "visibility": null,
            "align_self": null,
            "height": null,
            "min_height": null,
            "padding": null,
            "grid_auto_rows": null,
            "grid_gap": null,
            "max_width": null,
            "order": null,
            "_view_module_version": "1.2.0",
            "grid_template_areas": null,
            "object_position": null,
            "object_fit": null,
            "grid_auto_columns": null,
            "margin": null,
            "display": null,
            "left": null
          }
        },
        "a456f85b630d434ea959a9b2728a907a": {
          "model_module": "@jupyter-widgets/controls",
          "model_name": "HBoxModel",
          "state": {
            "_view_name": "HBoxView",
            "_dom_classes": [],
            "_model_name": "HBoxModel",
            "_view_module": "@jupyter-widgets/controls",
            "_model_module_version": "1.5.0",
            "_view_count": null,
            "_view_module_version": "1.5.0",
            "box_style": "",
            "layout": "IPY_MODEL_dc1d23a836fc4ea795d69d0910b81024",
            "_model_module": "@jupyter-widgets/controls",
            "children": [
              "IPY_MODEL_94b1a563a0c749deb5cabbd5df2da13a",
              "IPY_MODEL_d924eaac3e1c42de8bb07c92525d646d"
            ]
          }
        },
        "dc1d23a836fc4ea795d69d0910b81024": {
          "model_module": "@jupyter-widgets/base",
          "model_name": "LayoutModel",
          "state": {
            "_view_name": "LayoutView",
            "grid_template_rows": null,
            "right": null,
            "justify_content": null,
            "_view_module": "@jupyter-widgets/base",
            "overflow": null,
            "_model_module_version": "1.2.0",
            "_view_count": null,
            "flex_flow": null,
            "width": null,
            "min_width": null,
            "border": null,
            "align_items": null,
            "bottom": null,
            "_model_module": "@jupyter-widgets/base",
            "top": null,
            "grid_column": null,
            "overflow_y": null,
            "overflow_x": null,
            "grid_auto_flow": null,
            "grid_area": null,
            "grid_template_columns": null,
            "flex": null,
            "_model_name": "LayoutModel",
            "justify_items": null,
            "grid_row": null,
            "max_height": null,
            "align_content": null,
            "visibility": null,
            "align_self": null,
            "height": null,
            "min_height": null,
            "padding": null,
            "grid_auto_rows": null,
            "grid_gap": null,
            "max_width": null,
            "order": null,
            "_view_module_version": "1.2.0",
            "grid_template_areas": null,
            "object_position": null,
            "object_fit": null,
            "grid_auto_columns": null,
            "margin": null,
            "display": null,
            "left": null
          }
        },
        "94b1a563a0c749deb5cabbd5df2da13a": {
          "model_module": "@jupyter-widgets/controls",
          "model_name": "FloatProgressModel",
          "state": {
            "_view_name": "ProgressView",
            "style": "IPY_MODEL_7856f284acb0462d8350fb564d6f7841",
            "_dom_classes": [],
            "description": "100%",
            "_model_name": "FloatProgressModel",
            "bar_style": "success",
            "max": 893,
            "_view_module": "@jupyter-widgets/controls",
            "_model_module_version": "1.5.0",
            "value": 893,
            "_view_count": null,
            "_view_module_version": "1.5.0",
            "orientation": "horizontal",
            "min": 0,
            "description_tooltip": null,
            "_model_module": "@jupyter-widgets/controls",
            "layout": "IPY_MODEL_e1f5abd84ce640af9f3eefc38131b3d3"
          }
        },
        "d924eaac3e1c42de8bb07c92525d646d": {
          "model_module": "@jupyter-widgets/controls",
          "model_name": "HTMLModel",
          "state": {
            "_view_name": "HTMLView",
            "style": "IPY_MODEL_95989b7f5b844faab46971cbf2ffdc33",
            "_dom_classes": [],
            "description": "",
            "_model_name": "HTMLModel",
            "placeholder": "​",
            "_view_module": "@jupyter-widgets/controls",
            "_model_module_version": "1.5.0",
            "value": " 893/893 [05:25&lt;00:00,  2.74it/s]",
            "_view_count": null,
            "_view_module_version": "1.5.0",
            "description_tooltip": null,
            "_model_module": "@jupyter-widgets/controls",
            "layout": "IPY_MODEL_80495656ddf64c119c309c50d3eae1d3"
          }
        },
        "7856f284acb0462d8350fb564d6f7841": {
          "model_module": "@jupyter-widgets/controls",
          "model_name": "ProgressStyleModel",
          "state": {
            "_view_name": "StyleView",
            "_model_name": "ProgressStyleModel",
            "description_width": "initial",
            "_view_module": "@jupyter-widgets/base",
            "_model_module_version": "1.5.0",
            "_view_count": null,
            "_view_module_version": "1.2.0",
            "bar_color": null,
            "_model_module": "@jupyter-widgets/controls"
          }
        },
        "e1f5abd84ce640af9f3eefc38131b3d3": {
          "model_module": "@jupyter-widgets/base",
          "model_name": "LayoutModel",
          "state": {
            "_view_name": "LayoutView",
            "grid_template_rows": null,
            "right": null,
            "justify_content": null,
            "_view_module": "@jupyter-widgets/base",
            "overflow": null,
            "_model_module_version": "1.2.0",
            "_view_count": null,
            "flex_flow": null,
            "width": null,
            "min_width": null,
            "border": null,
            "align_items": null,
            "bottom": null,
            "_model_module": "@jupyter-widgets/base",
            "top": null,
            "grid_column": null,
            "overflow_y": null,
            "overflow_x": null,
            "grid_auto_flow": null,
            "grid_area": null,
            "grid_template_columns": null,
            "flex": null,
            "_model_name": "LayoutModel",
            "justify_items": null,
            "grid_row": null,
            "max_height": null,
            "align_content": null,
            "visibility": null,
            "align_self": null,
            "height": null,
            "min_height": null,
            "padding": null,
            "grid_auto_rows": null,
            "grid_gap": null,
            "max_width": null,
            "order": null,
            "_view_module_version": "1.2.0",
            "grid_template_areas": null,
            "object_position": null,
            "object_fit": null,
            "grid_auto_columns": null,
            "margin": null,
            "display": null,
            "left": null
          }
        },
        "95989b7f5b844faab46971cbf2ffdc33": {
          "model_module": "@jupyter-widgets/controls",
          "model_name": "DescriptionStyleModel",
          "state": {
            "_view_name": "StyleView",
            "_model_name": "DescriptionStyleModel",
            "description_width": "",
            "_view_module": "@jupyter-widgets/base",
            "_model_module_version": "1.5.0",
            "_view_count": null,
            "_view_module_version": "1.2.0",
            "_model_module": "@jupyter-widgets/controls"
          }
        },
        "80495656ddf64c119c309c50d3eae1d3": {
          "model_module": "@jupyter-widgets/base",
          "model_name": "LayoutModel",
          "state": {
            "_view_name": "LayoutView",
            "grid_template_rows": null,
            "right": null,
            "justify_content": null,
            "_view_module": "@jupyter-widgets/base",
            "overflow": null,
            "_model_module_version": "1.2.0",
            "_view_count": null,
            "flex_flow": null,
            "width": null,
            "min_width": null,
            "border": null,
            "align_items": null,
            "bottom": null,
            "_model_module": "@jupyter-widgets/base",
            "top": null,
            "grid_column": null,
            "overflow_y": null,
            "overflow_x": null,
            "grid_auto_flow": null,
            "grid_area": null,
            "grid_template_columns": null,
            "flex": null,
            "_model_name": "LayoutModel",
            "justify_items": null,
            "grid_row": null,
            "max_height": null,
            "align_content": null,
            "visibility": null,
            "align_self": null,
            "height": null,
            "min_height": null,
            "padding": null,
            "grid_auto_rows": null,
            "grid_gap": null,
            "max_width": null,
            "order": null,
            "_view_module_version": "1.2.0",
            "grid_template_areas": null,
            "object_position": null,
            "object_fit": null,
            "grid_auto_columns": null,
            "margin": null,
            "display": null,
            "left": null
          }
        },
        "914456390b3c4bebb7c73fa2df7a4e91": {
          "model_module": "@jupyter-widgets/controls",
          "model_name": "HBoxModel",
          "state": {
            "_view_name": "HBoxView",
            "_dom_classes": [],
            "_model_name": "HBoxModel",
            "_view_module": "@jupyter-widgets/controls",
            "_model_module_version": "1.5.0",
            "_view_count": null,
            "_view_module_version": "1.5.0",
            "box_style": "",
            "layout": "IPY_MODEL_2bd2a2952fe54b31a9f09d868ccbf032",
            "_model_module": "@jupyter-widgets/controls",
            "children": [
              "IPY_MODEL_999861d2e60e4b9fbf32e881134043fa",
              "IPY_MODEL_7ebca158ec9f4792a3852cce06abf277"
            ]
          }
        },
        "2bd2a2952fe54b31a9f09d868ccbf032": {
          "model_module": "@jupyter-widgets/base",
          "model_name": "LayoutModel",
          "state": {
            "_view_name": "LayoutView",
            "grid_template_rows": null,
            "right": null,
            "justify_content": null,
            "_view_module": "@jupyter-widgets/base",
            "overflow": null,
            "_model_module_version": "1.2.0",
            "_view_count": null,
            "flex_flow": null,
            "width": null,
            "min_width": null,
            "border": null,
            "align_items": null,
            "bottom": null,
            "_model_module": "@jupyter-widgets/base",
            "top": null,
            "grid_column": null,
            "overflow_y": null,
            "overflow_x": null,
            "grid_auto_flow": null,
            "grid_area": null,
            "grid_template_columns": null,
            "flex": null,
            "_model_name": "LayoutModel",
            "justify_items": null,
            "grid_row": null,
            "max_height": null,
            "align_content": null,
            "visibility": null,
            "align_self": null,
            "height": null,
            "min_height": null,
            "padding": null,
            "grid_auto_rows": null,
            "grid_gap": null,
            "max_width": null,
            "order": null,
            "_view_module_version": "1.2.0",
            "grid_template_areas": null,
            "object_position": null,
            "object_fit": null,
            "grid_auto_columns": null,
            "margin": null,
            "display": null,
            "left": null
          }
        },
        "999861d2e60e4b9fbf32e881134043fa": {
          "model_module": "@jupyter-widgets/controls",
          "model_name": "FloatProgressModel",
          "state": {
            "_view_name": "ProgressView",
            "style": "IPY_MODEL_acf586bc32ea4eda8aadb1ce3298b8db",
            "_dom_classes": [],
            "description": "100%",
            "_model_name": "FloatProgressModel",
            "bar_style": "success",
            "max": 806,
            "_view_module": "@jupyter-widgets/controls",
            "_model_module_version": "1.5.0",
            "value": 806,
            "_view_count": null,
            "_view_module_version": "1.5.0",
            "orientation": "horizontal",
            "min": 0,
            "description_tooltip": null,
            "_model_module": "@jupyter-widgets/controls",
            "layout": "IPY_MODEL_e5719476431c49d4a9d738e444ed6063"
          }
        },
        "7ebca158ec9f4792a3852cce06abf277": {
          "model_module": "@jupyter-widgets/controls",
          "model_name": "HTMLModel",
          "state": {
            "_view_name": "HTMLView",
            "style": "IPY_MODEL_1ece9b6450264b2e946592c82addfd81",
            "_dom_classes": [],
            "description": "",
            "_model_name": "HTMLModel",
            "placeholder": "​",
            "_view_module": "@jupyter-widgets/controls",
            "_model_module_version": "1.5.0",
            "value": " 806/806 [04:57&lt;00:00,  2.71it/s]",
            "_view_count": null,
            "_view_module_version": "1.5.0",
            "description_tooltip": null,
            "_model_module": "@jupyter-widgets/controls",
            "layout": "IPY_MODEL_ce9090a0b46341ce9fe8568b847df4e2"
          }
        },
        "acf586bc32ea4eda8aadb1ce3298b8db": {
          "model_module": "@jupyter-widgets/controls",
          "model_name": "ProgressStyleModel",
          "state": {
            "_view_name": "StyleView",
            "_model_name": "ProgressStyleModel",
            "description_width": "initial",
            "_view_module": "@jupyter-widgets/base",
            "_model_module_version": "1.5.0",
            "_view_count": null,
            "_view_module_version": "1.2.0",
            "bar_color": null,
            "_model_module": "@jupyter-widgets/controls"
          }
        },
        "e5719476431c49d4a9d738e444ed6063": {
          "model_module": "@jupyter-widgets/base",
          "model_name": "LayoutModel",
          "state": {
            "_view_name": "LayoutView",
            "grid_template_rows": null,
            "right": null,
            "justify_content": null,
            "_view_module": "@jupyter-widgets/base",
            "overflow": null,
            "_model_module_version": "1.2.0",
            "_view_count": null,
            "flex_flow": null,
            "width": null,
            "min_width": null,
            "border": null,
            "align_items": null,
            "bottom": null,
            "_model_module": "@jupyter-widgets/base",
            "top": null,
            "grid_column": null,
            "overflow_y": null,
            "overflow_x": null,
            "grid_auto_flow": null,
            "grid_area": null,
            "grid_template_columns": null,
            "flex": null,
            "_model_name": "LayoutModel",
            "justify_items": null,
            "grid_row": null,
            "max_height": null,
            "align_content": null,
            "visibility": null,
            "align_self": null,
            "height": null,
            "min_height": null,
            "padding": null,
            "grid_auto_rows": null,
            "grid_gap": null,
            "max_width": null,
            "order": null,
            "_view_module_version": "1.2.0",
            "grid_template_areas": null,
            "object_position": null,
            "object_fit": null,
            "grid_auto_columns": null,
            "margin": null,
            "display": null,
            "left": null
          }
        },
        "1ece9b6450264b2e946592c82addfd81": {
          "model_module": "@jupyter-widgets/controls",
          "model_name": "DescriptionStyleModel",
          "state": {
            "_view_name": "StyleView",
            "_model_name": "DescriptionStyleModel",
            "description_width": "",
            "_view_module": "@jupyter-widgets/base",
            "_model_module_version": "1.5.0",
            "_view_count": null,
            "_view_module_version": "1.2.0",
            "_model_module": "@jupyter-widgets/controls"
          }
        },
        "ce9090a0b46341ce9fe8568b847df4e2": {
          "model_module": "@jupyter-widgets/base",
          "model_name": "LayoutModel",
          "state": {
            "_view_name": "LayoutView",
            "grid_template_rows": null,
            "right": null,
            "justify_content": null,
            "_view_module": "@jupyter-widgets/base",
            "overflow": null,
            "_model_module_version": "1.2.0",
            "_view_count": null,
            "flex_flow": null,
            "width": null,
            "min_width": null,
            "border": null,
            "align_items": null,
            "bottom": null,
            "_model_module": "@jupyter-widgets/base",
            "top": null,
            "grid_column": null,
            "overflow_y": null,
            "overflow_x": null,
            "grid_auto_flow": null,
            "grid_area": null,
            "grid_template_columns": null,
            "flex": null,
            "_model_name": "LayoutModel",
            "justify_items": null,
            "grid_row": null,
            "max_height": null,
            "align_content": null,
            "visibility": null,
            "align_self": null,
            "height": null,
            "min_height": null,
            "padding": null,
            "grid_auto_rows": null,
            "grid_gap": null,
            "max_width": null,
            "order": null,
            "_view_module_version": "1.2.0",
            "grid_template_areas": null,
            "object_position": null,
            "object_fit": null,
            "grid_auto_columns": null,
            "margin": null,
            "display": null,
            "left": null
          }
        },
        "55592157c13c4e0682a7c6b20debc0cb": {
          "model_module": "@jupyter-widgets/controls",
          "model_name": "HBoxModel",
          "state": {
            "_view_name": "HBoxView",
            "_dom_classes": [],
            "_model_name": "HBoxModel",
            "_view_module": "@jupyter-widgets/controls",
            "_model_module_version": "1.5.0",
            "_view_count": null,
            "_view_module_version": "1.5.0",
            "box_style": "",
            "layout": "IPY_MODEL_d1793b6835954de280693479d1cd3cb1",
            "_model_module": "@jupyter-widgets/controls",
            "children": [
              "IPY_MODEL_d4f3bd6862e148ec90c98543f916e2f8",
              "IPY_MODEL_69ed031614cb4fa28b34d46e64c02a92"
            ]
          }
        },
        "d1793b6835954de280693479d1cd3cb1": {
          "model_module": "@jupyter-widgets/base",
          "model_name": "LayoutModel",
          "state": {
            "_view_name": "LayoutView",
            "grid_template_rows": null,
            "right": null,
            "justify_content": null,
            "_view_module": "@jupyter-widgets/base",
            "overflow": null,
            "_model_module_version": "1.2.0",
            "_view_count": null,
            "flex_flow": null,
            "width": null,
            "min_width": null,
            "border": null,
            "align_items": null,
            "bottom": null,
            "_model_module": "@jupyter-widgets/base",
            "top": null,
            "grid_column": null,
            "overflow_y": null,
            "overflow_x": null,
            "grid_auto_flow": null,
            "grid_area": null,
            "grid_template_columns": null,
            "flex": null,
            "_model_name": "LayoutModel",
            "justify_items": null,
            "grid_row": null,
            "max_height": null,
            "align_content": null,
            "visibility": null,
            "align_self": null,
            "height": null,
            "min_height": null,
            "padding": null,
            "grid_auto_rows": null,
            "grid_gap": null,
            "max_width": null,
            "order": null,
            "_view_module_version": "1.2.0",
            "grid_template_areas": null,
            "object_position": null,
            "object_fit": null,
            "grid_auto_columns": null,
            "margin": null,
            "display": null,
            "left": null
          }
        },
        "d4f3bd6862e148ec90c98543f916e2f8": {
          "model_module": "@jupyter-widgets/controls",
          "model_name": "FloatProgressModel",
          "state": {
            "_view_name": "ProgressView",
            "style": "IPY_MODEL_31fbcd7312c1411b8ae9de87cb28ebb3",
            "_dom_classes": [],
            "description": "100%",
            "_model_name": "FloatProgressModel",
            "bar_style": "success",
            "max": 1536,
            "_view_module": "@jupyter-widgets/controls",
            "_model_module_version": "1.5.0",
            "value": 1536,
            "_view_count": null,
            "_view_module_version": "1.5.0",
            "orientation": "horizontal",
            "min": 0,
            "description_tooltip": null,
            "_model_module": "@jupyter-widgets/controls",
            "layout": "IPY_MODEL_9e16375f20a3439bb9e8513056d981f7"
          }
        },
        "69ed031614cb4fa28b34d46e64c02a92": {
          "model_module": "@jupyter-widgets/controls",
          "model_name": "HTMLModel",
          "state": {
            "_view_name": "HTMLView",
            "style": "IPY_MODEL_43f8aaff881f4936a65183d758180bdd",
            "_dom_classes": [],
            "description": "",
            "_model_name": "HTMLModel",
            "placeholder": "​",
            "_view_module": "@jupyter-widgets/controls",
            "_model_module_version": "1.5.0",
            "value": " 1536/1536 [14:32&lt;00:00,  1.76it/s]",
            "_view_count": null,
            "_view_module_version": "1.5.0",
            "description_tooltip": null,
            "_model_module": "@jupyter-widgets/controls",
            "layout": "IPY_MODEL_897bf913a1ab4f529aaf02ce4c0268d8"
          }
        },
        "31fbcd7312c1411b8ae9de87cb28ebb3": {
          "model_module": "@jupyter-widgets/controls",
          "model_name": "ProgressStyleModel",
          "state": {
            "_view_name": "StyleView",
            "_model_name": "ProgressStyleModel",
            "description_width": "initial",
            "_view_module": "@jupyter-widgets/base",
            "_model_module_version": "1.5.0",
            "_view_count": null,
            "_view_module_version": "1.2.0",
            "bar_color": null,
            "_model_module": "@jupyter-widgets/controls"
          }
        },
        "9e16375f20a3439bb9e8513056d981f7": {
          "model_module": "@jupyter-widgets/base",
          "model_name": "LayoutModel",
          "state": {
            "_view_name": "LayoutView",
            "grid_template_rows": null,
            "right": null,
            "justify_content": null,
            "_view_module": "@jupyter-widgets/base",
            "overflow": null,
            "_model_module_version": "1.2.0",
            "_view_count": null,
            "flex_flow": null,
            "width": null,
            "min_width": null,
            "border": null,
            "align_items": null,
            "bottom": null,
            "_model_module": "@jupyter-widgets/base",
            "top": null,
            "grid_column": null,
            "overflow_y": null,
            "overflow_x": null,
            "grid_auto_flow": null,
            "grid_area": null,
            "grid_template_columns": null,
            "flex": null,
            "_model_name": "LayoutModel",
            "justify_items": null,
            "grid_row": null,
            "max_height": null,
            "align_content": null,
            "visibility": null,
            "align_self": null,
            "height": null,
            "min_height": null,
            "padding": null,
            "grid_auto_rows": null,
            "grid_gap": null,
            "max_width": null,
            "order": null,
            "_view_module_version": "1.2.0",
            "grid_template_areas": null,
            "object_position": null,
            "object_fit": null,
            "grid_auto_columns": null,
            "margin": null,
            "display": null,
            "left": null
          }
        },
        "43f8aaff881f4936a65183d758180bdd": {
          "model_module": "@jupyter-widgets/controls",
          "model_name": "DescriptionStyleModel",
          "state": {
            "_view_name": "StyleView",
            "_model_name": "DescriptionStyleModel",
            "description_width": "",
            "_view_module": "@jupyter-widgets/base",
            "_model_module_version": "1.5.0",
            "_view_count": null,
            "_view_module_version": "1.2.0",
            "_model_module": "@jupyter-widgets/controls"
          }
        },
        "897bf913a1ab4f529aaf02ce4c0268d8": {
          "model_module": "@jupyter-widgets/base",
          "model_name": "LayoutModel",
          "state": {
            "_view_name": "LayoutView",
            "grid_template_rows": null,
            "right": null,
            "justify_content": null,
            "_view_module": "@jupyter-widgets/base",
            "overflow": null,
            "_model_module_version": "1.2.0",
            "_view_count": null,
            "flex_flow": null,
            "width": null,
            "min_width": null,
            "border": null,
            "align_items": null,
            "bottom": null,
            "_model_module": "@jupyter-widgets/base",
            "top": null,
            "grid_column": null,
            "overflow_y": null,
            "overflow_x": null,
            "grid_auto_flow": null,
            "grid_area": null,
            "grid_template_columns": null,
            "flex": null,
            "_model_name": "LayoutModel",
            "justify_items": null,
            "grid_row": null,
            "max_height": null,
            "align_content": null,
            "visibility": null,
            "align_self": null,
            "height": null,
            "min_height": null,
            "padding": null,
            "grid_auto_rows": null,
            "grid_gap": null,
            "max_width": null,
            "order": null,
            "_view_module_version": "1.2.0",
            "grid_template_areas": null,
            "object_position": null,
            "object_fit": null,
            "grid_auto_columns": null,
            "margin": null,
            "display": null,
            "left": null
          }
        },
        "7a84cde2714245de912704b9e46be044": {
          "model_module": "@jupyter-widgets/controls",
          "model_name": "HBoxModel",
          "state": {
            "_view_name": "HBoxView",
            "_dom_classes": [],
            "_model_name": "HBoxModel",
            "_view_module": "@jupyter-widgets/controls",
            "_model_module_version": "1.5.0",
            "_view_count": null,
            "_view_module_version": "1.5.0",
            "box_style": "",
            "layout": "IPY_MODEL_30b86d37351b4052bff49a8ddd65c25a",
            "_model_module": "@jupyter-widgets/controls",
            "children": [
              "IPY_MODEL_535e5f04b6274915ba1534532f4cff11",
              "IPY_MODEL_3249b48da78c4ea28e94d1e9b6477cd3"
            ]
          }
        },
        "30b86d37351b4052bff49a8ddd65c25a": {
          "model_module": "@jupyter-widgets/base",
          "model_name": "LayoutModel",
          "state": {
            "_view_name": "LayoutView",
            "grid_template_rows": null,
            "right": null,
            "justify_content": null,
            "_view_module": "@jupyter-widgets/base",
            "overflow": null,
            "_model_module_version": "1.2.0",
            "_view_count": null,
            "flex_flow": null,
            "width": null,
            "min_width": null,
            "border": null,
            "align_items": null,
            "bottom": null,
            "_model_module": "@jupyter-widgets/base",
            "top": null,
            "grid_column": null,
            "overflow_y": null,
            "overflow_x": null,
            "grid_auto_flow": null,
            "grid_area": null,
            "grid_template_columns": null,
            "flex": null,
            "_model_name": "LayoutModel",
            "justify_items": null,
            "grid_row": null,
            "max_height": null,
            "align_content": null,
            "visibility": null,
            "align_self": null,
            "height": null,
            "min_height": null,
            "padding": null,
            "grid_auto_rows": null,
            "grid_gap": null,
            "max_width": null,
            "order": null,
            "_view_module_version": "1.2.0",
            "grid_template_areas": null,
            "object_position": null,
            "object_fit": null,
            "grid_auto_columns": null,
            "margin": null,
            "display": null,
            "left": null
          }
        },
        "535e5f04b6274915ba1534532f4cff11": {
          "model_module": "@jupyter-widgets/controls",
          "model_name": "FloatProgressModel",
          "state": {
            "_view_name": "ProgressView",
            "style": "IPY_MODEL_c4dccc6c82c34fb0b3fddb2fde0fad42",
            "_dom_classes": [],
            "description": "100%",
            "_model_name": "FloatProgressModel",
            "bar_style": "success",
            "max": 349,
            "_view_module": "@jupyter-widgets/controls",
            "_model_module_version": "1.5.0",
            "value": 349,
            "_view_count": null,
            "_view_module_version": "1.5.0",
            "orientation": "horizontal",
            "min": 0,
            "description_tooltip": null,
            "_model_module": "@jupyter-widgets/controls",
            "layout": "IPY_MODEL_2e2325f2dfed4d74b21d02bec39c5e9b"
          }
        },
        "3249b48da78c4ea28e94d1e9b6477cd3": {
          "model_module": "@jupyter-widgets/controls",
          "model_name": "HTMLModel",
          "state": {
            "_view_name": "HTMLView",
            "style": "IPY_MODEL_85ca542c7cb24da994d0dce1da7aefa3",
            "_dom_classes": [],
            "description": "",
            "_model_name": "HTMLModel",
            "placeholder": "​",
            "_view_module": "@jupyter-widgets/controls",
            "_model_module_version": "1.5.0",
            "value": " 349/349 [05:36&lt;00:00,  1.04it/s]",
            "_view_count": null,
            "_view_module_version": "1.5.0",
            "description_tooltip": null,
            "_model_module": "@jupyter-widgets/controls",
            "layout": "IPY_MODEL_6172716a0681400f964d9519a84a1a0d"
          }
        },
        "c4dccc6c82c34fb0b3fddb2fde0fad42": {
          "model_module": "@jupyter-widgets/controls",
          "model_name": "ProgressStyleModel",
          "state": {
            "_view_name": "StyleView",
            "_model_name": "ProgressStyleModel",
            "description_width": "initial",
            "_view_module": "@jupyter-widgets/base",
            "_model_module_version": "1.5.0",
            "_view_count": null,
            "_view_module_version": "1.2.0",
            "bar_color": null,
            "_model_module": "@jupyter-widgets/controls"
          }
        },
        "2e2325f2dfed4d74b21d02bec39c5e9b": {
          "model_module": "@jupyter-widgets/base",
          "model_name": "LayoutModel",
          "state": {
            "_view_name": "LayoutView",
            "grid_template_rows": null,
            "right": null,
            "justify_content": null,
            "_view_module": "@jupyter-widgets/base",
            "overflow": null,
            "_model_module_version": "1.2.0",
            "_view_count": null,
            "flex_flow": null,
            "width": null,
            "min_width": null,
            "border": null,
            "align_items": null,
            "bottom": null,
            "_model_module": "@jupyter-widgets/base",
            "top": null,
            "grid_column": null,
            "overflow_y": null,
            "overflow_x": null,
            "grid_auto_flow": null,
            "grid_area": null,
            "grid_template_columns": null,
            "flex": null,
            "_model_name": "LayoutModel",
            "justify_items": null,
            "grid_row": null,
            "max_height": null,
            "align_content": null,
            "visibility": null,
            "align_self": null,
            "height": null,
            "min_height": null,
            "padding": null,
            "grid_auto_rows": null,
            "grid_gap": null,
            "max_width": null,
            "order": null,
            "_view_module_version": "1.2.0",
            "grid_template_areas": null,
            "object_position": null,
            "object_fit": null,
            "grid_auto_columns": null,
            "margin": null,
            "display": null,
            "left": null
          }
        },
        "85ca542c7cb24da994d0dce1da7aefa3": {
          "model_module": "@jupyter-widgets/controls",
          "model_name": "DescriptionStyleModel",
          "state": {
            "_view_name": "StyleView",
            "_model_name": "DescriptionStyleModel",
            "description_width": "",
            "_view_module": "@jupyter-widgets/base",
            "_model_module_version": "1.5.0",
            "_view_count": null,
            "_view_module_version": "1.2.0",
            "_model_module": "@jupyter-widgets/controls"
          }
        },
        "6172716a0681400f964d9519a84a1a0d": {
          "model_module": "@jupyter-widgets/base",
          "model_name": "LayoutModel",
          "state": {
            "_view_name": "LayoutView",
            "grid_template_rows": null,
            "right": null,
            "justify_content": null,
            "_view_module": "@jupyter-widgets/base",
            "overflow": null,
            "_model_module_version": "1.2.0",
            "_view_count": null,
            "flex_flow": null,
            "width": null,
            "min_width": null,
            "border": null,
            "align_items": null,
            "bottom": null,
            "_model_module": "@jupyter-widgets/base",
            "top": null,
            "grid_column": null,
            "overflow_y": null,
            "overflow_x": null,
            "grid_auto_flow": null,
            "grid_area": null,
            "grid_template_columns": null,
            "flex": null,
            "_model_name": "LayoutModel",
            "justify_items": null,
            "grid_row": null,
            "max_height": null,
            "align_content": null,
            "visibility": null,
            "align_self": null,
            "height": null,
            "min_height": null,
            "padding": null,
            "grid_auto_rows": null,
            "grid_gap": null,
            "max_width": null,
            "order": null,
            "_view_module_version": "1.2.0",
            "grid_template_areas": null,
            "object_position": null,
            "object_fit": null,
            "grid_auto_columns": null,
            "margin": null,
            "display": null,
            "left": null
          }
        },
        "5bc5d41b3ab54fd483f2f9f0f901e937": {
          "model_module": "@jupyter-widgets/controls",
          "model_name": "HBoxModel",
          "state": {
            "_view_name": "HBoxView",
            "_dom_classes": [],
            "_model_name": "HBoxModel",
            "_view_module": "@jupyter-widgets/controls",
            "_model_module_version": "1.5.0",
            "_view_count": null,
            "_view_module_version": "1.5.0",
            "box_style": "",
            "layout": "IPY_MODEL_6e699c550cd84a5ebeb846bac63d483a",
            "_model_module": "@jupyter-widgets/controls",
            "children": [
              "IPY_MODEL_25c6121ffa494c50af00d1c771e75de5",
              "IPY_MODEL_eeb3e050daf7459c9ccace744e4a30dd"
            ]
          }
        },
        "6e699c550cd84a5ebeb846bac63d483a": {
          "model_module": "@jupyter-widgets/base",
          "model_name": "LayoutModel",
          "state": {
            "_view_name": "LayoutView",
            "grid_template_rows": null,
            "right": null,
            "justify_content": null,
            "_view_module": "@jupyter-widgets/base",
            "overflow": null,
            "_model_module_version": "1.2.0",
            "_view_count": null,
            "flex_flow": null,
            "width": null,
            "min_width": null,
            "border": null,
            "align_items": null,
            "bottom": null,
            "_model_module": "@jupyter-widgets/base",
            "top": null,
            "grid_column": null,
            "overflow_y": null,
            "overflow_x": null,
            "grid_auto_flow": null,
            "grid_area": null,
            "grid_template_columns": null,
            "flex": null,
            "_model_name": "LayoutModel",
            "justify_items": null,
            "grid_row": null,
            "max_height": null,
            "align_content": null,
            "visibility": null,
            "align_self": null,
            "height": null,
            "min_height": null,
            "padding": null,
            "grid_auto_rows": null,
            "grid_gap": null,
            "max_width": null,
            "order": null,
            "_view_module_version": "1.2.0",
            "grid_template_areas": null,
            "object_position": null,
            "object_fit": null,
            "grid_auto_columns": null,
            "margin": null,
            "display": null,
            "left": null
          }
        },
        "25c6121ffa494c50af00d1c771e75de5": {
          "model_module": "@jupyter-widgets/controls",
          "model_name": "FloatProgressModel",
          "state": {
            "_view_name": "ProgressView",
            "style": "IPY_MODEL_741f8eec63134d93b59a4b79dcf34ad5",
            "_dom_classes": [],
            "description": "100%",
            "_model_name": "FloatProgressModel",
            "bar_style": "success",
            "max": 643,
            "_view_module": "@jupyter-widgets/controls",
            "_model_module_version": "1.5.0",
            "value": 643,
            "_view_count": null,
            "_view_module_version": "1.5.0",
            "orientation": "horizontal",
            "min": 0,
            "description_tooltip": null,
            "_model_module": "@jupyter-widgets/controls",
            "layout": "IPY_MODEL_70e2e75788774f14a90e411116200631"
          }
        },
        "eeb3e050daf7459c9ccace744e4a30dd": {
          "model_module": "@jupyter-widgets/controls",
          "model_name": "HTMLModel",
          "state": {
            "_view_name": "HTMLView",
            "style": "IPY_MODEL_67e0a78b72c64699a515f6bf5b94aa36",
            "_dom_classes": [],
            "description": "",
            "_model_name": "HTMLModel",
            "placeholder": "​",
            "_view_module": "@jupyter-widgets/controls",
            "_model_module_version": "1.5.0",
            "value": " 643/643 [11:52&lt;00:00,  1.11s/it]",
            "_view_count": null,
            "_view_module_version": "1.5.0",
            "description_tooltip": null,
            "_model_module": "@jupyter-widgets/controls",
            "layout": "IPY_MODEL_6d4f64bb17ab4d7aa2415c3cb826eed7"
          }
        },
        "741f8eec63134d93b59a4b79dcf34ad5": {
          "model_module": "@jupyter-widgets/controls",
          "model_name": "ProgressStyleModel",
          "state": {
            "_view_name": "StyleView",
            "_model_name": "ProgressStyleModel",
            "description_width": "initial",
            "_view_module": "@jupyter-widgets/base",
            "_model_module_version": "1.5.0",
            "_view_count": null,
            "_view_module_version": "1.2.0",
            "bar_color": null,
            "_model_module": "@jupyter-widgets/controls"
          }
        },
        "70e2e75788774f14a90e411116200631": {
          "model_module": "@jupyter-widgets/base",
          "model_name": "LayoutModel",
          "state": {
            "_view_name": "LayoutView",
            "grid_template_rows": null,
            "right": null,
            "justify_content": null,
            "_view_module": "@jupyter-widgets/base",
            "overflow": null,
            "_model_module_version": "1.2.0",
            "_view_count": null,
            "flex_flow": null,
            "width": null,
            "min_width": null,
            "border": null,
            "align_items": null,
            "bottom": null,
            "_model_module": "@jupyter-widgets/base",
            "top": null,
            "grid_column": null,
            "overflow_y": null,
            "overflow_x": null,
            "grid_auto_flow": null,
            "grid_area": null,
            "grid_template_columns": null,
            "flex": null,
            "_model_name": "LayoutModel",
            "justify_items": null,
            "grid_row": null,
            "max_height": null,
            "align_content": null,
            "visibility": null,
            "align_self": null,
            "height": null,
            "min_height": null,
            "padding": null,
            "grid_auto_rows": null,
            "grid_gap": null,
            "max_width": null,
            "order": null,
            "_view_module_version": "1.2.0",
            "grid_template_areas": null,
            "object_position": null,
            "object_fit": null,
            "grid_auto_columns": null,
            "margin": null,
            "display": null,
            "left": null
          }
        },
        "67e0a78b72c64699a515f6bf5b94aa36": {
          "model_module": "@jupyter-widgets/controls",
          "model_name": "DescriptionStyleModel",
          "state": {
            "_view_name": "StyleView",
            "_model_name": "DescriptionStyleModel",
            "description_width": "",
            "_view_module": "@jupyter-widgets/base",
            "_model_module_version": "1.5.0",
            "_view_count": null,
            "_view_module_version": "1.2.0",
            "_model_module": "@jupyter-widgets/controls"
          }
        },
        "6d4f64bb17ab4d7aa2415c3cb826eed7": {
          "model_module": "@jupyter-widgets/base",
          "model_name": "LayoutModel",
          "state": {
            "_view_name": "LayoutView",
            "grid_template_rows": null,
            "right": null,
            "justify_content": null,
            "_view_module": "@jupyter-widgets/base",
            "overflow": null,
            "_model_module_version": "1.2.0",
            "_view_count": null,
            "flex_flow": null,
            "width": null,
            "min_width": null,
            "border": null,
            "align_items": null,
            "bottom": null,
            "_model_module": "@jupyter-widgets/base",
            "top": null,
            "grid_column": null,
            "overflow_y": null,
            "overflow_x": null,
            "grid_auto_flow": null,
            "grid_area": null,
            "grid_template_columns": null,
            "flex": null,
            "_model_name": "LayoutModel",
            "justify_items": null,
            "grid_row": null,
            "max_height": null,
            "align_content": null,
            "visibility": null,
            "align_self": null,
            "height": null,
            "min_height": null,
            "padding": null,
            "grid_auto_rows": null,
            "grid_gap": null,
            "max_width": null,
            "order": null,
            "_view_module_version": "1.2.0",
            "grid_template_areas": null,
            "object_position": null,
            "object_fit": null,
            "grid_auto_columns": null,
            "margin": null,
            "display": null,
            "left": null
          }
        },
        "a5efc47c300544b1888baf5d06a7b929": {
          "model_module": "@jupyter-widgets/controls",
          "model_name": "HBoxModel",
          "state": {
            "_view_name": "HBoxView",
            "_dom_classes": [],
            "_model_name": "HBoxModel",
            "_view_module": "@jupyter-widgets/controls",
            "_model_module_version": "1.5.0",
            "_view_count": null,
            "_view_module_version": "1.5.0",
            "box_style": "",
            "layout": "IPY_MODEL_9c20d574f86e4119b0df9f400a08c767",
            "_model_module": "@jupyter-widgets/controls",
            "children": [
              "IPY_MODEL_f487e40a892a47cc83513eb096afd735",
              "IPY_MODEL_ae175c3d4c514fe2b4741e389d6e5e6c"
            ]
          }
        },
        "9c20d574f86e4119b0df9f400a08c767": {
          "model_module": "@jupyter-widgets/base",
          "model_name": "LayoutModel",
          "state": {
            "_view_name": "LayoutView",
            "grid_template_rows": null,
            "right": null,
            "justify_content": null,
            "_view_module": "@jupyter-widgets/base",
            "overflow": null,
            "_model_module_version": "1.2.0",
            "_view_count": null,
            "flex_flow": null,
            "width": null,
            "min_width": null,
            "border": null,
            "align_items": null,
            "bottom": null,
            "_model_module": "@jupyter-widgets/base",
            "top": null,
            "grid_column": null,
            "overflow_y": null,
            "overflow_x": null,
            "grid_auto_flow": null,
            "grid_area": null,
            "grid_template_columns": null,
            "flex": null,
            "_model_name": "LayoutModel",
            "justify_items": null,
            "grid_row": null,
            "max_height": null,
            "align_content": null,
            "visibility": null,
            "align_self": null,
            "height": null,
            "min_height": null,
            "padding": null,
            "grid_auto_rows": null,
            "grid_gap": null,
            "max_width": null,
            "order": null,
            "_view_module_version": "1.2.0",
            "grid_template_areas": null,
            "object_position": null,
            "object_fit": null,
            "grid_auto_columns": null,
            "margin": null,
            "display": null,
            "left": null
          }
        },
        "f487e40a892a47cc83513eb096afd735": {
          "model_module": "@jupyter-widgets/controls",
          "model_name": "FloatProgressModel",
          "state": {
            "_view_name": "ProgressView",
            "style": "IPY_MODEL_ba94fdf1837c48fdbd19121438b42fc0",
            "_dom_classes": [],
            "description": "100%",
            "_model_name": "FloatProgressModel",
            "bar_style": "success",
            "max": 163,
            "_view_module": "@jupyter-widgets/controls",
            "_model_module_version": "1.5.0",
            "value": 163,
            "_view_count": null,
            "_view_module_version": "1.5.0",
            "orientation": "horizontal",
            "min": 0,
            "description_tooltip": null,
            "_model_module": "@jupyter-widgets/controls",
            "layout": "IPY_MODEL_6f73b76e473f40c1a59dcef7ecf7c685"
          }
        },
        "ae175c3d4c514fe2b4741e389d6e5e6c": {
          "model_module": "@jupyter-widgets/controls",
          "model_name": "HTMLModel",
          "state": {
            "_view_name": "HTMLView",
            "style": "IPY_MODEL_9b9aa403c837499086ba986b660076bb",
            "_dom_classes": [],
            "description": "",
            "_model_name": "HTMLModel",
            "placeholder": "​",
            "_view_module": "@jupyter-widgets/controls",
            "_model_module_version": "1.5.0",
            "value": " 163/163 [08:07&lt;00:00,  2.99s/it]",
            "_view_count": null,
            "_view_module_version": "1.5.0",
            "description_tooltip": null,
            "_model_module": "@jupyter-widgets/controls",
            "layout": "IPY_MODEL_f94d469c4cdf4e28887a4743c56afc01"
          }
        },
        "ba94fdf1837c48fdbd19121438b42fc0": {
          "model_module": "@jupyter-widgets/controls",
          "model_name": "ProgressStyleModel",
          "state": {
            "_view_name": "StyleView",
            "_model_name": "ProgressStyleModel",
            "description_width": "initial",
            "_view_module": "@jupyter-widgets/base",
            "_model_module_version": "1.5.0",
            "_view_count": null,
            "_view_module_version": "1.2.0",
            "bar_color": null,
            "_model_module": "@jupyter-widgets/controls"
          }
        },
        "6f73b76e473f40c1a59dcef7ecf7c685": {
          "model_module": "@jupyter-widgets/base",
          "model_name": "LayoutModel",
          "state": {
            "_view_name": "LayoutView",
            "grid_template_rows": null,
            "right": null,
            "justify_content": null,
            "_view_module": "@jupyter-widgets/base",
            "overflow": null,
            "_model_module_version": "1.2.0",
            "_view_count": null,
            "flex_flow": null,
            "width": null,
            "min_width": null,
            "border": null,
            "align_items": null,
            "bottom": null,
            "_model_module": "@jupyter-widgets/base",
            "top": null,
            "grid_column": null,
            "overflow_y": null,
            "overflow_x": null,
            "grid_auto_flow": null,
            "grid_area": null,
            "grid_template_columns": null,
            "flex": null,
            "_model_name": "LayoutModel",
            "justify_items": null,
            "grid_row": null,
            "max_height": null,
            "align_content": null,
            "visibility": null,
            "align_self": null,
            "height": null,
            "min_height": null,
            "padding": null,
            "grid_auto_rows": null,
            "grid_gap": null,
            "max_width": null,
            "order": null,
            "_view_module_version": "1.2.0",
            "grid_template_areas": null,
            "object_position": null,
            "object_fit": null,
            "grid_auto_columns": null,
            "margin": null,
            "display": null,
            "left": null
          }
        },
        "9b9aa403c837499086ba986b660076bb": {
          "model_module": "@jupyter-widgets/controls",
          "model_name": "DescriptionStyleModel",
          "state": {
            "_view_name": "StyleView",
            "_model_name": "DescriptionStyleModel",
            "description_width": "",
            "_view_module": "@jupyter-widgets/base",
            "_model_module_version": "1.5.0",
            "_view_count": null,
            "_view_module_version": "1.2.0",
            "_model_module": "@jupyter-widgets/controls"
          }
        },
        "f94d469c4cdf4e28887a4743c56afc01": {
          "model_module": "@jupyter-widgets/base",
          "model_name": "LayoutModel",
          "state": {
            "_view_name": "LayoutView",
            "grid_template_rows": null,
            "right": null,
            "justify_content": null,
            "_view_module": "@jupyter-widgets/base",
            "overflow": null,
            "_model_module_version": "1.2.0",
            "_view_count": null,
            "flex_flow": null,
            "width": null,
            "min_width": null,
            "border": null,
            "align_items": null,
            "bottom": null,
            "_model_module": "@jupyter-widgets/base",
            "top": null,
            "grid_column": null,
            "overflow_y": null,
            "overflow_x": null,
            "grid_auto_flow": null,
            "grid_area": null,
            "grid_template_columns": null,
            "flex": null,
            "_model_name": "LayoutModel",
            "justify_items": null,
            "grid_row": null,
            "max_height": null,
            "align_content": null,
            "visibility": null,
            "align_self": null,
            "height": null,
            "min_height": null,
            "padding": null,
            "grid_auto_rows": null,
            "grid_gap": null,
            "max_width": null,
            "order": null,
            "_view_module_version": "1.2.0",
            "grid_template_areas": null,
            "object_position": null,
            "object_fit": null,
            "grid_auto_columns": null,
            "margin": null,
            "display": null,
            "left": null
          }
        },
        "7ffa1ff84efb414d82938f01de221ffe": {
          "model_module": "@jupyter-widgets/controls",
          "model_name": "HBoxModel",
          "state": {
            "_view_name": "HBoxView",
            "_dom_classes": [],
            "_model_name": "HBoxModel",
            "_view_module": "@jupyter-widgets/controls",
            "_model_module_version": "1.5.0",
            "_view_count": null,
            "_view_module_version": "1.5.0",
            "box_style": "",
            "layout": "IPY_MODEL_a2e9ba7cbe27461c9c2f3a5bb37ca7bd",
            "_model_module": "@jupyter-widgets/controls",
            "children": [
              "IPY_MODEL_af53e694d8e24b8aaad10f65f5488533",
              "IPY_MODEL_1a5a28a6b27a4b6bb66cc7fa8f2bcdda"
            ]
          }
        },
        "a2e9ba7cbe27461c9c2f3a5bb37ca7bd": {
          "model_module": "@jupyter-widgets/base",
          "model_name": "LayoutModel",
          "state": {
            "_view_name": "LayoutView",
            "grid_template_rows": null,
            "right": null,
            "justify_content": null,
            "_view_module": "@jupyter-widgets/base",
            "overflow": null,
            "_model_module_version": "1.2.0",
            "_view_count": null,
            "flex_flow": null,
            "width": null,
            "min_width": null,
            "border": null,
            "align_items": null,
            "bottom": null,
            "_model_module": "@jupyter-widgets/base",
            "top": null,
            "grid_column": null,
            "overflow_y": null,
            "overflow_x": null,
            "grid_auto_flow": null,
            "grid_area": null,
            "grid_template_columns": null,
            "flex": null,
            "_model_name": "LayoutModel",
            "justify_items": null,
            "grid_row": null,
            "max_height": null,
            "align_content": null,
            "visibility": null,
            "align_self": null,
            "height": null,
            "min_height": null,
            "padding": null,
            "grid_auto_rows": null,
            "grid_gap": null,
            "max_width": null,
            "order": null,
            "_view_module_version": "1.2.0",
            "grid_template_areas": null,
            "object_position": null,
            "object_fit": null,
            "grid_auto_columns": null,
            "margin": null,
            "display": null,
            "left": null
          }
        },
        "af53e694d8e24b8aaad10f65f5488533": {
          "model_module": "@jupyter-widgets/controls",
          "model_name": "FloatProgressModel",
          "state": {
            "_view_name": "ProgressView",
            "style": "IPY_MODEL_39b6fce986ed4a5fb5d64cb30c06eb76",
            "_dom_classes": [],
            "description": "100%",
            "_model_name": "FloatProgressModel",
            "bar_style": "success",
            "max": 893,
            "_view_module": "@jupyter-widgets/controls",
            "_model_module_version": "1.5.0",
            "value": 893,
            "_view_count": null,
            "_view_module_version": "1.5.0",
            "orientation": "horizontal",
            "min": 0,
            "description_tooltip": null,
            "_model_module": "@jupyter-widgets/controls",
            "layout": "IPY_MODEL_110479187a7b4f9b9110dafac750e380"
          }
        },
        "1a5a28a6b27a4b6bb66cc7fa8f2bcdda": {
          "model_module": "@jupyter-widgets/controls",
          "model_name": "HTMLModel",
          "state": {
            "_view_name": "HTMLView",
            "style": "IPY_MODEL_627b99bf0d604592bf9c61b20c846f55",
            "_dom_classes": [],
            "description": "",
            "_model_name": "HTMLModel",
            "placeholder": "​",
            "_view_module": "@jupyter-widgets/controls",
            "_model_module_version": "1.5.0",
            "value": " 893/893 [1:08:29&lt;00:00,  4.60s/it]",
            "_view_count": null,
            "_view_module_version": "1.5.0",
            "description_tooltip": null,
            "_model_module": "@jupyter-widgets/controls",
            "layout": "IPY_MODEL_94ad4c43cb814b1d8c4cf2541aa7faab"
          }
        },
        "39b6fce986ed4a5fb5d64cb30c06eb76": {
          "model_module": "@jupyter-widgets/controls",
          "model_name": "ProgressStyleModel",
          "state": {
            "_view_name": "StyleView",
            "_model_name": "ProgressStyleModel",
            "description_width": "initial",
            "_view_module": "@jupyter-widgets/base",
            "_model_module_version": "1.5.0",
            "_view_count": null,
            "_view_module_version": "1.2.0",
            "bar_color": null,
            "_model_module": "@jupyter-widgets/controls"
          }
        },
        "110479187a7b4f9b9110dafac750e380": {
          "model_module": "@jupyter-widgets/base",
          "model_name": "LayoutModel",
          "state": {
            "_view_name": "LayoutView",
            "grid_template_rows": null,
            "right": null,
            "justify_content": null,
            "_view_module": "@jupyter-widgets/base",
            "overflow": null,
            "_model_module_version": "1.2.0",
            "_view_count": null,
            "flex_flow": null,
            "width": null,
            "min_width": null,
            "border": null,
            "align_items": null,
            "bottom": null,
            "_model_module": "@jupyter-widgets/base",
            "top": null,
            "grid_column": null,
            "overflow_y": null,
            "overflow_x": null,
            "grid_auto_flow": null,
            "grid_area": null,
            "grid_template_columns": null,
            "flex": null,
            "_model_name": "LayoutModel",
            "justify_items": null,
            "grid_row": null,
            "max_height": null,
            "align_content": null,
            "visibility": null,
            "align_self": null,
            "height": null,
            "min_height": null,
            "padding": null,
            "grid_auto_rows": null,
            "grid_gap": null,
            "max_width": null,
            "order": null,
            "_view_module_version": "1.2.0",
            "grid_template_areas": null,
            "object_position": null,
            "object_fit": null,
            "grid_auto_columns": null,
            "margin": null,
            "display": null,
            "left": null
          }
        },
        "627b99bf0d604592bf9c61b20c846f55": {
          "model_module": "@jupyter-widgets/controls",
          "model_name": "DescriptionStyleModel",
          "state": {
            "_view_name": "StyleView",
            "_model_name": "DescriptionStyleModel",
            "description_width": "",
            "_view_module": "@jupyter-widgets/base",
            "_model_module_version": "1.5.0",
            "_view_count": null,
            "_view_module_version": "1.2.0",
            "_model_module": "@jupyter-widgets/controls"
          }
        },
        "94ad4c43cb814b1d8c4cf2541aa7faab": {
          "model_module": "@jupyter-widgets/base",
          "model_name": "LayoutModel",
          "state": {
            "_view_name": "LayoutView",
            "grid_template_rows": null,
            "right": null,
            "justify_content": null,
            "_view_module": "@jupyter-widgets/base",
            "overflow": null,
            "_model_module_version": "1.2.0",
            "_view_count": null,
            "flex_flow": null,
            "width": null,
            "min_width": null,
            "border": null,
            "align_items": null,
            "bottom": null,
            "_model_module": "@jupyter-widgets/base",
            "top": null,
            "grid_column": null,
            "overflow_y": null,
            "overflow_x": null,
            "grid_auto_flow": null,
            "grid_area": null,
            "grid_template_columns": null,
            "flex": null,
            "_model_name": "LayoutModel",
            "justify_items": null,
            "grid_row": null,
            "max_height": null,
            "align_content": null,
            "visibility": null,
            "align_self": null,
            "height": null,
            "min_height": null,
            "padding": null,
            "grid_auto_rows": null,
            "grid_gap": null,
            "max_width": null,
            "order": null,
            "_view_module_version": "1.2.0",
            "grid_template_areas": null,
            "object_position": null,
            "object_fit": null,
            "grid_auto_columns": null,
            "margin": null,
            "display": null,
            "left": null
          }
        },
        "abb632715cee4d5aa1d7c39292ba16cf": {
          "model_module": "@jupyter-widgets/controls",
          "model_name": "HBoxModel",
          "state": {
            "_view_name": "HBoxView",
            "_dom_classes": [],
            "_model_name": "HBoxModel",
            "_view_module": "@jupyter-widgets/controls",
            "_model_module_version": "1.5.0",
            "_view_count": null,
            "_view_module_version": "1.5.0",
            "box_style": "",
            "layout": "IPY_MODEL_6470f86c63c64ce7b3199087e0335d48",
            "_model_module": "@jupyter-widgets/controls",
            "children": [
              "IPY_MODEL_fa6829f101fd4c15ad57738943ebcef4",
              "IPY_MODEL_529b2a44cd794e8ea2666f12f3adb141"
            ]
          }
        },
        "6470f86c63c64ce7b3199087e0335d48": {
          "model_module": "@jupyter-widgets/base",
          "model_name": "LayoutModel",
          "state": {
            "_view_name": "LayoutView",
            "grid_template_rows": null,
            "right": null,
            "justify_content": null,
            "_view_module": "@jupyter-widgets/base",
            "overflow": null,
            "_model_module_version": "1.2.0",
            "_view_count": null,
            "flex_flow": null,
            "width": null,
            "min_width": null,
            "border": null,
            "align_items": null,
            "bottom": null,
            "_model_module": "@jupyter-widgets/base",
            "top": null,
            "grid_column": null,
            "overflow_y": null,
            "overflow_x": null,
            "grid_auto_flow": null,
            "grid_area": null,
            "grid_template_columns": null,
            "flex": null,
            "_model_name": "LayoutModel",
            "justify_items": null,
            "grid_row": null,
            "max_height": null,
            "align_content": null,
            "visibility": null,
            "align_self": null,
            "height": null,
            "min_height": null,
            "padding": null,
            "grid_auto_rows": null,
            "grid_gap": null,
            "max_width": null,
            "order": null,
            "_view_module_version": "1.2.0",
            "grid_template_areas": null,
            "object_position": null,
            "object_fit": null,
            "grid_auto_columns": null,
            "margin": null,
            "display": null,
            "left": null
          }
        },
        "fa6829f101fd4c15ad57738943ebcef4": {
          "model_module": "@jupyter-widgets/controls",
          "model_name": "FloatProgressModel",
          "state": {
            "_view_name": "ProgressView",
            "style": "IPY_MODEL_8a8915df9a864a17bd79c7f849a98af0",
            "_dom_classes": [],
            "description": "100%",
            "_model_name": "FloatProgressModel",
            "bar_style": "success",
            "max": 186,
            "_view_module": "@jupyter-widgets/controls",
            "_model_module_version": "1.5.0",
            "value": 186,
            "_view_count": null,
            "_view_module_version": "1.5.0",
            "orientation": "horizontal",
            "min": 0,
            "description_tooltip": null,
            "_model_module": "@jupyter-widgets/controls",
            "layout": "IPY_MODEL_35a853ddb18c4a6ebc9c860f62f5a8e3"
          }
        },
        "529b2a44cd794e8ea2666f12f3adb141": {
          "model_module": "@jupyter-widgets/controls",
          "model_name": "HTMLModel",
          "state": {
            "_view_name": "HTMLView",
            "style": "IPY_MODEL_71003c08608545aabc62a5d83a1731f1",
            "_dom_classes": [],
            "description": "",
            "_model_name": "HTMLModel",
            "placeholder": "​",
            "_view_module": "@jupyter-widgets/controls",
            "_model_module_version": "1.5.0",
            "value": " 186/186 [1:03:18&lt;00:00, 20.42s/it]",
            "_view_count": null,
            "_view_module_version": "1.5.0",
            "description_tooltip": null,
            "_model_module": "@jupyter-widgets/controls",
            "layout": "IPY_MODEL_20289379ec7d4f53b2d730be763c9b15"
          }
        },
        "8a8915df9a864a17bd79c7f849a98af0": {
          "model_module": "@jupyter-widgets/controls",
          "model_name": "ProgressStyleModel",
          "state": {
            "_view_name": "StyleView",
            "_model_name": "ProgressStyleModel",
            "description_width": "initial",
            "_view_module": "@jupyter-widgets/base",
            "_model_module_version": "1.5.0",
            "_view_count": null,
            "_view_module_version": "1.2.0",
            "bar_color": null,
            "_model_module": "@jupyter-widgets/controls"
          }
        },
        "35a853ddb18c4a6ebc9c860f62f5a8e3": {
          "model_module": "@jupyter-widgets/base",
          "model_name": "LayoutModel",
          "state": {
            "_view_name": "LayoutView",
            "grid_template_rows": null,
            "right": null,
            "justify_content": null,
            "_view_module": "@jupyter-widgets/base",
            "overflow": null,
            "_model_module_version": "1.2.0",
            "_view_count": null,
            "flex_flow": null,
            "width": null,
            "min_width": null,
            "border": null,
            "align_items": null,
            "bottom": null,
            "_model_module": "@jupyter-widgets/base",
            "top": null,
            "grid_column": null,
            "overflow_y": null,
            "overflow_x": null,
            "grid_auto_flow": null,
            "grid_area": null,
            "grid_template_columns": null,
            "flex": null,
            "_model_name": "LayoutModel",
            "justify_items": null,
            "grid_row": null,
            "max_height": null,
            "align_content": null,
            "visibility": null,
            "align_self": null,
            "height": null,
            "min_height": null,
            "padding": null,
            "grid_auto_rows": null,
            "grid_gap": null,
            "max_width": null,
            "order": null,
            "_view_module_version": "1.2.0",
            "grid_template_areas": null,
            "object_position": null,
            "object_fit": null,
            "grid_auto_columns": null,
            "margin": null,
            "display": null,
            "left": null
          }
        },
        "71003c08608545aabc62a5d83a1731f1": {
          "model_module": "@jupyter-widgets/controls",
          "model_name": "DescriptionStyleModel",
          "state": {
            "_view_name": "StyleView",
            "_model_name": "DescriptionStyleModel",
            "description_width": "",
            "_view_module": "@jupyter-widgets/base",
            "_model_module_version": "1.5.0",
            "_view_count": null,
            "_view_module_version": "1.2.0",
            "_model_module": "@jupyter-widgets/controls"
          }
        },
        "20289379ec7d4f53b2d730be763c9b15": {
          "model_module": "@jupyter-widgets/base",
          "model_name": "LayoutModel",
          "state": {
            "_view_name": "LayoutView",
            "grid_template_rows": null,
            "right": null,
            "justify_content": null,
            "_view_module": "@jupyter-widgets/base",
            "overflow": null,
            "_model_module_version": "1.2.0",
            "_view_count": null,
            "flex_flow": null,
            "width": null,
            "min_width": null,
            "border": null,
            "align_items": null,
            "bottom": null,
            "_model_module": "@jupyter-widgets/base",
            "top": null,
            "grid_column": null,
            "overflow_y": null,
            "overflow_x": null,
            "grid_auto_flow": null,
            "grid_area": null,
            "grid_template_columns": null,
            "flex": null,
            "_model_name": "LayoutModel",
            "justify_items": null,
            "grid_row": null,
            "max_height": null,
            "align_content": null,
            "visibility": null,
            "align_self": null,
            "height": null,
            "min_height": null,
            "padding": null,
            "grid_auto_rows": null,
            "grid_gap": null,
            "max_width": null,
            "order": null,
            "_view_module_version": "1.2.0",
            "grid_template_areas": null,
            "object_position": null,
            "object_fit": null,
            "grid_auto_columns": null,
            "margin": null,
            "display": null,
            "left": null
          }
        }
      }
    }
  },
  "cells": [
    {
      "cell_type": "markdown",
      "metadata": {
        "id": "view-in-github",
        "colab_type": "text"
      },
      "source": [
        "<a href=\"https://colab.research.google.com/github/alinaalborova/russian_idioms_processing/blob/main/MICE_ruBERT.ipynb\" target=\"_parent\"><img src=\"https://colab.research.google.com/assets/colab-badge.svg\" alt=\"Open In Colab\"/></a>"
      ]
    },
    {
      "cell_type": "markdown",
      "metadata": {
        "id": "_n5x1wCqtCTH"
      },
      "source": [
        "# Idiom Type and Token Classification\n",
        "\n",
        "Based on [MICE: Mining Idioms with Contextual Embeddings](https://arxiv.org/pdf/2008.05759.pdf) by  Škvorc et al.\n"
      ]
    },
    {
      "cell_type": "code",
      "metadata": {
        "colab": {
          "base_uri": "https://localhost:8080/"
        },
        "id": "SIpMYL-jCvaf",
        "outputId": "9e6cf6cb-429b-4fbf-b64c-5e56d3e9656f"
      },
      "source": [
        "!pip install transformers\n",
        "!pip install tensor2tensor"
      ],
      "execution_count": null,
      "outputs": [
        {
          "output_type": "stream",
          "text": [
            "Collecting transformers\n",
            "\u001b[?25l  Downloading https://files.pythonhosted.org/packages/d5/43/cfe4ee779bbd6a678ac6a97c5a5cdeb03c35f9eaebbb9720b036680f9a2d/transformers-4.6.1-py3-none-any.whl (2.2MB)\n",
            "\u001b[K     |████████████████████████████████| 2.3MB 25.8MB/s \n",
            "\u001b[?25hRequirement already satisfied: importlib-metadata; python_version < \"3.8\" in /usr/local/lib/python3.7/dist-packages (from transformers) (4.0.1)\n",
            "Collecting tokenizers<0.11,>=0.10.1\n",
            "\u001b[?25l  Downloading https://files.pythonhosted.org/packages/d4/e2/df3543e8ffdab68f5acc73f613de9c2b155ac47f162e725dcac87c521c11/tokenizers-0.10.3-cp37-cp37m-manylinux_2_5_x86_64.manylinux1_x86_64.manylinux_2_12_x86_64.manylinux2010_x86_64.whl (3.3MB)\n",
            "\u001b[K     |████████████████████████████████| 3.3MB 32.9MB/s \n",
            "\u001b[?25hRequirement already satisfied: tqdm>=4.27 in /usr/local/lib/python3.7/dist-packages (from transformers) (4.41.1)\n",
            "Collecting sacremoses\n",
            "\u001b[?25l  Downloading https://files.pythonhosted.org/packages/75/ee/67241dc87f266093c533a2d4d3d69438e57d7a90abb216fa076e7d475d4a/sacremoses-0.0.45-py3-none-any.whl (895kB)\n",
            "\u001b[K     |████████████████████████████████| 901kB 31.3MB/s \n",
            "\u001b[?25hRequirement already satisfied: requests in /usr/local/lib/python3.7/dist-packages (from transformers) (2.23.0)\n",
            "Requirement already satisfied: filelock in /usr/local/lib/python3.7/dist-packages (from transformers) (3.0.12)\n",
            "Requirement already satisfied: regex!=2019.12.17 in /usr/local/lib/python3.7/dist-packages (from transformers) (2019.12.20)\n",
            "Requirement already satisfied: packaging in /usr/local/lib/python3.7/dist-packages (from transformers) (20.9)\n",
            "Collecting huggingface-hub==0.0.8\n",
            "  Downloading https://files.pythonhosted.org/packages/a1/88/7b1e45720ecf59c6c6737ff332f41c955963090a18e72acbcbeac6b25e86/huggingface_hub-0.0.8-py3-none-any.whl\n",
            "Requirement already satisfied: numpy>=1.17 in /usr/local/lib/python3.7/dist-packages (from transformers) (1.19.5)\n",
            "Requirement already satisfied: zipp>=0.5 in /usr/local/lib/python3.7/dist-packages (from importlib-metadata; python_version < \"3.8\"->transformers) (3.4.1)\n",
            "Requirement already satisfied: typing-extensions>=3.6.4; python_version < \"3.8\" in /usr/local/lib/python3.7/dist-packages (from importlib-metadata; python_version < \"3.8\"->transformers) (3.7.4.3)\n",
            "Requirement already satisfied: six in /usr/local/lib/python3.7/dist-packages (from sacremoses->transformers) (1.15.0)\n",
            "Requirement already satisfied: click in /usr/local/lib/python3.7/dist-packages (from sacremoses->transformers) (7.1.2)\n",
            "Requirement already satisfied: joblib in /usr/local/lib/python3.7/dist-packages (from sacremoses->transformers) (1.0.1)\n",
            "Requirement already satisfied: idna<3,>=2.5 in /usr/local/lib/python3.7/dist-packages (from requests->transformers) (2.10)\n",
            "Requirement already satisfied: certifi>=2017.4.17 in /usr/local/lib/python3.7/dist-packages (from requests->transformers) (2020.12.5)\n",
            "Requirement already satisfied: urllib3!=1.25.0,!=1.25.1,<1.26,>=1.21.1 in /usr/local/lib/python3.7/dist-packages (from requests->transformers) (1.24.3)\n",
            "Requirement already satisfied: chardet<4,>=3.0.2 in /usr/local/lib/python3.7/dist-packages (from requests->transformers) (3.0.4)\n",
            "Requirement already satisfied: pyparsing>=2.0.2 in /usr/local/lib/python3.7/dist-packages (from packaging->transformers) (2.4.7)\n",
            "Installing collected packages: tokenizers, sacremoses, huggingface-hub, transformers\n",
            "Successfully installed huggingface-hub-0.0.8 sacremoses-0.0.45 tokenizers-0.10.3 transformers-4.6.1\n",
            "Collecting tensor2tensor\n",
            "\u001b[?25l  Downloading https://files.pythonhosted.org/packages/d6/7c/9e87d30cefad5cbc390bb7f626efb3ded9b19416b8160f1a1278da81b218/tensor2tensor-1.15.7-py2.py3-none-any.whl (1.4MB)\n",
            "\u001b[K     |████████████████████████████████| 1.5MB 28.9MB/s \n",
            "\u001b[?25hRequirement already satisfied: absl-py in /usr/local/lib/python3.7/dist-packages (from tensor2tensor) (0.12.0)\n",
            "Requirement already satisfied: gin-config in /usr/local/lib/python3.7/dist-packages (from tensor2tensor) (0.4.0)\n",
            "Requirement already satisfied: scipy in /usr/local/lib/python3.7/dist-packages (from tensor2tensor) (1.4.1)\n",
            "Collecting gunicorn\n",
            "\u001b[?25l  Downloading https://files.pythonhosted.org/packages/e4/dd/5b190393e6066286773a67dfcc2f9492058e9b57c4867a95f1ba5caf0a83/gunicorn-20.1.0-py3-none-any.whl (79kB)\n",
            "\u001b[K     |████████████████████████████████| 81kB 8.5MB/s \n",
            "\u001b[?25hRequirement already satisfied: future in /usr/local/lib/python3.7/dist-packages (from tensor2tensor) (0.16.0)\n",
            "Collecting kfac\n",
            "\u001b[?25l  Downloading https://files.pythonhosted.org/packages/1c/36/06fe2c757044bb51906fef231ac48cc5bf9a277fc9a8c7e1108d7e9e8cfd/kfac-0.2.3-py2.py3-none-any.whl (191kB)\n",
            "\u001b[K     |████████████████████████████████| 194kB 40.9MB/s \n",
            "\u001b[?25hRequirement already satisfied: tensorflow-datasets in /usr/local/lib/python3.7/dist-packages (from tensor2tensor) (4.0.1)\n",
            "Collecting tensorflow-probability==0.7.0\n",
            "\u001b[?25l  Downloading https://files.pythonhosted.org/packages/3e/3a/c10b6c22320531c774402ac7186d1b673374e2a9d12502cbc8d811e4601c/tensorflow_probability-0.7.0-py2.py3-none-any.whl (981kB)\n",
            "\u001b[K     |████████████████████████████████| 983kB 27.6MB/s \n",
            "\u001b[?25hCollecting mesh-tensorflow\n",
            "\u001b[?25l  Downloading https://files.pythonhosted.org/packages/ce/10/37df0bc87ebf84e1414613176340e3aadc3697d2bd112bf63d3d4b1e848a/mesh_tensorflow-0.1.19-py3-none-any.whl (366kB)\n",
            "\u001b[K     |████████████████████████████████| 368kB 39.9MB/s \n",
            "\u001b[?25hRequirement already satisfied: tqdm in /usr/local/lib/python3.7/dist-packages (from tensor2tensor) (4.41.1)\n",
            "Requirement already satisfied: six>=1.12.0 in /usr/local/lib/python3.7/dist-packages (from tensor2tensor) (1.15.0)\n",
            "Collecting bz2file\n",
            "  Downloading https://files.pythonhosted.org/packages/61/39/122222b5e85cd41c391b68a99ee296584b2a2d1d233e7ee32b4532384f2d/bz2file-0.98.tar.gz\n",
            "Requirement already satisfied: dopamine-rl in /usr/local/lib/python3.7/dist-packages (from tensor2tensor) (1.0.5)\n",
            "Requirement already satisfied: flask in /usr/local/lib/python3.7/dist-packages (from tensor2tensor) (1.1.4)\n",
            "Collecting tensorflow-gan\n",
            "\u001b[?25l  Downloading https://files.pythonhosted.org/packages/0c/2e/62922111d7d50e1900e3030764743ea7735540ce103b3ab30fd5cd2d8a2b/tensorflow_gan-2.0.0-py2.py3-none-any.whl (365kB)\n",
            "\u001b[K     |████████████████████████████████| 368kB 39.2MB/s \n",
            "\u001b[?25hRequirement already satisfied: Pillow in /usr/local/lib/python3.7/dist-packages (from tensor2tensor) (7.1.2)\n",
            "Requirement already satisfied: requests in /usr/local/lib/python3.7/dist-packages (from tensor2tensor) (2.23.0)\n",
            "Requirement already satisfied: numpy in /usr/local/lib/python3.7/dist-packages (from tensor2tensor) (1.19.5)\n",
            "Requirement already satisfied: sympy in /usr/local/lib/python3.7/dist-packages (from tensor2tensor) (1.7.1)\n",
            "Collecting pypng\n",
            "\u001b[?25l  Downloading https://files.pythonhosted.org/packages/bc/fb/f719f1ac965e2101aa6ea6f54ef8b40f8fbb033f6ad07c017663467f5147/pypng-0.0.20.tar.gz (649kB)\n",
            "\u001b[K     |████████████████████████████████| 655kB 39.1MB/s \n",
            "\u001b[?25hRequirement already satisfied: opencv-python in /usr/local/lib/python3.7/dist-packages (from tensor2tensor) (4.1.2.30)\n",
            "Collecting tf-slim\n",
            "\u001b[?25l  Downloading https://files.pythonhosted.org/packages/02/97/b0f4a64df018ca018cc035d44f2ef08f91e2e8aa67271f6f19633a015ff7/tf_slim-1.1.0-py2.py3-none-any.whl (352kB)\n",
            "\u001b[K     |████████████████████████████████| 358kB 37.9MB/s \n",
            "\u001b[?25hCollecting gevent\n",
            "\u001b[?25l  Downloading https://files.pythonhosted.org/packages/3e/85/df3d1fd2b60a87455475f93012861b76a411d27ba4a0859939adbe2c9dc3/gevent-21.1.2-cp37-cp37m-manylinux2010_x86_64.whl (5.6MB)\n",
            "\u001b[K     |████████████████████████████████| 5.6MB 32.5MB/s \n",
            "\u001b[?25hRequirement already satisfied: google-api-python-client in /usr/local/lib/python3.7/dist-packages (from tensor2tensor) (1.12.8)\n",
            "Requirement already satisfied: gym in /usr/local/lib/python3.7/dist-packages (from tensor2tensor) (0.17.3)\n",
            "Requirement already satisfied: oauth2client in /usr/local/lib/python3.7/dist-packages (from tensor2tensor) (4.1.3)\n",
            "Collecting tensorflow-addons\n",
            "\u001b[?25l  Downloading https://files.pythonhosted.org/packages/66/4b/e893d194e626c24b3df2253066aa418f46a432fdb68250cde14bf9bb0700/tensorflow_addons-0.13.0-cp37-cp37m-manylinux2010_x86_64.whl (679kB)\n",
            "\u001b[K     |████████████████████████████████| 686kB 28.9MB/s \n",
            "\u001b[?25hRequirement already satisfied: h5py in /usr/local/lib/python3.7/dist-packages (from tensor2tensor) (3.1.0)\n",
            "Requirement already satisfied: setuptools>=3.0 in /usr/local/lib/python3.7/dist-packages (from gunicorn->tensor2tensor) (56.1.0)\n",
            "Requirement already satisfied: dm-tree in /usr/local/lib/python3.7/dist-packages (from tensorflow-datasets->tensor2tensor) (0.1.6)\n",
            "Requirement already satisfied: tensorflow-metadata in /usr/local/lib/python3.7/dist-packages (from tensorflow-datasets->tensor2tensor) (1.0.0)\n",
            "Requirement already satisfied: importlib-resources; python_version < \"3.9\" in /usr/local/lib/python3.7/dist-packages (from tensorflow-datasets->tensor2tensor) (5.1.3)\n",
            "Requirement already satisfied: protobuf>=3.6.1 in /usr/local/lib/python3.7/dist-packages (from tensorflow-datasets->tensor2tensor) (3.12.4)\n",
            "Requirement already satisfied: dill in /usr/local/lib/python3.7/dist-packages (from tensorflow-datasets->tensor2tensor) (0.3.3)\n",
            "Requirement already satisfied: attrs>=18.1.0 in /usr/local/lib/python3.7/dist-packages (from tensorflow-datasets->tensor2tensor) (21.2.0)\n",
            "Requirement already satisfied: termcolor in /usr/local/lib/python3.7/dist-packages (from tensorflow-datasets->tensor2tensor) (1.1.0)\n",
            "Requirement already satisfied: promise in /usr/local/lib/python3.7/dist-packages (from tensorflow-datasets->tensor2tensor) (2.3)\n",
            "Requirement already satisfied: decorator in /usr/local/lib/python3.7/dist-packages (from tensorflow-probability==0.7.0->tensor2tensor) (4.4.2)\n",
            "Requirement already satisfied: cloudpickle>=0.6.1 in /usr/local/lib/python3.7/dist-packages (from tensorflow-probability==0.7.0->tensor2tensor) (1.3.0)\n",
            "Requirement already satisfied: itsdangerous<2.0,>=0.24 in /usr/local/lib/python3.7/dist-packages (from flask->tensor2tensor) (1.1.0)\n",
            "Requirement already satisfied: Jinja2<3.0,>=2.10.1 in /usr/local/lib/python3.7/dist-packages (from flask->tensor2tensor) (2.11.3)\n",
            "Requirement already satisfied: Werkzeug<2.0,>=0.15 in /usr/local/lib/python3.7/dist-packages (from flask->tensor2tensor) (1.0.1)\n",
            "Requirement already satisfied: click<8.0,>=5.1 in /usr/local/lib/python3.7/dist-packages (from flask->tensor2tensor) (7.1.2)\n",
            "Requirement already satisfied: tensorflow-hub>=0.2 in /usr/local/lib/python3.7/dist-packages (from tensorflow-gan->tensor2tensor) (0.12.0)\n",
            "Requirement already satisfied: idna<3,>=2.5 in /usr/local/lib/python3.7/dist-packages (from requests->tensor2tensor) (2.10)\n",
            "Requirement already satisfied: chardet<4,>=3.0.2 in /usr/local/lib/python3.7/dist-packages (from requests->tensor2tensor) (3.0.4)\n",
            "Requirement already satisfied: urllib3!=1.25.0,!=1.25.1,<1.26,>=1.21.1 in /usr/local/lib/python3.7/dist-packages (from requests->tensor2tensor) (1.24.3)\n",
            "Requirement already satisfied: certifi>=2017.4.17 in /usr/local/lib/python3.7/dist-packages (from requests->tensor2tensor) (2020.12.5)\n",
            "Requirement already satisfied: mpmath>=0.19 in /usr/local/lib/python3.7/dist-packages (from sympy->tensor2tensor) (1.2.1)\n",
            "Collecting zope.event\n",
            "  Downloading https://files.pythonhosted.org/packages/9e/85/b45408c64f3b888976f1d5b37eed8d746b8d5729a66a49ec846fda27d371/zope.event-4.5.0-py2.py3-none-any.whl\n",
            "Collecting zope.interface\n",
            "\u001b[?25l  Downloading https://files.pythonhosted.org/packages/bb/a7/94e1a92c71436f934cdd2102826fa041c83dcb7d21dd0f1fb1a57f6e0620/zope.interface-5.4.0-cp37-cp37m-manylinux2010_x86_64.whl (251kB)\n",
            "\u001b[K     |████████████████████████████████| 256kB 43.0MB/s \n",
            "\u001b[?25hRequirement already satisfied: greenlet<2.0,>=0.4.17; platform_python_implementation == \"CPython\" in /usr/local/lib/python3.7/dist-packages (from gevent->tensor2tensor) (1.1.0)\n",
            "Requirement already satisfied: uritemplate<4dev,>=3.0.0 in /usr/local/lib/python3.7/dist-packages (from google-api-python-client->tensor2tensor) (3.0.1)\n",
            "Requirement already satisfied: httplib2<1dev,>=0.15.0 in /usr/local/lib/python3.7/dist-packages (from google-api-python-client->tensor2tensor) (0.17.4)\n",
            "Requirement already satisfied: google-auth>=1.16.0 in /usr/local/lib/python3.7/dist-packages (from google-api-python-client->tensor2tensor) (1.30.0)\n",
            "Requirement already satisfied: google-auth-httplib2>=0.0.3 in /usr/local/lib/python3.7/dist-packages (from google-api-python-client->tensor2tensor) (0.0.4)\n",
            "Requirement already satisfied: google-api-core<2dev,>=1.21.0 in /usr/local/lib/python3.7/dist-packages (from google-api-python-client->tensor2tensor) (1.26.3)\n",
            "Requirement already satisfied: pyglet<=1.5.0,>=1.4.0 in /usr/local/lib/python3.7/dist-packages (from gym->tensor2tensor) (1.5.0)\n",
            "Requirement already satisfied: pyasn1-modules>=0.0.5 in /usr/local/lib/python3.7/dist-packages (from oauth2client->tensor2tensor) (0.2.8)\n",
            "Requirement already satisfied: rsa>=3.1.4 in /usr/local/lib/python3.7/dist-packages (from oauth2client->tensor2tensor) (4.7.2)\n",
            "Requirement already satisfied: pyasn1>=0.1.7 in /usr/local/lib/python3.7/dist-packages (from oauth2client->tensor2tensor) (0.4.8)\n",
            "Requirement already satisfied: typeguard>=2.7 in /usr/local/lib/python3.7/dist-packages (from tensorflow-addons->tensor2tensor) (2.7.1)\n",
            "Requirement already satisfied: cached-property; python_version < \"3.8\" in /usr/local/lib/python3.7/dist-packages (from h5py->tensor2tensor) (1.5.2)\n",
            "Requirement already satisfied: googleapis-common-protos<2,>=1.52.0 in /usr/local/lib/python3.7/dist-packages (from tensorflow-metadata->tensorflow-datasets->tensor2tensor) (1.53.0)\n",
            "Requirement already satisfied: zipp>=0.4; python_version < \"3.8\" in /usr/local/lib/python3.7/dist-packages (from importlib-resources; python_version < \"3.9\"->tensorflow-datasets->tensor2tensor) (3.4.1)\n",
            "Requirement already satisfied: MarkupSafe>=0.23 in /usr/local/lib/python3.7/dist-packages (from Jinja2<3.0,>=2.10.1->flask->tensor2tensor) (2.0.1)\n",
            "Requirement already satisfied: cachetools<5.0,>=2.0.0 in /usr/local/lib/python3.7/dist-packages (from google-auth>=1.16.0->google-api-python-client->tensor2tensor) (4.2.2)\n",
            "Requirement already satisfied: packaging>=14.3 in /usr/local/lib/python3.7/dist-packages (from google-api-core<2dev,>=1.21.0->google-api-python-client->tensor2tensor) (20.9)\n",
            "Requirement already satisfied: pytz in /usr/local/lib/python3.7/dist-packages (from google-api-core<2dev,>=1.21.0->google-api-python-client->tensor2tensor) (2018.9)\n",
            "Requirement already satisfied: pyparsing>=2.0.2 in /usr/local/lib/python3.7/dist-packages (from packaging>=14.3->google-api-core<2dev,>=1.21.0->google-api-python-client->tensor2tensor) (2.4.7)\n",
            "Building wheels for collected packages: bz2file, pypng\n",
            "  Building wheel for bz2file (setup.py) ... \u001b[?25l\u001b[?25hdone\n",
            "  Created wheel for bz2file: filename=bz2file-0.98-cp37-none-any.whl size=6884 sha256=3bd5a0836296a754932a0961b6e0f1e74fcedcaa1282b628c565e83b7298f526\n",
            "  Stored in directory: /root/.cache/pip/wheels/81/75/d6/e1317bf09bf1af5a30befc2a007869fa6e1f516b8f7c591cb9\n",
            "  Building wheel for pypng (setup.py) ... \u001b[?25l\u001b[?25hdone\n",
            "  Created wheel for pypng: filename=pypng-0.0.20-cp37-none-any.whl size=67163 sha256=07f7447ef2c86a1b91a31bb73ef17dcc926ccd7d5fc10a50298eb5b73b45dcf3\n",
            "  Stored in directory: /root/.cache/pip/wheels/41/6b/ef/0493b536b6d4722c2ae9486691b1d49b922b9877922beeabb3\n",
            "Successfully built bz2file pypng\n",
            "\u001b[31mERROR: kfac 0.2.3 has requirement tensorflow-probability==0.8, but you'll have tensorflow-probability 0.7.0 which is incompatible.\u001b[0m\n",
            "Installing collected packages: gunicorn, tensorflow-probability, kfac, mesh-tensorflow, bz2file, tensorflow-gan, pypng, tf-slim, zope.event, zope.interface, gevent, tensorflow-addons, tensor2tensor\n",
            "  Found existing installation: tensorflow-probability 0.12.1\n",
            "    Uninstalling tensorflow-probability-0.12.1:\n",
            "      Successfully uninstalled tensorflow-probability-0.12.1\n",
            "Successfully installed bz2file-0.98 gevent-21.1.2 gunicorn-20.1.0 kfac-0.2.3 mesh-tensorflow-0.1.19 pypng-0.0.20 tensor2tensor-1.15.7 tensorflow-addons-0.13.0 tensorflow-gan-2.0.0 tensorflow-probability-0.7.0 tf-slim-1.1.0 zope.event-4.5.0 zope.interface-5.4.0\n"
          ],
          "name": "stdout"
        }
      ]
    },
    {
      "cell_type": "code",
      "metadata": {
        "id": "45kdfZ-cCyBf"
      },
      "source": [
        "from sklearn.model_selection import train_test_split\n",
        "from sklearn.model_selection import cross_val_score\n",
        "import tensorflow as tf\n",
        "import transformers as ppb\n",
        "import warnings\n",
        "warnings.filterwarnings('ignore')"
      ],
      "execution_count": null,
      "outputs": []
    },
    {
      "cell_type": "code",
      "metadata": {
        "id": "EQ9ZuPImB9fu"
      },
      "source": [
        "from tensorflow.keras.layers import Bidirectional, LSTM, Dense, Activation, TimeDistributed, Masking, GRU\n",
        "from tensorflow.keras import Sequential\n",
        "from tensorflow.keras.utils import to_categorical\n",
        "from ast import literal_eval\n",
        "from sklearn.model_selection import train_test_split\n",
        "from tensorflow.keras.preprocessing.sequence import pad_sequences\n",
        "from collections import Counter\n",
        "import numpy as np\n",
        "import pandas as pd\n",
        "from sklearn.metrics import f1_score\n",
        "from tqdm import tqdm_notebook\n",
        "from tensorflow.keras.utils import to_categorical\n",
        "from sklearn.metrics import roc_auc_score, confusion_matrix, ConfusionMatrixDisplay\n",
        "import random"
      ],
      "execution_count": null,
      "outputs": []
    },
    {
      "cell_type": "markdown",
      "metadata": {
        "id": "uJ07_hgeCG7N"
      },
      "source": [
        "## Dataset"
      ]
    },
    {
      "cell_type": "code",
      "metadata": {
        "colab": {
          "base_uri": "https://localhost:8080/"
        },
        "id": "iGdFYdryCFnx",
        "outputId": "9a93d58a-39e0-4358-d99a-3ee598673816"
      },
      "source": [
        "from google.colab import drive\n",
        "drive.mount(\"/content/drive\")"
      ],
      "execution_count": null,
      "outputs": [
        {
          "output_type": "stream",
          "text": [
            "Mounted at /content/drive\n"
          ],
          "name": "stdout"
        }
      ]
    },
    {
      "cell_type": "code",
      "metadata": {
        "colab": {
          "base_uri": "https://localhost:8080/",
          "height": 111
        },
        "id": "p_LXZJEgCP1I",
        "outputId": "b466a269-103e-4fce-9df4-ccac24cd55a6"
      },
      "source": [
        "dataset_vnc_dir = '/content/drive/MyDrive/ВКР/Sense Disambiguation Corpus/VNCs_Annotated.csv'\n",
        "data_vnc = pd.read_csv(dataset_vnc_dir )\n",
        "data_vnc.head(2)"
      ],
      "execution_count": null,
      "outputs": [
        {
          "output_type": "execute_result",
          "data": {
            "text/html": [
              "<div>\n",
              "<style scoped>\n",
              "    .dataframe tbody tr th:only-of-type {\n",
              "        vertical-align: middle;\n",
              "    }\n",
              "\n",
              "    .dataframe tbody tr th {\n",
              "        vertical-align: top;\n",
              "    }\n",
              "\n",
              "    .dataframe thead th {\n",
              "        text-align: right;\n",
              "    }\n",
              "</style>\n",
              "<table border=\"1\" class=\"dataframe\">\n",
              "  <thead>\n",
              "    <tr style=\"text-align: right;\">\n",
              "      <th></th>\n",
              "      <th>Idiom Normal</th>\n",
              "      <th>Idiom Inflected</th>\n",
              "      <th>Label</th>\n",
              "      <th>Example</th>\n",
              "    </tr>\n",
              "  </thead>\n",
              "  <tbody>\n",
              "    <tr>\n",
              "      <th>0</th>\n",
              "      <td>бить карту</td>\n",
              "      <td>бил карту</td>\n",
              "      <td>0</td>\n",
              "      <td>Он бил карту за картой и загребал золото и кре...</td>\n",
              "    </tr>\n",
              "    <tr>\n",
              "      <th>1</th>\n",
              "      <td>бить карту</td>\n",
              "      <td>бил карту</td>\n",
              "      <td>0</td>\n",
              "      <td>Ермолов держал карты, сощуря правый глаз; ког...</td>\n",
              "    </tr>\n",
              "  </tbody>\n",
              "</table>\n",
              "</div>"
            ],
            "text/plain": [
              "  Idiom Normal  ...                                            Example\n",
              "0   бить карту  ...  Он бил карту за картой и загребал золото и кре...\n",
              "1   бить карту  ...   Ермолов держал карты, сощуря правый глаз; ког...\n",
              "\n",
              "[2 rows x 4 columns]"
            ]
          },
          "metadata": {
            "tags": []
          },
          "execution_count": 5
        }
      ]
    },
    {
      "cell_type": "code",
      "metadata": {
        "colab": {
          "base_uri": "https://localhost:8080/"
        },
        "id": "lWbTSEvZcBFR",
        "outputId": "b003b340-4820-4e34-cf83-170ea25d4274"
      },
      "source": [
        "data_vnc.Label.value_counts()"
      ],
      "execution_count": null,
      "outputs": [
        {
          "output_type": "execute_result",
          "data": {
            "text/plain": [
              "1    455\n",
              "0    438\n",
              "Name: Label, dtype: int64"
            ]
          },
          "metadata": {
            "tags": []
          },
          "execution_count": 6
        }
      ]
    },
    {
      "cell_type": "code",
      "metadata": {
        "colab": {
          "base_uri": "https://localhost:8080/",
          "height": 111
        },
        "id": "1__zN0o2bMHa",
        "outputId": "5e74dccb-267b-4d85-9755-beea4c875672"
      },
      "source": [
        "dataset_anc_dir = '/content/drive/MyDrive/ВКР/Sense Disambiguation Corpus/ANCs_Annotated.csv'\n",
        "data_anc = pd.read_csv(dataset_anc_dir )\n",
        "data_anc.head(2)"
      ],
      "execution_count": null,
      "outputs": [
        {
          "output_type": "execute_result",
          "data": {
            "text/html": [
              "<div>\n",
              "<style scoped>\n",
              "    .dataframe tbody tr th:only-of-type {\n",
              "        vertical-align: middle;\n",
              "    }\n",
              "\n",
              "    .dataframe tbody tr th {\n",
              "        vertical-align: top;\n",
              "    }\n",
              "\n",
              "    .dataframe thead th {\n",
              "        text-align: right;\n",
              "    }\n",
              "</style>\n",
              "<table border=\"1\" class=\"dataframe\">\n",
              "  <thead>\n",
              "    <tr style=\"text-align: right;\">\n",
              "      <th></th>\n",
              "      <th>Idiom Normal</th>\n",
              "      <th>Idiom Inflected</th>\n",
              "      <th>Label</th>\n",
              "      <th>Example</th>\n",
              "    </tr>\n",
              "  </thead>\n",
              "  <tbody>\n",
              "    <tr>\n",
              "      <th>0</th>\n",
              "      <td>избитая дорога</td>\n",
              "      <td>избитой дороге</td>\n",
              "      <td>0</td>\n",
              "      <td>С бурной быстротой, возможной только в сновид...</td>\n",
              "    </tr>\n",
              "    <tr>\n",
              "      <th>1</th>\n",
              "      <td>избитая дорога</td>\n",
              "      <td>избитой дороге</td>\n",
              "      <td>0</td>\n",
              "      <td>Как почтовый возок на избитой дороге, прыгает...</td>\n",
              "    </tr>\n",
              "  </tbody>\n",
              "</table>\n",
              "</div>"
            ],
            "text/plain": [
              "     Idiom Normal  ...                                            Example\n",
              "0  избитая дорога  ...   С бурной быстротой, возможной только в сновид...\n",
              "1  избитая дорога  ...   Как почтовый возок на избитой дороге, прыгает...\n",
              "\n",
              "[2 rows x 4 columns]"
            ]
          },
          "metadata": {
            "tags": []
          },
          "execution_count": 6
        }
      ]
    },
    {
      "cell_type": "code",
      "metadata": {
        "colab": {
          "base_uri": "https://localhost:8080/"
        },
        "id": "DBToZl7vtLeo",
        "outputId": "a791b9bf-4027-4e4d-8efd-00cb3c1f148b"
      },
      "source": [
        "data_anc['Idiom Normal'].value_counts()"
      ],
      "execution_count": null,
      "outputs": [
        {
          "output_type": "execute_result",
          "data": {
            "text/plain": [
              "больное место                 57\n",
              "правая рука                   56\n",
              "болевая точка                 52\n",
              "нож острый                    49\n",
              "путеводная звезда             48\n",
              "лавровый венок                44\n",
              "бедный родственник            41\n",
              "зелёная улица                 38\n",
              "тяжёлая рука                  38\n",
              "ваш брат                      34\n",
              "вавилонское столпотворение    30\n",
              "наша сестра                   28\n",
              "пороховая бочка               27\n",
              "дальний прицел                25\n",
              "заблудшая овца                23\n",
              "вторая ступень                23\n",
              "старый воробей                22\n",
              "красная бумажка               21\n",
              "синяя птица                   20\n",
              "долгая песня                  18\n",
              "другой разговор               18\n",
              "старый гриб                   16\n",
              "чёрная кость                  15\n",
              "девичья кожа                  12\n",
              "музейная редкость             10\n",
              "маковое зерно                 10\n",
              "избитая дорога                10\n",
              "куриная голова                 9\n",
              "ободранная кошка               9\n",
              "чернильная строка              3\n",
              "Name: Idiom Normal, dtype: int64"
            ]
          },
          "metadata": {
            "tags": []
          },
          "execution_count": 7
        }
      ]
    },
    {
      "cell_type": "code",
      "metadata": {
        "colab": {
          "base_uri": "https://localhost:8080/"
        },
        "id": "u5gLTJiitUym",
        "outputId": "46670275-1eca-4851-a2ed-afd85c467a12"
      },
      "source": [
        "len(data_anc['Idiom Normal'].value_counts())"
      ],
      "execution_count": null,
      "outputs": [
        {
          "output_type": "execute_result",
          "data": {
            "text/plain": [
              "30"
            ]
          },
          "metadata": {
            "tags": []
          },
          "execution_count": 8
        }
      ]
    },
    {
      "cell_type": "code",
      "metadata": {
        "id": "Maw5BFOVJjVl",
        "colab": {
          "base_uri": "https://localhost:8080/",
          "height": 111
        },
        "outputId": "18631847-6537-4d47-beda-5c0b900c5a5b"
      },
      "source": [
        "data_anc['ID'] = pd.Series(np.arange(0, len(data_anc)))\n",
        "data_anc.head(2)"
      ],
      "execution_count": null,
      "outputs": [
        {
          "output_type": "execute_result",
          "data": {
            "text/html": [
              "<div>\n",
              "<style scoped>\n",
              "    .dataframe tbody tr th:only-of-type {\n",
              "        vertical-align: middle;\n",
              "    }\n",
              "\n",
              "    .dataframe tbody tr th {\n",
              "        vertical-align: top;\n",
              "    }\n",
              "\n",
              "    .dataframe thead th {\n",
              "        text-align: right;\n",
              "    }\n",
              "</style>\n",
              "<table border=\"1\" class=\"dataframe\">\n",
              "  <thead>\n",
              "    <tr style=\"text-align: right;\">\n",
              "      <th></th>\n",
              "      <th>Idiom Normal</th>\n",
              "      <th>Idiom Inflected</th>\n",
              "      <th>Label</th>\n",
              "      <th>Example</th>\n",
              "      <th>ID</th>\n",
              "    </tr>\n",
              "  </thead>\n",
              "  <tbody>\n",
              "    <tr>\n",
              "      <th>0</th>\n",
              "      <td>избитая дорога</td>\n",
              "      <td>избитой дороге</td>\n",
              "      <td>0</td>\n",
              "      <td>С бурной быстротой, возможной только в сновид...</td>\n",
              "      <td>0</td>\n",
              "    </tr>\n",
              "    <tr>\n",
              "      <th>1</th>\n",
              "      <td>избитая дорога</td>\n",
              "      <td>избитой дороге</td>\n",
              "      <td>0</td>\n",
              "      <td>Как почтовый возок на избитой дороге, прыгает...</td>\n",
              "      <td>1</td>\n",
              "    </tr>\n",
              "  </tbody>\n",
              "</table>\n",
              "</div>"
            ],
            "text/plain": [
              "     Idiom Normal  ... ID\n",
              "0  избитая дорога  ...  0\n",
              "1  избитая дорога  ...  1\n",
              "\n",
              "[2 rows x 5 columns]"
            ]
          },
          "metadata": {
            "tags": []
          },
          "execution_count": 11
        }
      ]
    },
    {
      "cell_type": "code",
      "metadata": {
        "id": "oj2DnXyFJm_v",
        "colab": {
          "base_uri": "https://localhost:8080/",
          "height": 111
        },
        "outputId": "ff7b769a-f30e-4fb1-c9c5-0dc061e931d8"
      },
      "source": [
        "data_vnc['ID'] = pd.Series(np.arange(len(data_anc), len(data_anc)+len(data_vnc)))\n",
        "data_vnc.head(2)"
      ],
      "execution_count": null,
      "outputs": [
        {
          "output_type": "execute_result",
          "data": {
            "text/html": [
              "<div>\n",
              "<style scoped>\n",
              "    .dataframe tbody tr th:only-of-type {\n",
              "        vertical-align: middle;\n",
              "    }\n",
              "\n",
              "    .dataframe tbody tr th {\n",
              "        vertical-align: top;\n",
              "    }\n",
              "\n",
              "    .dataframe thead th {\n",
              "        text-align: right;\n",
              "    }\n",
              "</style>\n",
              "<table border=\"1\" class=\"dataframe\">\n",
              "  <thead>\n",
              "    <tr style=\"text-align: right;\">\n",
              "      <th></th>\n",
              "      <th>Idiom Normal</th>\n",
              "      <th>Idiom Inflected</th>\n",
              "      <th>Label</th>\n",
              "      <th>Example</th>\n",
              "      <th>ID</th>\n",
              "    </tr>\n",
              "  </thead>\n",
              "  <tbody>\n",
              "    <tr>\n",
              "      <th>0</th>\n",
              "      <td>бить карту</td>\n",
              "      <td>бил карту</td>\n",
              "      <td>0</td>\n",
              "      <td>Он бил карту за картой и загребал золото и кре...</td>\n",
              "      <td>806</td>\n",
              "    </tr>\n",
              "    <tr>\n",
              "      <th>1</th>\n",
              "      <td>бить карту</td>\n",
              "      <td>бил карту</td>\n",
              "      <td>0</td>\n",
              "      <td>Ермолов держал карты, сощуря правый глаз; ког...</td>\n",
              "      <td>807</td>\n",
              "    </tr>\n",
              "  </tbody>\n",
              "</table>\n",
              "</div>"
            ],
            "text/plain": [
              "  Idiom Normal  ...   ID\n",
              "0   бить карту  ...  806\n",
              "1   бить карту  ...  807\n",
              "\n",
              "[2 rows x 5 columns]"
            ]
          },
          "metadata": {
            "tags": []
          },
          "execution_count": 12
        }
      ]
    },
    {
      "cell_type": "code",
      "metadata": {
        "colab": {
          "base_uri": "https://localhost:8080/",
          "height": 111
        },
        "id": "6kSMItV0er4B",
        "outputId": "7c79ea7d-19ca-4cad-b895-929a6bdf2830"
      },
      "source": [
        "data = pd.concat([data_vnc, data_anc], ignore_index=True)\n",
        "data.head(2)"
      ],
      "execution_count": null,
      "outputs": [
        {
          "output_type": "execute_result",
          "data": {
            "text/html": [
              "<div>\n",
              "<style scoped>\n",
              "    .dataframe tbody tr th:only-of-type {\n",
              "        vertical-align: middle;\n",
              "    }\n",
              "\n",
              "    .dataframe tbody tr th {\n",
              "        vertical-align: top;\n",
              "    }\n",
              "\n",
              "    .dataframe thead th {\n",
              "        text-align: right;\n",
              "    }\n",
              "</style>\n",
              "<table border=\"1\" class=\"dataframe\">\n",
              "  <thead>\n",
              "    <tr style=\"text-align: right;\">\n",
              "      <th></th>\n",
              "      <th>Idiom Normal</th>\n",
              "      <th>Idiom Inflected</th>\n",
              "      <th>Label</th>\n",
              "      <th>Example</th>\n",
              "      <th>ID</th>\n",
              "    </tr>\n",
              "  </thead>\n",
              "  <tbody>\n",
              "    <tr>\n",
              "      <th>0</th>\n",
              "      <td>бить карту</td>\n",
              "      <td>бил карту</td>\n",
              "      <td>0</td>\n",
              "      <td>Он бил карту за картой и загребал золото и кре...</td>\n",
              "      <td>806</td>\n",
              "    </tr>\n",
              "    <tr>\n",
              "      <th>1</th>\n",
              "      <td>бить карту</td>\n",
              "      <td>бил карту</td>\n",
              "      <td>0</td>\n",
              "      <td>Ермолов держал карты, сощуря правый глаз; ког...</td>\n",
              "      <td>807</td>\n",
              "    </tr>\n",
              "  </tbody>\n",
              "</table>\n",
              "</div>"
            ],
            "text/plain": [
              "  Idiom Normal  ...   ID\n",
              "0   бить карту  ...  806\n",
              "1   бить карту  ...  807\n",
              "\n",
              "[2 rows x 5 columns]"
            ]
          },
          "metadata": {
            "tags": []
          },
          "execution_count": 13
        }
      ]
    },
    {
      "cell_type": "code",
      "metadata": {
        "colab": {
          "base_uri": "https://localhost:8080/",
          "height": 111
        },
        "id": "RTjCivomgQsz",
        "outputId": "ff5fc35f-ce48-490b-b5bb-187cb5397a4d"
      },
      "source": [
        "data.tail(2)"
      ],
      "execution_count": null,
      "outputs": [
        {
          "output_type": "execute_result",
          "data": {
            "text/html": [
              "<div>\n",
              "<style scoped>\n",
              "    .dataframe tbody tr th:only-of-type {\n",
              "        vertical-align: middle;\n",
              "    }\n",
              "\n",
              "    .dataframe tbody tr th {\n",
              "        vertical-align: top;\n",
              "    }\n",
              "\n",
              "    .dataframe thead th {\n",
              "        text-align: right;\n",
              "    }\n",
              "</style>\n",
              "<table border=\"1\" class=\"dataframe\">\n",
              "  <thead>\n",
              "    <tr style=\"text-align: right;\">\n",
              "      <th></th>\n",
              "      <th>Idiom Normal</th>\n",
              "      <th>Idiom Inflected</th>\n",
              "      <th>Label</th>\n",
              "      <th>Example</th>\n",
              "      <th>ID</th>\n",
              "    </tr>\n",
              "  </thead>\n",
              "  <tbody>\n",
              "    <tr>\n",
              "      <th>1697</th>\n",
              "      <td>бедный родственник</td>\n",
              "      <td>бедными родственниками</td>\n",
              "      <td>0</td>\n",
              "      <td>Проходя мимо церквей, я вижу иногда человека,...</td>\n",
              "      <td>804</td>\n",
              "    </tr>\n",
              "    <tr>\n",
              "      <th>1698</th>\n",
              "      <td>бедный родственник</td>\n",
              "      <td>бедных родственниках</td>\n",
              "      <td>0</td>\n",
              "      <td>[Егор Дмитрич Глумов, муж]   У молодой женщин...</td>\n",
              "      <td>805</td>\n",
              "    </tr>\n",
              "  </tbody>\n",
              "</table>\n",
              "</div>"
            ],
            "text/plain": [
              "            Idiom Normal  ...   ID\n",
              "1697  бедный родственник  ...  804\n",
              "1698  бедный родственник  ...  805\n",
              "\n",
              "[2 rows x 5 columns]"
            ]
          },
          "metadata": {
            "tags": []
          },
          "execution_count": 26
        }
      ]
    },
    {
      "cell_type": "code",
      "metadata": {
        "colab": {
          "base_uri": "https://localhost:8080/"
        },
        "id": "tweO3qZhIjP-",
        "outputId": "3fe27f31-fa9b-4f2d-bd41-eb40a4138fc7"
      },
      "source": [
        "len(data_anc)"
      ],
      "execution_count": null,
      "outputs": [
        {
          "output_type": "execute_result",
          "data": {
            "text/plain": [
              "806"
            ]
          },
          "metadata": {
            "tags": []
          },
          "execution_count": 15
        }
      ]
    },
    {
      "cell_type": "code",
      "metadata": {
        "colab": {
          "base_uri": "https://localhost:8080/"
        },
        "id": "YZ37N3KIgXiK",
        "outputId": "528c78c3-7a41-4e2d-b581-c65fcbb1701b"
      },
      "source": [
        "data.shape"
      ],
      "execution_count": null,
      "outputs": [
        {
          "output_type": "execute_result",
          "data": {
            "text/plain": [
              "(1699, 4)"
            ]
          },
          "metadata": {
            "tags": []
          },
          "execution_count": 13
        }
      ]
    },
    {
      "cell_type": "markdown",
      "metadata": {
        "id": "jBdk00Dfo7zD"
      },
      "source": [
        "## Load BERT"
      ]
    },
    {
      "cell_type": "code",
      "metadata": {
        "colab": {
          "base_uri": "https://localhost:8080/",
          "height": 262,
          "referenced_widgets": [
            "b9a022779c974d308303d1b57c774b5f",
            "103464c34fe54041bfc97c2b2175af0d",
            "c71a93f3f4824e158ee72d1a805c8ba6",
            "5eb98b81129644ada1c3d8a36566bbb7",
            "bb8899695d994cf7a6530ce3d6b07d1f",
            "684b49249af84c1c9ae6f0fa01270177",
            "38ebb7a5532c4c3caadefa12c6322879",
            "73b1723ea0e74f8d929b120ae5217e34",
            "2aa8875c4ecc424c9004c02d92718677",
            "c1a82ebf825840cd90ba271073feba3c",
            "83559d4737ec4279bd42c8a95dd476c1",
            "cd0bbbad464243229d7995c3678ea15b",
            "03ad40b1b0c04220b2022b681ccbce9e",
            "8cfe8a757c4a40978a0dab6e10553821",
            "3ba6ba99f3154b4fa42cc3e85900540e",
            "0607098a27c7484e873bc2eb0b4b3cbc",
            "23b479f963b946e39c15a536f518b482",
            "c677dd26cd68407caa8543a5627fc95e",
            "7c34c021928041548a70acaa86ff689f",
            "79a9716c9caf4366a03728feeae8b8cf",
            "92bdbb22921b4daba05df8f4a68d6a0d",
            "99b3ffd184cd4cb3b178d2ddf7a4bb91",
            "e3a8b3020f4d4e81af63572a8b1055f1",
            "c233d41010834124a42e183acf260182",
            "4b74167677844857be06dacc1b706148",
            "7a3cce4718a14a899a154505b669cfd2",
            "f3d1be15c2904f72ab5c806f347d24c6",
            "273c9c36819d482da1e842c33bf07990",
            "1892a7fe60954b4f907043776f1feb56",
            "1de13793343c4b01b9df339892dcea03",
            "9a2837f3990a4e7688ed08391b7c29c2",
            "295ad87fd2904077b26ad28c2a0dbff6",
            "990ad3a0cab64111ab8e067af6a20448",
            "cc557d4d80fb409fb65f755b2efd16ec",
            "e17c9c96257c45db87f7f69778b0e21a",
            "c92dcf7dad174d57afab74b40634e7d5",
            "7197f70ce5bd4f17bcc09f7e33ea2b5a",
            "16c5ea2646c7425797fdd27a218aa757",
            "6cba5e2c12f74893952c833494190472",
            "f7831fa91ef94ecaae9b65adcae76071"
          ]
        },
        "id": "R4ohX1k2CneW",
        "outputId": "13d719d1-1ef7-472f-c785-66c8bc31282c"
      },
      "source": [
        "import torch\n",
        "from transformers import AutoTokenizer, AutoModel, TFAutoModel\n",
        "  \n",
        "tokenizer = AutoTokenizer.from_pretrained(\"DeepPavlov/rubert-base-cased\")\n",
        "\n",
        "BERT_model = AutoModel.from_pretrained('DeepPavlov/rubert-base-cased')"
      ],
      "execution_count": null,
      "outputs": [
        {
          "output_type": "display_data",
          "data": {
            "application/vnd.jupyter.widget-view+json": {
              "model_id": "b9a022779c974d308303d1b57c774b5f",
              "version_minor": 0,
              "version_major": 2
            },
            "text/plain": [
              "HBox(children=(FloatProgress(value=0.0, description='Downloading', max=642.0, style=ProgressStyle(description_…"
            ]
          },
          "metadata": {
            "tags": []
          }
        },
        {
          "output_type": "stream",
          "text": [
            "\n"
          ],
          "name": "stdout"
        },
        {
          "output_type": "display_data",
          "data": {
            "application/vnd.jupyter.widget-view+json": {
              "model_id": "2aa8875c4ecc424c9004c02d92718677",
              "version_minor": 0,
              "version_major": 2
            },
            "text/plain": [
              "HBox(children=(FloatProgress(value=0.0, description='Downloading', max=1649718.0, style=ProgressStyle(descript…"
            ]
          },
          "metadata": {
            "tags": []
          }
        },
        {
          "output_type": "stream",
          "text": [
            "\n"
          ],
          "name": "stdout"
        },
        {
          "output_type": "display_data",
          "data": {
            "application/vnd.jupyter.widget-view+json": {
              "model_id": "23b479f963b946e39c15a536f518b482",
              "version_minor": 0,
              "version_major": 2
            },
            "text/plain": [
              "HBox(children=(FloatProgress(value=0.0, description='Downloading', max=112.0, style=ProgressStyle(description_…"
            ]
          },
          "metadata": {
            "tags": []
          }
        },
        {
          "output_type": "stream",
          "text": [
            "\n"
          ],
          "name": "stdout"
        },
        {
          "output_type": "display_data",
          "data": {
            "application/vnd.jupyter.widget-view+json": {
              "model_id": "4b74167677844857be06dacc1b706148",
              "version_minor": 0,
              "version_major": 2
            },
            "text/plain": [
              "HBox(children=(FloatProgress(value=0.0, description='Downloading', max=2.0, style=ProgressStyle(description_wi…"
            ]
          },
          "metadata": {
            "tags": []
          }
        },
        {
          "output_type": "stream",
          "text": [
            "\n"
          ],
          "name": "stdout"
        },
        {
          "output_type": "display_data",
          "data": {
            "application/vnd.jupyter.widget-view+json": {
              "model_id": "990ad3a0cab64111ab8e067af6a20448",
              "version_minor": 0,
              "version_major": 2
            },
            "text/plain": [
              "HBox(children=(FloatProgress(value=0.0, description='Downloading', max=711456796.0, style=ProgressStyle(descri…"
            ]
          },
          "metadata": {
            "tags": []
          }
        },
        {
          "output_type": "stream",
          "text": [
            "\n"
          ],
          "name": "stdout"
        }
      ]
    },
    {
      "cell_type": "code",
      "metadata": {
        "id": "ymkYPc_e7Rlq"
      },
      "source": [
        "def get_bert_embeddings_single_sentence(sentence):\n",
        "  inputs = tokenizer(sentence, return_tensors=\"pt\")\n",
        "  outputs=BERT_model(**inputs)\n",
        "  return outputs.last_hidden_state\n",
        "  \n",
        "def get_bert_embeddings(sentences, padded_size=150, vec_size=768):\n",
        "  embeddings_all = []\n",
        "  #for sentence in tqdm_notebook(sentences):\n",
        "  for sentence in tqdm_notebook(sentences):\n",
        "    lhs = get_bert_embeddings_single_sentence(sentence)\n",
        "    vecs = lhs[0]\n",
        "    sentence_padded = np.empty(shape=(padded_size, ), dtype=object)\n",
        "    for id, token in enumerate(sentence_padded):\n",
        "      try:\n",
        "        sentence_padded[id] = vecs[id].detach().numpy()\n",
        "      except:\n",
        "        sentence_padded[id] = np.zeros(vec_size)\n",
        "    embeddings_all.append(sentence_padded)\n",
        "  return embeddings_all"
      ],
      "execution_count": null,
      "outputs": []
    },
    {
      "cell_type": "markdown",
      "metadata": {
        "id": "9HQB2mQ57X2r"
      },
      "source": [
        "## Define RNN"
      ]
    },
    {
      "cell_type": "code",
      "metadata": {
        "id": "HT9zcPFI7asg"
      },
      "source": [
        "MAX_SEQUENCE_LEN = 150\n",
        "VECTOR_DIM = 768\n",
        "NUM_CLASSES = 2\n",
        "\n",
        "def build_model():\n",
        "  model = Sequential()\n",
        "  model.add(Masking(mask_value=0., input_shape=(MAX_SEQUENCE_LEN,VECTOR_DIM)))\n",
        "  forward_layer = GRU(10, return_sequences=False, dropout=0.5)\n",
        "  backward_layer = GRU(10, return_sequences=False, dropout=0.5,\n",
        "                      go_backwards=True)\n",
        "  model.add(Bidirectional(forward_layer, backward_layer=backward_layer,\n",
        "                        input_shape=(MAX_SEQUENCE_LEN,VECTOR_DIM)))\n",
        "  model.add(Dense(NUM_CLASSES))\n",
        "  model.add(Activation('softmax'))\n",
        "\n",
        "  model.compile(loss='binary_crossentropy', optimizer='rmsprop', metrics=['accuracy'])\n",
        "  print('compiled model')\n",
        "  return model"
      ],
      "execution_count": null,
      "outputs": []
    },
    {
      "cell_type": "markdown",
      "metadata": {
        "id": "kZ2HEOXDguxN"
      },
      "source": [
        "## All Idioms"
      ]
    },
    {
      "cell_type": "code",
      "metadata": {
        "colab": {
          "base_uri": "https://localhost:8080/",
          "height": 66,
          "referenced_widgets": [
            "f70b61af3f454662b723639b6f238805",
            "cae6a390ee1a415392e87780e470cc47",
            "7c225d1935a046d7bc4be57be57390e9",
            "c61cc09f0c65459fbd6879f16c875fe7",
            "875e16e59a254a8281ab982c076d93fe",
            "3ec9b5c1fe66419a9906405282ef75fc",
            "bd376f6d2acf431284fb52a418cec6d0",
            "5c682f7e64b1473492edf69bfb150bf1"
          ]
        },
        "id": "EzJ5yK9iC7jS",
        "outputId": "4a157bd1-fc08-4e39-d648-5f3f858a3893"
      },
      "source": [
        "embedded_contexts = get_bert_embeddings(data['Example'])"
      ],
      "execution_count": null,
      "outputs": [
        {
          "output_type": "display_data",
          "data": {
            "application/vnd.jupyter.widget-view+json": {
              "model_id": "f70b61af3f454662b723639b6f238805",
              "version_minor": 0,
              "version_major": 2
            },
            "text/plain": [
              "HBox(children=(FloatProgress(value=0.0, max=1699.0), HTML(value='')))"
            ]
          },
          "metadata": {
            "tags": []
          }
        },
        {
          "output_type": "stream",
          "text": [
            "\n"
          ],
          "name": "stdout"
        }
      ]
    },
    {
      "cell_type": "code",
      "metadata": {
        "id": "lOgBSYX8D7BK"
      },
      "source": [
        "X_train, X_test = train_test_split(embedded_contexts, test_size=0.2, random_state=34)\n",
        "labels = to_categorical(data.Label)\n",
        "Y_train, Y_test = train_test_split(labels, test_size=0.2, random_state=34)\n",
        "X_train_tensor = tf.convert_to_tensor(X_train)\n",
        "X_test_tensor = tf.convert_to_tensor(X_test)"
      ],
      "execution_count": null,
      "outputs": []
    },
    {
      "cell_type": "code",
      "metadata": {
        "id": "MLzgBDkYgiQa"
      },
      "source": [
        "context_lengths = [len(x.split()) for x in data.Example]\n",
        "context_lengths_train, context_lengths_test = train_test_split(context_lengths, \n",
        "                                                               test_size=0.2,\n",
        "                                                               random_state=34)"
      ],
      "execution_count": null,
      "outputs": []
    },
    {
      "cell_type": "code",
      "metadata": {
        "colab": {
          "base_uri": "https://localhost:8080/"
        },
        "id": "PZvX5_tUrebe",
        "outputId": "e6786040-43e8-47f9-8dda-bc05919a381a"
      },
      "source": [
        "data['Context Lenghts'] = context_lengths\n",
        "data['Context Lenghts'].value_counts()\n",
        "data['Context Lenghts'].min()"
      ],
      "execution_count": null,
      "outputs": [
        {
          "output_type": "execute_result",
          "data": {
            "text/plain": [
              "6"
            ]
          },
          "metadata": {
            "tags": []
          },
          "execution_count": 50
        }
      ]
    },
    {
      "cell_type": "code",
      "metadata": {
        "colab": {
          "base_uri": "https://localhost:8080/",
          "height": 1000
        },
        "id": "9j5-8MeOr2UQ",
        "outputId": "50a11e3d-9467-4d10-fd54-79835bc47419"
      },
      "source": [
        "boxplot = data.boxplot(column=['Context Lenghts'], figsize=(5,20) )"
      ],
      "execution_count": null,
      "outputs": [
        {
          "output_type": "display_data",
          "data": {
            "image/png": "[encoded data removed]",
            "text/plain": [
              "<Figure size 360x1440 with 1 Axes>"
            ]
          },
          "metadata": {
            "tags": [],
            "needs_background": "light"
          }
        }
      ]
    },
    {
      "cell_type": "code",
      "metadata": {
        "id": "zPlLi6G1W4i5"
      },
      "source": [
        "idioms_train, idioms_test = train_test_split(data['Idiom Normal'], test_size=0.2, random_state=34)"
      ],
      "execution_count": null,
      "outputs": []
    },
    {
      "cell_type": "code",
      "metadata": {
        "colab": {
          "base_uri": "https://localhost:8080/"
        },
        "id": "LUR0eAy56mB7",
        "outputId": "25fd4b3a-2e22-4139-9e97-c44a28a33bb7"
      },
      "source": [
        "Y_train.shape"
      ],
      "execution_count": null,
      "outputs": [
        {
          "output_type": "execute_result",
          "data": {
            "text/plain": [
              "(1359, 2)"
            ]
          },
          "metadata": {
            "tags": []
          },
          "execution_count": 32
        }
      ]
    },
    {
      "cell_type": "markdown",
      "metadata": {
        "id": "VhEfUvMDCJiH"
      },
      "source": [
        "### Train & Test"
      ]
    },
    {
      "cell_type": "code",
      "metadata": {
        "colab": {
          "base_uri": "https://localhost:8080/"
        },
        "id": "hv8hrvKK7eOd",
        "outputId": "d8970b59-3650-430d-df7e-48945d2041d2"
      },
      "source": [
        "model_all = build_model()"
      ],
      "execution_count": null,
      "outputs": [
        {
          "output_type": "stream",
          "text": [
            "compiled model\n"
          ],
          "name": "stdout"
        }
      ]
    },
    {
      "cell_type": "code",
      "metadata": {
        "colab": {
          "base_uri": "https://localhost:8080/"
        },
        "id": "Jshn2ysyGgvg",
        "outputId": "56aac3b8-94c5-4729-8ed0-6acddf056571"
      },
      "source": [
        "model_all.fit(X_train_tensor, Y_train, batch_size=8, epochs=10)"
      ],
      "execution_count": null,
      "outputs": [
        {
          "output_type": "stream",
          "text": [
            "Epoch 1/10\n",
            "170/170 [==============================] - 32s 142ms/step - loss: 0.5983 - accuracy: 0.6887\n",
            "Epoch 2/10\n",
            "170/170 [==============================] - 24s 143ms/step - loss: 0.4754 - accuracy: 0.7763\n",
            "Epoch 3/10\n",
            "170/170 [==============================] - 24s 143ms/step - loss: 0.4151 - accuracy: 0.8146\n",
            "Epoch 4/10\n",
            "170/170 [==============================] - 24s 144ms/step - loss: 0.3586 - accuracy: 0.8344\n",
            "Epoch 5/10\n",
            "170/170 [==============================] - 25s 145ms/step - loss: 0.3196 - accuracy: 0.8624\n",
            "Epoch 6/10\n",
            "170/170 [==============================] - 25s 145ms/step - loss: 0.2932 - accuracy: 0.8771\n",
            "Epoch 7/10\n",
            "170/170 [==============================] - 25s 145ms/step - loss: 0.2639 - accuracy: 0.8911\n",
            "Epoch 8/10\n",
            "170/170 [==============================] - 25s 147ms/step - loss: 0.2383 - accuracy: 0.8999\n",
            "Epoch 9/10\n",
            "170/170 [==============================] - 25s 145ms/step - loss: 0.2219 - accuracy: 0.9102\n",
            "Epoch 10/10\n",
            "170/170 [==============================] - 25s 145ms/step - loss: 0.1953 - accuracy: 0.9272\n"
          ],
          "name": "stdout"
        },
        {
          "output_type": "execute_result",
          "data": {
            "text/plain": [
              "<tensorflow.python.keras.callbacks.History at 0x7f34843d3710>"
            ]
          },
          "metadata": {
            "tags": []
          },
          "execution_count": 22
        }
      ]
    },
    {
      "cell_type": "code",
      "metadata": {
        "colab": {
          "base_uri": "https://localhost:8080/"
        },
        "id": "tEPKUxITT08S",
        "outputId": "22f4341c-6f98-4b27-939c-e86914cf570d"
      },
      "source": [
        "acc = model_all.evaluate(X_test_tensor, Y_test)[1]\n",
        "preds = model_all.predict(np.array(X_test_tensor))\n",
        "f_score = f1_score(np.argmax(preds, axis=1), np.argmax(Y_test, axis=1))\n",
        "roc_auc = roc_auc_score(Y_test, preds)\n",
        "\n",
        "print('Accuracy: {}\\nF-score: {}\\nROC AUC: {}'.format(acc, f_score, roc_auc))\n",
        "roc_auc_score(Y_test,preds)"
      ],
      "execution_count": null,
      "outputs": [
        {
          "output_type": "stream",
          "text": [
            "11/11 [==============================] - 1s 60ms/step - loss: 0.6532 - accuracy: 0.7853\n",
            "Accuracy: 0.7852941155433655\n",
            "F-score: 0.7884057971014493\n",
            "ROC AUC: 0.864202657807309\n"
          ],
          "name": "stdout"
        },
        {
          "output_type": "execute_result",
          "data": {
            "text/plain": [
              "0.864202657807309"
            ]
          },
          "metadata": {
            "tags": []
          },
          "execution_count": 24
        }
      ]
    },
    {
      "cell_type": "code",
      "metadata": {
        "colab": {
          "base_uri": "https://localhost:8080/",
          "height": 330
        },
        "id": "0F6MFM2eSROJ",
        "outputId": "0fd344f3-a4d5-4040-83b9-c797a12f17ff"
      },
      "source": [
        "matrix = confusion_matrix(np.argmax(Y_test, axis=1), np.argmax(preds, axis=1))\n",
        "print(matrix)\n",
        "disp = ConfusionMatrixDisplay(matrix, display_labels=['Literal', 'Idiomatic'])\n",
        "disp.plot()"
      ],
      "execution_count": null,
      "outputs": [
        {
          "output_type": "stream",
          "text": [
            "[[131  41]\n",
            " [ 32 136]]\n"
          ],
          "name": "stdout"
        },
        {
          "output_type": "execute_result",
          "data": {
            "text/plain": [
              "<sklearn.metrics._plot.confusion_matrix.ConfusionMatrixDisplay at 0x7f347cbfbb10>"
            ]
          },
          "metadata": {
            "tags": []
          },
          "execution_count": 26
        },
        {
          "output_type": "display_data",
          "data": {
            "image/png": "[encoded data removed]",
            "text/plain": [
              "<Figure size 432x288 with 2 Axes>"
            ]
          },
          "metadata": {
            "tags": [],
            "needs_background": "light"
          }
        }
      ]
    },
    {
      "cell_type": "markdown",
      "metadata": {
        "id": "OyP9c2F0V04i"
      },
      "source": [
        "### Best and Worst"
      ]
    },
    {
      "cell_type": "markdown",
      "metadata": {
        "id": "xLGiyi26rNxX"
      },
      "source": [
        "#### Function "
      ]
    },
    {
      "cell_type": "code",
      "metadata": {
        "id": "UJGBtozvV52t"
      },
      "source": [
        "def define_best_and_worst(preds, test, idioms_test, idioms_train, k=10):\n",
        "  answers = []\n",
        "  answers_dict = dict(zip(set(idioms_test), [0 for i in np.arange(0, len(set(idioms_test)))]))\n",
        "  answers_ratios_dict = dict(zip(set(idioms_test), [0 for i in np.arange(0, len(set(idioms_test)))]))\n",
        "  test_counts = dict(idioms_test.value_counts())\n",
        "  train_counts = dict(idioms_train.value_counts())\n",
        "  preds = np.argmax(preds, axis=1)\n",
        "  test = np.argmax(test, axis=1)\n",
        "  for i, p in enumerate(preds):\n",
        "    if p == test[i]:\n",
        "      answers.append(1)\n",
        "    else:\n",
        "      answers.append(0)\n",
        "\n",
        "  for id, idiom in enumerate(idioms_test):\n",
        "    if answers[id] == 1: ## if it's correct\n",
        "      answers_dict[idiom] += 1\n",
        "  \n",
        "  for idiom in answers_dict.keys():\n",
        "    answers_ratios_dict[idiom] = answers_dict[idiom]/test_counts[idiom]\n",
        "\n",
        "  sorted_answers = sorted(answers_dict.items(), key=lambda x: x[1])\n",
        "  best_sorted = sorted_answers[:k]\n",
        "  worst_sorted = sorted_answers[-k:]\n",
        "  best_sorted_vals = [i[1] for i in best_sorted]\n",
        "  best_sorted_keys = [i[0] for i in best_sorted]\n",
        "  worst_sorted_vals = [i[1] for i in worst_sorted]\n",
        "  worst_sorted_keys = [i[0] for i in worst_sorted]\n",
        "\n",
        "  best_train_counts = {}\n",
        "  best_test_counts = {}\n",
        "  for i in best_sorted:\n",
        "    best_train_counts[i[0]] = train_counts[i[0]]\n",
        "    best_test_counts[i[0]] = test_counts[i[0]]\n",
        "\n",
        "  df = pd.DataFrame({'Количество правильных предсказаний': best_sorted_vals, \n",
        "                     'Встречаемость в тренировочных данных': best_train_counts,\n",
        "                     'Встречаемость в тестовых данных': best_test_counts}, index=best_sorted_keys)\n",
        "  ax = df.plot.bar(rot=30, figsize=(10,5), color=['#B2BABB', '#616A6B', '#17202A'])\n",
        "\n",
        "  worst_train_counts = {}\n",
        "  worst_test_counts = {}\n",
        "  for i in worst_sorted:\n",
        "    worst_train_counts[i[0]] = train_counts[i[0]]\n",
        "    worst_test_counts[i[0]] = test_counts[i[0]]\n",
        "\n",
        "  df = pd.DataFrame({'Количество правильных предсказаний': worst_sorted_vals, \n",
        "                     'Встречаемость в тренировочных данных': worst_train_counts,\n",
        "                     'Встречаемость в тестовых данных': worst_test_counts}, index=worst_sorted_keys)\n",
        "  ax = df.plot.bar(rot=30, figsize=(10,5), color=['#B2BABB', '#616A6B', '#17202A'])\n"
      ],
      "execution_count": null,
      "outputs": []
    },
    {
      "cell_type": "code",
      "metadata": {
        "id": "7hv8UnEVrsDW"
      },
      "source": [
        "def define_best_and_worst_ratios(preds, test, idioms_test, idioms_train, k=10):\n",
        "  answers = []\n",
        "  answers_dict = dict(zip(set(idioms_test), [0 for i in np.arange(0, len(set(idioms_test)))]))\n",
        "  answers_ratios_dict = dict(zip(set(idioms_test), [0 for i in np.arange(0, len(set(idioms_test)))]))\n",
        "  test_counts = dict(idioms_test.value_counts())\n",
        "  train_counts = dict(idioms_train.value_counts())\n",
        "  preds = np.argmax(preds, axis=1)\n",
        "  test = np.argmax(test, axis=1)\n",
        "  for i, p in enumerate(preds):\n",
        "    if p == test[i]:\n",
        "      answers.append(1)\n",
        "    else:\n",
        "      answers.append(0)\n",
        "\n",
        "  for id, idiom in enumerate(idioms_test):\n",
        "    if answers[id] == 1: ## if it's correct\n",
        "      answers_dict[idiom] += 1\n",
        "  \n",
        "  for idiom in answers_dict.keys():\n",
        "    answers_ratios_dict[idiom] = answers_dict[idiom]/test_counts[idiom]\n",
        "\n",
        "  sorted_answers = sorted(answers_ratios_dict.items(), key=lambda x: x[1])\n",
        "  best_sorted = sorted_answers[:k]\n",
        "  worst_sorted = sorted_answers[-k:]\n",
        "  best_sorted_vals = [i[1] for i in best_sorted]\n",
        "  best_sorted_keys = [i[0] for i in best_sorted]\n",
        "  worst_sorted_vals = [i[1] for i in worst_sorted]\n",
        "  worst_sorted_keys = [i[0] for i in worst_sorted]\n",
        "\n",
        "  best_train_counts = {}\n",
        "  best_test_counts = {}\n",
        "  for i in best_sorted:\n",
        "    best_train_counts[i[0]] = train_counts[i[0]]\n",
        "    best_test_counts[i[0]] = test_counts[i[0]]\n",
        "\n",
        "  df = pd.DataFrame({'Количество правильных предсказаний': best_sorted_vals, \n",
        "                     'Встречаемость в тренировочных данных': best_train_counts,\n",
        "                     'Встречаемость в тестовых данных': best_test_counts}, index=best_sorted_keys)\n",
        "  ax = df.plot.bar(rot=30, figsize=(10,5), color=['#B2BABB', '#616A6B', '#17202A'])\n",
        "\n",
        "  worst_train_counts = {}\n",
        "  worst_test_counts = {}\n",
        "  for i in worst_sorted:\n",
        "    worst_train_counts[i[0]] = train_counts[i[0]]\n",
        "    worst_test_counts[i[0]] = test_counts[i[0]]\n",
        "\n",
        "  df = pd.DataFrame({'Количество правильных предсказаний': worst_sorted_vals, \n",
        "                     'Встречаемость в тренировочных данных': worst_train_counts,\n",
        "                     'Встречаемость в тестовых данных': worst_test_counts}, index=worst_sorted_keys)\n",
        "  ax = df.plot.bar(rot=30, figsize=(10,5), color=['#B2BABB', '#616A6B', '#17202A'])"
      ],
      "execution_count": null,
      "outputs": []
    },
    {
      "cell_type": "code",
      "metadata": {
        "id": "VHG7erTux64J"
      },
      "source": [
        "def define_best_and_worst_ratios_not_in_train(preds, test, idioms_test, k=10):\n",
        "  answers = []\n",
        "  answers_dict = dict(zip(set(idioms_test), [0 for i in np.arange(0, len(set(idioms_test)))]))\n",
        "  answers_ratios_dict = dict(zip(set(idioms_test), [0 for i in np.arange(0, len(set(idioms_test)))]))\n",
        "  test_counts = dict(idioms_test.value_counts())\n",
        "  preds = np.argmax(preds, axis=1)\n",
        "  test = np.argmax(test, axis=1)\n",
        "  for i, p in enumerate(preds):\n",
        "    if p == test[i]:\n",
        "      answers.append(1)\n",
        "    else:\n",
        "      answers.append(0)\n",
        "\n",
        "  for id, idiom in enumerate(idioms_test):\n",
        "    if answers[id] == 1: ## if it's correct\n",
        "      answers_dict[idiom] += 1\n",
        "  \n",
        "  for idiom in answers_dict.keys():\n",
        "    answers_ratios_dict[idiom] = answers_dict[idiom]/test_counts[idiom]\n",
        "\n",
        "  sorted_answers = sorted(answers_ratios_dict.items(), key=lambda x: x[1])\n",
        "  best_sorted = sorted_answers[:k]\n",
        "  worst_sorted = sorted_answers[-k:]\n",
        "  best_sorted_vals = [i[1] for i in best_sorted]\n",
        "  best_sorted_keys = [i[0] for i in best_sorted]\n",
        "  worst_sorted_vals = [i[1] for i in worst_sorted]\n",
        "  worst_sorted_keys = [i[0] for i in worst_sorted]\n",
        "\n",
        "  best_test_counts = {}\n",
        "  for i in best_sorted:\n",
        "    best_test_counts[i[0]] = test_counts[i[0]]\n",
        "\n",
        "  df = pd.DataFrame({'Количество правильных предсказаний': best_sorted_vals, \n",
        "                     'Встречаемость в тестовых данных': best_test_counts}, index=best_sorted_keys)\n",
        "  ax = df.plot.bar(rot=30, figsize=(10,5), color=['#B2BABB', '#616A6B', '#17202A'])\n",
        "\n",
        "  worst_test_counts = {}\n",
        "  for i in worst_sorted:\n",
        "    worst_test_counts[i[0]] = test_counts[i[0]]\n",
        "\n",
        "  df = pd.DataFrame({'Количество правильных предсказаний': worst_sorted_vals, \n",
        "                     'Встречаемость в тестовых данных': worst_test_counts}, index=worst_sorted_keys)\n",
        "  ax = df.plot.bar(rot=30, figsize=(10,5), color=['#B2BABB', '#616A6B', '#17202A'])"
      ],
      "execution_count": null,
      "outputs": []
    },
    {
      "cell_type": "code",
      "metadata": {
        "id": "zOXt381DhKyY"
      },
      "source": [
        "def define_lengths(preds, test, context_lengths_test, k=10):\n",
        "  answers = []\n",
        "  answers_dict = dict(zip(set(idioms_test), [0 for i in np.arange(0, len(set(idioms_test)))]))\n",
        "  answers_ratios_dict = dict(zip(set(idioms_test), [0 for i in np.arange(0, len(set(idioms_test)))]))\n",
        "  test_counts = dict(idioms_test.value_counts())\n",
        "  train_counts = dict(idioms_train.value_counts())\n",
        "  preds = np.argmax(preds, axis=1)\n",
        "  test = np.argmax(test, axis=1)\n",
        "  trues = []\n",
        "  falses = []\n",
        "  for i, p in enumerate(preds):\n",
        "    if p == test[i]:\n",
        "      answers.append(1)\n",
        "      trues.append(context_lengths_test[i])\n",
        "    else:\n",
        "      answers.append(0)\n",
        "      falses.append(context_lengths_test[i])\n",
        "\n",
        "  df = pd.DataFrame({'Истинные предсказания': trues})\n",
        "  hist = df.hist(bins=35, figsize=(10,2), color='gray')\n",
        "\n",
        "  df = pd.DataFrame({'Ложные предсказания': falses})\n",
        "  hist = df.hist(bins=35, figsize=(10,2), color='gray')\n",
        "  \n",
        "  print(len(trues), len(falses))\n",
        "  #create a df\n",
        "  #df['True'] = trues\n",
        "  #df['False'] = falses\n",
        "  #ax = df.plot.hist(bins=12, alpha=0.5)"
      ],
      "execution_count": null,
      "outputs": []
    },
    {
      "cell_type": "code",
      "metadata": {
        "colab": {
          "base_uri": "https://localhost:8080/",
          "height": 346
        },
        "id": "xLVTHMCqk43t",
        "outputId": "00fc19a2-4b98-44f6-d515-061945ccc2f0"
      },
      "source": [
        "define_lengths(preds, Y_test, context_lengths_test)"
      ],
      "execution_count": null,
      "outputs": [
        {
          "output_type": "stream",
          "text": [
            "267 73\n"
          ],
          "name": "stdout"
        },
        {
          "output_type": "display_data",
          "data": {
            "image/png": "[encoded data removed]",
            "text/plain": [
              "<Figure size 720x144 with 1 Axes>"
            ]
          },
          "metadata": {
            "tags": [],
            "needs_background": "light"
          }
        },
        {
          "output_type": "display_data",
          "data": {
            "image/png": "[encoded data removed]",
            "text/plain": [
              "<Figure size 720x144 with 1 Axes>"
            ]
          },
          "metadata": {
            "tags": [],
            "needs_background": "light"
          }
        }
      ]
    },
    {
      "cell_type": "markdown",
      "metadata": {
        "id": "XXqe7fGjrR4w"
      },
      "source": [
        "#### Plots"
      ]
    },
    {
      "cell_type": "code",
      "metadata": {
        "colab": {
          "base_uri": "https://localhost:8080/",
          "height": 731
        },
        "id": "EKm8mVMqanxu",
        "outputId": "d56bdaa9-7e06-4891-96fa-2939799b3784"
      },
      "source": [
        "define_best_and_worst(preds, Y_test, idioms_test, idioms_train)"
      ],
      "execution_count": null,
      "outputs": [
        {
          "output_type": "display_data",
          "data": {
            "image/png": "[encoded data removed]",
            "text/plain": [
              "<Figure size 720x360 with 1 Axes>"
            ]
          },
          "metadata": {
            "tags": [],
            "needs_background": "light"
          }
        },
        {
          "output_type": "display_data",
          "data": {
            "image/png": "[encoded data removed]",
            "text/plain": [
              "<Figure size 720x360 with 1 Axes>"
            ]
          },
          "metadata": {
            "tags": [],
            "needs_background": "light"
          }
        }
      ]
    },
    {
      "cell_type": "code",
      "metadata": {
        "colab": {
          "base_uri": "https://localhost:8080/",
          "height": 733
        },
        "id": "FaR9ORacsuzL",
        "outputId": "5eac16c2-ec47-4e37-f8cd-2f6fec1e3f53"
      },
      "source": [
        "define_best_and_worst_ratios(preds, Y_test, idioms_test, idioms_train)"
      ],
      "execution_count": null,
      "outputs": [
        {
          "output_type": "display_data",
          "data": {
            "image/png": "[encoded data removed]",
            "text/plain": [
              "<Figure size 720x360 with 1 Axes>"
            ]
          },
          "metadata": {
            "tags": [],
            "needs_background": "light"
          }
        },
        {
          "output_type": "display_data",
          "data": {
            "image/png": "[encoded data removed]",
            "text/plain": [
              "<Figure size 720x360 with 1 Axes>"
            ]
          },
          "metadata": {
            "tags": [],
            "needs_background": "light"
          }
        }
      ]
    },
    {
      "cell_type": "markdown",
      "metadata": {
        "id": "o0JBAIb0J29r"
      },
      "source": [
        "#### Split 7/3"
      ]
    },
    {
      "cell_type": "code",
      "metadata": {
        "id": "2MhY04SBJ63h"
      },
      "source": [
        "X_train, X_test = train_test_split(embedded_contexts, test_size=0.3, random_state=34)\n",
        "Y_train, Y_test = train_test_split(labels, test_size=0.3, random_state=34)\n",
        "X_train_tensor = tf.convert_to_tensor(X_train)\n",
        "X_test_tensor = tf.convert_to_tensor(X_test)"
      ],
      "execution_count": null,
      "outputs": []
    },
    {
      "cell_type": "code",
      "metadata": {
        "colab": {
          "base_uri": "https://localhost:8080/"
        },
        "id": "JKgwQNGjKESg",
        "outputId": "43f20aec-d5f4-40ea-811c-1f1d901a965a"
      },
      "source": [
        "model_all_2 = build_model()"
      ],
      "execution_count": null,
      "outputs": [
        {
          "output_type": "stream",
          "text": [
            "compiled model\n"
          ],
          "name": "stdout"
        }
      ]
    },
    {
      "cell_type": "code",
      "metadata": {
        "colab": {
          "base_uri": "https://localhost:8080/"
        },
        "id": "uh1ezA7mKLJm",
        "outputId": "f4bc1884-8499-48cb-8226-3a42f02b4cf9"
      },
      "source": [
        "model_all_2.fit(X_train_tensor, Y_train, batch_size=8, epochs=10)"
      ],
      "execution_count": null,
      "outputs": [
        {
          "output_type": "stream",
          "text": [
            "Epoch 1/10\n",
            "149/149 [==============================] - 35s 152ms/step - loss: 0.6065 - accuracy: 0.6745\n",
            "Epoch 2/10\n",
            "149/149 [==============================] - 22s 147ms/step - loss: 0.4733 - accuracy: 0.7780\n",
            "Epoch 3/10\n",
            "149/149 [==============================] - 24s 159ms/step - loss: 0.4261 - accuracy: 0.8040\n",
            "Epoch 4/10\n",
            "149/149 [==============================] - 22s 148ms/step - loss: 0.3775 - accuracy: 0.8343\n",
            "Epoch 5/10\n",
            "149/149 [==============================] - 22s 147ms/step - loss: 0.3412 - accuracy: 0.8537\n",
            "Epoch 6/10\n",
            "149/149 [==============================] - 23s 152ms/step - loss: 0.3039 - accuracy: 0.8780\n",
            "Epoch 7/10\n",
            "149/149 [==============================] - 23s 156ms/step - loss: 0.2690 - accuracy: 0.8873\n",
            "Epoch 8/10\n",
            "149/149 [==============================] - 23s 154ms/step - loss: 0.2400 - accuracy: 0.9092\n",
            "Epoch 9/10\n",
            "149/149 [==============================] - 23s 157ms/step - loss: 0.2202 - accuracy: 0.9100\n",
            "Epoch 10/10\n",
            "149/149 [==============================] - 23s 155ms/step - loss: 0.1896 - accuracy: 0.9260\n"
          ],
          "name": "stdout"
        },
        {
          "output_type": "execute_result",
          "data": {
            "text/plain": [
              "<tensorflow.python.keras.callbacks.History at 0x7fa27eb59d90>"
            ]
          },
          "metadata": {
            "tags": []
          },
          "execution_count": 69
        }
      ]
    },
    {
      "cell_type": "code",
      "metadata": {
        "colab": {
          "base_uri": "https://localhost:8080/"
        },
        "id": "pz6UqVPwKQqb",
        "outputId": "a6c9033e-4c18-45e0-b778-3892825c2e57"
      },
      "source": [
        "model_all_2.evaluate(X_test_tensor, Y_test)"
      ],
      "execution_count": null,
      "outputs": [
        {
          "output_type": "stream",
          "text": [
            "16/16 [==============================] - 4s 68ms/step - loss: 0.6396 - accuracy: 0.8059\n"
          ],
          "name": "stdout"
        },
        {
          "output_type": "execute_result",
          "data": {
            "text/plain": [
              "[0.6395891308784485, 0.8058823347091675]"
            ]
          },
          "metadata": {
            "tags": []
          },
          "execution_count": 70
        }
      ]
    },
    {
      "cell_type": "code",
      "metadata": {
        "colab": {
          "base_uri": "https://localhost:8080/"
        },
        "id": "KEhsbk_OKXPv",
        "outputId": "1763b0de-cd20-479d-b535-f1ead42504fc"
      },
      "source": [
        "preds_all = model_all_2.predict(np.array(X_test_tensor))\n",
        "f1_score(np.argmax(preds_all, axis=1), np.argmax(Y_test, axis=1))"
      ],
      "execution_count": null,
      "outputs": [
        {
          "output_type": "execute_result",
          "data": {
            "text/plain": [
              "0.8216216216216216"
            ]
          },
          "metadata": {
            "tags": []
          },
          "execution_count": 71
        }
      ]
    },
    {
      "cell_type": "markdown",
      "metadata": {
        "id": "-8Qtz4jxj685"
      },
      "source": [
        "## VNC"
      ]
    },
    {
      "cell_type": "code",
      "metadata": {
        "colab": {
          "base_uri": "https://localhost:8080/",
          "height": 66,
          "referenced_widgets": [
            "a456f85b630d434ea959a9b2728a907a",
            "dc1d23a836fc4ea795d69d0910b81024",
            "94b1a563a0c749deb5cabbd5df2da13a",
            "d924eaac3e1c42de8bb07c92525d646d",
            "7856f284acb0462d8350fb564d6f7841",
            "e1f5abd84ce640af9f3eefc38131b3d3",
            "95989b7f5b844faab46971cbf2ffdc33",
            "80495656ddf64c119c309c50d3eae1d3"
          ]
        },
        "id": "yhdmWWw4j-mv",
        "outputId": "aa7e377a-62aa-4a9e-b464-4f7b14a7f285"
      },
      "source": [
        "embedded_contexts_vnc = get_bert_embeddings(data_vnc['Example'])"
      ],
      "execution_count": null,
      "outputs": [
        {
          "output_type": "display_data",
          "data": {
            "application/vnd.jupyter.widget-view+json": {
              "model_id": "a456f85b630d434ea959a9b2728a907a",
              "version_minor": 0,
              "version_major": 2
            },
            "text/plain": [
              "HBox(children=(FloatProgress(value=0.0, max=893.0), HTML(value='')))"
            ]
          },
          "metadata": {
            "tags": []
          }
        },
        {
          "output_type": "stream",
          "text": [
            "\n"
          ],
          "name": "stdout"
        }
      ]
    },
    {
      "cell_type": "code",
      "metadata": {
        "id": "wrdp7OElmE1o"
      },
      "source": [
        "labels_vnc = to_categorical(data_vnc.Label)\n",
        "X_train_vnc, X_test_vnc = train_test_split(embedded_contexts_vnc, test_size=0.2, random_state=34)\n",
        "Y_train_vnc, Y_test_vnc = train_test_split(labels_vnc, test_size=0.2, random_state=34)\n",
        "X_train_vnc = tf.convert_to_tensor(X_train_vnc)\n",
        "X_test_vnc = tf.convert_to_tensor(X_test_vnc)"
      ],
      "execution_count": null,
      "outputs": []
    },
    {
      "cell_type": "markdown",
      "metadata": {
        "id": "-H4GbpTTnM8R"
      },
      "source": [
        "### Train & Test"
      ]
    },
    {
      "cell_type": "code",
      "metadata": {
        "colab": {
          "base_uri": "https://localhost:8080/"
        },
        "id": "cRLS-RfP7qy1",
        "outputId": "a5a8d693-ad5d-40f5-eb84-6e0606f57726"
      },
      "source": [
        "model_vnc = build_model()"
      ],
      "execution_count": null,
      "outputs": [
        {
          "output_type": "stream",
          "text": [
            "compiled model\n"
          ],
          "name": "stdout"
        }
      ]
    },
    {
      "cell_type": "code",
      "metadata": {
        "colab": {
          "base_uri": "https://localhost:8080/"
        },
        "id": "DLwbWdsunZzl",
        "outputId": "c20037e9-d4a8-438e-e809-ad195e75e888"
      },
      "source": [
        "model_vnc.fit(X_train_vnc, Y_train_vnc, batch_size=8, epochs=10)"
      ],
      "execution_count": null,
      "outputs": [
        {
          "output_type": "stream",
          "text": [
            "Epoch 1/10\n",
            "90/90 [==============================] - 18s 136ms/step - loss: 0.6230 - accuracy: 0.6737\n",
            "Epoch 2/10\n",
            "90/90 [==============================] - 12s 134ms/step - loss: 0.4568 - accuracy: 0.7997\n",
            "Epoch 3/10\n",
            "90/90 [==============================] - 12s 135ms/step - loss: 0.3641 - accuracy: 0.8473\n",
            "Epoch 4/10\n",
            "90/90 [==============================] - 12s 135ms/step - loss: 0.3199 - accuracy: 0.8725\n",
            "Epoch 5/10\n",
            "90/90 [==============================] - 12s 134ms/step - loss: 0.2799 - accuracy: 0.8894\n",
            "Epoch 6/10\n",
            "90/90 [==============================] - 12s 136ms/step - loss: 0.2314 - accuracy: 0.9034\n",
            "Epoch 7/10\n",
            "90/90 [==============================] - 12s 134ms/step - loss: 0.1935 - accuracy: 0.9286\n",
            "Epoch 8/10\n",
            "90/90 [==============================] - 12s 135ms/step - loss: 0.1753 - accuracy: 0.9384\n",
            "Epoch 9/10\n",
            "90/90 [==============================] - 12s 135ms/step - loss: 0.1257 - accuracy: 0.9552\n",
            "Epoch 10/10\n",
            "90/90 [==============================] - 12s 134ms/step - loss: 0.1046 - accuracy: 0.9678\n"
          ],
          "name": "stdout"
        },
        {
          "output_type": "execute_result",
          "data": {
            "text/plain": [
              "<tensorflow.python.keras.callbacks.History at 0x7f87e3a19c10>"
            ]
          },
          "metadata": {
            "tags": []
          },
          "execution_count": 68
        }
      ]
    },
    {
      "cell_type": "code",
      "metadata": {
        "colab": {
          "base_uri": "https://localhost:8080/"
        },
        "id": "q7V-AkF4E00O",
        "outputId": "15b064e2-a668-40c9-82c1-18680b59c9e1"
      },
      "source": [
        "acc = model_vnc.evaluate(X_test_vnc, Y_test_vnc)[1]\n",
        "preds = model_vnc.predict(np.array(X_test_vnc))\n",
        "f_score = f1_score(np.argmax(preds, axis=1), np.argmax(Y_test_vnc, axis=1))\n",
        "roc_auc = roc_auc_score(Y_test_vnc, preds)\n",
        "\n",
        "print('Accuracy: {}\\nF-score: {}\\nROC AUC: {}'.format(acc, f_score, roc_auc))\n",
        "roc_auc_score(Y_test_vnc,preds)"
      ],
      "execution_count": null,
      "outputs": [
        {
          "output_type": "stream",
          "text": [
            "6/6 [==============================] - 0s 52ms/step - loss: 0.5874 - accuracy: 0.8212\n",
            "Accuracy: 0.8212290406227112\n",
            "F-score: 0.8202247191011236\n",
            "ROC AUC: 0.9297032828282827\n"
          ],
          "name": "stdout"
        },
        {
          "output_type": "execute_result",
          "data": {
            "text/plain": [
              "0.9297032828282827"
            ]
          },
          "metadata": {
            "tags": []
          },
          "execution_count": 177
        }
      ]
    },
    {
      "cell_type": "code",
      "metadata": {
        "colab": {
          "base_uri": "https://localhost:8080/",
          "height": 330
        },
        "id": "woaNglketJas",
        "outputId": "1c69e7b4-cc45-4750-d4fc-e4b00d044cae"
      },
      "source": [
        "matrix = confusion_matrix(np.argmax(Y_test_vnc, axis=1), np.argmax(preds, axis=1))\n",
        "print(matrix)\n",
        "disp = ConfusionMatrixDisplay(matrix, display_labels=['Literal', 'Idiomatic'])\n",
        "disp.plot()"
      ],
      "execution_count": null,
      "outputs": [
        {
          "output_type": "stream",
          "text": [
            "[[74  6]\n",
            " [26 73]]\n"
          ],
          "name": "stdout"
        },
        {
          "output_type": "execute_result",
          "data": {
            "text/plain": [
              "<sklearn.metrics._plot.confusion_matrix.ConfusionMatrixDisplay at 0x7f87e244bc90>"
            ]
          },
          "metadata": {
            "tags": []
          },
          "execution_count": 170
        },
        {
          "output_type": "display_data",
          "data": {
            "image/png": "[encoded data removed]",
            "text/plain": [
              "<Figure size 432x288 with 2 Axes>"
            ]
          },
          "metadata": {
            "tags": [],
            "needs_background": "light"
          }
        }
      ]
    },
    {
      "cell_type": "code",
      "metadata": {
        "colab": {
          "base_uri": "https://localhost:8080/",
          "height": 745
        },
        "id": "hOPh30Vcv3at",
        "outputId": "a0f707f9-9836-4e80-f4c3-a6d30e35d427"
      },
      "source": [
        "idioms_train_vnc, idioms_test_vnc = train_test_split(data_vnc['Idiom Normal'], test_size=0.2, random_state=34)\n",
        "define_best_and_worst_ratios(preds, Y_test_vnc, idioms_test_vnc, idioms_train_vnc)"
      ],
      "execution_count": null,
      "outputs": [
        {
          "output_type": "display_data",
          "data": {
            "image/png": "[encoded data removed]",
            "text/plain": [
              "<Figure size 720x360 with 1 Axes>"
            ]
          },
          "metadata": {
            "tags": [],
            "needs_background": "light"
          }
        },
        {
          "output_type": "display_data",
          "data": {
            "image/png": "[encoded data removed]",
            "text/plain": [
              "<Figure size 720x360 with 1 Axes>"
            ]
          },
          "metadata": {
            "tags": [],
            "needs_background": "light"
          }
        }
      ]
    },
    {
      "cell_type": "markdown",
      "metadata": {
        "id": "gXHgm3RkK1lv"
      },
      "source": [
        "#### Split 7/3"
      ]
    },
    {
      "cell_type": "code",
      "metadata": {
        "id": "wd7I6b_6K5sH"
      },
      "source": [
        "X_train_vnc, X_test_vnc = train_test_split(embedded_contexts_vnc, test_size=0.3, random_state=34)\n",
        "Y_train_vnc, Y_test_vnc = train_test_split(labels_vnc, test_size=0.3, random_state=34)\n",
        "X_train_vnc = tf.convert_to_tensor(X_train_vnc)\n",
        "X_test_vnc = tf.convert_to_tensor(X_test_vnc)"
      ],
      "execution_count": null,
      "outputs": []
    },
    {
      "cell_type": "code",
      "metadata": {
        "colab": {
          "base_uri": "https://localhost:8080/"
        },
        "id": "jZ03Rq6VLAIG",
        "outputId": "e4c84f2c-433b-4812-835f-f71bcde4a7a3"
      },
      "source": [
        "model_vnc_2 = build_model()\n",
        "model_vnc_2.fit(X_train_vnc, Y_train_vnc, batch_size=8, epochs=10)"
      ],
      "execution_count": null,
      "outputs": [
        {
          "output_type": "stream",
          "text": [
            "compiled model\n",
            "Epoch 1/10\n",
            "79/79 [==============================] - 19s 145ms/step - loss: 0.6290 - accuracy: 0.6816\n",
            "Epoch 2/10\n",
            "79/79 [==============================] - 12s 147ms/step - loss: 0.4771 - accuracy: 0.8048\n",
            "Epoch 3/10\n",
            "79/79 [==============================] - 12s 152ms/step - loss: 0.3887 - accuracy: 0.8464\n",
            "Epoch 4/10\n",
            "79/79 [==============================] - 12s 149ms/step - loss: 0.3298 - accuracy: 0.8608\n",
            "Epoch 5/10\n",
            "79/79 [==============================] - 12s 148ms/step - loss: 0.2670 - accuracy: 0.8960\n",
            "Epoch 6/10\n",
            "79/79 [==============================] - 12s 151ms/step - loss: 0.2427 - accuracy: 0.9040\n",
            "Epoch 7/10\n",
            "79/79 [==============================] - 13s 161ms/step - loss: 0.1919 - accuracy: 0.9328\n",
            "Epoch 8/10\n",
            "79/79 [==============================] - 12s 157ms/step - loss: 0.1707 - accuracy: 0.9408\n",
            "Epoch 9/10\n",
            "79/79 [==============================] - 12s 153ms/step - loss: 0.1475 - accuracy: 0.9504\n",
            "Epoch 10/10\n",
            "79/79 [==============================] - 12s 156ms/step - loss: 0.1188 - accuracy: 0.9568\n"
          ],
          "name": "stdout"
        },
        {
          "output_type": "execute_result",
          "data": {
            "text/plain": [
              "<tensorflow.python.keras.callbacks.History at 0x7fa27b4acb10>"
            ]
          },
          "metadata": {
            "tags": []
          },
          "execution_count": 73
        }
      ]
    },
    {
      "cell_type": "code",
      "metadata": {
        "colab": {
          "base_uri": "https://localhost:8080/"
        },
        "id": "wSLjVDJVLJEA",
        "outputId": "cff56a86-3f50-4d6d-cc50-e22aebd46a11"
      },
      "source": [
        "model_vnc_2.evaluate(X_test_vnc, Y_test_vnc)"
      ],
      "execution_count": null,
      "outputs": [
        {
          "output_type": "stream",
          "text": [
            "9/9 [==============================] - 3s 64ms/step - loss: 0.4609 - accuracy: 0.8321\n"
          ],
          "name": "stdout"
        },
        {
          "output_type": "execute_result",
          "data": {
            "text/plain": [
              "[0.4609304666519165, 0.8320895433425903]"
            ]
          },
          "metadata": {
            "tags": []
          },
          "execution_count": 74
        }
      ]
    },
    {
      "cell_type": "code",
      "metadata": {
        "colab": {
          "base_uri": "https://localhost:8080/"
        },
        "id": "m1bfwDq-LLIE",
        "outputId": "fe2d25c7-93cf-420e-c25c-801c8fe24753"
      },
      "source": [
        "preds_vnc = model_vnc_2.predict(np.array(X_test_vnc))\n",
        "f1_score(np.argmax(preds_vnc, axis=1), np.argmax(Y_test_vnc, axis=1))"
      ],
      "execution_count": null,
      "outputs": [
        {
          "output_type": "execute_result",
          "data": {
            "text/plain": [
              "0.8484848484848485"
            ]
          },
          "metadata": {
            "tags": []
          },
          "execution_count": 75
        }
      ]
    },
    {
      "cell_type": "markdown",
      "metadata": {
        "id": "SABSFxZNrNz0"
      },
      "source": [
        "## ANC"
      ]
    },
    {
      "cell_type": "code",
      "metadata": {
        "colab": {
          "base_uri": "https://localhost:8080/",
          "height": 66,
          "referenced_widgets": [
            "914456390b3c4bebb7c73fa2df7a4e91",
            "2bd2a2952fe54b31a9f09d868ccbf032",
            "999861d2e60e4b9fbf32e881134043fa",
            "7ebca158ec9f4792a3852cce06abf277",
            "acf586bc32ea4eda8aadb1ce3298b8db",
            "e5719476431c49d4a9d738e444ed6063",
            "1ece9b6450264b2e946592c82addfd81",
            "ce9090a0b46341ce9fe8568b847df4e2"
          ]
        },
        "id": "3sskRMZrDXuG",
        "outputId": "51a67d2e-b7df-48f8-e8c2-38f38ea21d3d"
      },
      "source": [
        "embedded_contexts_anc = get_bert_embeddings(data_anc['Example'])"
      ],
      "execution_count": null,
      "outputs": [
        {
          "output_type": "display_data",
          "data": {
            "application/vnd.jupyter.widget-view+json": {
              "model_id": "914456390b3c4bebb7c73fa2df7a4e91",
              "version_minor": 0,
              "version_major": 2
            },
            "text/plain": [
              "HBox(children=(FloatProgress(value=0.0, max=806.0), HTML(value='')))"
            ]
          },
          "metadata": {
            "tags": []
          }
        },
        {
          "output_type": "stream",
          "text": [
            "\n"
          ],
          "name": "stdout"
        }
      ]
    },
    {
      "cell_type": "code",
      "metadata": {
        "id": "5s2TY7DvrMFX"
      },
      "source": [
        "labels_anc = to_categorical(data_anc.Label)\n",
        "X_train_anc, X_test_anc = train_test_split(embedded_contexts_anc, test_size=0.2, random_state=34)\n",
        "Y_train_anc, Y_test_anc = train_test_split(labels_anc, test_size=0.2, random_state=34)\n",
        "X_train_anc = tf.convert_to_tensor(X_train_anc)\n",
        "X_test_anc = tf.convert_to_tensor(X_test_anc)"
      ],
      "execution_count": null,
      "outputs": []
    },
    {
      "cell_type": "markdown",
      "metadata": {
        "id": "J8vv7_Zks3ge"
      },
      "source": [
        "### Classifier"
      ]
    },
    {
      "cell_type": "code",
      "metadata": {
        "colab": {
          "base_uri": "https://localhost:8080/"
        },
        "id": "Pe2LfJxJs2Z6",
        "outputId": "69fdd6f9-1f4c-4c8d-aad1-fa7d3fcac314"
      },
      "source": [
        "model_anc = build_model()"
      ],
      "execution_count": null,
      "outputs": [
        {
          "output_type": "stream",
          "text": [
            "compiled model\n"
          ],
          "name": "stdout"
        }
      ]
    },
    {
      "cell_type": "code",
      "metadata": {
        "colab": {
          "base_uri": "https://localhost:8080/"
        },
        "id": "K_k9TTCfs7hb",
        "outputId": "f1dd1e0a-a88b-4259-b082-0e1cffdf7ab7"
      },
      "source": [
        "model_anc.fit(np.asarray(X_train_anc), Y_train_anc, batch_size=8, epochs=10)\n",
        "print('fit model')"
      ],
      "execution_count": null,
      "outputs": [
        {
          "output_type": "stream",
          "text": [
            "Epoch 1/10\n",
            "81/81 [==============================] - 17s 133ms/step - loss: 0.6709 - accuracy: 0.6196\n",
            "Epoch 2/10\n",
            "81/81 [==============================] - 11s 133ms/step - loss: 0.5687 - accuracy: 0.7174\n",
            "Epoch 3/10\n",
            "81/81 [==============================] - 11s 136ms/step - loss: 0.4915 - accuracy: 0.7748\n",
            "Epoch 4/10\n",
            "81/81 [==============================] - 11s 134ms/step - loss: 0.4231 - accuracy: 0.8121\n",
            "Epoch 5/10\n",
            "81/81 [==============================] - 11s 134ms/step - loss: 0.3804 - accuracy: 0.8292\n",
            "Epoch 6/10\n",
            "81/81 [==============================] - 11s 133ms/step - loss: 0.3141 - accuracy: 0.8758\n",
            "Epoch 7/10\n",
            "81/81 [==============================] - 11s 134ms/step - loss: 0.2834 - accuracy: 0.8742\n",
            "Epoch 8/10\n",
            "81/81 [==============================] - 11s 133ms/step - loss: 0.2498 - accuracy: 0.8944\n",
            "Epoch 9/10\n",
            "81/81 [==============================] - 11s 134ms/step - loss: 0.2047 - accuracy: 0.9193\n",
            "Epoch 10/10\n",
            "81/81 [==============================] - 11s 135ms/step - loss: 0.1878 - accuracy: 0.9239\n",
            "fit model\n"
          ],
          "name": "stdout"
        }
      ]
    },
    {
      "cell_type": "code",
      "metadata": {
        "colab": {
          "base_uri": "https://localhost:8080/"
        },
        "id": "6txZ7eLitC1R",
        "outputId": "93684967-7529-4a69-e7aa-5527dbc74da1"
      },
      "source": [
        "acc = model_anc.evaluate(X_test_anc, Y_test_anc)[1]\n",
        "preds = model_anc.predict(np.array(X_test_anc))\n",
        "f_score = f1_score(np.argmax(preds, axis=1), np.argmax(Y_test_anc, axis=1))\n",
        "roc_auc = roc_auc_score(Y_test_anc, preds)\n",
        "\n",
        "print('Accuracy: {}\\nF-score: {}\\nROC AUC: {}'.format(acc, f_score, roc_auc))\n",
        "roc_auc_score(Y_test_anc,preds)"
      ],
      "execution_count": null,
      "outputs": [
        {
          "output_type": "stream",
          "text": [
            "6/6 [==============================] - 2s 52ms/step - loss: 0.8447 - accuracy: 0.7346\n",
            "Accuracy: 0.7345678806304932\n",
            "F-score: 0.6666666666666667\n",
            "ROC AUC: 0.8266178266178266\n"
          ],
          "name": "stdout"
        },
        {
          "output_type": "execute_result",
          "data": {
            "text/plain": [
              "0.8266178266178266"
            ]
          },
          "metadata": {
            "tags": []
          },
          "execution_count": 174
        }
      ]
    },
    {
      "cell_type": "code",
      "metadata": {
        "colab": {
          "base_uri": "https://localhost:8080/",
          "height": 330
        },
        "id": "3I0ft2T7SCBe",
        "outputId": "52b25d40-6069-4bca-dbe8-9be7612f95aa"
      },
      "source": [
        "matrix = confusion_matrix(np.argmax(Y_test_anc, axis=1), np.argmax(preds, axis=1))\n",
        "print(matrix)\n",
        "disp = ConfusionMatrixDisplay(matrix, display_labels=['Literal', 'Idiomatic'])\n",
        "disp.plot()"
      ],
      "execution_count": null,
      "outputs": [
        {
          "output_type": "stream",
          "text": [
            "[[76  8]\n",
            " [35 43]]\n"
          ],
          "name": "stdout"
        },
        {
          "output_type": "execute_result",
          "data": {
            "text/plain": [
              "<sklearn.metrics._plot.confusion_matrix.ConfusionMatrixDisplay at 0x7f87dd674150>"
            ]
          },
          "metadata": {
            "tags": []
          },
          "execution_count": 175
        },
        {
          "output_type": "display_data",
          "data": {
            "image/png": "[encoded data removed]",
            "text/plain": [
              "<Figure size 432x288 with 2 Axes>"
            ]
          },
          "metadata": {
            "tags": [],
            "needs_background": "light"
          }
        }
      ]
    },
    {
      "cell_type": "code",
      "metadata": {
        "colab": {
          "base_uri": "https://localhost:8080/",
          "height": 749
        },
        "id": "OKKtt-uLvKDU",
        "outputId": "ff886fdf-40dc-4f6c-c55e-18bb7797aa87"
      },
      "source": [
        "idioms_train_anc, idioms_test_anc = train_test_split(data_anc['Idiom Normal'], test_size=0.2, random_state=34)\n",
        "define_best_and_worst_ratios(preds, Y_test_anc, idioms_test_anc, idioms_train_anc)"
      ],
      "execution_count": null,
      "outputs": [
        {
          "output_type": "display_data",
          "data": {
            "image/png": "[encoded data removed]",
            "text/plain": [
              "<Figure size 720x360 with 1 Axes>"
            ]
          },
          "metadata": {
            "tags": [],
            "needs_background": "light"
          }
        },
        {
          "output_type": "display_data",
          "data": {
            "image/png": "[encoded data removed]",
            "text/plain": [
              "<Figure size 720x360 with 1 Axes>"
            ]
          },
          "metadata": {
            "tags": [],
            "needs_background": "light"
          }
        }
      ]
    },
    {
      "cell_type": "markdown",
      "metadata": {
        "id": "qxf0MbuWLyCv"
      },
      "source": [
        "#### Split 7/3"
      ]
    },
    {
      "cell_type": "code",
      "metadata": {
        "id": "sNs0MSsqSJKl"
      },
      "source": [
        "X_train_anc, X_test_anc = train_test_split(embedded_contexts_anc, test_size=0.3, random_state=34)\n",
        "Y_train_anc, Y_test_anc = train_test_split(labels_anc, test_size=0.3, random_state=34)\n",
        "X_train_anc = tf.convert_to_tensor(X_train_anc)\n",
        "X_test_anc = tf.convert_to_tensor(X_test_anc)"
      ],
      "execution_count": null,
      "outputs": []
    },
    {
      "cell_type": "code",
      "metadata": {
        "colab": {
          "base_uri": "https://localhost:8080/"
        },
        "id": "zZmb-0OpL7mz",
        "outputId": "557d3b38-4ed1-48f3-c318-00998b4ae16b"
      },
      "source": [
        "model_anc_2 = build_model()\n",
        "model_anc_2.fit(np.asarray(X_train_anc), Y_train_anc, batch_size=8, epochs=10)"
      ],
      "execution_count": null,
      "outputs": [
        {
          "output_type": "stream",
          "text": [
            "compiled model\n",
            "Epoch 1/10\n",
            "71/71 [==============================] - 19s 157ms/step - loss: 0.6817 - accuracy: 0.5816\n",
            "Epoch 2/10\n",
            "71/71 [==============================] - 10s 142ms/step - loss: 0.5615 - accuracy: 0.7376\n",
            "Epoch 3/10\n",
            "71/71 [==============================] - 10s 140ms/step - loss: 0.4865 - accuracy: 0.7784\n",
            "Epoch 4/10\n",
            "71/71 [==============================] - 10s 140ms/step - loss: 0.4246 - accuracy: 0.8014\n",
            "Epoch 5/10\n",
            "71/71 [==============================] - 10s 141ms/step - loss: 0.3675 - accuracy: 0.8440\n",
            "Epoch 6/10\n",
            "71/71 [==============================] - 11s 148ms/step - loss: 0.3139 - accuracy: 0.8777\n",
            "Epoch 7/10\n",
            "71/71 [==============================] - 11s 150ms/step - loss: 0.2552 - accuracy: 0.8901\n",
            "Epoch 8/10\n",
            "71/71 [==============================] - 10s 146ms/step - loss: 0.2133 - accuracy: 0.9184\n",
            "Epoch 9/10\n",
            "71/71 [==============================] - 10s 147ms/step - loss: 0.1969 - accuracy: 0.9255\n",
            "Epoch 10/10\n",
            "71/71 [==============================] - 10s 145ms/step - loss: 0.1638 - accuracy: 0.9326\n"
          ],
          "name": "stdout"
        },
        {
          "output_type": "execute_result",
          "data": {
            "text/plain": [
              "<tensorflow.python.keras.callbacks.History at 0x7fa27b8e2d10>"
            ]
          },
          "metadata": {
            "tags": []
          },
          "execution_count": 77
        }
      ]
    },
    {
      "cell_type": "code",
      "metadata": {
        "colab": {
          "base_uri": "https://localhost:8080/"
        },
        "id": "ahKfHtH3MOIe",
        "outputId": "5d34e749-6517-4e24-97d0-f454ff6971f5"
      },
      "source": [
        "model_anc_2.evaluate(np.asarray(X_test_anc), Y_test_anc)"
      ],
      "execution_count": null,
      "outputs": [
        {
          "output_type": "stream",
          "text": [
            "8/8 [==============================] - 4s 86ms/step - loss: 0.8006 - accuracy: 0.7562\n"
          ],
          "name": "stdout"
        },
        {
          "output_type": "execute_result",
          "data": {
            "text/plain": [
              "[0.8005598783493042, 0.7561983466148376]"
            ]
          },
          "metadata": {
            "tags": []
          },
          "execution_count": 78
        }
      ]
    },
    {
      "cell_type": "code",
      "metadata": {
        "colab": {
          "base_uri": "https://localhost:8080/"
        },
        "id": "DaDG6ck0MTjy",
        "outputId": "9c30073c-ee9d-4945-fbb2-fc96054c9356"
      },
      "source": [
        "preds_anc = model_anc_2.predict(np.array(X_test_anc))\n",
        "f1_score(np.argmax(preds_anc, axis=1), np.argmax(Y_test_anc, axis=1))"
      ],
      "execution_count": null,
      "outputs": [
        {
          "output_type": "execute_result",
          "data": {
            "text/plain": [
              "0.7773584905660378"
            ]
          },
          "metadata": {
            "tags": []
          },
          "execution_count": 79
        }
      ]
    },
    {
      "cell_type": "markdown",
      "metadata": {
        "id": "TEW04OP3nrjW"
      },
      "source": [
        "# Trained on one type, tested on another"
      ]
    },
    {
      "cell_type": "markdown",
      "metadata": {
        "id": "X6GyuhjYoQ8S"
      },
      "source": [
        "## VNC --> ANC"
      ]
    },
    {
      "cell_type": "code",
      "metadata": {
        "colab": {
          "base_uri": "https://localhost:8080/"
        },
        "id": "FBeSwSguwVLc",
        "outputId": "90b7aaf0-4b3f-47e5-c428-cca81cc080e4"
      },
      "source": [
        "acc = model_vnc.evaluate(X_test_anc, Y_test_anc)[1]\n",
        "preds = model_vnc.predict(np.array(X_test_anc))\n",
        "f_score = f1_score(np.argmax(preds, axis=1), np.argmax(Y_test_anc, axis=1))\n",
        "roc_auc = roc_auc_score(Y_test_anc, preds)\n",
        "\n",
        "print('Accuracy: {}\\nF-score: {}\\nROC AUC: {}'.format(acc, f_score, roc_auc))\n",
        "roc_auc_score(Y_test_anc,preds)"
      ],
      "execution_count": null,
      "outputs": [
        {
          "output_type": "stream",
          "text": [
            "6/6 [==============================] - 0s 47ms/step - loss: 1.0188 - accuracy: 0.7284\n",
            "Accuracy: 0.7283950448036194\n",
            "F-score: 0.7066666666666668\n",
            "ROC AUC: 0.7822802197802198\n"
          ],
          "name": "stdout"
        },
        {
          "output_type": "execute_result",
          "data": {
            "text/plain": [
              "0.7822802197802198"
            ]
          },
          "metadata": {
            "tags": []
          },
          "execution_count": 179
        }
      ]
    },
    {
      "cell_type": "code",
      "metadata": {
        "colab": {
          "base_uri": "https://localhost:8080/",
          "height": 330
        },
        "id": "cV6PP-08oNaG",
        "outputId": "c3dd8566-f626-4638-e20e-31ca4c1129a9"
      },
      "source": [
        "matrix = confusion_matrix(np.argmax(Y_test_anc, axis=1), np.argmax(preds, axis=1))\n",
        "print(matrix)\n",
        "disp = ConfusionMatrixDisplay(matrix, display_labels=['Literal', 'Idiomatic'])\n",
        "disp.plot()"
      ],
      "execution_count": null,
      "outputs": [
        {
          "output_type": "stream",
          "text": [
            "[[65 19]\n",
            " [25 53]]\n"
          ],
          "name": "stdout"
        },
        {
          "output_type": "execute_result",
          "data": {
            "text/plain": [
              "<sklearn.metrics._plot.confusion_matrix.ConfusionMatrixDisplay at 0x7f87e1d56ad0>"
            ]
          },
          "metadata": {
            "tags": []
          },
          "execution_count": 180
        },
        {
          "output_type": "display_data",
          "data": {
            "image/png": "[encoded data removed]",
            "text/plain": [
              "<Figure size 432x288 with 2 Axes>"
            ]
          },
          "metadata": {
            "tags": [],
            "needs_background": "light"
          }
        }
      ]
    },
    {
      "cell_type": "markdown",
      "metadata": {
        "id": "H1ryolEmpF-r"
      },
      "source": [
        "## VNC --> VNC + ANC"
      ]
    },
    {
      "cell_type": "code",
      "metadata": {
        "colab": {
          "base_uri": "https://localhost:8080/"
        },
        "id": "1ySwFj7MpJ1r",
        "outputId": "50d91761-f2a7-4339-c35f-d1a0ab082686"
      },
      "source": [
        "acc = model_vnc.evaluate(X_test_tensor, Y_test)[1]\n",
        "preds = model_vnc.predict(np.array(X_test_tensor))\n",
        "f_score = f1_score(np.argmax(preds, axis=1), np.argmax(Y_test, axis=1))\n",
        "roc_auc = roc_auc_score(Y_test, preds_all)\n",
        "\n",
        "print('Accuracy: {}\\nF-score: {}\\nROC AUC: {}'.format(acc, f_score, roc_auc))\n",
        "roc_auc_score(Y_test,preds_all)"
      ],
      "execution_count": null,
      "outputs": [
        {
          "output_type": "stream",
          "text": [
            "11/11 [==============================] - 1s 54ms/step - loss: 0.5645 - accuracy: 0.8559\n",
            "Accuracy: 0.8558823466300964\n",
            "F-score: 0.8434504792332268\n",
            "ROC AUC: 0.8729235880398671\n"
          ],
          "name": "stdout"
        },
        {
          "output_type": "execute_result",
          "data": {
            "text/plain": [
              "0.8729235880398671"
            ]
          },
          "metadata": {
            "tags": []
          },
          "execution_count": 181
        }
      ]
    },
    {
      "cell_type": "code",
      "metadata": {
        "colab": {
          "base_uri": "https://localhost:8080/",
          "height": 330
        },
        "id": "422HLHEXpE9B",
        "outputId": "d30a5f5b-6aff-4de8-eaa5-ca9e9580b14c"
      },
      "source": [
        "matrix = confusion_matrix(np.argmax(Y_test, axis=1), np.argmax(preds, axis=1))\n",
        "print(matrix)\n",
        "disp = ConfusionMatrixDisplay(matrix, display_labels=['Literal', 'Idiomatic'])\n",
        "disp.plot()"
      ],
      "execution_count": null,
      "outputs": [
        {
          "output_type": "stream",
          "text": [
            "[[159  13]\n",
            " [ 36 132]]\n"
          ],
          "name": "stdout"
        },
        {
          "output_type": "execute_result",
          "data": {
            "text/plain": [
              "<sklearn.metrics._plot.confusion_matrix.ConfusionMatrixDisplay at 0x7f87e1d5ba10>"
            ]
          },
          "metadata": {
            "tags": []
          },
          "execution_count": 182
        },
        {
          "output_type": "display_data",
          "data": {
            "image/png": "[encoded data removed]",
            "text/plain": [
              "<Figure size 432x288 with 2 Axes>"
            ]
          },
          "metadata": {
            "tags": [],
            "needs_background": "light"
          }
        }
      ]
    },
    {
      "cell_type": "markdown",
      "metadata": {
        "id": "Kl11B8koobtk"
      },
      "source": [
        "## ANC --> VNC"
      ]
    },
    {
      "cell_type": "code",
      "metadata": {
        "colab": {
          "base_uri": "https://localhost:8080/"
        },
        "id": "FRbSMdE5ofNY",
        "outputId": "337d43fa-fbec-4e9f-d090-1d46a11e488b"
      },
      "source": [
        "acc = model_anc.evaluate(X_test_vnc, Y_test_vnc)[1]\n",
        "preds = model_anc.predict(np.array(X_test_vnc))\n",
        "f_score = f1_score(np.argmax(preds, axis=1), np.argmax(Y_test_vnc, axis=1))\n",
        "roc_auc = roc_auc_score(Y_test_vnc, preds)\n",
        "\n",
        "print('Accuracy: {}\\nF-score: {}\\nROC AUC: {}'.format(acc, f_score, roc_auc))\n",
        "roc_auc_score(Y_test_vnc,preds)"
      ],
      "execution_count": null,
      "outputs": [
        {
          "output_type": "stream",
          "text": [
            "6/6 [==============================] - 0s 53ms/step - loss: 0.9667 - accuracy: 0.6369\n",
            "Accuracy: 0.6368715167045593\n",
            "F-score: 0.5695364238410595\n",
            "ROC AUC: 0.8151830808080809\n"
          ],
          "name": "stdout"
        },
        {
          "output_type": "execute_result",
          "data": {
            "text/plain": [
              "0.8151830808080809"
            ]
          },
          "metadata": {
            "tags": []
          },
          "execution_count": 183
        }
      ]
    },
    {
      "cell_type": "code",
      "metadata": {
        "colab": {
          "base_uri": "https://localhost:8080/",
          "height": 331
        },
        "id": "SgbGGvjtol7K",
        "outputId": "5988cf18-640c-4c1d-bbd9-61a593602b08"
      },
      "source": [
        "matrix = confusion_matrix(np.argmax(Y_test_vnc, axis=1), np.argmax(preds, axis=1))\n",
        "print(matrix)\n",
        "disp = ConfusionMatrixDisplay(matrix, display_labels=['Literal', 'Idiomatic'])\n",
        "disp.plot()"
      ],
      "execution_count": null,
      "outputs": [
        {
          "output_type": "stream",
          "text": [
            "[[71  9]\n",
            " [56 43]]\n"
          ],
          "name": "stdout"
        },
        {
          "output_type": "execute_result",
          "data": {
            "text/plain": [
              "<sklearn.metrics._plot.confusion_matrix.ConfusionMatrixDisplay at 0x7f87e1d85250>"
            ]
          },
          "metadata": {
            "tags": []
          },
          "execution_count": 184
        },
        {
          "output_type": "display_data",
          "data": {
            "image/png": "[encoded data removed]",
            "text/plain": [
              "<Figure size 432x288 with 2 Axes>"
            ]
          },
          "metadata": {
            "tags": [],
            "needs_background": "light"
          }
        }
      ]
    },
    {
      "cell_type": "markdown",
      "metadata": {
        "id": "CGGpGnYpprgW"
      },
      "source": [
        "## ANC --> ANC + VNC"
      ]
    },
    {
      "cell_type": "code",
      "metadata": {
        "colab": {
          "base_uri": "https://localhost:8080/"
        },
        "id": "YoVd4aMrp1zK",
        "outputId": "758dda45-da2a-4f64-a3ab-5ae52d328ab0"
      },
      "source": [
        "acc = model_anc.evaluate(X_test_tensor, Y_test)[1]\n",
        "preds = model_anc.predict(np.array(X_test_tensor))\n",
        "f_score = f1_score(np.argmax(preds, axis=1), np.argmax(Y_test, axis=1))\n",
        "roc_auc = roc_auc_score(Y_test, preds_all)\n",
        "\n",
        "print('Accuracy: {}\\nF-score: {}\\nROC AUC: {}'.format(acc, f_score, roc_auc))\n",
        "roc_auc_score(Y_test,preds_all)"
      ],
      "execution_count": null,
      "outputs": [
        {
          "output_type": "stream",
          "text": [
            "11/11 [==============================] - 1s 55ms/step - loss: 0.6310 - accuracy: 0.7794\n",
            "Accuracy: 0.779411792755127\n",
            "F-score: 0.7422680412371134\n",
            "ROC AUC: 0.8729235880398671\n"
          ],
          "name": "stdout"
        },
        {
          "output_type": "execute_result",
          "data": {
            "text/plain": [
              "0.8729235880398671"
            ]
          },
          "metadata": {
            "tags": []
          },
          "execution_count": 185
        }
      ]
    },
    {
      "cell_type": "code",
      "metadata": {
        "colab": {
          "base_uri": "https://localhost:8080/",
          "height": 330
        },
        "id": "7Hc8FCeep4pT",
        "outputId": "4eb4b023-d203-45a7-b44b-96fb816e7049"
      },
      "source": [
        "matrix = confusion_matrix(np.argmax(Y_test, axis=1), np.argmax(preds, axis=1))\n",
        "print(matrix)\n",
        "disp = ConfusionMatrixDisplay(matrix, display_labels=['Literal', 'Idiomatic'])\n",
        "disp.plot()"
      ],
      "execution_count": null,
      "outputs": [
        {
          "output_type": "stream",
          "text": [
            "[[157  15]\n",
            " [ 60 108]]\n"
          ],
          "name": "stdout"
        },
        {
          "output_type": "execute_result",
          "data": {
            "text/plain": [
              "<sklearn.metrics._plot.confusion_matrix.ConfusionMatrixDisplay at 0x7f87e20fa790>"
            ]
          },
          "metadata": {
            "tags": []
          },
          "execution_count": 186
        },
        {
          "output_type": "display_data",
          "data": {
            "image/png": "[encoded data removed]",
            "text/plain": [
              "<Figure size 432x288 with 2 Axes>"
            ]
          },
          "metadata": {
            "tags": [],
            "needs_background": "light"
          }
        }
      ]
    },
    {
      "cell_type": "markdown",
      "metadata": {
        "id": "yNhXwL5WVeoT"
      },
      "source": [
        "# Not Present in the Training Set"
      ]
    },
    {
      "cell_type": "markdown",
      "metadata": {
        "id": "a7Zj87_Ee784"
      },
      "source": [
        "## Split"
      ]
    },
    {
      "cell_type": "code",
      "metadata": {
        "colab": {
          "base_uri": "https://localhost:8080/"
        },
        "id": "l9eWLhEyVp2A",
        "outputId": "1f6c8a5b-02d5-45cd-8fd9-48a5d613489d"
      },
      "source": [
        "data_anc['Idiom Normal'].value_counts()"
      ],
      "execution_count": null,
      "outputs": [
        {
          "output_type": "execute_result",
          "data": {
            "text/plain": [
              "больное место                 57\n",
              "правая рука                   56\n",
              "болевая точка                 52\n",
              "нож острый                    49\n",
              "путеводная звезда             48\n",
              "лавровый венок                44\n",
              "бедный родственник            41\n",
              "зелёная улица                 38\n",
              "тяжёлая рука                  38\n",
              "ваш брат                      34\n",
              "вавилонское столпотворение    30\n",
              "наша сестра                   28\n",
              "пороховая бочка               27\n",
              "дальний прицел                25\n",
              "вторая ступень                23\n",
              "заблудшая овца                23\n",
              "старый воробей                22\n",
              "красная бумажка               21\n",
              "синяя птица                   20\n",
              "другой разговор               18\n",
              "долгая песня                  18\n",
              "старый гриб                   16\n",
              "чёрная кость                  15\n",
              "девичья кожа                  12\n",
              "маковое зерно                 10\n",
              "избитая дорога                10\n",
              "музейная редкость             10\n",
              "куриная голова                 9\n",
              "ободранная кошка               9\n",
              "чернильная строка              3\n",
              "Name: Idiom Normal, dtype: int64"
            ]
          },
          "metadata": {
            "tags": []
          },
          "execution_count": 189
        }
      ]
    },
    {
      "cell_type": "code",
      "metadata": {
        "id": "uHTExiRhXRyn"
      },
      "source": [
        "test_ancs = ['вавилонское столпотворение', 'ободранная кошка', 'наша сестра', 'пороховая бочка', 'дальний прицел', 'заблудшая овца', 'красная бумажка']"
      ],
      "execution_count": null,
      "outputs": []
    },
    {
      "cell_type": "code",
      "metadata": {
        "colab": {
          "base_uri": "https://localhost:8080/"
        },
        "id": "Xh4qK7yGZjgx",
        "outputId": "bd599c69-d636-4617-f12d-578b7339cbd3"
      },
      "source": [
        "data_anc_test = data_anc.loc[data_anc['Idiom Normal'].isin(test_ancs)]\n",
        "data_anc_test = data_anc_test.sample(frac=1, random_state=42)\n",
        "data_anc_test.shape"
      ],
      "execution_count": null,
      "outputs": [
        {
          "output_type": "execute_result",
          "data": {
            "text/plain": [
              "(163, 5)"
            ]
          },
          "metadata": {
            "tags": []
          },
          "execution_count": 191
        }
      ]
    },
    {
      "cell_type": "code",
      "metadata": {
        "colab": {
          "base_uri": "https://localhost:8080/"
        },
        "id": "uvId2OZLYrTI",
        "outputId": "91974b7c-e70c-4b71-ba4b-1c3dd7b33246"
      },
      "source": [
        "data_anc_train = data_anc.loc[~data_anc['Idiom Normal'].isin(test_ancs)]\n",
        "data_anc_train = data_anc_train.sample(frac=1, random_state=42)\n",
        "data_anc_train.shape"
      ],
      "execution_count": null,
      "outputs": [
        {
          "output_type": "execute_result",
          "data": {
            "text/plain": [
              "(643, 5)"
            ]
          },
          "metadata": {
            "tags": []
          },
          "execution_count": 193
        }
      ]
    },
    {
      "cell_type": "code",
      "metadata": {
        "colab": {
          "base_uri": "https://localhost:8080/"
        },
        "id": "8BDhqDI6aDQB",
        "outputId": "4717df00-b43d-4859-ac99-64fd28fccbfd"
      },
      "source": [
        "163/806"
      ],
      "execution_count": null,
      "outputs": [
        {
          "output_type": "execute_result",
          "data": {
            "text/plain": [
              "0.2022332506203474"
            ]
          },
          "metadata": {
            "tags": []
          },
          "execution_count": 194
        }
      ]
    },
    {
      "cell_type": "code",
      "metadata": {
        "colab": {
          "base_uri": "https://localhost:8080/"
        },
        "id": "TRPthD1wW72U",
        "outputId": "07d47872-cb4f-4c2b-d010-d37cb829b059"
      },
      "source": [
        "data_vnc['Idiom Normal'].value_counts()"
      ],
      "execution_count": null,
      "outputs": [
        {
          "output_type": "execute_result",
          "data": {
            "text/plain": [
              "бросать тень               53\n",
              "сесть на мель              47\n",
              "пускать корни              41\n",
              "окунуться с головой        31\n",
              "отвести глаза              29\n",
              "поставить на колени        29\n",
              "давит грудь                29\n",
              "снимать шляпу              27\n",
              "приложить руку             27\n",
              "выступить на сцену         27\n",
              "поднять на ноги            27\n",
              "положить голову            25\n",
              "пахнет порохом             23\n",
              "вырвать с корнем           23\n",
              "точить нож                 22\n",
              "преградить дорогу          22\n",
              "вильнуть хвостом           21\n",
              "сидеть на печи             20\n",
              "открыть глаза              20\n",
              "открывать Америку          19\n",
              "умывать руки               19\n",
              "плести кружева             18\n",
              "имей глаза                 17\n",
              "взваливать на плечи        17\n",
              "поддать жару               16\n",
              "чесать затылок             16\n",
              "разбить лед                16\n",
              "бросать перо               14\n",
              "прокладывать дорогу        14\n",
              "давать сдачу               13\n",
              "прижать хвост              13\n",
              "прищемить хвост            12\n",
              "катить бочку               12\n",
              "поймать на удочку          12\n",
              "поднимать пыль             11\n",
              "держать на прицеле         11\n",
              "сделать выставку           10\n",
              "воскурять фимиам            9\n",
              "попадать в яблочко          8\n",
              "ослепить глаза              8\n",
              "наступить на мозоль         8\n",
              "надеть узду                 8\n",
              "задрать хвост               8\n",
              "положить на обе лопатки     7\n",
              "сжигать мосты               6\n",
              "наступать на ногу           6\n",
              "бить карту                  5\n",
              "посадить на землю           5\n",
              "опустить хвост              5\n",
              "поддаться на удочку         4\n",
              "становиться на рельсы       3\n",
              "Name: Idiom Normal, dtype: int64"
            ]
          },
          "metadata": {
            "tags": []
          },
          "execution_count": 195
        }
      ]
    },
    {
      "cell_type": "code",
      "metadata": {
        "id": "Y7zwblUbbu5w"
      },
      "source": [
        "test_vncs = ['точить нож', 'преградить дорогу', 'вильнуть хвостом', 'сидеть на печи', \n",
        "             'открыть глаза', 'умывать руки', 'открывать Америку', 'плести кружева', \n",
        "             'положить голову']"
      ],
      "execution_count": null,
      "outputs": []
    },
    {
      "cell_type": "code",
      "metadata": {
        "colab": {
          "base_uri": "https://localhost:8080/"
        },
        "id": "qKSFFPdKc0qo",
        "outputId": "56bfabe4-448f-4b88-ac99-82068467c92b"
      },
      "source": [
        "data_vnc_test = data_vnc.loc[data_vnc['Idiom Normal'].isin(test_vncs)]\n",
        "data_vnc_test = data_vnc_test.sample(frac=1, random_state=42)\n",
        "data_vnc_test.shape"
      ],
      "execution_count": null,
      "outputs": [
        {
          "output_type": "execute_result",
          "data": {
            "text/plain": [
              "(186, 5)"
            ]
          },
          "metadata": {
            "tags": []
          },
          "execution_count": 197
        }
      ]
    },
    {
      "cell_type": "code",
      "metadata": {
        "colab": {
          "base_uri": "https://localhost:8080/"
        },
        "id": "ll4Gt0JSc9UB",
        "outputId": "2d968bd6-3aa6-415f-f5fb-f5965630f3c7"
      },
      "source": [
        "data_vnc_train = data_vnc.loc[~data_vnc['Idiom Normal'].isin(test_ancs)]\n",
        "data_vnc_train = data_vnc_train.sample(frac=1, random_state=42)\n",
        "data_vnc_train.shape"
      ],
      "execution_count": null,
      "outputs": [
        {
          "output_type": "execute_result",
          "data": {
            "text/plain": [
              "(893, 5)"
            ]
          },
          "metadata": {
            "tags": []
          },
          "execution_count": 198
        }
      ]
    },
    {
      "cell_type": "code",
      "metadata": {
        "colab": {
          "base_uri": "https://localhost:8080/"
        },
        "id": "3VZA1_6wdLaP",
        "outputId": "411fd0c2-5b71-4459-d85b-8a36326e6580"
      },
      "source": [
        "186/893"
      ],
      "execution_count": null,
      "outputs": [
        {
          "output_type": "execute_result",
          "data": {
            "text/plain": [
              "0.20828667413213886"
            ]
          },
          "metadata": {
            "tags": []
          },
          "execution_count": 199
        }
      ]
    },
    {
      "cell_type": "code",
      "metadata": {
        "colab": {
          "base_uri": "https://localhost:8080/",
          "height": 111
        },
        "id": "xETJpDLEdPeH",
        "outputId": "2a19fe30-56b3-4df3-aeb4-b6d87d435e0e"
      },
      "source": [
        "data_all_train = pd.concat([data_vnc_train, data_anc_train], ignore_index=True)\n",
        "data_all_train = data_all_train.sample(frac=1, random_state=42)\n",
        "data_all_train.head(2)"
      ],
      "execution_count": null,
      "outputs": [
        {
          "output_type": "execute_result",
          "data": {
            "text/html": [
              "<div>\n",
              "<style scoped>\n",
              "    .dataframe tbody tr th:only-of-type {\n",
              "        vertical-align: middle;\n",
              "    }\n",
              "\n",
              "    .dataframe tbody tr th {\n",
              "        vertical-align: top;\n",
              "    }\n",
              "\n",
              "    .dataframe thead th {\n",
              "        text-align: right;\n",
              "    }\n",
              "</style>\n",
              "<table border=\"1\" class=\"dataframe\">\n",
              "  <thead>\n",
              "    <tr style=\"text-align: right;\">\n",
              "      <th></th>\n",
              "      <th>Idiom Normal</th>\n",
              "      <th>Idiom Inflected</th>\n",
              "      <th>Label</th>\n",
              "      <th>Example</th>\n",
              "      <th>ID</th>\n",
              "    </tr>\n",
              "  </thead>\n",
              "  <tbody>\n",
              "    <tr>\n",
              "      <th>1159</th>\n",
              "      <td>тяжёлая рука</td>\n",
              "      <td>тяжёлую руку</td>\n",
              "      <td>0</td>\n",
              "      <td>Однажды, когда цесаревич до крови разбил коле...</td>\n",
              "      <td>530</td>\n",
              "    </tr>\n",
              "    <tr>\n",
              "      <th>76</th>\n",
              "      <td>положить на обе лопатки</td>\n",
              "      <td>положили на обе лопатки</td>\n",
              "      <td>1</td>\n",
              "      <td>― Сдаюсь!  Положили на обе лопатки.  Но работе...</td>\n",
              "      <td>1574</td>\n",
              "    </tr>\n",
              "  </tbody>\n",
              "</table>\n",
              "</div>"
            ],
            "text/plain": [
              "                 Idiom Normal  ...    ID\n",
              "1159             тяжёлая рука  ...   530\n",
              "76    положить на обе лопатки  ...  1574\n",
              "\n",
              "[2 rows x 5 columns]"
            ]
          },
          "metadata": {
            "tags": []
          },
          "execution_count": 200
        }
      ]
    },
    {
      "cell_type": "code",
      "metadata": {
        "colab": {
          "base_uri": "https://localhost:8080/",
          "height": 111
        },
        "id": "uIYPXEzXex_y",
        "outputId": "4996d0f5-a325-4609-adb0-64c2bd1c6158"
      },
      "source": [
        "data_all_test = pd.concat([data_vnc_test, data_anc_test], ignore_index=True)\n",
        "data_all_test = data_all_test.sample(frac=1, random_state=42)\n",
        "data_all_test.head(2)"
      ],
      "execution_count": null,
      "outputs": [
        {
          "output_type": "execute_result",
          "data": {
            "text/html": [
              "<div>\n",
              "<style scoped>\n",
              "    .dataframe tbody tr th:only-of-type {\n",
              "        vertical-align: middle;\n",
              "    }\n",
              "\n",
              "    .dataframe tbody tr th {\n",
              "        vertical-align: top;\n",
              "    }\n",
              "\n",
              "    .dataframe thead th {\n",
              "        text-align: right;\n",
              "    }\n",
              "</style>\n",
              "<table border=\"1\" class=\"dataframe\">\n",
              "  <thead>\n",
              "    <tr style=\"text-align: right;\">\n",
              "      <th></th>\n",
              "      <th>Idiom Normal</th>\n",
              "      <th>Idiom Inflected</th>\n",
              "      <th>Label</th>\n",
              "      <th>Example</th>\n",
              "      <th>ID</th>\n",
              "    </tr>\n",
              "  </thead>\n",
              "  <tbody>\n",
              "    <tr>\n",
              "      <th>157</th>\n",
              "      <td>преградить дорогу</td>\n",
              "      <td>преградить дорогу</td>\n",
              "      <td>0</td>\n",
              "      <td>Что если кому-нибудь из ваших анархистов приде...</td>\n",
              "      <td>1159</td>\n",
              "    </tr>\n",
              "    <tr>\n",
              "      <th>341</th>\n",
              "      <td>наша сестра</td>\n",
              "      <td>нашей сестры</td>\n",
              "      <td>0</td>\n",
              "      <td>У нашей сестры Марии Павловны была подруга Ли...</td>\n",
              "      <td>723</td>\n",
              "    </tr>\n",
              "  </tbody>\n",
              "</table>\n",
              "</div>"
            ],
            "text/plain": [
              "          Idiom Normal  ...    ID\n",
              "157  преградить дорогу  ...  1159\n",
              "341        наша сестра  ...   723\n",
              "\n",
              "[2 rows x 5 columns]"
            ]
          },
          "metadata": {
            "tags": []
          },
          "execution_count": 201
        }
      ]
    },
    {
      "cell_type": "markdown",
      "metadata": {
        "id": "v2dWdUcAofJy"
      },
      "source": [
        "## All"
      ]
    },
    {
      "cell_type": "code",
      "metadata": {
        "colab": {
          "base_uri": "https://localhost:8080/",
          "height": 66,
          "referenced_widgets": [
            "55592157c13c4e0682a7c6b20debc0cb",
            "d1793b6835954de280693479d1cd3cb1",
            "d4f3bd6862e148ec90c98543f916e2f8",
            "69ed031614cb4fa28b34d46e64c02a92",
            "31fbcd7312c1411b8ae9de87cb28ebb3",
            "9e16375f20a3439bb9e8513056d981f7",
            "43f8aaff881f4936a65183d758180bdd",
            "897bf913a1ab4f529aaf02ce4c0268d8"
          ]
        },
        "id": "5qAnrcKvoIDL",
        "outputId": "fbf74918-a0ae-48e5-c429-57c8cbee7969"
      },
      "source": [
        "embedded_contexts_train = get_bert_embeddings(data_all_train['Example'])"
      ],
      "execution_count": null,
      "outputs": [
        {
          "output_type": "display_data",
          "data": {
            "application/vnd.jupyter.widget-view+json": {
              "model_id": "55592157c13c4e0682a7c6b20debc0cb",
              "version_minor": 0,
              "version_major": 2
            },
            "text/plain": [
              "HBox(children=(FloatProgress(value=0.0, max=1536.0), HTML(value='')))"
            ]
          },
          "metadata": {
            "tags": []
          }
        },
        {
          "output_type": "stream",
          "text": [
            "\n"
          ],
          "name": "stdout"
        }
      ]
    },
    {
      "cell_type": "code",
      "metadata": {
        "colab": {
          "base_uri": "https://localhost:8080/",
          "height": 66,
          "referenced_widgets": [
            "7a84cde2714245de912704b9e46be044",
            "30b86d37351b4052bff49a8ddd65c25a",
            "535e5f04b6274915ba1534532f4cff11",
            "3249b48da78c4ea28e94d1e9b6477cd3",
            "c4dccc6c82c34fb0b3fddb2fde0fad42",
            "2e2325f2dfed4d74b21d02bec39c5e9b",
            "85ca542c7cb24da994d0dce1da7aefa3",
            "6172716a0681400f964d9519a84a1a0d"
          ]
        },
        "id": "rWDU4ocUoLWP",
        "outputId": "79ea7d91-ff14-4103-8a49-7a336181713d"
      },
      "source": [
        "embedded_contexts_test = get_bert_embeddings(data_all_test['Example'])"
      ],
      "execution_count": null,
      "outputs": [
        {
          "output_type": "display_data",
          "data": {
            "application/vnd.jupyter.widget-view+json": {
              "model_id": "7a84cde2714245de912704b9e46be044",
              "version_minor": 0,
              "version_major": 2
            },
            "text/plain": [
              "HBox(children=(FloatProgress(value=0.0, max=349.0), HTML(value='')))"
            ]
          },
          "metadata": {
            "tags": []
          }
        },
        {
          "output_type": "stream",
          "text": [
            "\n"
          ],
          "name": "stdout"
        }
      ]
    },
    {
      "cell_type": "code",
      "metadata": {
        "id": "nwSGzLy5pjIr"
      },
      "source": [
        "labels_train_not_present = to_categorical(data_all_train.Label)\n",
        "labels_test_not_present = to_categorical(data_all_test.Label)"
      ],
      "execution_count": null,
      "outputs": []
    },
    {
      "cell_type": "markdown",
      "metadata": {
        "id": "Tz_3i8YAkcO9"
      },
      "source": [
        "### Classifier"
      ]
    },
    {
      "cell_type": "code",
      "metadata": {
        "id": "x_CiMy-vlEe0"
      },
      "source": [
        "embedded_contexts_train = tf.convert_to_tensor(embedded_contexts_train)\n",
        "embedded_contexts_test = tf.convert_to_tensor(embedded_contexts_test)"
      ],
      "execution_count": null,
      "outputs": []
    },
    {
      "cell_type": "code",
      "metadata": {
        "colab": {
          "base_uri": "https://localhost:8080/"
        },
        "id": "caF96aq5kgUE",
        "outputId": "376c9247-9552-4947-cb44-5fb757b0024f"
      },
      "source": [
        "model_all_3 = build_model()\n",
        "model_all_3.fit(embedded_contexts_train, labels_train_not_present, batch_size=8, epochs=10)"
      ],
      "execution_count": null,
      "outputs": [
        {
          "output_type": "stream",
          "text": [
            "compiled model\n",
            "Epoch 1/10\n",
            "192/192 [==============================] - 22s 95ms/step - loss: 0.5926 - accuracy: 0.6934\n",
            "Epoch 2/10\n",
            "192/192 [==============================] - 18s 94ms/step - loss: 0.4524 - accuracy: 0.8034\n",
            "Epoch 3/10\n",
            "192/192 [==============================] - 18s 94ms/step - loss: 0.3854 - accuracy: 0.8262\n",
            "Epoch 4/10\n",
            "192/192 [==============================] - 18s 95ms/step - loss: 0.3527 - accuracy: 0.8516\n",
            "Epoch 5/10\n",
            "192/192 [==============================] - 18s 95ms/step - loss: 0.3121 - accuracy: 0.8665\n",
            "Epoch 6/10\n",
            "192/192 [==============================] - 18s 94ms/step - loss: 0.2899 - accuracy: 0.8783\n",
            "Epoch 7/10\n",
            "192/192 [==============================] - 18s 94ms/step - loss: 0.2406 - accuracy: 0.9069\n",
            "Epoch 8/10\n",
            "192/192 [==============================] - 18s 95ms/step - loss: 0.2195 - accuracy: 0.9095\n",
            "Epoch 9/10\n",
            "192/192 [==============================] - 18s 95ms/step - loss: 0.2077 - accuracy: 0.9212\n",
            "Epoch 10/10\n",
            "192/192 [==============================] - 18s 95ms/step - loss: 0.1863 - accuracy: 0.9212\n"
          ],
          "name": "stdout"
        },
        {
          "output_type": "execute_result",
          "data": {
            "text/plain": [
              "<tensorflow.python.keras.callbacks.History at 0x7f87dac23490>"
            ]
          },
          "metadata": {
            "tags": []
          },
          "execution_count": 206
        }
      ]
    },
    {
      "cell_type": "code",
      "metadata": {
        "colab": {
          "base_uri": "https://localhost:8080/"
        },
        "id": "VDZyZMyrk81Q",
        "outputId": "6a93914e-8d7e-44c3-b027-915eb0a9995b"
      },
      "source": [
        "acc = model_all_3.evaluate(embedded_contexts_test, labels_test_not_present)[1]\n",
        "preds = model_all_3.predict(np.array(embedded_contexts_test))\n",
        "f_score = f1_score(np.argmax(preds, axis=1), np.argmax(labels_test_not_present, axis=1))\n",
        "roc_auc = roc_auc_score(labels_test_not_present, preds)\n",
        "\n",
        "print('Accuracy: {}\\nF-score: {}\\nROC AUC: {}'.format(acc, f_score, roc_auc))\n",
        "roc_auc_score(labels_test_not_present,preds)"
      ],
      "execution_count": null,
      "outputs": [
        {
          "output_type": "stream",
          "text": [
            "11/11 [==============================] - 1s 56ms/step - loss: 0.6005 - accuracy: 0.8223\n",
            "Accuracy: 0.8223495483398438\n",
            "F-score: 0.8238636363636364\n",
            "ROC AUC: 0.8778746961035547\n"
          ],
          "name": "stdout"
        },
        {
          "output_type": "execute_result",
          "data": {
            "text/plain": [
              "0.8778746961035547"
            ]
          },
          "metadata": {
            "tags": []
          },
          "execution_count": 220
        }
      ]
    },
    {
      "cell_type": "code",
      "metadata": {
        "colab": {
          "base_uri": "https://localhost:8080/",
          "height": 330
        },
        "id": "fAk99sBZBSz5",
        "outputId": "4fd250a5-ec00-4c24-8dd8-e05bbe6cb5e5"
      },
      "source": [
        "matrix = confusion_matrix(np.argmax(labels_test_not_present, axis=1), np.argmax(preds, axis=1))\n",
        "print(matrix)\n",
        "disp = ConfusionMatrixDisplay(matrix, display_labels=['Literal', 'Idiomatic'])\n",
        "disp.plot()"
      ],
      "execution_count": null,
      "outputs": [
        {
          "output_type": "stream",
          "text": [
            "[[142  29]\n",
            " [ 33 145]]\n"
          ],
          "name": "stdout"
        },
        {
          "output_type": "execute_result",
          "data": {
            "text/plain": [
              "<sklearn.metrics._plot.confusion_matrix.ConfusionMatrixDisplay at 0x7f87d84f6f90>"
            ]
          },
          "metadata": {
            "tags": []
          },
          "execution_count": 221
        },
        {
          "output_type": "display_data",
          "data": {
            "image/png": "[encoded data removed]",
            "text/plain": [
              "<Figure size 432x288 with 2 Axes>"
            ]
          },
          "metadata": {
            "tags": [],
            "needs_background": "light"
          }
        }
      ]
    },
    {
      "cell_type": "code",
      "metadata": {
        "colab": {
          "base_uri": "https://localhost:8080/",
          "height": 748
        },
        "id": "08rM4vrt_Oae",
        "outputId": "224b9412-ecf6-411b-d094-f3e0d117afb7"
      },
      "source": [
        "idioms_test_not_present = data_all_test['Idiom Normal']\n",
        "define_best_and_worst_ratios_not_in_train(preds, labels_test_not_present, idioms_test_not_present, k=5)"
      ],
      "execution_count": null,
      "outputs": [
        {
          "output_type": "display_data",
          "data": {
            "image/png": "[encoded data removed]",
            "text/plain": [
              "<Figure size 720x360 with 1 Axes>"
            ]
          },
          "metadata": {
            "tags": [],
            "needs_background": "light"
          }
        },
        {
          "output_type": "display_data",
          "data": {
            "image/png": "[encoded data removed]",
            "text/plain": [
              "<Figure size 720x360 with 1 Axes>"
            ]
          },
          "metadata": {
            "tags": [],
            "needs_background": "light"
          }
        }
      ]
    },
    {
      "cell_type": "markdown",
      "metadata": {
        "id": "KNiZNWvfomcL"
      },
      "source": [
        "## ANC"
      ]
    },
    {
      "cell_type": "code",
      "metadata": {
        "colab": {
          "base_uri": "https://localhost:8080/",
          "height": 66,
          "referenced_widgets": [
            "5bc5d41b3ab54fd483f2f9f0f901e937",
            "6e699c550cd84a5ebeb846bac63d483a",
            "25c6121ffa494c50af00d1c771e75de5",
            "eeb3e050daf7459c9ccace744e4a30dd",
            "741f8eec63134d93b59a4b79dcf34ad5",
            "70e2e75788774f14a90e411116200631",
            "67e0a78b72c64699a515f6bf5b94aa36",
            "6d4f64bb17ab4d7aa2415c3cb826eed7"
          ]
        },
        "id": "N6ZFvgZxuavk",
        "outputId": "7798d823-f018-48d3-d830-a1d1ed110a49"
      },
      "source": [
        "embedded_contexts_anc_train = get_bert_embeddings(data_anc_train['Example'])"
      ],
      "execution_count": null,
      "outputs": [
        {
          "output_type": "display_data",
          "data": {
            "application/vnd.jupyter.widget-view+json": {
              "model_id": "5bc5d41b3ab54fd483f2f9f0f901e937",
              "version_minor": 0,
              "version_major": 2
            },
            "text/plain": [
              "HBox(children=(FloatProgress(value=0.0, max=643.0), HTML(value='')))"
            ]
          },
          "metadata": {
            "tags": []
          }
        },
        {
          "output_type": "stream",
          "text": [
            "\n"
          ],
          "name": "stdout"
        }
      ]
    },
    {
      "cell_type": "code",
      "metadata": {
        "colab": {
          "base_uri": "https://localhost:8080/",
          "height": 66,
          "referenced_widgets": [
            "a5efc47c300544b1888baf5d06a7b929",
            "9c20d574f86e4119b0df9f400a08c767",
            "f487e40a892a47cc83513eb096afd735",
            "ae175c3d4c514fe2b4741e389d6e5e6c",
            "ba94fdf1837c48fdbd19121438b42fc0",
            "6f73b76e473f40c1a59dcef7ecf7c685",
            "9b9aa403c837499086ba986b660076bb",
            "f94d469c4cdf4e28887a4743c56afc01"
          ]
        },
        "id": "RlwWFvPaqh5_",
        "outputId": "58a3b584-9bdf-45c3-bac0-a2d414203af5"
      },
      "source": [
        "embedded_contexts_anc_test = get_bert_embeddings(data_anc_test['Example'])"
      ],
      "execution_count": null,
      "outputs": [
        {
          "output_type": "display_data",
          "data": {
            "application/vnd.jupyter.widget-view+json": {
              "model_id": "a5efc47c300544b1888baf5d06a7b929",
              "version_minor": 0,
              "version_major": 2
            },
            "text/plain": [
              "HBox(children=(FloatProgress(value=0.0, max=163.0), HTML(value='')))"
            ]
          },
          "metadata": {
            "tags": []
          }
        },
        {
          "output_type": "stream",
          "text": [
            "\n"
          ],
          "name": "stdout"
        }
      ]
    },
    {
      "cell_type": "code",
      "metadata": {
        "id": "76_WhQxVuLzp"
      },
      "source": [
        "labels_anc_train_not_present = to_categorical(data_anc_train.Label)\n",
        "labels_anc_test_not_present = to_categorical(data_anc_test.Label)"
      ],
      "execution_count": null,
      "outputs": []
    },
    {
      "cell_type": "markdown",
      "metadata": {
        "id": "5WWOV1EJrkyr"
      },
      "source": [
        "### Classifier"
      ]
    },
    {
      "cell_type": "code",
      "metadata": {
        "id": "2vRaogRCrkFQ"
      },
      "source": [
        "embedded_contexts_anc_train = tf.convert_to_tensor(embedded_contexts_anc_train)\n",
        "embedded_contexts_anc_test = tf.convert_to_tensor(embedded_contexts_anc_test)"
      ],
      "execution_count": null,
      "outputs": []
    },
    {
      "cell_type": "code",
      "metadata": {
        "colab": {
          "base_uri": "https://localhost:8080/"
        },
        "id": "Frt_OTTpsDci",
        "outputId": "a38abe79-d2f5-4705-c8f1-4817a3b3dd3b"
      },
      "source": [
        "model_anc_3 = build_model()\n",
        "model_anc_3.fit(embedded_contexts_anc_train, labels_anc_train_not_present, batch_size=8, epochs=10)"
      ],
      "execution_count": null,
      "outputs": [
        {
          "output_type": "stream",
          "text": [
            "compiled model\n",
            "Epoch 1/10\n",
            "81/81 [==============================] - 17s 137ms/step - loss: 0.6538 - accuracy: 0.6096\n",
            "Epoch 2/10\n",
            "81/81 [==============================] - 11s 135ms/step - loss: 0.5352 - accuracy: 0.7621\n",
            "Epoch 3/10\n",
            "81/81 [==============================] - 11s 136ms/step - loss: 0.4412 - accuracy: 0.8025\n",
            "Epoch 4/10\n",
            "81/81 [==============================] - 11s 135ms/step - loss: 0.3676 - accuracy: 0.8414\n",
            "Epoch 5/10\n",
            "81/81 [==============================] - 11s 135ms/step - loss: 0.3164 - accuracy: 0.8585\n",
            "Epoch 6/10\n",
            "81/81 [==============================] - 11s 136ms/step - loss: 0.2756 - accuracy: 0.9005\n",
            "Epoch 7/10\n",
            "81/81 [==============================] - 11s 135ms/step - loss: 0.2601 - accuracy: 0.8911\n",
            "Epoch 8/10\n",
            "81/81 [==============================] - 11s 135ms/step - loss: 0.2006 - accuracy: 0.9191\n",
            "Epoch 9/10\n",
            "81/81 [==============================] - 11s 135ms/step - loss: 0.1725 - accuracy: 0.9362\n",
            "Epoch 10/10\n",
            "81/81 [==============================] - 11s 136ms/step - loss: 0.1600 - accuracy: 0.9362\n"
          ],
          "name": "stdout"
        },
        {
          "output_type": "execute_result",
          "data": {
            "text/plain": [
              "<tensorflow.python.keras.callbacks.History at 0x7f87db540a90>"
            ]
          },
          "metadata": {
            "tags": []
          },
          "execution_count": 214
        }
      ]
    },
    {
      "cell_type": "code",
      "metadata": {
        "colab": {
          "base_uri": "https://localhost:8080/"
        },
        "id": "DY3Gy6gYsbIm",
        "outputId": "51512c28-d47e-43a3-bdcf-c987227173fb"
      },
      "source": [
        "acc = model_anc_3.evaluate(embedded_contexts_anc_test, labels_anc_test_not_present)[1]\n",
        "preds = model_anc_3.predict(np.array(embedded_contexts_anc_test))\n",
        "f_score = f1_score(np.argmax(preds, axis=1), np.argmax(labels_anc_test_not_present, axis=1))\n",
        "roc_auc = roc_auc_score(labels_anc_test_not_present, preds)\n",
        "\n",
        "print('Accuracy: {}\\nF-score: {}\\nROC AUC: {}'.format(acc, f_score, roc_auc))\n",
        "roc_auc_score(labels_anc_test_not_present,preds)"
      ],
      "execution_count": null,
      "outputs": [
        {
          "output_type": "stream",
          "text": [
            "6/6 [==============================] - 0s 51ms/step - loss: 1.2416 - accuracy: 0.5951\n",
            "Accuracy: 0.5950919985771179\n",
            "F-score: 0.6526315789473685\n",
            "ROC AUC: 0.6325719960278053\n"
          ],
          "name": "stdout"
        },
        {
          "output_type": "execute_result",
          "data": {
            "text/plain": [
              "0.6325719960278053"
            ]
          },
          "metadata": {
            "tags": []
          },
          "execution_count": 222
        }
      ]
    },
    {
      "cell_type": "code",
      "metadata": {
        "colab": {
          "base_uri": "https://localhost:8080/",
          "height": 330
        },
        "id": "jGqkrgDnBbgN",
        "outputId": "eda50b5d-905d-4697-acf3-d6bc0a84f888"
      },
      "source": [
        "matrix = confusion_matrix(np.argmax(labels_anc_test_not_present, axis=1), np.argmax(preds, axis=1))\n",
        "print(matrix)\n",
        "disp = ConfusionMatrixDisplay(matrix, display_labels=['Literal', 'Idiomatic'])\n",
        "disp.plot()"
      ],
      "execution_count": null,
      "outputs": [
        {
          "output_type": "stream",
          "text": [
            "[[35 22]\n",
            " [44 62]]\n"
          ],
          "name": "stdout"
        },
        {
          "output_type": "execute_result",
          "data": {
            "text/plain": [
              "<sklearn.metrics._plot.confusion_matrix.ConfusionMatrixDisplay at 0x7f87d6d79810>"
            ]
          },
          "metadata": {
            "tags": []
          },
          "execution_count": 223
        },
        {
          "output_type": "display_data",
          "data": {
            "image/png": "[encoded data removed]",
            "text/plain": [
              "<Figure size 432x288 with 2 Axes>"
            ]
          },
          "metadata": {
            "tags": [],
            "needs_background": "light"
          }
        }
      ]
    },
    {
      "cell_type": "code",
      "metadata": {
        "colab": {
          "base_uri": "https://localhost:8080/",
          "height": 747
        },
        "id": "-ypk0qzDrxWb",
        "outputId": "f2cd4d1d-34a4-4384-dfb1-d0171bd1c6f4"
      },
      "source": [
        "idioms_test_not_present = data_anc_test['Idiom Normal']\n",
        "define_best_and_worst_ratios_not_in_train(preds, labels_anc_test_not_present, idioms_test_not_present, k=5)"
      ],
      "execution_count": null,
      "outputs": [
        {
          "output_type": "display_data",
          "data": {
            "image/png": "[encoded data removed]",
            "text/plain": [
              "<Figure size 720x360 with 1 Axes>"
            ]
          },
          "metadata": {
            "tags": [],
            "needs_background": "light"
          }
        },
        {
          "output_type": "display_data",
          "data": {
            "image/png": "[encoded data removed]",
            "text/plain": [
              "<Figure size 720x360 with 1 Axes>"
            ]
          },
          "metadata": {
            "tags": [],
            "needs_background": "light"
          }
        }
      ]
    },
    {
      "cell_type": "code",
      "metadata": {
        "colab": {
          "base_uri": "https://localhost:8080/"
        },
        "id": "4f9PJGHUBoPR",
        "outputId": "219901b6-4a2b-4a9e-9adf-6b49a1edef18"
      },
      "source": [
        "data_anc_test['Idiom Normal'].value_counts()"
      ],
      "execution_count": null,
      "outputs": [
        {
          "output_type": "execute_result",
          "data": {
            "text/plain": [
              "вавилонское столпотворение    30\n",
              "наша сестра                   28\n",
              "пороховая бочка               27\n",
              "дальний прицел                25\n",
              "заблудшая овца                23\n",
              "красная бумажка               21\n",
              "ободранная кошка               9\n",
              "Name: Idiom Normal, dtype: int64"
            ]
          },
          "metadata": {
            "tags": []
          },
          "execution_count": 228
        }
      ]
    },
    {
      "cell_type": "markdown",
      "metadata": {
        "id": "kuZbRUd5urYg"
      },
      "source": [
        "## VNC"
      ]
    },
    {
      "cell_type": "code",
      "metadata": {
        "colab": {
          "base_uri": "https://localhost:8080/",
          "height": 66,
          "referenced_widgets": [
            "7ffa1ff84efb414d82938f01de221ffe",
            "a2e9ba7cbe27461c9c2f3a5bb37ca7bd",
            "af53e694d8e24b8aaad10f65f5488533",
            "1a5a28a6b27a4b6bb66cc7fa8f2bcdda",
            "39b6fce986ed4a5fb5d64cb30c06eb76",
            "110479187a7b4f9b9110dafac750e380",
            "627b99bf0d604592bf9c61b20c846f55",
            "94ad4c43cb814b1d8c4cf2541aa7faab"
          ]
        },
        "id": "uDjRZ5jIutP0",
        "outputId": "0cfd9312-bf56-4e5e-cc0a-ac74cf261892"
      },
      "source": [
        "embedded_contexts_vnc_train = get_bert_embeddings(data_vnc_train['Example'])"
      ],
      "execution_count": null,
      "outputs": [
        {
          "output_type": "display_data",
          "data": {
            "application/vnd.jupyter.widget-view+json": {
              "model_id": "7ffa1ff84efb414d82938f01de221ffe",
              "version_minor": 0,
              "version_major": 2
            },
            "text/plain": [
              "HBox(children=(FloatProgress(value=0.0, max=893.0), HTML(value='')))"
            ]
          },
          "metadata": {
            "tags": []
          }
        },
        {
          "output_type": "stream",
          "text": [
            "\n"
          ],
          "name": "stdout"
        }
      ]
    },
    {
      "cell_type": "code",
      "metadata": {
        "id": "32CeHM7wuxO1",
        "colab": {
          "base_uri": "https://localhost:8080/",
          "height": 66,
          "referenced_widgets": [
            "abb632715cee4d5aa1d7c39292ba16cf",
            "6470f86c63c64ce7b3199087e0335d48",
            "fa6829f101fd4c15ad57738943ebcef4",
            "529b2a44cd794e8ea2666f12f3adb141",
            "8a8915df9a864a17bd79c7f849a98af0",
            "35a853ddb18c4a6ebc9c860f62f5a8e3",
            "71003c08608545aabc62a5d83a1731f1",
            "20289379ec7d4f53b2d730be763c9b15"
          ]
        },
        "outputId": "a5da953b-8a2a-4a9b-f9b6-a787dc7a02b1"
      },
      "source": [
        "embedded_contexts_vnc_test = get_bert_embeddings(data_vnc_test['Example'])"
      ],
      "execution_count": null,
      "outputs": [
        {
          "output_type": "display_data",
          "data": {
            "application/vnd.jupyter.widget-view+json": {
              "model_id": "abb632715cee4d5aa1d7c39292ba16cf",
              "version_minor": 0,
              "version_major": 2
            },
            "text/plain": [
              "HBox(children=(FloatProgress(value=0.0, max=186.0), HTML(value='')))"
            ]
          },
          "metadata": {
            "tags": []
          }
        },
        {
          "output_type": "stream",
          "text": [
            "\n"
          ],
          "name": "stdout"
        }
      ]
    },
    {
      "cell_type": "code",
      "metadata": {
        "id": "OFQeYV9Mu0-a"
      },
      "source": [
        "labels_vnc_train_not_present = to_categorical(data_vnc_train.Label)\n",
        "labels_vnc_test_not_present = to_categorical(data_vnc_test.Label)"
      ],
      "execution_count": null,
      "outputs": []
    },
    {
      "cell_type": "code",
      "metadata": {
        "colab": {
          "base_uri": "https://localhost:8080/",
          "height": 419
        },
        "id": "Kj-iMw4S7xyS",
        "outputId": "774d8bb9-91fc-4408-a339-d8b41652a819"
      },
      "source": [
        "data_vnc_train"
      ],
      "execution_count": null,
      "outputs": [
        {
          "output_type": "execute_result",
          "data": {
            "text/html": [
              "<div>\n",
              "<style scoped>\n",
              "    .dataframe tbody tr th:only-of-type {\n",
              "        vertical-align: middle;\n",
              "    }\n",
              "\n",
              "    .dataframe tbody tr th {\n",
              "        vertical-align: top;\n",
              "    }\n",
              "\n",
              "    .dataframe thead th {\n",
              "        text-align: right;\n",
              "    }\n",
              "</style>\n",
              "<table border=\"1\" class=\"dataframe\">\n",
              "  <thead>\n",
              "    <tr style=\"text-align: right;\">\n",
              "      <th></th>\n",
              "      <th>Idiom Normal</th>\n",
              "      <th>Idiom Inflected</th>\n",
              "      <th>Label</th>\n",
              "      <th>Example</th>\n",
              "    </tr>\n",
              "  </thead>\n",
              "  <tbody>\n",
              "    <tr>\n",
              "      <th>710</th>\n",
              "      <td>окунуться с головой</td>\n",
              "      <td>окунуться с головой</td>\n",
              "      <td>1</td>\n",
              "      <td>Но Андрею хотелось иметь диплом и скорее окун...</td>\n",
              "    </tr>\n",
              "    <tr>\n",
              "      <th>440</th>\n",
              "      <td>сесть на мель</td>\n",
              "      <td>села на мель</td>\n",
              "      <td>1</td>\n",
              "      <td>Фирма села на мель, а завод по недосмотру сго...</td>\n",
              "    </tr>\n",
              "    <tr>\n",
              "      <th>525</th>\n",
              "      <td>поднять на ноги</td>\n",
              "      <td>поднял на ноги</td>\n",
              "      <td>0</td>\n",
              "      <td>Лидянг схватил за руку Оленегонку, поднял на...</td>\n",
              "    </tr>\n",
              "    <tr>\n",
              "      <th>721</th>\n",
              "      <td>окунуться с головой</td>\n",
              "      <td>окунулся с головой</td>\n",
              "      <td>1</td>\n",
              "      <td>С началом строительства БАМа, Николай окунулс...</td>\n",
              "    </tr>\n",
              "    <tr>\n",
              "      <th>39</th>\n",
              "      <td>бросать тень</td>\n",
              "      <td>бросал тень</td>\n",
              "      <td>1</td>\n",
              "      <td>И хотя вряд ли в северной деревне могли догад...</td>\n",
              "    </tr>\n",
              "    <tr>\n",
              "      <th>...</th>\n",
              "      <td>...</td>\n",
              "      <td>...</td>\n",
              "      <td>...</td>\n",
              "      <td>...</td>\n",
              "    </tr>\n",
              "    <tr>\n",
              "      <th>106</th>\n",
              "      <td>выступить на сцену</td>\n",
              "      <td>выступила на сцену</td>\n",
              "      <td>0</td>\n",
              "      <td>Как бы то ни было, кому-то это не понравилось...</td>\n",
              "    </tr>\n",
              "    <tr>\n",
              "      <th>270</th>\n",
              "      <td>прищемить хвост</td>\n",
              "      <td>прищемили хвост</td>\n",
              "      <td>0</td>\n",
              "      <td>― Что, сильно прищемили хвост, бедная моя са...</td>\n",
              "    </tr>\n",
              "    <tr>\n",
              "      <th>860</th>\n",
              "      <td>взваливать на плечи</td>\n",
              "      <td>взваливал на плечи</td>\n",
              "      <td>0</td>\n",
              "      <td>― кричал дворник.   Шарманщик суетливо взвали...</td>\n",
              "    </tr>\n",
              "    <tr>\n",
              "      <th>435</th>\n",
              "      <td>сесть на мель</td>\n",
              "      <td>сел на мель</td>\n",
              "      <td>0</td>\n",
              "      <td>Но, как оказалось, вывести его оттуда не удал...</td>\n",
              "    </tr>\n",
              "    <tr>\n",
              "      <th>102</th>\n",
              "      <td>выступить на сцену</td>\n",
              "      <td>выступила на сцену</td>\n",
              "      <td>1</td>\n",
              "      <td>Потом наступил второй период ― разложения и д...</td>\n",
              "    </tr>\n",
              "  </tbody>\n",
              "</table>\n",
              "<p>893 rows × 4 columns</p>\n",
              "</div>"
            ],
            "text/plain": [
              "            Idiom Normal  ...                                            Example\n",
              "710  окунуться с головой  ...   Но Андрею хотелось иметь диплом и скорее окун...\n",
              "440        сесть на мель  ...   Фирма села на мель, а завод по недосмотру сго...\n",
              "525      поднять на ноги  ...    Лидянг схватил за руку Оленегонку, поднял на...\n",
              "721  окунуться с головой  ...   С началом строительства БАМа, Николай окунулс...\n",
              "39          бросать тень  ...   И хотя вряд ли в северной деревне могли догад...\n",
              "..                   ...  ...                                                ...\n",
              "106   выступить на сцену  ...   Как бы то ни было, кому-то это не понравилось...\n",
              "270      прищемить хвост  ...    ― Что, сильно прищемили хвост, бедная моя са...\n",
              "860  взваливать на плечи  ...   ― кричал дворник.   Шарманщик суетливо взвали...\n",
              "435        сесть на мель  ...   Но, как оказалось, вывести его оттуда не удал...\n",
              "102   выступить на сцену  ...   Потом наступил второй период ― разложения и д...\n",
              "\n",
              "[893 rows x 4 columns]"
            ]
          },
          "metadata": {
            "tags": []
          },
          "execution_count": 143
        }
      ]
    },
    {
      "cell_type": "code",
      "metadata": {
        "colab": {
          "base_uri": "https://localhost:8080/",
          "height": 419
        },
        "id": "H9k8h2QW71JJ",
        "outputId": "1171e2a0-ba20-4d41-9f0f-fe167253d298"
      },
      "source": [
        "data_vnc_test"
      ],
      "execution_count": null,
      "outputs": [
        {
          "output_type": "execute_result",
          "data": {
            "text/html": [
              "<div>\n",
              "<style scoped>\n",
              "    .dataframe tbody tr th:only-of-type {\n",
              "        vertical-align: middle;\n",
              "    }\n",
              "\n",
              "    .dataframe tbody tr th {\n",
              "        vertical-align: top;\n",
              "    }\n",
              "\n",
              "    .dataframe thead th {\n",
              "        text-align: right;\n",
              "    }\n",
              "</style>\n",
              "<table border=\"1\" class=\"dataframe\">\n",
              "  <thead>\n",
              "    <tr style=\"text-align: right;\">\n",
              "      <th></th>\n",
              "      <th>Idiom Normal</th>\n",
              "      <th>Idiom Inflected</th>\n",
              "      <th>Label</th>\n",
              "      <th>Example</th>\n",
              "    </tr>\n",
              "  </thead>\n",
              "  <tbody>\n",
              "    <tr>\n",
              "      <th>688</th>\n",
              "      <td>умывать руки</td>\n",
              "      <td>умывать руки</td>\n",
              "      <td>1</td>\n",
              "      <td>Решение 1869 года за № 724, окончательно уста...</td>\n",
              "    </tr>\n",
              "    <tr>\n",
              "      <th>788</th>\n",
              "      <td>открыть глаза</td>\n",
              "      <td>откроют глаза</td>\n",
              "      <td>1</td>\n",
              "      <td>Пусть наши дети и внуки, думал он, учат грамо...</td>\n",
              "    </tr>\n",
              "    <tr>\n",
              "      <th>865</th>\n",
              "      <td>сидеть на печи</td>\n",
              "      <td>сидеть на печи</td>\n",
              "      <td>0</td>\n",
              "      <td>Сидеть на печи всегда было уютно и радостно.</td>\n",
              "    </tr>\n",
              "    <tr>\n",
              "      <th>617</th>\n",
              "      <td>вильнуть хвостом</td>\n",
              "      <td>вильнул хвостом</td>\n",
              "      <td>0</td>\n",
              "      <td>Тогда я открыл дверь и пригласил его войти в ...</td>\n",
              "    </tr>\n",
              "    <tr>\n",
              "      <th>616</th>\n",
              "      <td>вильнуть хвостом</td>\n",
              "      <td>вильнул хвостом</td>\n",
              "      <td>0</td>\n",
              "      <td>Рекс подошел к камушку, понюхал круглый гости...</td>\n",
              "    </tr>\n",
              "    <tr>\n",
              "      <th>...</th>\n",
              "      <td>...</td>\n",
              "      <td>...</td>\n",
              "      <td>...</td>\n",
              "      <td>...</td>\n",
              "    </tr>\n",
              "    <tr>\n",
              "      <th>622</th>\n",
              "      <td>вильнуть хвостом</td>\n",
              "      <td>вильнёт хвостом</td>\n",
              "      <td>1</td>\n",
              "      <td>И до того он как-то всем рыбам надоел, что н...</td>\n",
              "    </tr>\n",
              "    <tr>\n",
              "      <th>218</th>\n",
              "      <td>открывать Америку</td>\n",
              "      <td>открывал Америку</td>\n",
              "      <td>0</td>\n",
              "      <td>Когда Колумб открывал Америку, в мире жили об...</td>\n",
              "    </tr>\n",
              "    <tr>\n",
              "      <th>608</th>\n",
              "      <td>вильнуть хвостом</td>\n",
              "      <td>вильнуть хвостом</td>\n",
              "      <td>1</td>\n",
              "      <td>А иные ловкачи и там и сям успеют вильнуть хво...</td>\n",
              "    </tr>\n",
              "    <tr>\n",
              "      <th>875</th>\n",
              "      <td>сидеть на печи</td>\n",
              "      <td>сидела на печи</td>\n",
              "      <td>0</td>\n",
              "      <td>Его дочь, та самая девочка, которая сидела на...</td>\n",
              "    </tr>\n",
              "    <tr>\n",
              "      <th>618</th>\n",
              "      <td>вильнуть хвостом</td>\n",
              "      <td>вильнул хвостом</td>\n",
              "      <td>0</td>\n",
              "      <td>После этого он вильнул хвостом и побежал к себ...</td>\n",
              "    </tr>\n",
              "  </tbody>\n",
              "</table>\n",
              "<p>186 rows × 4 columns</p>\n",
              "</div>"
            ],
            "text/plain": [
              "          Idiom Normal  ...                                            Example\n",
              "688       умывать руки  ...   Решение 1869 года за № 724, окончательно уста...\n",
              "788      открыть глаза  ...   Пусть наши дети и внуки, думал он, учат грамо...\n",
              "865     сидеть на печи  ...       Сидеть на печи всегда было уютно и радостно.\n",
              "617   вильнуть хвостом  ...   Тогда я открыл дверь и пригласил его войти в ...\n",
              "616   вильнуть хвостом  ...   Рекс подошел к камушку, понюхал круглый гости...\n",
              "..                 ...  ...                                                ...\n",
              "622   вильнуть хвостом  ...    И до того он как-то всем рыбам надоел, что н...\n",
              "218  открывать Америку  ...   Когда Колумб открывал Америку, в мире жили об...\n",
              "608   вильнуть хвостом  ...  А иные ловкачи и там и сям успеют вильнуть хво...\n",
              "875     сидеть на печи  ...   Его дочь, та самая девочка, которая сидела на...\n",
              "618   вильнуть хвостом  ...  После этого он вильнул хвостом и побежал к себ...\n",
              "\n",
              "[186 rows x 4 columns]"
            ]
          },
          "metadata": {
            "tags": []
          },
          "execution_count": 144
        }
      ]
    },
    {
      "cell_type": "markdown",
      "metadata": {
        "id": "Tnm_inpdtbF3"
      },
      "source": [
        "### Classifier"
      ]
    },
    {
      "cell_type": "code",
      "metadata": {
        "id": "YhbW6VNZu8r9"
      },
      "source": [
        "embedded_contexts_vnc_train = tf.convert_to_tensor(embedded_contexts_vnc_train)\n",
        "embedded_contexts_vnc_test = tf.convert_to_tensor(embedded_contexts_vnc_test)"
      ],
      "execution_count": null,
      "outputs": []
    },
    {
      "cell_type": "code",
      "metadata": {
        "colab": {
          "base_uri": "https://localhost:8080/"
        },
        "id": "nbcuXFPCteeF",
        "outputId": "f7a4a1c6-2e95-4660-e6cd-2194191e0968"
      },
      "source": [
        "model_vnc_3 = build_model()\n",
        "model_vnc_3.fit(embedded_contexts_vnc_train, labels_vnc_train_not_present, batch_size=8, epochs=10)"
      ],
      "execution_count": null,
      "outputs": [
        {
          "output_type": "stream",
          "text": [
            "compiled model\n",
            "Epoch 1/10\n",
            "112/112 [==============================] - 21s 138ms/step - loss: 0.5875 - accuracy: 0.7111\n",
            "Epoch 2/10\n",
            "112/112 [==============================] - 15s 137ms/step - loss: 0.4246 - accuracy: 0.8219\n",
            "Epoch 3/10\n",
            "112/112 [==============================] - 15s 136ms/step - loss: 0.3431 - accuracy: 0.8623\n",
            "Epoch 4/10\n",
            "112/112 [==============================] - 15s 136ms/step - loss: 0.2976 - accuracy: 0.8824\n",
            "Epoch 5/10\n",
            "112/112 [==============================] - 15s 137ms/step - loss: 0.2574 - accuracy: 0.8914\n",
            "Epoch 6/10\n",
            "112/112 [==============================] - 15s 135ms/step - loss: 0.2198 - accuracy: 0.9138\n",
            "Epoch 7/10\n",
            "112/112 [==============================] - 15s 135ms/step - loss: 0.1840 - accuracy: 0.9283\n",
            "Epoch 8/10\n",
            "112/112 [==============================] - 15s 134ms/step - loss: 0.1615 - accuracy: 0.9384\n",
            "Epoch 9/10\n",
            "112/112 [==============================] - 15s 135ms/step - loss: 0.1340 - accuracy: 0.9440\n",
            "Epoch 10/10\n",
            "112/112 [==============================] - 15s 134ms/step - loss: 0.1116 - accuracy: 0.9642\n"
          ],
          "name": "stdout"
        },
        {
          "output_type": "execute_result",
          "data": {
            "text/plain": [
              "<tensorflow.python.keras.callbacks.History at 0x7f87d4ff76d0>"
            ]
          },
          "metadata": {
            "tags": []
          },
          "execution_count": 233
        }
      ]
    },
    {
      "cell_type": "code",
      "metadata": {
        "colab": {
          "base_uri": "https://localhost:8080/"
        },
        "id": "tfrIfr3dtoiZ",
        "outputId": "c3f3396f-4ec1-4820-80ae-4477fd8f7bf5"
      },
      "source": [
        "model_vnc_3.evaluate(np.asarray(embedded_contexts_vnc_test), labels_vnc_test_not_present)\n",
        "                     \n",
        "acc = model_vnc_3.evaluate(embedded_contexts_vnc_test, labels_vnc_test_not_present)[1]\n",
        "preds = model_vnc_3.predict(np.array(embedded_contexts_vnc_test))\n",
        "f_score = f1_score(np.argmax(preds, axis=1), np.argmax(labels_vnc_test_not_present, axis=1))\n",
        "roc_auc = roc_auc_score(labels_vnc_test_not_present, preds)\n",
        "\n",
        "print('Accuracy: {}\\nF-score: {}\\nROC AUC: {}'.format(acc, f_score, roc_auc))\n",
        "roc_auc_score(labels_vnc_test_not_present,preds)"
      ],
      "execution_count": null,
      "outputs": [
        {
          "output_type": "stream",
          "text": [
            "6/6 [==============================] - 2s 53ms/step - loss: 0.0526 - accuracy: 0.9839\n",
            "6/6 [==============================] - 0s 58ms/step - loss: 0.0526 - accuracy: 0.9839\n",
            "Accuracy: 0.9838709831237793\n",
            "F-score: 0.979020979020979\n",
            "ROC AUC: 0.9980506822612085\n"
          ],
          "name": "stdout"
        },
        {
          "output_type": "execute_result",
          "data": {
            "text/plain": [
              "0.9980506822612085"
            ]
          },
          "metadata": {
            "tags": []
          },
          "execution_count": 236
        }
      ]
    },
    {
      "cell_type": "code",
      "metadata": {
        "colab": {
          "base_uri": "https://localhost:8080/",
          "height": 330
        },
        "id": "THV-Y0H5txKl",
        "outputId": "e2b6acea-52da-41a2-def8-65cc7670e5e1"
      },
      "source": [
        "matrix = confusion_matrix(np.argmax(labels_vnc_test_not_present, axis=1), np.argmax(preds, axis=1))\n",
        "print(matrix)\n",
        "disp = ConfusionMatrixDisplay(matrix, display_labels=['Literal', 'Idiomatic'])\n",
        "disp.plot()"
      ],
      "execution_count": null,
      "outputs": [
        {
          "output_type": "stream",
          "text": [
            "[[113   1]\n",
            " [  2  70]]\n"
          ],
          "name": "stdout"
        },
        {
          "output_type": "execute_result",
          "data": {
            "text/plain": [
              "<sklearn.metrics._plot.confusion_matrix.ConfusionMatrixDisplay at 0x7f87d3cf37d0>"
            ]
          },
          "metadata": {
            "tags": []
          },
          "execution_count": 237
        },
        {
          "output_type": "display_data",
          "data": {
            "image/png": "[encoded data removed]",
            "text/plain": [
              "<Figure size 432x288 with 2 Axes>"
            ]
          },
          "metadata": {
            "tags": [],
            "needs_background": "light"
          }
        }
      ]
    },
    {
      "cell_type": "code",
      "metadata": {
        "colab": {
          "base_uri": "https://localhost:8080/",
          "height": 722
        },
        "id": "Tp79P4HSFeeO",
        "outputId": "de7b0ba0-9f10-4704-b2ae-6492fed0efcc"
      },
      "source": [
        "idioms_test_not_present = data_vnc_test['Idiom Normal']\n",
        "define_best_and_worst_ratios_not_in_train(preds, labels_vnc_test_not_present, idioms_test_not_present, k=5)"
      ],
      "execution_count": null,
      "outputs": [
        {
          "output_type": "display_data",
          "data": {
            "image/png": "[encoded data removed]",
            "text/plain": [
              "<Figure size 720x360 with 1 Axes>"
            ]
          },
          "metadata": {
            "tags": [],
            "needs_background": "light"
          }
        },
        {
          "output_type": "display_data",
          "data": {
            "image/png": "[encoded data removed]",
            "text/plain": [
              "<Figure size 720x360 with 1 Axes>"
            ]
          },
          "metadata": {
            "tags": [],
            "needs_background": "light"
          }
        }
      ]
    },
    {
      "cell_type": "code",
      "metadata": {
        "colab": {
          "base_uri": "https://localhost:8080/"
        },
        "id": "mU4NJTl86XmT",
        "outputId": "0c44fb7b-4404-4265-b085-c5f8506d8bea"
      },
      "source": [
        "model_vnc_4 = build_model()\n",
        "model_vnc_4.fit(embedded_contexts_vnc_train[:200], labels_vnc_train_not_present[:200], batch_size=8, epochs=10)"
      ],
      "execution_count": null,
      "outputs": [
        {
          "output_type": "stream",
          "text": [
            "compiled model\n",
            "Epoch 1/10\n",
            "25/25 [==============================] - 8s 109ms/step - loss: 0.7002 - accuracy: 0.5550\n",
            "Epoch 2/10\n",
            "25/25 [==============================] - 3s 106ms/step - loss: 0.5594 - accuracy: 0.7550\n",
            "Epoch 3/10\n",
            "25/25 [==============================] - 3s 109ms/step - loss: 0.4748 - accuracy: 0.8100\n",
            "Epoch 4/10\n",
            "25/25 [==============================] - 3s 107ms/step - loss: 0.4038 - accuracy: 0.8450\n",
            "Epoch 5/10\n",
            "25/25 [==============================] - 3s 109ms/step - loss: 0.3220 - accuracy: 0.9050\n",
            "Epoch 6/10\n",
            "25/25 [==============================] - 3s 105ms/step - loss: 0.2671 - accuracy: 0.9300\n",
            "Epoch 7/10\n",
            "25/25 [==============================] - 3s 105ms/step - loss: 0.2319 - accuracy: 0.9350\n",
            "Epoch 8/10\n",
            "25/25 [==============================] - 3s 105ms/step - loss: 0.1617 - accuracy: 0.9750\n",
            "Epoch 9/10\n",
            "25/25 [==============================] - 3s 104ms/step - loss: 0.1490 - accuracy: 0.9550\n",
            "Epoch 10/10\n",
            "25/25 [==============================] - 3s 106ms/step - loss: 0.1020 - accuracy: 0.9850\n"
          ],
          "name": "stdout"
        },
        {
          "output_type": "execute_result",
          "data": {
            "text/plain": [
              "<tensorflow.python.keras.callbacks.History at 0x7fa26f93ccd0>"
            ]
          },
          "metadata": {
            "tags": []
          },
          "execution_count": 139
        }
      ]
    },
    {
      "cell_type": "code",
      "metadata": {
        "colab": {
          "base_uri": "https://localhost:8080/"
        },
        "id": "s4W4YRJJ6dy3",
        "outputId": "8940e07b-aaf9-4d5b-f2e7-b8ba375d5180"
      },
      "source": [
        "model_vnc_4.evaluate(np.asarray(embedded_contexts_vnc_test), labels_vnc_test_not_present)"
      ],
      "execution_count": null,
      "outputs": [
        {
          "output_type": "stream",
          "text": [
            "6/6 [==============================] - 3s 78ms/step - loss: 0.4353 - accuracy: 0.8387\n"
          ],
          "name": "stdout"
        },
        {
          "output_type": "execute_result",
          "data": {
            "text/plain": [
              "[0.435305118560791, 0.8387096524238586]"
            ]
          },
          "metadata": {
            "tags": []
          },
          "execution_count": 140
        }
      ]
    },
    {
      "cell_type": "code",
      "metadata": {
        "id": "BWVhGqaW6mvr"
      },
      "source": [
        ""
      ],
      "execution_count": null,
      "outputs": []
    },
    {
      "cell_type": "markdown",
      "metadata": {
        "id": "zgFFOedQ6yMe"
      },
      "source": [
        "# Dataset size experiments"
      ]
    },
    {
      "cell_type": "markdown",
      "metadata": {
        "id": "tchsgK0k7I-t"
      },
      "source": [
        "## 70%"
      ]
    },
    {
      "cell_type": "code",
      "metadata": {
        "colab": {
          "base_uri": "https://localhost:8080/"
        },
        "id": "a3rbl1VSPb7-",
        "outputId": "0b43ee88-032e-4d84-d847-cacf687e816f"
      },
      "source": [
        "train_size = 0.7 * 0.7 * len(embedded_contexts)\n",
        "print(train_size)\n",
        "test_size = 0.3 * len(embedded_contexts)\n",
        "test_size"
      ],
      "execution_count": null,
      "outputs": [
        {
          "output_type": "stream",
          "text": [
            "832.5099999999999\n"
          ],
          "name": "stdout"
        },
        {
          "output_type": "execute_result",
          "data": {
            "text/plain": [
              "509.7"
            ]
          },
          "metadata": {
            "tags": []
          },
          "execution_count": 280
        }
      ]
    },
    {
      "cell_type": "code",
      "metadata": {
        "id": "G5h3ghjhGcZQ"
      },
      "source": [
        "X_sample_train = random.Random(42).sample(embedded_contexts, 833)\n",
        "X_sample_train = tf.convert_to_tensor(X_sample_train)\n",
        "labels_train_sample = random.Random(42).sample(list(data.Label), 833)\n",
        "labels_train_sample = to_categorical(labels_train_sample)\n",
        "\n",
        "X_sample_test = random.Random(2).sample(embedded_contexts, 510)\n",
        "X_sample_test= tf.convert_to_tensor(X_sample_test)\n",
        "labels_test_sample = random.Random(2).sample(list(data.Label), 510)\n",
        "labels_test_sample = to_categorical(labels_test_sample)"
      ],
      "execution_count": null,
      "outputs": []
    },
    {
      "cell_type": "code",
      "metadata": {
        "colab": {
          "base_uri": "https://localhost:8080/"
        },
        "id": "YRQco0uI626L",
        "outputId": "53fc09ee-e083-4d4e-f2de-368cd6e5f946"
      },
      "source": [
        "model_all_4 = build_model()\n",
        "model_all_4.fit(X_sample_train, labels_train_sample, batch_size=8, epochs=10)"
      ],
      "execution_count": null,
      "outputs": [
        {
          "output_type": "stream",
          "text": [
            "compiled model\n",
            "Epoch 1/10\n",
            "105/105 [==============================] - 20s 137ms/step - loss: 0.7284 - accuracy: 0.5006\n",
            "Epoch 2/10\n",
            "105/105 [==============================] - 14s 138ms/step - loss: 0.6889 - accuracy: 0.5534\n",
            "Epoch 3/10\n",
            "105/105 [==============================] - 14s 137ms/step - loss: 0.6678 - accuracy: 0.6062\n",
            "Epoch 4/10\n",
            "105/105 [==============================] - 14s 136ms/step - loss: 0.6350 - accuracy: 0.6639\n",
            "Epoch 5/10\n",
            "105/105 [==============================] - 14s 137ms/step - loss: 0.5987 - accuracy: 0.6975\n",
            "Epoch 6/10\n",
            "105/105 [==============================] - 14s 135ms/step - loss: 0.5650 - accuracy: 0.7323\n",
            "Epoch 7/10\n",
            "105/105 [==============================] - 14s 138ms/step - loss: 0.5087 - accuracy: 0.7791\n",
            "Epoch 8/10\n",
            "105/105 [==============================] - 14s 135ms/step - loss: 0.4761 - accuracy: 0.7911\n",
            "Epoch 9/10\n",
            "105/105 [==============================] - 14s 136ms/step - loss: 0.4658 - accuracy: 0.7875\n",
            "Epoch 10/10\n",
            "105/105 [==============================] - 14s 136ms/step - loss: 0.4067 - accuracy: 0.8331\n"
          ],
          "name": "stdout"
        },
        {
          "output_type": "execute_result",
          "data": {
            "text/plain": [
              "<tensorflow.python.keras.callbacks.History at 0x7f87e12fd410>"
            ]
          },
          "metadata": {
            "tags": []
          },
          "execution_count": 319
        }
      ]
    },
    {
      "cell_type": "code",
      "metadata": {
        "colab": {
          "base_uri": "https://localhost:8080/"
        },
        "id": "AyI98AJo7NhN",
        "outputId": "45841776-3813-44b5-94f8-09a34ea00a02"
      },
      "source": [
        "model_all_4.evaluate(np.asarray(X_sample_test), labels_test_sample)\n",
        "                     \n",
        "acc = model_all_4.evaluate(X_sample_test, labels_test_sample)[1]\n",
        "preds = model_all_4.predict(np.array(X_sample_test))\n",
        "f_score = f1_score(np.argmax(preds, axis=1), np.argmax(labels_test_sample, axis=1))\n",
        "roc_auc = roc_auc_score(labels_test_sample, preds)\n",
        "\n",
        "print('Accuracy: {}\\nF-score: {}\\nROC AUC: {}'.format(acc, f_score, roc_auc))\n",
        "roc_auc_score(labels_test_sample,preds)"
      ],
      "execution_count": null,
      "outputs": [
        {
          "output_type": "stream",
          "text": [
            "16/16 [==============================] - 3s 57ms/step - loss: 0.5681 - accuracy: 0.7275\n",
            "16/16 [==============================] - 1s 57ms/step - loss: 0.5681 - accuracy: 0.7275\n",
            "Accuracy: 0.727450966835022\n",
            "F-score: 0.729044834307992\n",
            "ROC AUC: 0.7945428817521841\n"
          ],
          "name": "stdout"
        },
        {
          "output_type": "execute_result",
          "data": {
            "text/plain": [
              "0.7945428817521841"
            ]
          },
          "metadata": {
            "tags": []
          },
          "execution_count": 320
        }
      ]
    },
    {
      "cell_type": "code",
      "metadata": {
        "id": "Dkhv9ygZ7Smr"
      },
      "source": [
        "X_sample_train = random.Random(2).sample(embedded_contexts, 833)\n",
        "X_sample_train = tf.convert_to_tensor(X_sample_train)\n",
        "labels_train_sample = random.Random(2).sample(list(data.Label), 833)\n",
        "labels_train_sample = to_categorical(labels_train_sample)\n",
        "\n",
        "X_sample_test = random.Random(22).sample(embedded_contexts, 510)\n",
        "X_sample_test= tf.convert_to_tensor(X_sample_test)\n",
        "labels_test_sample = random.Random(22).sample(list(data.Label), 510)\n",
        "labels_test_sample = to_categorical(labels_test_sample)"
      ],
      "execution_count": null,
      "outputs": []
    },
    {
      "cell_type": "code",
      "metadata": {
        "colab": {
          "base_uri": "https://localhost:8080/"
        },
        "id": "b9M1fBoJSTXd",
        "outputId": "cab5572a-4e0b-4824-d3cf-2be620b103d0"
      },
      "source": [
        "model_all_4 = build_model()\n",
        "model_all_4.fit(X_sample_train, labels_train_sample, batch_size=8, epochs=10)\n",
        "\n",
        "model_all_4.evaluate(np.asarray(X_sample_test), labels_test_sample)\n",
        "                     \n",
        "acc = model_all_4.evaluate(X_sample_test, labels_test_sample)[1]\n",
        "preds = model_all_4.predict(np.array(X_sample_test))\n",
        "f_score = f1_score(np.argmax(preds, axis=1), np.argmax(labels_test_sample, axis=1))\n",
        "roc_auc = roc_auc_score(labels_test_sample, preds)\n",
        "\n",
        "print('Accuracy: {}\\nF-score: {}\\nROC AUC: {}'.format(acc, f_score, roc_auc))\n",
        "roc_auc_score(labels_test_sample,preds)"
      ],
      "execution_count": null,
      "outputs": [
        {
          "output_type": "stream",
          "text": [
            "compiled model\n",
            "Epoch 1/10\n",
            "105/105 [==============================] - 20s 138ms/step - loss: 0.7172 - accuracy: 0.5138\n",
            "Epoch 2/10\n",
            "105/105 [==============================] - 15s 139ms/step - loss: 0.6821 - accuracy: 0.5870\n",
            "Epoch 3/10\n",
            "105/105 [==============================] - 15s 138ms/step - loss: 0.6668 - accuracy: 0.6110\n",
            "Epoch 4/10\n",
            "105/105 [==============================] - 14s 137ms/step - loss: 0.6378 - accuracy: 0.6699\n",
            "Epoch 5/10\n",
            "105/105 [==============================] - 15s 139ms/step - loss: 0.6013 - accuracy: 0.7059\n",
            "Epoch 6/10\n",
            "105/105 [==============================] - 14s 137ms/step - loss: 0.5706 - accuracy: 0.7299\n",
            "Epoch 7/10\n",
            "105/105 [==============================] - 14s 138ms/step - loss: 0.5144 - accuracy: 0.7755\n",
            "Epoch 8/10\n",
            "105/105 [==============================] - 14s 137ms/step - loss: 0.4859 - accuracy: 0.7863\n",
            "Epoch 9/10\n",
            "105/105 [==============================] - 15s 138ms/step - loss: 0.4512 - accuracy: 0.7887\n",
            "Epoch 10/10\n",
            "105/105 [==============================] - 14s 138ms/step - loss: 0.4299 - accuracy: 0.8115\n",
            "16/16 [==============================] - 3s 60ms/step - loss: 0.6323 - accuracy: 0.6882\n",
            "16/16 [==============================] - 1s 58ms/step - loss: 0.6323 - accuracy: 0.6882\n",
            "Accuracy: 0.6882352828979492\n",
            "F-score: 0.6378132118451024\n",
            "ROC AUC: 0.7645964070382676\n"
          ],
          "name": "stdout"
        },
        {
          "output_type": "execute_result",
          "data": {
            "text/plain": [
              "0.7645964070382676"
            ]
          },
          "metadata": {
            "tags": []
          },
          "execution_count": 317
        }
      ]
    },
    {
      "cell_type": "code",
      "metadata": {
        "id": "X6kOE070ScTr"
      },
      "source": [
        "X_sample_train = random.Random(10).sample(embedded_contexts, 833)\n",
        "X_sample_train = tf.convert_to_tensor(X_sample_train)\n",
        "labels_train_sample = random.Random(10).sample(list(data.Label), 833)\n",
        "labels_train_sample = to_categorical(labels_train_sample)\n",
        "\n",
        "X_sample_test = random.Random(100).sample(embedded_contexts, 510)\n",
        "X_sample_test= tf.convert_to_tensor(X_sample_test)\n",
        "labels_test_sample = random.Random(100).sample(list(data.Label), 510)\n",
        "labels_test_sample = to_categorical(labels_test_sample)"
      ],
      "execution_count": null,
      "outputs": []
    },
    {
      "cell_type": "code",
      "metadata": {
        "colab": {
          "base_uri": "https://localhost:8080/"
        },
        "id": "_WWMlcE8Sma_",
        "outputId": "a36f4871-1006-43ab-babe-44db8f80149f"
      },
      "source": [
        "model_all_4 = build_model()\n",
        "model_all_4.fit(X_sample_train, labels_train_sample, batch_size=8, epochs=10)\n",
        "\n",
        "model_all_4.evaluate(np.asarray(X_sample_test), labels_test_sample)\n",
        "                     \n",
        "acc = model_all_4.evaluate(X_sample_test, labels_test_sample)[1]\n",
        "preds = model_all_4.predict(np.array(X_sample_test))\n",
        "f_score = f1_score(np.argmax(preds, axis=1), np.argmax(labels_test_sample, axis=1))\n",
        "roc_auc = roc_auc_score(labels_test_sample, preds)\n",
        "\n",
        "print('Accuracy: {}\\nF-score: {}\\nROC AUC: {}'.format(acc, f_score, roc_auc))\n",
        "roc_auc_score(labels_test_sample,preds)"
      ],
      "execution_count": null,
      "outputs": [
        {
          "output_type": "stream",
          "text": [
            "compiled model\n",
            "Epoch 1/10\n",
            "105/105 [==============================] - 24s 139ms/step - loss: 0.7299 - accuracy: 0.5150\n",
            "Epoch 2/10\n",
            "105/105 [==============================] - 15s 138ms/step - loss: 0.6880 - accuracy: 0.5498\n",
            "Epoch 3/10\n",
            "105/105 [==============================] - 14s 138ms/step - loss: 0.6619 - accuracy: 0.5930\n",
            "Epoch 4/10\n",
            "105/105 [==============================] - 14s 137ms/step - loss: 0.6166 - accuracy: 0.6627\n",
            "Epoch 5/10\n",
            "105/105 [==============================] - 14s 138ms/step - loss: 0.5872 - accuracy: 0.6891\n",
            "Epoch 6/10\n",
            "105/105 [==============================] - 15s 138ms/step - loss: 0.5499 - accuracy: 0.7419\n",
            "Epoch 7/10\n",
            "105/105 [==============================] - 14s 138ms/step - loss: 0.5092 - accuracy: 0.7575\n",
            "Epoch 8/10\n",
            "105/105 [==============================] - 14s 136ms/step - loss: 0.4709 - accuracy: 0.7983\n",
            "Epoch 9/10\n",
            "105/105 [==============================] - 14s 137ms/step - loss: 0.4550 - accuracy: 0.8031\n",
            "Epoch 10/10\n",
            "105/105 [==============================] - 14s 136ms/step - loss: 0.4243 - accuracy: 0.8247\n",
            "16/16 [==============================] - 3s 56ms/step - loss: 0.5475 - accuracy: 0.7451\n",
            "16/16 [==============================] - 1s 56ms/step - loss: 0.5475 - accuracy: 0.7451\n",
            "Accuracy: 0.7450980544090271\n",
            "F-score: 0.7490347490347491\n",
            "ROC AUC: 0.8067091177556294\n"
          ],
          "name": "stdout"
        },
        {
          "output_type": "execute_result",
          "data": {
            "text/plain": [
              "0.8067091177556294"
            ]
          },
          "metadata": {
            "tags": []
          },
          "execution_count": 323
        }
      ]
    },
    {
      "cell_type": "markdown",
      "metadata": {
        "id": "mm1QSg5s7dz1"
      },
      "source": [
        "## 50%"
      ]
    },
    {
      "cell_type": "code",
      "metadata": {
        "colab": {
          "base_uri": "https://localhost:8080/"
        },
        "id": "7JT4Mb2I7f7h",
        "outputId": "fa9af70b-8018-4c88-c03a-b4191a9edee3"
      },
      "source": [
        "train_size = 0.7 * 0.5 * len(embedded_contexts)\n",
        "print(train_size)\n",
        "test_size = 0.3 * len(embedded_contexts)\n",
        "test_size"
      ],
      "execution_count": null,
      "outputs": [
        {
          "output_type": "stream",
          "text": [
            "594.65\n"
          ],
          "name": "stdout"
        },
        {
          "output_type": "execute_result",
          "data": {
            "text/plain": [
              "509.7"
            ]
          },
          "metadata": {
            "tags": []
          },
          "execution_count": 297
        }
      ]
    },
    {
      "cell_type": "code",
      "metadata": {
        "id": "-9A5wZ3BS2Mj"
      },
      "source": [
        "X_sample_train = random.Random(15).sample(embedded_contexts, 595)\n",
        "X_sample_train = tf.convert_to_tensor(X_sample_train)\n",
        "labels_train_sample = random.Random(15).sample(list(data.Label), 595)\n",
        "labels_train_sample = to_categorical(labels_train_sample)\n",
        "\n",
        "X_sample_test = random.Random(26).sample(embedded_contexts, 510)\n",
        "X_sample_test= tf.convert_to_tensor(X_sample_test)\n",
        "labels_test_sample = random.Random(26).sample(list(data.Label), 510)\n",
        "labels_test_sample = to_categorical(labels_test_sample)"
      ],
      "execution_count": null,
      "outputs": []
    },
    {
      "cell_type": "code",
      "metadata": {
        "colab": {
          "base_uri": "https://localhost:8080/"
        },
        "id": "SG8bmH7K7jA7",
        "outputId": "3eb1c413-ac83-4fae-8b29-cda95fc7dd09"
      },
      "source": [
        "model_all_4 = build_model()\n",
        "model_all_4.fit(X_sample_train, labels_train_sample, batch_size=8, epochs=10)\n",
        "\n",
        "model_all_4.evaluate(np.asarray(X_sample_test), labels_test_sample)\n",
        "                     \n",
        "acc = model_all_4.evaluate(X_sample_test, labels_test_sample)[1]\n",
        "preds = model_all_4.predict(np.array(X_sample_test))\n",
        "f_score = f1_score(np.argmax(preds, axis=1), np.argmax(labels_test_sample, axis=1))\n",
        "roc_auc = roc_auc_score(labels_test_sample, preds)\n",
        "\n",
        "print('Accuracy: {}\\nF-score: {}\\nROC AUC: {}'.format(acc, f_score, roc_auc))\n",
        "roc_auc_score(labels_test_sample,preds)"
      ],
      "execution_count": null,
      "outputs": [
        {
          "output_type": "stream",
          "text": [
            "compiled model\n",
            "Epoch 1/10\n",
            "75/75 [==============================] - 16s 136ms/step - loss: 0.7218 - accuracy: 0.5008\n",
            "Epoch 2/10\n",
            "75/75 [==============================] - 10s 137ms/step - loss: 0.6916 - accuracy: 0.5563\n",
            "Epoch 3/10\n",
            "75/75 [==============================] - 10s 135ms/step - loss: 0.6623 - accuracy: 0.5933\n",
            "Epoch 4/10\n",
            "75/75 [==============================] - 10s 136ms/step - loss: 0.6292 - accuracy: 0.6689\n",
            "Epoch 5/10\n",
            "75/75 [==============================] - 10s 136ms/step - loss: 0.5786 - accuracy: 0.7361\n",
            "Epoch 6/10\n",
            "75/75 [==============================] - 10s 136ms/step - loss: 0.5496 - accuracy: 0.7479\n",
            "Epoch 7/10\n",
            "75/75 [==============================] - 10s 135ms/step - loss: 0.5137 - accuracy: 0.7580\n",
            "Epoch 8/10\n",
            "75/75 [==============================] - 10s 136ms/step - loss: 0.4766 - accuracy: 0.8000\n",
            "Epoch 9/10\n",
            "75/75 [==============================] - 10s 135ms/step - loss: 0.4321 - accuracy: 0.8387\n",
            "Epoch 10/10\n",
            "75/75 [==============================] - 10s 136ms/step - loss: 0.3997 - accuracy: 0.8471\n",
            "16/16 [==============================] - 3s 58ms/step - loss: 0.6636 - accuracy: 0.6471\n",
            "16/16 [==============================] - 1s 55ms/step - loss: 0.6636 - accuracy: 0.6471\n",
            "Accuracy: 0.6470588445663452\n",
            "F-score: 0.625\n",
            "ROC AUC: 0.7198305737389297\n"
          ],
          "name": "stdout"
        },
        {
          "output_type": "execute_result",
          "data": {
            "text/plain": [
              "0.7198305737389297"
            ]
          },
          "metadata": {
            "tags": []
          },
          "execution_count": 325
        }
      ]
    },
    {
      "cell_type": "code",
      "metadata": {
        "colab": {
          "base_uri": "https://localhost:8080/"
        },
        "id": "xOqBtMk78KX5",
        "outputId": "ba3aaba2-dd26-46b5-cefb-172986bf5d7f"
      },
      "source": [
        "model_all_4 = build_model()\n",
        "X_sample_train = random.Random(25).sample(embedded_contexts, 595)\n",
        "X_sample_train = tf.convert_to_tensor(X_sample_train)\n",
        "labels_train_sample = random.Random(25).sample(list(data.Label), 595)\n",
        "labels_train_sample = to_categorical(labels_train_sample)\n",
        "\n",
        "X_sample_test = random.Random(55).sample(embedded_contexts, 510)\n",
        "X_sample_test= tf.convert_to_tensor(X_sample_test)\n",
        "labels_test_sample = random.Random(55).sample(list(data.Label), 510)\n",
        "labels_test_sample = to_categorical(labels_test_sample)"
      ],
      "execution_count": null,
      "outputs": [
        {
          "output_type": "stream",
          "text": [
            "compiled model\n"
          ],
          "name": "stdout"
        }
      ]
    },
    {
      "cell_type": "code",
      "metadata": {
        "colab": {
          "base_uri": "https://localhost:8080/"
        },
        "id": "RLv7zdvSTrax",
        "outputId": "f6fda105-9b01-42f9-b16a-b23ea5596bcc"
      },
      "source": [
        "model_all_4.fit(X_sample_train, labels_train_sample, batch_size=8, epochs=10)\n",
        "\n",
        "model_all_4.evaluate(np.asarray(X_sample_test), labels_test_sample)\n",
        "                     \n",
        "acc = model_all_4.evaluate(X_sample_test, labels_test_sample)[1]\n",
        "preds = model_all_4.predict(np.array(X_sample_test))\n",
        "f_score = f1_score(np.argmax(preds, axis=1), np.argmax(labels_test_sample, axis=1))\n",
        "roc_auc = roc_auc_score(labels_test_sample, preds)\n",
        "\n",
        "print('Accuracy: {}\\nF-score: {}\\nROC AUC: {}'.format(acc, f_score, roc_auc))\n",
        "roc_auc_score(labels_test_sample,preds)"
      ],
      "execution_count": null,
      "outputs": [
        {
          "output_type": "stream",
          "text": [
            "Epoch 1/10\n",
            "75/75 [==============================] - 18s 139ms/step - loss: 0.7393 - accuracy: 0.4672\n",
            "Epoch 2/10\n",
            "75/75 [==============================] - 10s 139ms/step - loss: 0.6970 - accuracy: 0.5496\n",
            "Epoch 3/10\n",
            "75/75 [==============================] - 11s 141ms/step - loss: 0.6713 - accuracy: 0.5966\n",
            "Epoch 4/10\n",
            "75/75 [==============================] - 10s 139ms/step - loss: 0.6446 - accuracy: 0.6387\n",
            "Epoch 5/10\n",
            "75/75 [==============================] - 10s 140ms/step - loss: 0.5923 - accuracy: 0.7328\n",
            "Epoch 6/10\n",
            "75/75 [==============================] - 11s 141ms/step - loss: 0.5411 - accuracy: 0.7714\n",
            "Epoch 7/10\n",
            "75/75 [==============================] - 10s 139ms/step - loss: 0.5167 - accuracy: 0.7731\n",
            "Epoch 8/10\n",
            "75/75 [==============================] - 10s 140ms/step - loss: 0.4606 - accuracy: 0.8017\n",
            "Epoch 9/10\n",
            "75/75 [==============================] - 10s 140ms/step - loss: 0.4364 - accuracy: 0.8252\n",
            "Epoch 10/10\n",
            "75/75 [==============================] - 10s 139ms/step - loss: 0.3800 - accuracy: 0.8672\n",
            "16/16 [==============================] - 3s 56ms/step - loss: 0.7228 - accuracy: 0.6353\n",
            "16/16 [==============================] - 1s 57ms/step - loss: 0.7228 - accuracy: 0.6353\n",
            "Accuracy: 0.6352941393852234\n",
            "F-score: 0.6025641025641025\n",
            "ROC AUC: 0.6906490343860299\n"
          ],
          "name": "stdout"
        },
        {
          "output_type": "execute_result",
          "data": {
            "text/plain": [
              "0.6906490343860299"
            ]
          },
          "metadata": {
            "tags": []
          },
          "execution_count": 327
        }
      ]
    },
    {
      "cell_type": "code",
      "metadata": {
        "id": "7QJiN7IOTe5W"
      },
      "source": [
        "X_sample_train = random.Random(32).sample(embedded_contexts, 595)\n",
        "X_sample_train = tf.convert_to_tensor(X_sample_train)\n",
        "labels_train_sample = random.Random(32).sample(list(data.Label), 595)\n",
        "labels_train_sample = to_categorical(labels_train_sample)\n",
        "\n",
        "X_sample_test = random.Random(67).sample(embedded_contexts, 510)\n",
        "X_sample_test= tf.convert_to_tensor(X_sample_test)\n",
        "labels_test_sample = random.Random(67).sample(list(data.Label), 510)\n",
        "labels_test_sample = to_categorical(labels_test_sample)"
      ],
      "execution_count": null,
      "outputs": []
    },
    {
      "cell_type": "code",
      "metadata": {
        "colab": {
          "base_uri": "https://localhost:8080/"
        },
        "id": "-I7CmXB_Tswr",
        "outputId": "0f1b69cf-8d34-4c70-f393-ed00307feaee"
      },
      "source": [
        "model_all_4 = build_model()\n",
        "model_all_4.fit(X_sample_train, labels_train_sample, batch_size=8, epochs=10)\n",
        "\n",
        "model_all_4.evaluate(np.asarray(X_sample_test), labels_test_sample)\n",
        "                     \n",
        "acc = model_all_4.evaluate(X_sample_test, labels_test_sample)[1]\n",
        "preds = model_all_4.predict(np.array(X_sample_test))\n",
        "f_score = f1_score(np.argmax(preds, axis=1), np.argmax(labels_test_sample, axis=1))\n",
        "roc_auc = roc_auc_score(labels_test_sample, preds)\n",
        "\n",
        "print('Accuracy: {}\\nF-score: {}\\nROC AUC: {}'.format(acc, f_score, roc_auc))\n",
        "roc_auc_score(labels_test_sample,preds)"
      ],
      "execution_count": null,
      "outputs": [
        {
          "output_type": "stream",
          "text": [
            "compiled model\n",
            "Epoch 1/10\n",
            "75/75 [==============================] - 16s 138ms/step - loss: 0.7143 - accuracy: 0.5092\n",
            "Epoch 2/10\n",
            "75/75 [==============================] - 10s 138ms/step - loss: 0.6873 - accuracy: 0.5395\n",
            "Epoch 3/10\n",
            "75/75 [==============================] - 10s 138ms/step - loss: 0.6556 - accuracy: 0.6319\n",
            "Epoch 4/10\n",
            "75/75 [==============================] - 10s 140ms/step - loss: 0.6409 - accuracy: 0.6437\n",
            "Epoch 5/10\n",
            "75/75 [==============================] - 10s 139ms/step - loss: 0.5921 - accuracy: 0.7193\n",
            "Epoch 6/10\n",
            "75/75 [==============================] - 10s 138ms/step - loss: 0.5612 - accuracy: 0.7412\n",
            "Epoch 7/10\n",
            "75/75 [==============================] - 10s 138ms/step - loss: 0.5142 - accuracy: 0.7933\n",
            "Epoch 8/10\n",
            "75/75 [==============================] - 10s 137ms/step - loss: 0.4691 - accuracy: 0.8084\n",
            "Epoch 9/10\n",
            "75/75 [==============================] - 10s 137ms/step - loss: 0.4523 - accuracy: 0.8084\n",
            "Epoch 10/10\n",
            "75/75 [==============================] - 10s 137ms/step - loss: 0.3906 - accuracy: 0.8487\n",
            "16/16 [==============================] - 3s 58ms/step - loss: 0.7307 - accuracy: 0.6451\n",
            "16/16 [==============================] - 1s 57ms/step - loss: 0.7307 - accuracy: 0.6451\n",
            "Accuracy: 0.6450980305671692\n",
            "F-score: 0.6056644880174291\n",
            "ROC AUC: 0.6873044496848076\n"
          ],
          "name": "stdout"
        },
        {
          "output_type": "execute_result",
          "data": {
            "text/plain": [
              "0.6873044496848076"
            ]
          },
          "metadata": {
            "tags": []
          },
          "execution_count": 330
        }
      ]
    },
    {
      "cell_type": "markdown",
      "metadata": {
        "id": "9SPsKFLv8TpG"
      },
      "source": [
        "## 30 %"
      ]
    },
    {
      "cell_type": "code",
      "metadata": {
        "colab": {
          "base_uri": "https://localhost:8080/"
        },
        "id": "EFZcwF4A8Wnz",
        "outputId": "6011e661-92c3-495a-acfc-d0c4a818eca0"
      },
      "source": [
        "train_size = 0.7 * 0.3 * len(embedded_contexts)\n",
        "print(train_size)\n",
        "test_size = 0.3 * len(embedded_contexts)\n",
        "test_size"
      ],
      "execution_count": null,
      "outputs": [
        {
          "output_type": "stream",
          "text": [
            "356.78999999999996\n"
          ],
          "name": "stdout"
        },
        {
          "output_type": "execute_result",
          "data": {
            "text/plain": [
              "509.7"
            ]
          },
          "metadata": {
            "tags": []
          },
          "execution_count": 331
        }
      ]
    },
    {
      "cell_type": "code",
      "metadata": {
        "colab": {
          "base_uri": "https://localhost:8080/"
        },
        "id": "3hs8jHwR8Zqf",
        "outputId": "d05937e1-017a-4505-b36f-c15da891f1b0"
      },
      "source": [
        "X_sample_train = random.Random(4).sample(embedded_contexts, 358)\n",
        "X_sample_train = tf.convert_to_tensor(X_sample_train)\n",
        "labels_train_sample = random.Random(4).sample(list(data.Label), 358)\n",
        "labels_train_sample = to_categorical(labels_train_sample)\n",
        "\n",
        "X_sample_test = random.Random(40).sample(embedded_contexts, 510)\n",
        "X_sample_test= tf.convert_to_tensor(X_sample_test)\n",
        "labels_test_sample = random.Random(40).sample(list(data.Label), 510)\n",
        "labels_test_sample = to_categorical(labels_test_sample)\n",
        "\n",
        "model_all_4.fit(X_sample_train, labels_train_sample, batch_size=8, epochs=10)\n",
        "\n",
        "model_all_4.evaluate(np.asarray(X_sample_test), labels_test_sample)\n",
        "                     \n",
        "acc = model_all_4.evaluate(X_sample_test, labels_test_sample)[1]\n",
        "preds = model_all_4.predict(np.array(X_sample_test))\n",
        "f_score = f1_score(np.argmax(preds, axis=1), np.argmax(labels_test_sample, axis=1))\n",
        "roc_auc = roc_auc_score(labels_test_sample, preds)\n",
        "\n",
        "print('Accuracy: {}\\nF-score: {}\\nROC AUC: {}'.format(acc, f_score, roc_auc))\n",
        "roc_auc_score(labels_test_sample,preds)"
      ],
      "execution_count": null,
      "outputs": [
        {
          "output_type": "stream",
          "text": [
            "Epoch 1/10\n",
            "45/45 [==============================] - 6s 138ms/step - loss: 0.7314 - accuracy: 0.5950\n",
            "Epoch 2/10\n",
            "45/45 [==============================] - 6s 137ms/step - loss: 0.5898 - accuracy: 0.6816\n",
            "Epoch 3/10\n",
            "45/45 [==============================] - 6s 138ms/step - loss: 0.5760 - accuracy: 0.7291\n",
            "Epoch 4/10\n",
            "45/45 [==============================] - 6s 136ms/step - loss: 0.4898 - accuracy: 0.7765\n",
            "Epoch 5/10\n",
            "45/45 [==============================] - 6s 137ms/step - loss: 0.4255 - accuracy: 0.8184\n",
            "Epoch 6/10\n",
            "45/45 [==============================] - 6s 138ms/step - loss: 0.4060 - accuracy: 0.8212\n",
            "Epoch 7/10\n",
            "45/45 [==============================] - 6s 135ms/step - loss: 0.3519 - accuracy: 0.8715\n",
            "Epoch 8/10\n",
            "45/45 [==============================] - 6s 135ms/step - loss: 0.3059 - accuracy: 0.8966\n",
            "Epoch 9/10\n",
            "45/45 [==============================] - 6s 136ms/step - loss: 0.2419 - accuracy: 0.9246\n",
            "Epoch 10/10\n",
            "45/45 [==============================] - 6s 135ms/step - loss: 0.2272 - accuracy: 0.9274\n",
            "16/16 [==============================] - 1s 59ms/step - loss: 0.7750 - accuracy: 0.6804\n",
            "16/16 [==============================] - 1s 58ms/step - loss: 0.7750 - accuracy: 0.6804\n",
            "Accuracy: 0.6803921461105347\n",
            "F-score: 0.6895238095238095\n",
            "ROC AUC: 0.7260030864197531\n"
          ],
          "name": "stdout"
        },
        {
          "output_type": "execute_result",
          "data": {
            "text/plain": [
              "0.7260030864197531"
            ]
          },
          "metadata": {
            "tags": []
          },
          "execution_count": 332
        }
      ]
    },
    {
      "cell_type": "code",
      "metadata": {
        "colab": {
          "base_uri": "https://localhost:8080/"
        },
        "id": "OBVeXML98dPw",
        "outputId": "76fe75b7-3d3a-4d48-b6b4-30e9837e948d"
      },
      "source": [
        "X_sample_train = random.Random(14).sample(embedded_contexts, 358)\n",
        "X_sample_train = tf.convert_to_tensor(X_sample_train)\n",
        "labels_train_sample = random.Random(14).sample(list(data.Label), 358)\n",
        "labels_train_sample = to_categorical(labels_train_sample)\n",
        "\n",
        "X_sample_test = random.Random(9).sample(embedded_contexts, 510)\n",
        "X_sample_test= tf.convert_to_tensor(X_sample_test)\n",
        "labels_test_sample = random.Random(9).sample(list(data.Label), 510)\n",
        "labels_test_sample = to_categorical(labels_test_sample)\n",
        "\n",
        "model_all_4 = build_model()\n",
        "model_all_4.fit(X_sample_train, labels_train_sample, batch_size=8, epochs=10)\n",
        "\n",
        "model_all_4.evaluate(np.asarray(X_sample_test), labels_test_sample)\n",
        "                     \n",
        "acc = model_all_4.evaluate(X_sample_test, labels_test_sample)[1]\n",
        "preds = model_all_4.predict(np.array(X_sample_test))\n",
        "f_score = f1_score(np.argmax(preds, axis=1), np.argmax(labels_test_sample, axis=1))\n",
        "roc_auc = roc_auc_score(labels_test_sample, preds)\n",
        "\n",
        "print('Accuracy: {}\\nF-score: {}\\nROC AUC: {}'.format(acc, f_score, roc_auc))\n",
        "roc_auc_score(labels_test_sample,preds)"
      ],
      "execution_count": null,
      "outputs": [
        {
          "output_type": "stream",
          "text": [
            "compiled model\n",
            "Epoch 1/10\n",
            "45/45 [==============================] - 12s 136ms/step - loss: 0.7182 - accuracy: 0.5335\n",
            "Epoch 2/10\n",
            "45/45 [==============================] - 6s 136ms/step - loss: 0.6906 - accuracy: 0.5726\n",
            "Epoch 3/10\n",
            "45/45 [==============================] - 6s 135ms/step - loss: 0.6638 - accuracy: 0.5950\n",
            "Epoch 4/10\n",
            "45/45 [==============================] - 6s 136ms/step - loss: 0.6248 - accuracy: 0.7179\n",
            "Epoch 5/10\n",
            "45/45 [==============================] - 6s 135ms/step - loss: 0.6121 - accuracy: 0.7067\n",
            "Epoch 6/10\n",
            "45/45 [==============================] - 6s 135ms/step - loss: 0.5779 - accuracy: 0.7318\n",
            "Epoch 7/10\n",
            "45/45 [==============================] - 6s 136ms/step - loss: 0.5504 - accuracy: 0.7570\n",
            "Epoch 8/10\n",
            "45/45 [==============================] - 6s 134ms/step - loss: 0.4745 - accuracy: 0.8324\n",
            "Epoch 9/10\n",
            "45/45 [==============================] - 6s 134ms/step - loss: 0.4399 - accuracy: 0.8408\n",
            "Epoch 10/10\n",
            "45/45 [==============================] - 6s 135ms/step - loss: 0.3856 - accuracy: 0.8575\n",
            "16/16 [==============================] - 5s 58ms/step - loss: 0.7462 - accuracy: 0.5863\n",
            "16/16 [==============================] - 1s 58ms/step - loss: 0.7462 - accuracy: 0.5863\n",
            "Accuracy: 0.5862745046615601\n",
            "F-score: 0.5805168986083499\n",
            "ROC AUC: 0.6320454230715967\n"
          ],
          "name": "stdout"
        },
        {
          "output_type": "execute_result",
          "data": {
            "text/plain": [
              "0.6320454230715967"
            ]
          },
          "metadata": {
            "tags": []
          },
          "execution_count": 333
        }
      ]
    },
    {
      "cell_type": "code",
      "metadata": {
        "colab": {
          "base_uri": "https://localhost:8080/"
        },
        "id": "Np2v7tmuUmAD",
        "outputId": "ca5bc3e1-5d71-497d-a5f5-d7e67c4fc6cd"
      },
      "source": [
        "X_sample_train = random.Random(11).sample(embedded_contexts, 358)\n",
        "X_sample_train = tf.convert_to_tensor(X_sample_train)\n",
        "labels_train_sample = random.Random(11).sample(list(data.Label), 358)\n",
        "labels_train_sample = to_categorical(labels_train_sample)\n",
        "\n",
        "X_sample_test = random.Random(17).sample(embedded_contexts, 510)\n",
        "X_sample_test= tf.convert_to_tensor(X_sample_test)\n",
        "labels_test_sample = random.Random(17).sample(list(data.Label), 510)\n",
        "labels_test_sample = to_categorical(labels_test_sample)\n",
        "\n",
        "model_all_4 = build_model()\n",
        "model_all_4.fit(X_sample_train, labels_train_sample, batch_size=8, epochs=10)\n",
        "\n",
        "model_all_4.evaluate(np.asarray(X_sample_test), labels_test_sample)\n",
        "                     \n",
        "acc = model_all_4.evaluate(X_sample_test, labels_test_sample)[1]\n",
        "preds = model_all_4.predict(np.array(X_sample_test))\n",
        "f_score = f1_score(np.argmax(preds, axis=1), np.argmax(labels_test_sample, axis=1))\n",
        "roc_auc = roc_auc_score(labels_test_sample, preds)\n",
        "\n",
        "print('Accuracy: {}\\nF-score: {}\\nROC AUC: {}'.format(acc, f_score, roc_auc))\n",
        "roc_auc_score(labels_test_sample,preds)"
      ],
      "execution_count": null,
      "outputs": [
        {
          "output_type": "stream",
          "text": [
            "compiled model\n",
            "Epoch 1/10\n",
            "45/45 [==============================] - 12s 141ms/step - loss: 0.7224 - accuracy: 0.4944\n",
            "Epoch 2/10\n",
            "45/45 [==============================] - 6s 140ms/step - loss: 0.6731 - accuracy: 0.5810\n",
            "Epoch 3/10\n",
            "45/45 [==============================] - 6s 140ms/step - loss: 0.6568 - accuracy: 0.6257\n",
            "Epoch 4/10\n",
            "45/45 [==============================] - 6s 142ms/step - loss: 0.6213 - accuracy: 0.6927\n",
            "Epoch 5/10\n",
            "45/45 [==============================] - 6s 139ms/step - loss: 0.5727 - accuracy: 0.7514\n",
            "Epoch 6/10\n",
            "45/45 [==============================] - 6s 140ms/step - loss: 0.5403 - accuracy: 0.7626\n",
            "Epoch 7/10\n",
            "45/45 [==============================] - 6s 138ms/step - loss: 0.4689 - accuracy: 0.8240\n",
            "Epoch 8/10\n",
            "45/45 [==============================] - 6s 139ms/step - loss: 0.4300 - accuracy: 0.8324\n",
            "Epoch 9/10\n",
            "45/45 [==============================] - 6s 139ms/step - loss: 0.4049 - accuracy: 0.8520\n",
            "Epoch 10/10\n",
            "45/45 [==============================] - 6s 139ms/step - loss: 0.3394 - accuracy: 0.9078\n",
            "16/16 [==============================] - 3s 58ms/step - loss: 0.8271 - accuracy: 0.6157\n",
            "16/16 [==============================] - 1s 58ms/step - loss: 0.8271 - accuracy: 0.6157\n",
            "Accuracy: 0.615686297416687\n",
            "F-score: 0.4842105263157896\n",
            "ROC AUC: 0.6522564807238032\n"
          ],
          "name": "stdout"
        },
        {
          "output_type": "execute_result",
          "data": {
            "text/plain": [
              "0.6522564807238032"
            ]
          },
          "metadata": {
            "tags": []
          },
          "execution_count": 334
        }
      ]
    },
    {
      "cell_type": "markdown",
      "metadata": {
        "id": "REPj-9co9c5e"
      },
      "source": [
        "## 10%"
      ]
    },
    {
      "cell_type": "code",
      "metadata": {
        "colab": {
          "base_uri": "https://localhost:8080/"
        },
        "id": "O11hviLm9mRp",
        "outputId": "c8d37df7-6300-4cb8-d6d4-890504894348"
      },
      "source": [
        "train_size = 0.7 * 0.1 * len(embedded_contexts)\n",
        "print(train_size)\n",
        "test_size = 0.3 * len(embedded_contexts)\n",
        "test_size"
      ],
      "execution_count": null,
      "outputs": [
        {
          "output_type": "stream",
          "text": [
            "118.92999999999999\n"
          ],
          "name": "stdout"
        },
        {
          "output_type": "execute_result",
          "data": {
            "text/plain": [
              "509.7"
            ]
          },
          "metadata": {
            "tags": []
          },
          "execution_count": 335
        }
      ]
    },
    {
      "cell_type": "code",
      "metadata": {
        "colab": {
          "base_uri": "https://localhost:8080/"
        },
        "id": "Bs8suZOX9ofd",
        "outputId": "b53b730f-e119-4d18-f7f6-8ebe09da4048"
      },
      "source": [
        "X_sample_train = random.Random(101).sample(embedded_contexts, 119)\n",
        "X_sample_train = tf.convert_to_tensor(X_sample_train)\n",
        "labels_train_sample = random.Random(101).sample(list(data.Label), 119)\n",
        "labels_train_sample = to_categorical(labels_train_sample)\n",
        "\n",
        "X_sample_test = random.Random(7).sample(embedded_contexts, 510)\n",
        "X_sample_test= tf.convert_to_tensor(X_sample_test)\n",
        "labels_test_sample = random.Random(7).sample(list(data.Label), 510)\n",
        "labels_test_sample = to_categorical(labels_test_sample)\n",
        "\n",
        "model_all_4 = build_model()\n",
        "model_all_4.fit(X_sample_train, labels_train_sample, batch_size=8, epochs=10)\n",
        "\n",
        "model_all_4.evaluate(np.asarray(X_sample_test), labels_test_sample)\n",
        "                     \n",
        "acc = model_all_4.evaluate(X_sample_test, labels_test_sample)[1]\n",
        "preds = model_all_4.predict(np.array(X_sample_test))\n",
        "f_score = f1_score(np.argmax(preds, axis=1), np.argmax(labels_test_sample, axis=1))\n",
        "roc_auc = roc_auc_score(labels_test_sample, preds)\n",
        "\n",
        "print('Accuracy: {}\\nF-score: {}\\nROC AUC: {}'.format(acc, f_score, roc_auc))\n",
        "roc_auc_score(labels_test_sample,preds)"
      ],
      "execution_count": null,
      "outputs": [
        {
          "output_type": "stream",
          "text": [
            "compiled model\n",
            "Epoch 1/10\n",
            "15/15 [==============================] - 8s 137ms/step - loss: 0.7010 - accuracy: 0.5882\n",
            "Epoch 2/10\n",
            "15/15 [==============================] - 2s 139ms/step - loss: 0.6384 - accuracy: 0.6471\n",
            "Epoch 3/10\n",
            "15/15 [==============================] - 2s 143ms/step - loss: 0.6017 - accuracy: 0.6975\n",
            "Epoch 4/10\n",
            "15/15 [==============================] - 2s 142ms/step - loss: 0.5418 - accuracy: 0.7479\n",
            "Epoch 5/10\n",
            "15/15 [==============================] - 2s 141ms/step - loss: 0.4926 - accuracy: 0.8151\n",
            "Epoch 6/10\n",
            "15/15 [==============================] - 2s 140ms/step - loss: 0.4573 - accuracy: 0.8319\n",
            "Epoch 7/10\n",
            "15/15 [==============================] - 2s 139ms/step - loss: 0.4105 - accuracy: 0.8824\n",
            "Epoch 8/10\n",
            "15/15 [==============================] - 2s 139ms/step - loss: 0.3604 - accuracy: 0.9076\n",
            "Epoch 9/10\n",
            "15/15 [==============================] - 2s 139ms/step - loss: 0.3409 - accuracy: 0.9076\n",
            "Epoch 10/10\n",
            "15/15 [==============================] - 2s 139ms/step - loss: 0.2931 - accuracy: 0.9496\n",
            "16/16 [==============================] - 5s 58ms/step - loss: 0.8631 - accuracy: 0.5294\n",
            "16/16 [==============================] - 1s 58ms/step - loss: 0.8631 - accuracy: 0.5294\n",
            "Accuracy: 0.529411792755127\n",
            "F-score: 0.3684210526315789\n",
            "ROC AUC: 0.5165277777777778\n"
          ],
          "name": "stdout"
        },
        {
          "output_type": "execute_result",
          "data": {
            "text/plain": [
              "0.5165277777777778"
            ]
          },
          "metadata": {
            "tags": []
          },
          "execution_count": 336
        }
      ]
    },
    {
      "cell_type": "code",
      "metadata": {
        "colab": {
          "base_uri": "https://localhost:8080/"
        },
        "id": "iOBJCWi59o0j",
        "outputId": "4e27b91c-c760-489e-8d0a-b2630140e3e1"
      },
      "source": [
        "X_sample_train = random.Random(18).sample(embedded_contexts, 119)\n",
        "X_sample_train = tf.convert_to_tensor(X_sample_train)\n",
        "labels_train_sample = random.Random(18).sample(list(data.Label), 119)\n",
        "labels_train_sample = to_categorical(labels_train_sample)\n",
        "\n",
        "X_sample_test = random.Random(47).sample(embedded_contexts, 510)\n",
        "X_sample_test= tf.convert_to_tensor(X_sample_test)\n",
        "labels_test_sample = random.Random(47).sample(list(data.Label), 510)\n",
        "labels_test_sample = to_categorical(labels_test_sample)\n",
        "\n",
        "model_all_4 = build_model()\n",
        "model_all_4.fit(X_sample_train, labels_train_sample, batch_size=8, epochs=10)\n",
        "\n",
        "model_all_4.evaluate(np.asarray(X_sample_test), labels_test_sample)\n",
        "                     \n",
        "acc = model_all_4.evaluate(X_sample_test, labels_test_sample)[1]\n",
        "preds = model_all_4.predict(np.array(X_sample_test))\n",
        "f_score = f1_score(np.argmax(preds, axis=1), np.argmax(labels_test_sample, axis=1))\n",
        "roc_auc = roc_auc_score(labels_test_sample, preds)\n",
        "\n",
        "print('Accuracy: {}\\nF-score: {}\\nROC AUC: {}'.format(acc, f_score, roc_auc))\n",
        "roc_auc_score(labels_test_sample,preds)"
      ],
      "execution_count": null,
      "outputs": [
        {
          "output_type": "stream",
          "text": [
            "compiled model\n",
            "Epoch 1/10\n",
            "15/15 [==============================] - 8s 141ms/step - loss: 0.7388 - accuracy: 0.5462\n",
            "Epoch 2/10\n",
            "15/15 [==============================] - 2s 138ms/step - loss: 0.6484 - accuracy: 0.6050\n",
            "Epoch 3/10\n",
            "15/15 [==============================] - 2s 139ms/step - loss: 0.6241 - accuracy: 0.6723\n",
            "Epoch 4/10\n",
            "15/15 [==============================] - 2s 140ms/step - loss: 0.5706 - accuracy: 0.7731\n",
            "Epoch 5/10\n",
            "15/15 [==============================] - 2s 139ms/step - loss: 0.5234 - accuracy: 0.7563\n",
            "Epoch 6/10\n",
            "15/15 [==============================] - 2s 138ms/step - loss: 0.4618 - accuracy: 0.8739\n",
            "Epoch 7/10\n",
            "15/15 [==============================] - 2s 138ms/step - loss: 0.4074 - accuracy: 0.8571\n",
            "Epoch 8/10\n",
            "15/15 [==============================] - 2s 140ms/step - loss: 0.3739 - accuracy: 0.8824\n",
            "Epoch 9/10\n",
            "15/15 [==============================] - 2s 141ms/step - loss: 0.3129 - accuracy: 0.9160\n",
            "Epoch 10/10\n",
            "15/15 [==============================] - 2s 140ms/step - loss: 0.2592 - accuracy: 0.9412\n",
            "16/16 [==============================] - 3s 56ms/step - loss: 0.9480 - accuracy: 0.5294\n",
            "16/16 [==============================] - 1s 57ms/step - loss: 0.9480 - accuracy: 0.5294\n",
            "Accuracy: 0.529411792755127\n",
            "F-score: 0.6238244514106582\n",
            "ROC AUC: 0.540429918909354\n"
          ],
          "name": "stdout"
        },
        {
          "output_type": "execute_result",
          "data": {
            "text/plain": [
              "0.540429918909354"
            ]
          },
          "metadata": {
            "tags": []
          },
          "execution_count": 337
        }
      ]
    },
    {
      "cell_type": "code",
      "metadata": {
        "colab": {
          "base_uri": "https://localhost:8080/"
        },
        "id": "Px7xYCMSmiqI",
        "outputId": "c8b02a73-5c4a-4d60-d76c-aa4520dd0998"
      },
      "source": [
        "X_sample_train = random.Random(67).sample(embedded_contexts, 119)\n",
        "X_sample_train = tf.convert_to_tensor(X_sample_train)\n",
        "labels_train_sample = random.Random(67).sample(list(data.Label), 119)\n",
        "labels_train_sample = to_categorical(labels_train_sample)\n",
        "\n",
        "X_sample_test = random.Random(99).sample(embedded_contexts, 510)\n",
        "X_sample_test= tf.convert_to_tensor(X_sample_test)\n",
        "labels_test_sample = random.Random(99).sample(list(data.Label), 510)\n",
        "labels_test_sample = to_categorical(labels_test_sample)\n",
        "\n",
        "model_all_4 = build_model()\n",
        "model_all_4.fit(X_sample_train, labels_train_sample, batch_size=8, epochs=10)\n",
        "\n",
        "model_all_4.evaluate(np.asarray(X_sample_test), labels_test_sample)\n",
        "                     \n",
        "acc = model_all_4.evaluate(X_sample_test, labels_test_sample)[1]\n",
        "preds = model_all_4.predict(np.array(X_sample_test))\n",
        "f_score = f1_score(np.argmax(preds, axis=1), np.argmax(labels_test_sample, axis=1))\n",
        "roc_auc = roc_auc_score(labels_test_sample, preds)\n",
        "\n",
        "print('Accuracy: {}\\nF-score: {}\\nROC AUC: {}'.format(acc, f_score, roc_auc))\n",
        "roc_auc_score(labels_test_sample,preds)"
      ],
      "execution_count": null,
      "outputs": [
        {
          "output_type": "stream",
          "text": [
            "compiled model\n",
            "Epoch 1/10\n",
            "15/15 [==============================] - 8s 136ms/step - loss: 0.7283 - accuracy: 0.5042\n",
            "Epoch 2/10\n",
            "15/15 [==============================] - 2s 139ms/step - loss: 0.6902 - accuracy: 0.5714\n",
            "Epoch 3/10\n",
            "15/15 [==============================] - 2s 139ms/step - loss: 0.6436 - accuracy: 0.6723\n",
            "Epoch 4/10\n",
            "15/15 [==============================] - 2s 136ms/step - loss: 0.5994 - accuracy: 0.7395\n",
            "Epoch 5/10\n",
            "15/15 [==============================] - 2s 136ms/step - loss: 0.5247 - accuracy: 0.8067\n",
            "Epoch 6/10\n",
            "15/15 [==============================] - 2s 135ms/step - loss: 0.4919 - accuracy: 0.8151\n",
            "Epoch 7/10\n",
            "15/15 [==============================] - 2s 139ms/step - loss: 0.3915 - accuracy: 0.9244\n",
            "Epoch 8/10\n",
            "15/15 [==============================] - 2s 134ms/step - loss: 0.3542 - accuracy: 0.9412\n",
            "Epoch 9/10\n",
            "15/15 [==============================] - 2s 136ms/step - loss: 0.3078 - accuracy: 0.9412\n",
            "Epoch 10/10\n",
            "15/15 [==============================] - 2s 135ms/step - loss: 0.2646 - accuracy: 0.9412\n",
            "16/16 [==============================] - 5s 59ms/step - loss: 0.8817 - accuracy: 0.5353\n",
            "16/16 [==============================] - 1s 57ms/step - loss: 0.8817 - accuracy: 0.5353\n",
            "Accuracy: 0.5352941155433655\n",
            "F-score: 0.6030150753768844\n",
            "ROC AUC: 0.5485957132298596\n"
          ],
          "name": "stdout"
        },
        {
          "output_type": "execute_result",
          "data": {
            "text/plain": [
              "0.5485957132298596"
            ]
          },
          "metadata": {
            "tags": []
          },
          "execution_count": 338
        }
      ]
    }
  ]
}