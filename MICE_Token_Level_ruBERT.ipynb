{
  "nbformat": 4,
  "nbformat_minor": 0,
  "metadata": {
    "colab": {
      "name": "26/05 MICE - Token-Level - ruBERT.ipynb",
      "provenance": [],
      "collapsed_sections": [],
      "toc_visible": true,
      "authorship_tag": "ABX9TyOlKS2kXT9Kkb39+y7oGQXb",
      "include_colab_link": true
    },
    "kernelspec": {
      "display_name": "Python 3",
      "name": "python3"
    },
    "language_info": {
      "name": "python"
    },
    "widgets": {
      "application/vnd.jupyter.widget-state+json": {
        "a848414f7dd240caa9ed74b62d3f31d2": {
          "model_module": "@jupyter-widgets/controls",
          "model_name": "HBoxModel",
          "state": {
            "_view_name": "HBoxView",
            "_dom_classes": [],
            "_model_name": "HBoxModel",
            "_view_module": "@jupyter-widgets/controls",
            "_model_module_version": "1.5.0",
            "_view_count": null,
            "_view_module_version": "1.5.0",
            "box_style": "",
            "layout": "IPY_MODEL_572dd1faa01940779ffe97d57b4b8a59",
            "_model_module": "@jupyter-widgets/controls",
            "children": [
              "IPY_MODEL_d22319f630614c8fa09e6ad94d53c869",
              "IPY_MODEL_05310cb4c1c24b63bbda43dfecd1b466"
            ]
          }
        },
        "572dd1faa01940779ffe97d57b4b8a59": {
          "model_module": "@jupyter-widgets/base",
          "model_name": "LayoutModel",
          "state": {
            "_view_name": "LayoutView",
            "grid_template_rows": null,
            "right": null,
            "justify_content": null,
            "_view_module": "@jupyter-widgets/base",
            "overflow": null,
            "_model_module_version": "1.2.0",
            "_view_count": null,
            "flex_flow": null,
            "width": null,
            "min_width": null,
            "border": null,
            "align_items": null,
            "bottom": null,
            "_model_module": "@jupyter-widgets/base",
            "top": null,
            "grid_column": null,
            "overflow_y": null,
            "overflow_x": null,
            "grid_auto_flow": null,
            "grid_area": null,
            "grid_template_columns": null,
            "flex": null,
            "_model_name": "LayoutModel",
            "justify_items": null,
            "grid_row": null,
            "max_height": null,
            "align_content": null,
            "visibility": null,
            "align_self": null,
            "height": null,
            "min_height": null,
            "padding": null,
            "grid_auto_rows": null,
            "grid_gap": null,
            "max_width": null,
            "order": null,
            "_view_module_version": "1.2.0",
            "grid_template_areas": null,
            "object_position": null,
            "object_fit": null,
            "grid_auto_columns": null,
            "margin": null,
            "display": null,
            "left": null
          }
        },
        "d22319f630614c8fa09e6ad94d53c869": {
          "model_module": "@jupyter-widgets/controls",
          "model_name": "FloatProgressModel",
          "state": {
            "_view_name": "ProgressView",
            "style": "IPY_MODEL_3efe9834d52541738cc093d62b6713c9",
            "_dom_classes": [],
            "description": "100%",
            "_model_name": "FloatProgressModel",
            "bar_style": "success",
            "max": 2000,
            "_view_module": "@jupyter-widgets/controls",
            "_model_module_version": "1.5.0",
            "value": 2000,
            "_view_count": null,
            "_view_module_version": "1.5.0",
            "orientation": "horizontal",
            "min": 0,
            "description_tooltip": null,
            "_model_module": "@jupyter-widgets/controls",
            "layout": "IPY_MODEL_c675230b3073462abd496306953bbcae"
          }
        },
        "05310cb4c1c24b63bbda43dfecd1b466": {
          "model_module": "@jupyter-widgets/controls",
          "model_name": "HTMLModel",
          "state": {
            "_view_name": "HTMLView",
            "style": "IPY_MODEL_9418c6bfa45b499c96188013fa028bd7",
            "_dom_classes": [],
            "description": "",
            "_model_name": "HTMLModel",
            "placeholder": "​",
            "_view_module": "@jupyter-widgets/controls",
            "_model_module_version": "1.5.0",
            "value": " 2000/2000 [10:57&lt;00:00,  3.04it/s]",
            "_view_count": null,
            "_view_module_version": "1.5.0",
            "description_tooltip": null,
            "_model_module": "@jupyter-widgets/controls",
            "layout": "IPY_MODEL_256d9ee05ffd4aa0b903c1b0e897b65b"
          }
        },
        "3efe9834d52541738cc093d62b6713c9": {
          "model_module": "@jupyter-widgets/controls",
          "model_name": "ProgressStyleModel",
          "state": {
            "_view_name": "StyleView",
            "_model_name": "ProgressStyleModel",
            "description_width": "initial",
            "_view_module": "@jupyter-widgets/base",
            "_model_module_version": "1.5.0",
            "_view_count": null,
            "_view_module_version": "1.2.0",
            "bar_color": null,
            "_model_module": "@jupyter-widgets/controls"
          }
        },
        "c675230b3073462abd496306953bbcae": {
          "model_module": "@jupyter-widgets/base",
          "model_name": "LayoutModel",
          "state": {
            "_view_name": "LayoutView",
            "grid_template_rows": null,
            "right": null,
            "justify_content": null,
            "_view_module": "@jupyter-widgets/base",
            "overflow": null,
            "_model_module_version": "1.2.0",
            "_view_count": null,
            "flex_flow": null,
            "width": null,
            "min_width": null,
            "border": null,
            "align_items": null,
            "bottom": null,
            "_model_module": "@jupyter-widgets/base",
            "top": null,
            "grid_column": null,
            "overflow_y": null,
            "overflow_x": null,
            "grid_auto_flow": null,
            "grid_area": null,
            "grid_template_columns": null,
            "flex": null,
            "_model_name": "LayoutModel",
            "justify_items": null,
            "grid_row": null,
            "max_height": null,
            "align_content": null,
            "visibility": null,
            "align_self": null,
            "height": null,
            "min_height": null,
            "padding": null,
            "grid_auto_rows": null,
            "grid_gap": null,
            "max_width": null,
            "order": null,
            "_view_module_version": "1.2.0",
            "grid_template_areas": null,
            "object_position": null,
            "object_fit": null,
            "grid_auto_columns": null,
            "margin": null,
            "display": null,
            "left": null
          }
        },
        "9418c6bfa45b499c96188013fa028bd7": {
          "model_module": "@jupyter-widgets/controls",
          "model_name": "DescriptionStyleModel",
          "state": {
            "_view_name": "StyleView",
            "_model_name": "DescriptionStyleModel",
            "description_width": "",
            "_view_module": "@jupyter-widgets/base",
            "_model_module_version": "1.5.0",
            "_view_count": null,
            "_view_module_version": "1.2.0",
            "_model_module": "@jupyter-widgets/controls"
          }
        },
        "256d9ee05ffd4aa0b903c1b0e897b65b": {
          "model_module": "@jupyter-widgets/base",
          "model_name": "LayoutModel",
          "state": {
            "_view_name": "LayoutView",
            "grid_template_rows": null,
            "right": null,
            "justify_content": null,
            "_view_module": "@jupyter-widgets/base",
            "overflow": null,
            "_model_module_version": "1.2.0",
            "_view_count": null,
            "flex_flow": null,
            "width": null,
            "min_width": null,
            "border": null,
            "align_items": null,
            "bottom": null,
            "_model_module": "@jupyter-widgets/base",
            "top": null,
            "grid_column": null,
            "overflow_y": null,
            "overflow_x": null,
            "grid_auto_flow": null,
            "grid_area": null,
            "grid_template_columns": null,
            "flex": null,
            "_model_name": "LayoutModel",
            "justify_items": null,
            "grid_row": null,
            "max_height": null,
            "align_content": null,
            "visibility": null,
            "align_self": null,
            "height": null,
            "min_height": null,
            "padding": null,
            "grid_auto_rows": null,
            "grid_gap": null,
            "max_width": null,
            "order": null,
            "_view_module_version": "1.2.0",
            "grid_template_areas": null,
            "object_position": null,
            "object_fit": null,
            "grid_auto_columns": null,
            "margin": null,
            "display": null,
            "left": null
          }
        },
        "3efad11c2d0a44dfbe1122eda5355570": {
          "model_module": "@jupyter-widgets/controls",
          "model_name": "HBoxModel",
          "state": {
            "_view_name": "HBoxView",
            "_dom_classes": [],
            "_model_name": "HBoxModel",
            "_view_module": "@jupyter-widgets/controls",
            "_model_module_version": "1.5.0",
            "_view_count": null,
            "_view_module_version": "1.5.0",
            "box_style": "",
            "layout": "IPY_MODEL_a916b8380a7043dc9070b4cffefd3de1",
            "_model_module": "@jupyter-widgets/controls",
            "children": [
              "IPY_MODEL_2146b82134e24c369520958ea34cf121",
              "IPY_MODEL_6849da92e427416e9d3d2a8d3d928adb"
            ]
          }
        },
        "a916b8380a7043dc9070b4cffefd3de1": {
          "model_module": "@jupyter-widgets/base",
          "model_name": "LayoutModel",
          "state": {
            "_view_name": "LayoutView",
            "grid_template_rows": null,
            "right": null,
            "justify_content": null,
            "_view_module": "@jupyter-widgets/base",
            "overflow": null,
            "_model_module_version": "1.2.0",
            "_view_count": null,
            "flex_flow": null,
            "width": null,
            "min_width": null,
            "border": null,
            "align_items": null,
            "bottom": null,
            "_model_module": "@jupyter-widgets/base",
            "top": null,
            "grid_column": null,
            "overflow_y": null,
            "overflow_x": null,
            "grid_auto_flow": null,
            "grid_area": null,
            "grid_template_columns": null,
            "flex": null,
            "_model_name": "LayoutModel",
            "justify_items": null,
            "grid_row": null,
            "max_height": null,
            "align_content": null,
            "visibility": null,
            "align_self": null,
            "height": null,
            "min_height": null,
            "padding": null,
            "grid_auto_rows": null,
            "grid_gap": null,
            "max_width": null,
            "order": null,
            "_view_module_version": "1.2.0",
            "grid_template_areas": null,
            "object_position": null,
            "object_fit": null,
            "grid_auto_columns": null,
            "margin": null,
            "display": null,
            "left": null
          }
        },
        "2146b82134e24c369520958ea34cf121": {
          "model_module": "@jupyter-widgets/controls",
          "model_name": "FloatProgressModel",
          "state": {
            "_view_name": "ProgressView",
            "style": "IPY_MODEL_41d1d6029b43479e8f8160ec8c495674",
            "_dom_classes": [],
            "description": "100%",
            "_model_name": "FloatProgressModel",
            "bar_style": "success",
            "max": 1846,
            "_view_module": "@jupyter-widgets/controls",
            "_model_module_version": "1.5.0",
            "value": 1846,
            "_view_count": null,
            "_view_module_version": "1.5.0",
            "orientation": "horizontal",
            "min": 0,
            "description_tooltip": null,
            "_model_module": "@jupyter-widgets/controls",
            "layout": "IPY_MODEL_e8e033c6a3714901b8443fbcc18f367d"
          }
        },
        "6849da92e427416e9d3d2a8d3d928adb": {
          "model_module": "@jupyter-widgets/controls",
          "model_name": "HTMLModel",
          "state": {
            "_view_name": "HTMLView",
            "style": "IPY_MODEL_37f2681b295749a78d41fa604cc9cce5",
            "_dom_classes": [],
            "description": "",
            "_model_name": "HTMLModel",
            "placeholder": "​",
            "_view_module": "@jupyter-widgets/controls",
            "_model_module_version": "1.5.0",
            "value": " 1846/1846 [08:10&lt;00:00,  3.77it/s]",
            "_view_count": null,
            "_view_module_version": "1.5.0",
            "description_tooltip": null,
            "_model_module": "@jupyter-widgets/controls",
            "layout": "IPY_MODEL_ef698eb49dfb424d963f0d682f3c551d"
          }
        },
        "41d1d6029b43479e8f8160ec8c495674": {
          "model_module": "@jupyter-widgets/controls",
          "model_name": "ProgressStyleModel",
          "state": {
            "_view_name": "StyleView",
            "_model_name": "ProgressStyleModel",
            "description_width": "initial",
            "_view_module": "@jupyter-widgets/base",
            "_model_module_version": "1.5.0",
            "_view_count": null,
            "_view_module_version": "1.2.0",
            "bar_color": null,
            "_model_module": "@jupyter-widgets/controls"
          }
        },
        "e8e033c6a3714901b8443fbcc18f367d": {
          "model_module": "@jupyter-widgets/base",
          "model_name": "LayoutModel",
          "state": {
            "_view_name": "LayoutView",
            "grid_template_rows": null,
            "right": null,
            "justify_content": null,
            "_view_module": "@jupyter-widgets/base",
            "overflow": null,
            "_model_module_version": "1.2.0",
            "_view_count": null,
            "flex_flow": null,
            "width": null,
            "min_width": null,
            "border": null,
            "align_items": null,
            "bottom": null,
            "_model_module": "@jupyter-widgets/base",
            "top": null,
            "grid_column": null,
            "overflow_y": null,
            "overflow_x": null,
            "grid_auto_flow": null,
            "grid_area": null,
            "grid_template_columns": null,
            "flex": null,
            "_model_name": "LayoutModel",
            "justify_items": null,
            "grid_row": null,
            "max_height": null,
            "align_content": null,
            "visibility": null,
            "align_self": null,
            "height": null,
            "min_height": null,
            "padding": null,
            "grid_auto_rows": null,
            "grid_gap": null,
            "max_width": null,
            "order": null,
            "_view_module_version": "1.2.0",
            "grid_template_areas": null,
            "object_position": null,
            "object_fit": null,
            "grid_auto_columns": null,
            "margin": null,
            "display": null,
            "left": null
          }
        },
        "37f2681b295749a78d41fa604cc9cce5": {
          "model_module": "@jupyter-widgets/controls",
          "model_name": "DescriptionStyleModel",
          "state": {
            "_view_name": "StyleView",
            "_model_name": "DescriptionStyleModel",
            "description_width": "",
            "_view_module": "@jupyter-widgets/base",
            "_model_module_version": "1.5.0",
            "_view_count": null,
            "_view_module_version": "1.2.0",
            "_model_module": "@jupyter-widgets/controls"
          }
        },
        "ef698eb49dfb424d963f0d682f3c551d": {
          "model_module": "@jupyter-widgets/base",
          "model_name": "LayoutModel",
          "state": {
            "_view_name": "LayoutView",
            "grid_template_rows": null,
            "right": null,
            "justify_content": null,
            "_view_module": "@jupyter-widgets/base",
            "overflow": null,
            "_model_module_version": "1.2.0",
            "_view_count": null,
            "flex_flow": null,
            "width": null,
            "min_width": null,
            "border": null,
            "align_items": null,
            "bottom": null,
            "_model_module": "@jupyter-widgets/base",
            "top": null,
            "grid_column": null,
            "overflow_y": null,
            "overflow_x": null,
            "grid_auto_flow": null,
            "grid_area": null,
            "grid_template_columns": null,
            "flex": null,
            "_model_name": "LayoutModel",
            "justify_items": null,
            "grid_row": null,
            "max_height": null,
            "align_content": null,
            "visibility": null,
            "align_self": null,
            "height": null,
            "min_height": null,
            "padding": null,
            "grid_auto_rows": null,
            "grid_gap": null,
            "max_width": null,
            "order": null,
            "_view_module_version": "1.2.0",
            "grid_template_areas": null,
            "object_position": null,
            "object_fit": null,
            "grid_auto_columns": null,
            "margin": null,
            "display": null,
            "left": null
          }
        },
        "6a94ed49ddc6413ab4a2223ce21dc937": {
          "model_module": "@jupyter-widgets/controls",
          "model_name": "HBoxModel",
          "state": {
            "_view_name": "HBoxView",
            "_dom_classes": [],
            "_model_name": "HBoxModel",
            "_view_module": "@jupyter-widgets/controls",
            "_model_module_version": "1.5.0",
            "_view_count": null,
            "_view_module_version": "1.5.0",
            "box_style": "",
            "layout": "IPY_MODEL_da395320454f4a40b4bed6da9c229888",
            "_model_module": "@jupyter-widgets/controls",
            "children": [
              "IPY_MODEL_c58beddf367d4bbf8206f28301201ad8",
              "IPY_MODEL_f8b56da218d8414c82256b33cbd1da0e"
            ]
          }
        },
        "da395320454f4a40b4bed6da9c229888": {
          "model_module": "@jupyter-widgets/base",
          "model_name": "LayoutModel",
          "state": {
            "_view_name": "LayoutView",
            "grid_template_rows": null,
            "right": null,
            "justify_content": null,
            "_view_module": "@jupyter-widgets/base",
            "overflow": null,
            "_model_module_version": "1.2.0",
            "_view_count": null,
            "flex_flow": null,
            "width": null,
            "min_width": null,
            "border": null,
            "align_items": null,
            "bottom": null,
            "_model_module": "@jupyter-widgets/base",
            "top": null,
            "grid_column": null,
            "overflow_y": null,
            "overflow_x": null,
            "grid_auto_flow": null,
            "grid_area": null,
            "grid_template_columns": null,
            "flex": null,
            "_model_name": "LayoutModel",
            "justify_items": null,
            "grid_row": null,
            "max_height": null,
            "align_content": null,
            "visibility": null,
            "align_self": null,
            "height": null,
            "min_height": null,
            "padding": null,
            "grid_auto_rows": null,
            "grid_gap": null,
            "max_width": null,
            "order": null,
            "_view_module_version": "1.2.0",
            "grid_template_areas": null,
            "object_position": null,
            "object_fit": null,
            "grid_auto_columns": null,
            "margin": null,
            "display": null,
            "left": null
          }
        },
        "c58beddf367d4bbf8206f28301201ad8": {
          "model_module": "@jupyter-widgets/controls",
          "model_name": "FloatProgressModel",
          "state": {
            "_view_name": "ProgressView",
            "style": "IPY_MODEL_fadd97f6a01e4810afd08563e0fecac3",
            "_dom_classes": [],
            "description": "100%",
            "_model_name": "FloatProgressModel",
            "bar_style": "success",
            "max": 2000,
            "_view_module": "@jupyter-widgets/controls",
            "_model_module_version": "1.5.0",
            "value": 2000,
            "_view_count": null,
            "_view_module_version": "1.5.0",
            "orientation": "horizontal",
            "min": 0,
            "description_tooltip": null,
            "_model_module": "@jupyter-widgets/controls",
            "layout": "IPY_MODEL_a6ac09cdb08647fc8a711b3816e7953d"
          }
        },
        "f8b56da218d8414c82256b33cbd1da0e": {
          "model_module": "@jupyter-widgets/controls",
          "model_name": "HTMLModel",
          "state": {
            "_view_name": "HTMLView",
            "style": "IPY_MODEL_2d5e799bd91a4c7398e6faad03d95629",
            "_dom_classes": [],
            "description": "",
            "_model_name": "HTMLModel",
            "placeholder": "​",
            "_view_module": "@jupyter-widgets/controls",
            "_model_module_version": "1.5.0",
            "value": " 2000/2000 [24:45&lt;00:00,  1.35it/s]",
            "_view_count": null,
            "_view_module_version": "1.5.0",
            "description_tooltip": null,
            "_model_module": "@jupyter-widgets/controls",
            "layout": "IPY_MODEL_968db515b5b94fbeab17e3bd23c415e4"
          }
        },
        "fadd97f6a01e4810afd08563e0fecac3": {
          "model_module": "@jupyter-widgets/controls",
          "model_name": "ProgressStyleModel",
          "state": {
            "_view_name": "StyleView",
            "_model_name": "ProgressStyleModel",
            "description_width": "initial",
            "_view_module": "@jupyter-widgets/base",
            "_model_module_version": "1.5.0",
            "_view_count": null,
            "_view_module_version": "1.2.0",
            "bar_color": null,
            "_model_module": "@jupyter-widgets/controls"
          }
        },
        "a6ac09cdb08647fc8a711b3816e7953d": {
          "model_module": "@jupyter-widgets/base",
          "model_name": "LayoutModel",
          "state": {
            "_view_name": "LayoutView",
            "grid_template_rows": null,
            "right": null,
            "justify_content": null,
            "_view_module": "@jupyter-widgets/base",
            "overflow": null,
            "_model_module_version": "1.2.0",
            "_view_count": null,
            "flex_flow": null,
            "width": null,
            "min_width": null,
            "border": null,
            "align_items": null,
            "bottom": null,
            "_model_module": "@jupyter-widgets/base",
            "top": null,
            "grid_column": null,
            "overflow_y": null,
            "overflow_x": null,
            "grid_auto_flow": null,
            "grid_area": null,
            "grid_template_columns": null,
            "flex": null,
            "_model_name": "LayoutModel",
            "justify_items": null,
            "grid_row": null,
            "max_height": null,
            "align_content": null,
            "visibility": null,
            "align_self": null,
            "height": null,
            "min_height": null,
            "padding": null,
            "grid_auto_rows": null,
            "grid_gap": null,
            "max_width": null,
            "order": null,
            "_view_module_version": "1.2.0",
            "grid_template_areas": null,
            "object_position": null,
            "object_fit": null,
            "grid_auto_columns": null,
            "margin": null,
            "display": null,
            "left": null
          }
        },
        "2d5e799bd91a4c7398e6faad03d95629": {
          "model_module": "@jupyter-widgets/controls",
          "model_name": "DescriptionStyleModel",
          "state": {
            "_view_name": "StyleView",
            "_model_name": "DescriptionStyleModel",
            "description_width": "",
            "_view_module": "@jupyter-widgets/base",
            "_model_module_version": "1.5.0",
            "_view_count": null,
            "_view_module_version": "1.2.0",
            "_model_module": "@jupyter-widgets/controls"
          }
        },
        "968db515b5b94fbeab17e3bd23c415e4": {
          "model_module": "@jupyter-widgets/base",
          "model_name": "LayoutModel",
          "state": {
            "_view_name": "LayoutView",
            "grid_template_rows": null,
            "right": null,
            "justify_content": null,
            "_view_module": "@jupyter-widgets/base",
            "overflow": null,
            "_model_module_version": "1.2.0",
            "_view_count": null,
            "flex_flow": null,
            "width": null,
            "min_width": null,
            "border": null,
            "align_items": null,
            "bottom": null,
            "_model_module": "@jupyter-widgets/base",
            "top": null,
            "grid_column": null,
            "overflow_y": null,
            "overflow_x": null,
            "grid_auto_flow": null,
            "grid_area": null,
            "grid_template_columns": null,
            "flex": null,
            "_model_name": "LayoutModel",
            "justify_items": null,
            "grid_row": null,
            "max_height": null,
            "align_content": null,
            "visibility": null,
            "align_self": null,
            "height": null,
            "min_height": null,
            "padding": null,
            "grid_auto_rows": null,
            "grid_gap": null,
            "max_width": null,
            "order": null,
            "_view_module_version": "1.2.0",
            "grid_template_areas": null,
            "object_position": null,
            "object_fit": null,
            "grid_auto_columns": null,
            "margin": null,
            "display": null,
            "left": null
          }
        },
        "004939f86c474d5eb35f9e6f8a8c20d0": {
          "model_module": "@jupyter-widgets/controls",
          "model_name": "HBoxModel",
          "state": {
            "_view_name": "HBoxView",
            "_dom_classes": [],
            "_model_name": "HBoxModel",
            "_view_module": "@jupyter-widgets/controls",
            "_model_module_version": "1.5.0",
            "_view_count": null,
            "_view_module_version": "1.5.0",
            "box_style": "",
            "layout": "IPY_MODEL_261b5e7956fc44a88962b3bab0a4f863",
            "_model_module": "@jupyter-widgets/controls",
            "children": [
              "IPY_MODEL_7bfa7bf6072a4ec8bcf3e9a118bc0998",
              "IPY_MODEL_770437e805764951af63d26901a54982"
            ]
          }
        },
        "261b5e7956fc44a88962b3bab0a4f863": {
          "model_module": "@jupyter-widgets/base",
          "model_name": "LayoutModel",
          "state": {
            "_view_name": "LayoutView",
            "grid_template_rows": null,
            "right": null,
            "justify_content": null,
            "_view_module": "@jupyter-widgets/base",
            "overflow": null,
            "_model_module_version": "1.2.0",
            "_view_count": null,
            "flex_flow": null,
            "width": null,
            "min_width": null,
            "border": null,
            "align_items": null,
            "bottom": null,
            "_model_module": "@jupyter-widgets/base",
            "top": null,
            "grid_column": null,
            "overflow_y": null,
            "overflow_x": null,
            "grid_auto_flow": null,
            "grid_area": null,
            "grid_template_columns": null,
            "flex": null,
            "_model_name": "LayoutModel",
            "justify_items": null,
            "grid_row": null,
            "max_height": null,
            "align_content": null,
            "visibility": null,
            "align_self": null,
            "height": null,
            "min_height": null,
            "padding": null,
            "grid_auto_rows": null,
            "grid_gap": null,
            "max_width": null,
            "order": null,
            "_view_module_version": "1.2.0",
            "grid_template_areas": null,
            "object_position": null,
            "object_fit": null,
            "grid_auto_columns": null,
            "margin": null,
            "display": null,
            "left": null
          }
        },
        "7bfa7bf6072a4ec8bcf3e9a118bc0998": {
          "model_module": "@jupyter-widgets/controls",
          "model_name": "FloatProgressModel",
          "state": {
            "_view_name": "ProgressView",
            "style": "IPY_MODEL_cae562b3a2e049c08265e5fc14435779",
            "_dom_classes": [],
            "description": "100%",
            "_model_name": "FloatProgressModel",
            "bar_style": "success",
            "max": 1846,
            "_view_module": "@jupyter-widgets/controls",
            "_model_module_version": "1.5.0",
            "value": 1846,
            "_view_count": null,
            "_view_module_version": "1.5.0",
            "orientation": "horizontal",
            "min": 0,
            "description_tooltip": null,
            "_model_module": "@jupyter-widgets/controls",
            "layout": "IPY_MODEL_f5cc344f7e3f486b82d8603a37d077dc"
          }
        },
        "770437e805764951af63d26901a54982": {
          "model_module": "@jupyter-widgets/controls",
          "model_name": "HTMLModel",
          "state": {
            "_view_name": "HTMLView",
            "style": "IPY_MODEL_ca555192b5c648e68dd211252fdbed3a",
            "_dom_classes": [],
            "description": "",
            "_model_name": "HTMLModel",
            "placeholder": "​",
            "_view_module": "@jupyter-widgets/controls",
            "_model_module_version": "1.5.0",
            "value": " 1846/1846 [13:02&lt;00:00,  2.36it/s]",
            "_view_count": null,
            "_view_module_version": "1.5.0",
            "description_tooltip": null,
            "_model_module": "@jupyter-widgets/controls",
            "layout": "IPY_MODEL_a5566f6105194c54ad71d7dc176fef14"
          }
        },
        "cae562b3a2e049c08265e5fc14435779": {
          "model_module": "@jupyter-widgets/controls",
          "model_name": "ProgressStyleModel",
          "state": {
            "_view_name": "StyleView",
            "_model_name": "ProgressStyleModel",
            "description_width": "initial",
            "_view_module": "@jupyter-widgets/base",
            "_model_module_version": "1.5.0",
            "_view_count": null,
            "_view_module_version": "1.2.0",
            "bar_color": null,
            "_model_module": "@jupyter-widgets/controls"
          }
        },
        "f5cc344f7e3f486b82d8603a37d077dc": {
          "model_module": "@jupyter-widgets/base",
          "model_name": "LayoutModel",
          "state": {
            "_view_name": "LayoutView",
            "grid_template_rows": null,
            "right": null,
            "justify_content": null,
            "_view_module": "@jupyter-widgets/base",
            "overflow": null,
            "_model_module_version": "1.2.0",
            "_view_count": null,
            "flex_flow": null,
            "width": null,
            "min_width": null,
            "border": null,
            "align_items": null,
            "bottom": null,
            "_model_module": "@jupyter-widgets/base",
            "top": null,
            "grid_column": null,
            "overflow_y": null,
            "overflow_x": null,
            "grid_auto_flow": null,
            "grid_area": null,
            "grid_template_columns": null,
            "flex": null,
            "_model_name": "LayoutModel",
            "justify_items": null,
            "grid_row": null,
            "max_height": null,
            "align_content": null,
            "visibility": null,
            "align_self": null,
            "height": null,
            "min_height": null,
            "padding": null,
            "grid_auto_rows": null,
            "grid_gap": null,
            "max_width": null,
            "order": null,
            "_view_module_version": "1.2.0",
            "grid_template_areas": null,
            "object_position": null,
            "object_fit": null,
            "grid_auto_columns": null,
            "margin": null,
            "display": null,
            "left": null
          }
        },
        "ca555192b5c648e68dd211252fdbed3a": {
          "model_module": "@jupyter-widgets/controls",
          "model_name": "DescriptionStyleModel",
          "state": {
            "_view_name": "StyleView",
            "_model_name": "DescriptionStyleModel",
            "description_width": "",
            "_view_module": "@jupyter-widgets/base",
            "_model_module_version": "1.5.0",
            "_view_count": null,
            "_view_module_version": "1.2.0",
            "_model_module": "@jupyter-widgets/controls"
          }
        },
        "a5566f6105194c54ad71d7dc176fef14": {
          "model_module": "@jupyter-widgets/base",
          "model_name": "LayoutModel",
          "state": {
            "_view_name": "LayoutView",
            "grid_template_rows": null,
            "right": null,
            "justify_content": null,
            "_view_module": "@jupyter-widgets/base",
            "overflow": null,
            "_model_module_version": "1.2.0",
            "_view_count": null,
            "flex_flow": null,
            "width": null,
            "min_width": null,
            "border": null,
            "align_items": null,
            "bottom": null,
            "_model_module": "@jupyter-widgets/base",
            "top": null,
            "grid_column": null,
            "overflow_y": null,
            "overflow_x": null,
            "grid_auto_flow": null,
            "grid_area": null,
            "grid_template_columns": null,
            "flex": null,
            "_model_name": "LayoutModel",
            "justify_items": null,
            "grid_row": null,
            "max_height": null,
            "align_content": null,
            "visibility": null,
            "align_self": null,
            "height": null,
            "min_height": null,
            "padding": null,
            "grid_auto_rows": null,
            "grid_gap": null,
            "max_width": null,
            "order": null,
            "_view_module_version": "1.2.0",
            "grid_template_areas": null,
            "object_position": null,
            "object_fit": null,
            "grid_auto_columns": null,
            "margin": null,
            "display": null,
            "left": null
          }
        },
        "a28a24a6f09d428a99881bbb5f53af33": {
          "model_module": "@jupyter-widgets/controls",
          "model_name": "HBoxModel",
          "state": {
            "_view_name": "HBoxView",
            "_dom_classes": [],
            "_model_name": "HBoxModel",
            "_view_module": "@jupyter-widgets/controls",
            "_model_module_version": "1.5.0",
            "_view_count": null,
            "_view_module_version": "1.5.0",
            "box_style": "",
            "layout": "IPY_MODEL_8bd14132257c40ee93c2cca8f592c331",
            "_model_module": "@jupyter-widgets/controls",
            "children": [
              "IPY_MODEL_7835f8b15f3243e2bafb266fa0734173",
              "IPY_MODEL_0e83f7f692cf4cb1a2359dd45748ea98"
            ]
          }
        },
        "8bd14132257c40ee93c2cca8f592c331": {
          "model_module": "@jupyter-widgets/base",
          "model_name": "LayoutModel",
          "state": {
            "_view_name": "LayoutView",
            "grid_template_rows": null,
            "right": null,
            "justify_content": null,
            "_view_module": "@jupyter-widgets/base",
            "overflow": null,
            "_model_module_version": "1.2.0",
            "_view_count": null,
            "flex_flow": null,
            "width": null,
            "min_width": null,
            "border": null,
            "align_items": null,
            "bottom": null,
            "_model_module": "@jupyter-widgets/base",
            "top": null,
            "grid_column": null,
            "overflow_y": null,
            "overflow_x": null,
            "grid_auto_flow": null,
            "grid_area": null,
            "grid_template_columns": null,
            "flex": null,
            "_model_name": "LayoutModel",
            "justify_items": null,
            "grid_row": null,
            "max_height": null,
            "align_content": null,
            "visibility": null,
            "align_self": null,
            "height": null,
            "min_height": null,
            "padding": null,
            "grid_auto_rows": null,
            "grid_gap": null,
            "max_width": null,
            "order": null,
            "_view_module_version": "1.2.0",
            "grid_template_areas": null,
            "object_position": null,
            "object_fit": null,
            "grid_auto_columns": null,
            "margin": null,
            "display": null,
            "left": null
          }
        },
        "7835f8b15f3243e2bafb266fa0734173": {
          "model_module": "@jupyter-widgets/controls",
          "model_name": "FloatProgressModel",
          "state": {
            "_view_name": "ProgressView",
            "style": "IPY_MODEL_aed13c5d0dd849f1ab62021c51419008",
            "_dom_classes": [],
            "description": "100%",
            "_model_name": "FloatProgressModel",
            "bar_style": "success",
            "max": 1000,
            "_view_module": "@jupyter-widgets/controls",
            "_model_module_version": "1.5.0",
            "value": 1000,
            "_view_count": null,
            "_view_module_version": "1.5.0",
            "orientation": "horizontal",
            "min": 0,
            "description_tooltip": null,
            "_model_module": "@jupyter-widgets/controls",
            "layout": "IPY_MODEL_7bf8e104f5f146ef8b226d607575a6d9"
          }
        },
        "0e83f7f692cf4cb1a2359dd45748ea98": {
          "model_module": "@jupyter-widgets/controls",
          "model_name": "HTMLModel",
          "state": {
            "_view_name": "HTMLView",
            "style": "IPY_MODEL_7d1d9f2bca7b4618aeae696ca56cf428",
            "_dom_classes": [],
            "description": "",
            "_model_name": "HTMLModel",
            "placeholder": "​",
            "_view_module": "@jupyter-widgets/controls",
            "_model_module_version": "1.5.0",
            "value": " 1000/1000 [08:40&lt;00:00,  1.92it/s]",
            "_view_count": null,
            "_view_module_version": "1.5.0",
            "description_tooltip": null,
            "_model_module": "@jupyter-widgets/controls",
            "layout": "IPY_MODEL_9140374c31d94281ba2bb91f34bd8362"
          }
        },
        "aed13c5d0dd849f1ab62021c51419008": {
          "model_module": "@jupyter-widgets/controls",
          "model_name": "ProgressStyleModel",
          "state": {
            "_view_name": "StyleView",
            "_model_name": "ProgressStyleModel",
            "description_width": "initial",
            "_view_module": "@jupyter-widgets/base",
            "_model_module_version": "1.5.0",
            "_view_count": null,
            "_view_module_version": "1.2.0",
            "bar_color": null,
            "_model_module": "@jupyter-widgets/controls"
          }
        },
        "7bf8e104f5f146ef8b226d607575a6d9": {
          "model_module": "@jupyter-widgets/base",
          "model_name": "LayoutModel",
          "state": {
            "_view_name": "LayoutView",
            "grid_template_rows": null,
            "right": null,
            "justify_content": null,
            "_view_module": "@jupyter-widgets/base",
            "overflow": null,
            "_model_module_version": "1.2.0",
            "_view_count": null,
            "flex_flow": null,
            "width": null,
            "min_width": null,
            "border": null,
            "align_items": null,
            "bottom": null,
            "_model_module": "@jupyter-widgets/base",
            "top": null,
            "grid_column": null,
            "overflow_y": null,
            "overflow_x": null,
            "grid_auto_flow": null,
            "grid_area": null,
            "grid_template_columns": null,
            "flex": null,
            "_model_name": "LayoutModel",
            "justify_items": null,
            "grid_row": null,
            "max_height": null,
            "align_content": null,
            "visibility": null,
            "align_self": null,
            "height": null,
            "min_height": null,
            "padding": null,
            "grid_auto_rows": null,
            "grid_gap": null,
            "max_width": null,
            "order": null,
            "_view_module_version": "1.2.0",
            "grid_template_areas": null,
            "object_position": null,
            "object_fit": null,
            "grid_auto_columns": null,
            "margin": null,
            "display": null,
            "left": null
          }
        },
        "7d1d9f2bca7b4618aeae696ca56cf428": {
          "model_module": "@jupyter-widgets/controls",
          "model_name": "DescriptionStyleModel",
          "state": {
            "_view_name": "StyleView",
            "_model_name": "DescriptionStyleModel",
            "description_width": "",
            "_view_module": "@jupyter-widgets/base",
            "_model_module_version": "1.5.0",
            "_view_count": null,
            "_view_module_version": "1.2.0",
            "_model_module": "@jupyter-widgets/controls"
          }
        },
        "9140374c31d94281ba2bb91f34bd8362": {
          "model_module": "@jupyter-widgets/base",
          "model_name": "LayoutModel",
          "state": {
            "_view_name": "LayoutView",
            "grid_template_rows": null,
            "right": null,
            "justify_content": null,
            "_view_module": "@jupyter-widgets/base",
            "overflow": null,
            "_model_module_version": "1.2.0",
            "_view_count": null,
            "flex_flow": null,
            "width": null,
            "min_width": null,
            "border": null,
            "align_items": null,
            "bottom": null,
            "_model_module": "@jupyter-widgets/base",
            "top": null,
            "grid_column": null,
            "overflow_y": null,
            "overflow_x": null,
            "grid_auto_flow": null,
            "grid_area": null,
            "grid_template_columns": null,
            "flex": null,
            "_model_name": "LayoutModel",
            "justify_items": null,
            "grid_row": null,
            "max_height": null,
            "align_content": null,
            "visibility": null,
            "align_self": null,
            "height": null,
            "min_height": null,
            "padding": null,
            "grid_auto_rows": null,
            "grid_gap": null,
            "max_width": null,
            "order": null,
            "_view_module_version": "1.2.0",
            "grid_template_areas": null,
            "object_position": null,
            "object_fit": null,
            "grid_auto_columns": null,
            "margin": null,
            "display": null,
            "left": null
          }
        },
        "0459d045c17045da9f29110ee91269cc": {
          "model_module": "@jupyter-widgets/controls",
          "model_name": "HBoxModel",
          "state": {
            "_view_name": "HBoxView",
            "_dom_classes": [],
            "_model_name": "HBoxModel",
            "_view_module": "@jupyter-widgets/controls",
            "_model_module_version": "1.5.0",
            "_view_count": null,
            "_view_module_version": "1.5.0",
            "box_style": "",
            "layout": "IPY_MODEL_1c78c99b16324058b51047fa8d3b0125",
            "_model_module": "@jupyter-widgets/controls",
            "children": [
              "IPY_MODEL_93d01f1743e24114a593cc0570f99316",
              "IPY_MODEL_437db5881aba41cfad19a781429d8c0d"
            ]
          }
        },
        "1c78c99b16324058b51047fa8d3b0125": {
          "model_module": "@jupyter-widgets/base",
          "model_name": "LayoutModel",
          "state": {
            "_view_name": "LayoutView",
            "grid_template_rows": null,
            "right": null,
            "justify_content": null,
            "_view_module": "@jupyter-widgets/base",
            "overflow": null,
            "_model_module_version": "1.2.0",
            "_view_count": null,
            "flex_flow": null,
            "width": null,
            "min_width": null,
            "border": null,
            "align_items": null,
            "bottom": null,
            "_model_module": "@jupyter-widgets/base",
            "top": null,
            "grid_column": null,
            "overflow_y": null,
            "overflow_x": null,
            "grid_auto_flow": null,
            "grid_area": null,
            "grid_template_columns": null,
            "flex": null,
            "_model_name": "LayoutModel",
            "justify_items": null,
            "grid_row": null,
            "max_height": null,
            "align_content": null,
            "visibility": null,
            "align_self": null,
            "height": null,
            "min_height": null,
            "padding": null,
            "grid_auto_rows": null,
            "grid_gap": null,
            "max_width": null,
            "order": null,
            "_view_module_version": "1.2.0",
            "grid_template_areas": null,
            "object_position": null,
            "object_fit": null,
            "grid_auto_columns": null,
            "margin": null,
            "display": null,
            "left": null
          }
        },
        "93d01f1743e24114a593cc0570f99316": {
          "model_module": "@jupyter-widgets/controls",
          "model_name": "FloatProgressModel",
          "state": {
            "_view_name": "ProgressView",
            "style": "IPY_MODEL_276c899e5dab45348a84db4056f41c73",
            "_dom_classes": [],
            "description": "100%",
            "_model_name": "FloatProgressModel",
            "bar_style": "success",
            "max": 1540,
            "_view_module": "@jupyter-widgets/controls",
            "_model_module_version": "1.5.0",
            "value": 1540,
            "_view_count": null,
            "_view_module_version": "1.5.0",
            "orientation": "horizontal",
            "min": 0,
            "description_tooltip": null,
            "_model_module": "@jupyter-widgets/controls",
            "layout": "IPY_MODEL_9b1c19904e4f4cb491b3046a755cde59"
          }
        },
        "437db5881aba41cfad19a781429d8c0d": {
          "model_module": "@jupyter-widgets/controls",
          "model_name": "HTMLModel",
          "state": {
            "_view_name": "HTMLView",
            "style": "IPY_MODEL_dfc482ab1a8f4d7ba2d31b2e79f919b6",
            "_dom_classes": [],
            "description": "",
            "_model_name": "HTMLModel",
            "placeholder": "​",
            "_view_module": "@jupyter-widgets/controls",
            "_model_module_version": "1.5.0",
            "value": " 1540/1540 [07:12&lt;00:00,  3.56it/s]",
            "_view_count": null,
            "_view_module_version": "1.5.0",
            "description_tooltip": null,
            "_model_module": "@jupyter-widgets/controls",
            "layout": "IPY_MODEL_9bd8ec34b9f7486090e2f2051dcb01f9"
          }
        },
        "276c899e5dab45348a84db4056f41c73": {
          "model_module": "@jupyter-widgets/controls",
          "model_name": "ProgressStyleModel",
          "state": {
            "_view_name": "StyleView",
            "_model_name": "ProgressStyleModel",
            "description_width": "initial",
            "_view_module": "@jupyter-widgets/base",
            "_model_module_version": "1.5.0",
            "_view_count": null,
            "_view_module_version": "1.2.0",
            "bar_color": null,
            "_model_module": "@jupyter-widgets/controls"
          }
        },
        "9b1c19904e4f4cb491b3046a755cde59": {
          "model_module": "@jupyter-widgets/base",
          "model_name": "LayoutModel",
          "state": {
            "_view_name": "LayoutView",
            "grid_template_rows": null,
            "right": null,
            "justify_content": null,
            "_view_module": "@jupyter-widgets/base",
            "overflow": null,
            "_model_module_version": "1.2.0",
            "_view_count": null,
            "flex_flow": null,
            "width": null,
            "min_width": null,
            "border": null,
            "align_items": null,
            "bottom": null,
            "_model_module": "@jupyter-widgets/base",
            "top": null,
            "grid_column": null,
            "overflow_y": null,
            "overflow_x": null,
            "grid_auto_flow": null,
            "grid_area": null,
            "grid_template_columns": null,
            "flex": null,
            "_model_name": "LayoutModel",
            "justify_items": null,
            "grid_row": null,
            "max_height": null,
            "align_content": null,
            "visibility": null,
            "align_self": null,
            "height": null,
            "min_height": null,
            "padding": null,
            "grid_auto_rows": null,
            "grid_gap": null,
            "max_width": null,
            "order": null,
            "_view_module_version": "1.2.0",
            "grid_template_areas": null,
            "object_position": null,
            "object_fit": null,
            "grid_auto_columns": null,
            "margin": null,
            "display": null,
            "left": null
          }
        },
        "dfc482ab1a8f4d7ba2d31b2e79f919b6": {
          "model_module": "@jupyter-widgets/controls",
          "model_name": "DescriptionStyleModel",
          "state": {
            "_view_name": "StyleView",
            "_model_name": "DescriptionStyleModel",
            "description_width": "",
            "_view_module": "@jupyter-widgets/base",
            "_model_module_version": "1.5.0",
            "_view_count": null,
            "_view_module_version": "1.2.0",
            "_model_module": "@jupyter-widgets/controls"
          }
        },
        "9bd8ec34b9f7486090e2f2051dcb01f9": {
          "model_module": "@jupyter-widgets/base",
          "model_name": "LayoutModel",
          "state": {
            "_view_name": "LayoutView",
            "grid_template_rows": null,
            "right": null,
            "justify_content": null,
            "_view_module": "@jupyter-widgets/base",
            "overflow": null,
            "_model_module_version": "1.2.0",
            "_view_count": null,
            "flex_flow": null,
            "width": null,
            "min_width": null,
            "border": null,
            "align_items": null,
            "bottom": null,
            "_model_module": "@jupyter-widgets/base",
            "top": null,
            "grid_column": null,
            "overflow_y": null,
            "overflow_x": null,
            "grid_auto_flow": null,
            "grid_area": null,
            "grid_template_columns": null,
            "flex": null,
            "_model_name": "LayoutModel",
            "justify_items": null,
            "grid_row": null,
            "max_height": null,
            "align_content": null,
            "visibility": null,
            "align_self": null,
            "height": null,
            "min_height": null,
            "padding": null,
            "grid_auto_rows": null,
            "grid_gap": null,
            "max_width": null,
            "order": null,
            "_view_module_version": "1.2.0",
            "grid_template_areas": null,
            "object_position": null,
            "object_fit": null,
            "grid_auto_columns": null,
            "margin": null,
            "display": null,
            "left": null
          }
        },
        "7ce18e6856694d71a25e796742c581c8": {
          "model_module": "@jupyter-widgets/controls",
          "model_name": "HBoxModel",
          "state": {
            "_view_name": "HBoxView",
            "_dom_classes": [],
            "_model_name": "HBoxModel",
            "_view_module": "@jupyter-widgets/controls",
            "_model_module_version": "1.5.0",
            "_view_count": null,
            "_view_module_version": "1.5.0",
            "box_style": "",
            "layout": "IPY_MODEL_1bc62b2d994447c5a52c57d989b5e0eb",
            "_model_module": "@jupyter-widgets/controls",
            "children": [
              "IPY_MODEL_307c9f64118a42c2b65748fabb44a6a4",
              "IPY_MODEL_8d9ffef9814043338b4173ae24481760"
            ]
          }
        },
        "1bc62b2d994447c5a52c57d989b5e0eb": {
          "model_module": "@jupyter-widgets/base",
          "model_name": "LayoutModel",
          "state": {
            "_view_name": "LayoutView",
            "grid_template_rows": null,
            "right": null,
            "justify_content": null,
            "_view_module": "@jupyter-widgets/base",
            "overflow": null,
            "_model_module_version": "1.2.0",
            "_view_count": null,
            "flex_flow": null,
            "width": null,
            "min_width": null,
            "border": null,
            "align_items": null,
            "bottom": null,
            "_model_module": "@jupyter-widgets/base",
            "top": null,
            "grid_column": null,
            "overflow_y": null,
            "overflow_x": null,
            "grid_auto_flow": null,
            "grid_area": null,
            "grid_template_columns": null,
            "flex": null,
            "_model_name": "LayoutModel",
            "justify_items": null,
            "grid_row": null,
            "max_height": null,
            "align_content": null,
            "visibility": null,
            "align_self": null,
            "height": null,
            "min_height": null,
            "padding": null,
            "grid_auto_rows": null,
            "grid_gap": null,
            "max_width": null,
            "order": null,
            "_view_module_version": "1.2.0",
            "grid_template_areas": null,
            "object_position": null,
            "object_fit": null,
            "grid_auto_columns": null,
            "margin": null,
            "display": null,
            "left": null
          }
        },
        "307c9f64118a42c2b65748fabb44a6a4": {
          "model_module": "@jupyter-widgets/controls",
          "model_name": "FloatProgressModel",
          "state": {
            "_view_name": "ProgressView",
            "style": "IPY_MODEL_03141538638c4a35be245291b113e0db",
            "_dom_classes": [],
            "description": "100%",
            "_model_name": "FloatProgressModel",
            "bar_style": "success",
            "max": 1000,
            "_view_module": "@jupyter-widgets/controls",
            "_model_module_version": "1.5.0",
            "value": 1000,
            "_view_count": null,
            "_view_module_version": "1.5.0",
            "orientation": "horizontal",
            "min": 0,
            "description_tooltip": null,
            "_model_module": "@jupyter-widgets/controls",
            "layout": "IPY_MODEL_a09af9c911c84698b5bee1b3b099af16"
          }
        },
        "8d9ffef9814043338b4173ae24481760": {
          "model_module": "@jupyter-widgets/controls",
          "model_name": "HTMLModel",
          "state": {
            "_view_name": "HTMLView",
            "style": "IPY_MODEL_f28c2a9515e84282b55034755ae40ff3",
            "_dom_classes": [],
            "description": "",
            "_model_name": "HTMLModel",
            "placeholder": "​",
            "_view_module": "@jupyter-widgets/controls",
            "_model_module_version": "1.5.0",
            "value": " 1000/1000 [18:02&lt;00:00,  1.08s/it]",
            "_view_count": null,
            "_view_module_version": "1.5.0",
            "description_tooltip": null,
            "_model_module": "@jupyter-widgets/controls",
            "layout": "IPY_MODEL_f1423f8829fd4504b92162c921ffc7c3"
          }
        },
        "03141538638c4a35be245291b113e0db": {
          "model_module": "@jupyter-widgets/controls",
          "model_name": "ProgressStyleModel",
          "state": {
            "_view_name": "StyleView",
            "_model_name": "ProgressStyleModel",
            "description_width": "initial",
            "_view_module": "@jupyter-widgets/base",
            "_model_module_version": "1.5.0",
            "_view_count": null,
            "_view_module_version": "1.2.0",
            "bar_color": null,
            "_model_module": "@jupyter-widgets/controls"
          }
        },
        "a09af9c911c84698b5bee1b3b099af16": {
          "model_module": "@jupyter-widgets/base",
          "model_name": "LayoutModel",
          "state": {
            "_view_name": "LayoutView",
            "grid_template_rows": null,
            "right": null,
            "justify_content": null,
            "_view_module": "@jupyter-widgets/base",
            "overflow": null,
            "_model_module_version": "1.2.0",
            "_view_count": null,
            "flex_flow": null,
            "width": null,
            "min_width": null,
            "border": null,
            "align_items": null,
            "bottom": null,
            "_model_module": "@jupyter-widgets/base",
            "top": null,
            "grid_column": null,
            "overflow_y": null,
            "overflow_x": null,
            "grid_auto_flow": null,
            "grid_area": null,
            "grid_template_columns": null,
            "flex": null,
            "_model_name": "LayoutModel",
            "justify_items": null,
            "grid_row": null,
            "max_height": null,
            "align_content": null,
            "visibility": null,
            "align_self": null,
            "height": null,
            "min_height": null,
            "padding": null,
            "grid_auto_rows": null,
            "grid_gap": null,
            "max_width": null,
            "order": null,
            "_view_module_version": "1.2.0",
            "grid_template_areas": null,
            "object_position": null,
            "object_fit": null,
            "grid_auto_columns": null,
            "margin": null,
            "display": null,
            "left": null
          }
        },
        "f28c2a9515e84282b55034755ae40ff3": {
          "model_module": "@jupyter-widgets/controls",
          "model_name": "DescriptionStyleModel",
          "state": {
            "_view_name": "StyleView",
            "_model_name": "DescriptionStyleModel",
            "description_width": "",
            "_view_module": "@jupyter-widgets/base",
            "_model_module_version": "1.5.0",
            "_view_count": null,
            "_view_module_version": "1.2.0",
            "_model_module": "@jupyter-widgets/controls"
          }
        },
        "f1423f8829fd4504b92162c921ffc7c3": {
          "model_module": "@jupyter-widgets/base",
          "model_name": "LayoutModel",
          "state": {
            "_view_name": "LayoutView",
            "grid_template_rows": null,
            "right": null,
            "justify_content": null,
            "_view_module": "@jupyter-widgets/base",
            "overflow": null,
            "_model_module_version": "1.2.0",
            "_view_count": null,
            "flex_flow": null,
            "width": null,
            "min_width": null,
            "border": null,
            "align_items": null,
            "bottom": null,
            "_model_module": "@jupyter-widgets/base",
            "top": null,
            "grid_column": null,
            "overflow_y": null,
            "overflow_x": null,
            "grid_auto_flow": null,
            "grid_area": null,
            "grid_template_columns": null,
            "flex": null,
            "_model_name": "LayoutModel",
            "justify_items": null,
            "grid_row": null,
            "max_height": null,
            "align_content": null,
            "visibility": null,
            "align_self": null,
            "height": null,
            "min_height": null,
            "padding": null,
            "grid_auto_rows": null,
            "grid_gap": null,
            "max_width": null,
            "order": null,
            "_view_module_version": "1.2.0",
            "grid_template_areas": null,
            "object_position": null,
            "object_fit": null,
            "grid_auto_columns": null,
            "margin": null,
            "display": null,
            "left": null
          }
        },
        "e171b53198674f6085e3d18b0a057c5f": {
          "model_module": "@jupyter-widgets/controls",
          "model_name": "HBoxModel",
          "state": {
            "_view_name": "HBoxView",
            "_dom_classes": [],
            "_model_name": "HBoxModel",
            "_view_module": "@jupyter-widgets/controls",
            "_model_module_version": "1.5.0",
            "_view_count": null,
            "_view_module_version": "1.5.0",
            "box_style": "",
            "layout": "IPY_MODEL_4b1dbe8570264125bc63efc0513ff247",
            "_model_module": "@jupyter-widgets/controls",
            "children": [
              "IPY_MODEL_bd4ea7f8aaf9456886c2b14d77ccf1f3",
              "IPY_MODEL_fef244c9e8174b88b09f224226c89624"
            ]
          }
        },
        "4b1dbe8570264125bc63efc0513ff247": {
          "model_module": "@jupyter-widgets/base",
          "model_name": "LayoutModel",
          "state": {
            "_view_name": "LayoutView",
            "grid_template_rows": null,
            "right": null,
            "justify_content": null,
            "_view_module": "@jupyter-widgets/base",
            "overflow": null,
            "_model_module_version": "1.2.0",
            "_view_count": null,
            "flex_flow": null,
            "width": null,
            "min_width": null,
            "border": null,
            "align_items": null,
            "bottom": null,
            "_model_module": "@jupyter-widgets/base",
            "top": null,
            "grid_column": null,
            "overflow_y": null,
            "overflow_x": null,
            "grid_auto_flow": null,
            "grid_area": null,
            "grid_template_columns": null,
            "flex": null,
            "_model_name": "LayoutModel",
            "justify_items": null,
            "grid_row": null,
            "max_height": null,
            "align_content": null,
            "visibility": null,
            "align_self": null,
            "height": null,
            "min_height": null,
            "padding": null,
            "grid_auto_rows": null,
            "grid_gap": null,
            "max_width": null,
            "order": null,
            "_view_module_version": "1.2.0",
            "grid_template_areas": null,
            "object_position": null,
            "object_fit": null,
            "grid_auto_columns": null,
            "margin": null,
            "display": null,
            "left": null
          }
        },
        "bd4ea7f8aaf9456886c2b14d77ccf1f3": {
          "model_module": "@jupyter-widgets/controls",
          "model_name": "FloatProgressModel",
          "state": {
            "_view_name": "ProgressView",
            "style": "IPY_MODEL_f5f5786f62684ba98b3a6d0109d27a79",
            "_dom_classes": [],
            "description": "100%",
            "_model_name": "FloatProgressModel",
            "bar_style": "success",
            "max": 1540,
            "_view_module": "@jupyter-widgets/controls",
            "_model_module_version": "1.5.0",
            "value": 1540,
            "_view_count": null,
            "_view_module_version": "1.5.0",
            "orientation": "horizontal",
            "min": 0,
            "description_tooltip": null,
            "_model_module": "@jupyter-widgets/controls",
            "layout": "IPY_MODEL_41ed8de4bdc8447eb3dc71cdf3d7ad15"
          }
        },
        "fef244c9e8174b88b09f224226c89624": {
          "model_module": "@jupyter-widgets/controls",
          "model_name": "HTMLModel",
          "state": {
            "_view_name": "HTMLView",
            "style": "IPY_MODEL_97465fba4b7342a7af4bbe3460d647d6",
            "_dom_classes": [],
            "description": "",
            "_model_name": "HTMLModel",
            "placeholder": "​",
            "_view_module": "@jupyter-widgets/controls",
            "_model_module_version": "1.5.0",
            "value": " 1540/1540 [12:05&lt;00:00,  2.12it/s]",
            "_view_count": null,
            "_view_module_version": "1.5.0",
            "description_tooltip": null,
            "_model_module": "@jupyter-widgets/controls",
            "layout": "IPY_MODEL_2e05774b6e434cb9b91946ea7de9b5cb"
          }
        },
        "f5f5786f62684ba98b3a6d0109d27a79": {
          "model_module": "@jupyter-widgets/controls",
          "model_name": "ProgressStyleModel",
          "state": {
            "_view_name": "StyleView",
            "_model_name": "ProgressStyleModel",
            "description_width": "initial",
            "_view_module": "@jupyter-widgets/base",
            "_model_module_version": "1.5.0",
            "_view_count": null,
            "_view_module_version": "1.2.0",
            "bar_color": null,
            "_model_module": "@jupyter-widgets/controls"
          }
        },
        "41ed8de4bdc8447eb3dc71cdf3d7ad15": {
          "model_module": "@jupyter-widgets/base",
          "model_name": "LayoutModel",
          "state": {
            "_view_name": "LayoutView",
            "grid_template_rows": null,
            "right": null,
            "justify_content": null,
            "_view_module": "@jupyter-widgets/base",
            "overflow": null,
            "_model_module_version": "1.2.0",
            "_view_count": null,
            "flex_flow": null,
            "width": null,
            "min_width": null,
            "border": null,
            "align_items": null,
            "bottom": null,
            "_model_module": "@jupyter-widgets/base",
            "top": null,
            "grid_column": null,
            "overflow_y": null,
            "overflow_x": null,
            "grid_auto_flow": null,
            "grid_area": null,
            "grid_template_columns": null,
            "flex": null,
            "_model_name": "LayoutModel",
            "justify_items": null,
            "grid_row": null,
            "max_height": null,
            "align_content": null,
            "visibility": null,
            "align_self": null,
            "height": null,
            "min_height": null,
            "padding": null,
            "grid_auto_rows": null,
            "grid_gap": null,
            "max_width": null,
            "order": null,
            "_view_module_version": "1.2.0",
            "grid_template_areas": null,
            "object_position": null,
            "object_fit": null,
            "grid_auto_columns": null,
            "margin": null,
            "display": null,
            "left": null
          }
        },
        "97465fba4b7342a7af4bbe3460d647d6": {
          "model_module": "@jupyter-widgets/controls",
          "model_name": "DescriptionStyleModel",
          "state": {
            "_view_name": "StyleView",
            "_model_name": "DescriptionStyleModel",
            "description_width": "",
            "_view_module": "@jupyter-widgets/base",
            "_model_module_version": "1.5.0",
            "_view_count": null,
            "_view_module_version": "1.2.0",
            "_model_module": "@jupyter-widgets/controls"
          }
        },
        "2e05774b6e434cb9b91946ea7de9b5cb": {
          "model_module": "@jupyter-widgets/base",
          "model_name": "LayoutModel",
          "state": {
            "_view_name": "LayoutView",
            "grid_template_rows": null,
            "right": null,
            "justify_content": null,
            "_view_module": "@jupyter-widgets/base",
            "overflow": null,
            "_model_module_version": "1.2.0",
            "_view_count": null,
            "flex_flow": null,
            "width": null,
            "min_width": null,
            "border": null,
            "align_items": null,
            "bottom": null,
            "_model_module": "@jupyter-widgets/base",
            "top": null,
            "grid_column": null,
            "overflow_y": null,
            "overflow_x": null,
            "grid_auto_flow": null,
            "grid_area": null,
            "grid_template_columns": null,
            "flex": null,
            "_model_name": "LayoutModel",
            "justify_items": null,
            "grid_row": null,
            "max_height": null,
            "align_content": null,
            "visibility": null,
            "align_self": null,
            "height": null,
            "min_height": null,
            "padding": null,
            "grid_auto_rows": null,
            "grid_gap": null,
            "max_width": null,
            "order": null,
            "_view_module_version": "1.2.0",
            "grid_template_areas": null,
            "object_position": null,
            "object_fit": null,
            "grid_auto_columns": null,
            "margin": null,
            "display": null,
            "left": null
          }
        }
      }
    }
  },
  "cells": [
    {
      "cell_type": "markdown",
      "metadata": {
        "id": "view-in-github",
        "colab_type": "text"
      },
      "source": [
        "<a href=\"https://colab.research.google.com/github/alinaalborova/russian_idioms_processing/blob/main/MICE_Token_Level_ruBERT.ipynb\" target=\"_parent\"><img src=\"https://colab.research.google.com/assets/colab-badge.svg\" alt=\"Open In Colab\"/></a>"
      ]
    },
    {
      "cell_type": "markdown",
      "metadata": {
        "id": "_n5x1wCqtCTH"
      },
      "source": [
        "# Idiom Type and Token Classification\n",
        "\n",
        "Based on [MICE: Mining Idioms with Contextual Embeddings](https://arxiv.org/pdf/2008.05759.pdf) by  Škvorc et al.\n"
      ]
    },
    {
      "cell_type": "markdown",
      "metadata": {
        "id": "c7tUrqp827WI"
      },
      "source": [
        "## Libraries"
      ]
    },
    {
      "cell_type": "code",
      "metadata": {
        "colab": {
          "base_uri": "https://localhost:8080/"
        },
        "id": "AgVfmFGl296R",
        "outputId": "74990ea1-5e67-49ad-a39b-3441c4a30b26"
      },
      "source": [
        "!pip install transformers\n",
        "!pip install tensor2tensor"
      ],
      "execution_count": null,
      "outputs": [
        {
          "output_type": "stream",
          "text": [
            "Requirement already satisfied: transformers in /usr/local/lib/python3.7/dist-packages (4.6.1)\n",
            "Requirement already satisfied: regex!=2019.12.17 in /usr/local/lib/python3.7/dist-packages (from transformers) (2019.12.20)\n",
            "Requirement already satisfied: sacremoses in /usr/local/lib/python3.7/dist-packages (from transformers) (0.0.45)\n",
            "Requirement already satisfied: importlib-metadata; python_version < \"3.8\" in /usr/local/lib/python3.7/dist-packages (from transformers) (4.0.1)\n",
            "Requirement already satisfied: requests in /usr/local/lib/python3.7/dist-packages (from transformers) (2.23.0)\n",
            "Requirement already satisfied: tokenizers<0.11,>=0.10.1 in /usr/local/lib/python3.7/dist-packages (from transformers) (0.10.3)\n",
            "Requirement already satisfied: huggingface-hub==0.0.8 in /usr/local/lib/python3.7/dist-packages (from transformers) (0.0.8)\n",
            "Requirement already satisfied: numpy>=1.17 in /usr/local/lib/python3.7/dist-packages (from transformers) (1.19.5)\n",
            "Requirement already satisfied: tqdm>=4.27 in /usr/local/lib/python3.7/dist-packages (from transformers) (4.41.1)\n",
            "Requirement already satisfied: packaging in /usr/local/lib/python3.7/dist-packages (from transformers) (20.9)\n",
            "Requirement already satisfied: filelock in /usr/local/lib/python3.7/dist-packages (from transformers) (3.0.12)\n",
            "Requirement already satisfied: joblib in /usr/local/lib/python3.7/dist-packages (from sacremoses->transformers) (1.0.1)\n",
            "Requirement already satisfied: six in /usr/local/lib/python3.7/dist-packages (from sacremoses->transformers) (1.15.0)\n",
            "Requirement already satisfied: click in /usr/local/lib/python3.7/dist-packages (from sacremoses->transformers) (7.1.2)\n",
            "Requirement already satisfied: typing-extensions>=3.6.4; python_version < \"3.8\" in /usr/local/lib/python3.7/dist-packages (from importlib-metadata; python_version < \"3.8\"->transformers) (3.7.4.3)\n",
            "Requirement already satisfied: zipp>=0.5 in /usr/local/lib/python3.7/dist-packages (from importlib-metadata; python_version < \"3.8\"->transformers) (3.4.1)\n",
            "Requirement already satisfied: certifi>=2017.4.17 in /usr/local/lib/python3.7/dist-packages (from requests->transformers) (2020.12.5)\n",
            "Requirement already satisfied: chardet<4,>=3.0.2 in /usr/local/lib/python3.7/dist-packages (from requests->transformers) (3.0.4)\n",
            "Requirement already satisfied: idna<3,>=2.5 in /usr/local/lib/python3.7/dist-packages (from requests->transformers) (2.10)\n",
            "Requirement already satisfied: urllib3!=1.25.0,!=1.25.1,<1.26,>=1.21.1 in /usr/local/lib/python3.7/dist-packages (from requests->transformers) (1.24.3)\n",
            "Requirement already satisfied: pyparsing>=2.0.2 in /usr/local/lib/python3.7/dist-packages (from packaging->transformers) (2.4.7)\n",
            "Requirement already satisfied: tensor2tensor in /usr/local/lib/python3.7/dist-packages (1.15.7)\n",
            "Requirement already satisfied: h5py in /usr/local/lib/python3.7/dist-packages (from tensor2tensor) (3.1.0)\n",
            "Requirement already satisfied: numpy in /usr/local/lib/python3.7/dist-packages (from tensor2tensor) (1.19.5)\n",
            "Requirement already satisfied: tf-slim in /usr/local/lib/python3.7/dist-packages (from tensor2tensor) (1.1.0)\n",
            "Requirement already satisfied: dopamine-rl in /usr/local/lib/python3.7/dist-packages (from tensor2tensor) (1.0.5)\n",
            "Requirement already satisfied: kfac in /usr/local/lib/python3.7/dist-packages (from tensor2tensor) (0.2.3)\n",
            "Requirement already satisfied: gym in /usr/local/lib/python3.7/dist-packages (from tensor2tensor) (0.17.3)\n",
            "Requirement already satisfied: requests in /usr/local/lib/python3.7/dist-packages (from tensor2tensor) (2.23.0)\n",
            "Requirement already satisfied: tqdm in /usr/local/lib/python3.7/dist-packages (from tensor2tensor) (4.41.1)\n",
            "Requirement already satisfied: gunicorn in /usr/local/lib/python3.7/dist-packages (from tensor2tensor) (20.1.0)\n",
            "Requirement already satisfied: pypng in /usr/local/lib/python3.7/dist-packages (from tensor2tensor) (0.0.20)\n",
            "Requirement already satisfied: gevent in /usr/local/lib/python3.7/dist-packages (from tensor2tensor) (21.1.2)\n",
            "Requirement already satisfied: mesh-tensorflow in /usr/local/lib/python3.7/dist-packages (from tensor2tensor) (0.1.19)\n",
            "Requirement already satisfied: oauth2client in /usr/local/lib/python3.7/dist-packages (from tensor2tensor) (4.1.3)\n",
            "Requirement already satisfied: bz2file in /usr/local/lib/python3.7/dist-packages (from tensor2tensor) (0.98)\n",
            "Requirement already satisfied: absl-py in /usr/local/lib/python3.7/dist-packages (from tensor2tensor) (0.12.0)\n",
            "Requirement already satisfied: sympy in /usr/local/lib/python3.7/dist-packages (from tensor2tensor) (1.7.1)\n",
            "Requirement already satisfied: Pillow in /usr/local/lib/python3.7/dist-packages (from tensor2tensor) (7.1.2)\n",
            "Requirement already satisfied: six>=1.12.0 in /usr/local/lib/python3.7/dist-packages (from tensor2tensor) (1.15.0)\n",
            "Requirement already satisfied: tensorflow-addons in /usr/local/lib/python3.7/dist-packages (from tensor2tensor) (0.13.0)\n",
            "Requirement already satisfied: opencv-python in /usr/local/lib/python3.7/dist-packages (from tensor2tensor) (4.1.2.30)\n",
            "Requirement already satisfied: future in /usr/local/lib/python3.7/dist-packages (from tensor2tensor) (0.16.0)\n",
            "Requirement already satisfied: gin-config in /usr/local/lib/python3.7/dist-packages (from tensor2tensor) (0.4.0)\n",
            "Requirement already satisfied: tensorflow-datasets in /usr/local/lib/python3.7/dist-packages (from tensor2tensor) (4.0.1)\n",
            "Requirement already satisfied: tensorflow-probability==0.7.0 in /usr/local/lib/python3.7/dist-packages (from tensor2tensor) (0.7.0)\n",
            "Requirement already satisfied: tensorflow-gan in /usr/local/lib/python3.7/dist-packages (from tensor2tensor) (2.0.0)\n",
            "Requirement already satisfied: flask in /usr/local/lib/python3.7/dist-packages (from tensor2tensor) (1.1.4)\n",
            "Requirement already satisfied: scipy in /usr/local/lib/python3.7/dist-packages (from tensor2tensor) (1.4.1)\n",
            "Requirement already satisfied: google-api-python-client in /usr/local/lib/python3.7/dist-packages (from tensor2tensor) (1.12.8)\n",
            "Requirement already satisfied: cached-property; python_version < \"3.8\" in /usr/local/lib/python3.7/dist-packages (from h5py->tensor2tensor) (1.5.2)\n",
            "Requirement already satisfied: cloudpickle<1.7.0,>=1.2.0 in /usr/local/lib/python3.7/dist-packages (from gym->tensor2tensor) (1.3.0)\n",
            "Requirement already satisfied: pyglet<=1.5.0,>=1.4.0 in /usr/local/lib/python3.7/dist-packages (from gym->tensor2tensor) (1.5.0)\n",
            "Requirement already satisfied: chardet<4,>=3.0.2 in /usr/local/lib/python3.7/dist-packages (from requests->tensor2tensor) (3.0.4)\n",
            "Requirement already satisfied: idna<3,>=2.5 in /usr/local/lib/python3.7/dist-packages (from requests->tensor2tensor) (2.10)\n",
            "Requirement already satisfied: certifi>=2017.4.17 in /usr/local/lib/python3.7/dist-packages (from requests->tensor2tensor) (2020.12.5)\n",
            "Requirement already satisfied: urllib3!=1.25.0,!=1.25.1,<1.26,>=1.21.1 in /usr/local/lib/python3.7/dist-packages (from requests->tensor2tensor) (1.24.3)\n",
            "Requirement already satisfied: setuptools>=3.0 in /usr/local/lib/python3.7/dist-packages (from gunicorn->tensor2tensor) (56.1.0)\n",
            "Requirement already satisfied: greenlet<2.0,>=0.4.17; platform_python_implementation == \"CPython\" in /usr/local/lib/python3.7/dist-packages (from gevent->tensor2tensor) (1.1.0)\n",
            "Requirement already satisfied: zope.event in /usr/local/lib/python3.7/dist-packages (from gevent->tensor2tensor) (4.5.0)\n",
            "Requirement already satisfied: zope.interface in /usr/local/lib/python3.7/dist-packages (from gevent->tensor2tensor) (5.4.0)\n",
            "Requirement already satisfied: rsa>=3.1.4 in /usr/local/lib/python3.7/dist-packages (from oauth2client->tensor2tensor) (4.7.2)\n",
            "Requirement already satisfied: pyasn1>=0.1.7 in /usr/local/lib/python3.7/dist-packages (from oauth2client->tensor2tensor) (0.4.8)\n",
            "Requirement already satisfied: pyasn1-modules>=0.0.5 in /usr/local/lib/python3.7/dist-packages (from oauth2client->tensor2tensor) (0.2.8)\n",
            "Requirement already satisfied: httplib2>=0.9.1 in /usr/local/lib/python3.7/dist-packages (from oauth2client->tensor2tensor) (0.17.4)\n",
            "Requirement already satisfied: mpmath>=0.19 in /usr/local/lib/python3.7/dist-packages (from sympy->tensor2tensor) (1.2.1)\n",
            "Requirement already satisfied: typeguard>=2.7 in /usr/local/lib/python3.7/dist-packages (from tensorflow-addons->tensor2tensor) (2.7.1)\n",
            "Requirement already satisfied: tensorflow-metadata in /usr/local/lib/python3.7/dist-packages (from tensorflow-datasets->tensor2tensor) (1.0.0)\n",
            "Requirement already satisfied: importlib-resources; python_version < \"3.9\" in /usr/local/lib/python3.7/dist-packages (from tensorflow-datasets->tensor2tensor) (5.1.3)\n",
            "Requirement already satisfied: promise in /usr/local/lib/python3.7/dist-packages (from tensorflow-datasets->tensor2tensor) (2.3)\n",
            "Requirement already satisfied: protobuf>=3.6.1 in /usr/local/lib/python3.7/dist-packages (from tensorflow-datasets->tensor2tensor) (3.12.4)\n",
            "Requirement already satisfied: termcolor in /usr/local/lib/python3.7/dist-packages (from tensorflow-datasets->tensor2tensor) (1.1.0)\n",
            "Requirement already satisfied: dm-tree in /usr/local/lib/python3.7/dist-packages (from tensorflow-datasets->tensor2tensor) (0.1.6)\n",
            "Requirement already satisfied: attrs>=18.1.0 in /usr/local/lib/python3.7/dist-packages (from tensorflow-datasets->tensor2tensor) (21.2.0)\n",
            "Requirement already satisfied: dill in /usr/local/lib/python3.7/dist-packages (from tensorflow-datasets->tensor2tensor) (0.3.3)\n",
            "Requirement already satisfied: decorator in /usr/local/lib/python3.7/dist-packages (from tensorflow-probability==0.7.0->tensor2tensor) (4.4.2)\n",
            "Requirement already satisfied: tensorflow-hub>=0.2 in /usr/local/lib/python3.7/dist-packages (from tensorflow-gan->tensor2tensor) (0.12.0)\n",
            "Requirement already satisfied: click<8.0,>=5.1 in /usr/local/lib/python3.7/dist-packages (from flask->tensor2tensor) (7.1.2)\n",
            "Requirement already satisfied: itsdangerous<2.0,>=0.24 in /usr/local/lib/python3.7/dist-packages (from flask->tensor2tensor) (1.1.0)\n",
            "Requirement already satisfied: Werkzeug<2.0,>=0.15 in /usr/local/lib/python3.7/dist-packages (from flask->tensor2tensor) (1.0.1)\n",
            "Requirement already satisfied: Jinja2<3.0,>=2.10.1 in /usr/local/lib/python3.7/dist-packages (from flask->tensor2tensor) (2.11.3)\n",
            "Requirement already satisfied: google-api-core<2dev,>=1.21.0 in /usr/local/lib/python3.7/dist-packages (from google-api-python-client->tensor2tensor) (1.26.3)\n",
            "Requirement already satisfied: google-auth-httplib2>=0.0.3 in /usr/local/lib/python3.7/dist-packages (from google-api-python-client->tensor2tensor) (0.0.4)\n",
            "Requirement already satisfied: uritemplate<4dev,>=3.0.0 in /usr/local/lib/python3.7/dist-packages (from google-api-python-client->tensor2tensor) (3.0.1)\n",
            "Requirement already satisfied: google-auth>=1.16.0 in /usr/local/lib/python3.7/dist-packages (from google-api-python-client->tensor2tensor) (1.30.0)\n",
            "Requirement already satisfied: googleapis-common-protos<2,>=1.52.0 in /usr/local/lib/python3.7/dist-packages (from tensorflow-metadata->tensorflow-datasets->tensor2tensor) (1.53.0)\n",
            "Requirement already satisfied: zipp>=0.4; python_version < \"3.8\" in /usr/local/lib/python3.7/dist-packages (from importlib-resources; python_version < \"3.9\"->tensorflow-datasets->tensor2tensor) (3.4.1)\n",
            "Requirement already satisfied: MarkupSafe>=0.23 in /usr/local/lib/python3.7/dist-packages (from Jinja2<3.0,>=2.10.1->flask->tensor2tensor) (2.0.1)\n",
            "Requirement already satisfied: pytz in /usr/local/lib/python3.7/dist-packages (from google-api-core<2dev,>=1.21.0->google-api-python-client->tensor2tensor) (2018.9)\n",
            "Requirement already satisfied: packaging>=14.3 in /usr/local/lib/python3.7/dist-packages (from google-api-core<2dev,>=1.21.0->google-api-python-client->tensor2tensor) (20.9)\n",
            "Requirement already satisfied: cachetools<5.0,>=2.0.0 in /usr/local/lib/python3.7/dist-packages (from google-auth>=1.16.0->google-api-python-client->tensor2tensor) (4.2.2)\n",
            "Requirement already satisfied: pyparsing>=2.0.2 in /usr/local/lib/python3.7/dist-packages (from packaging>=14.3->google-api-core<2dev,>=1.21.0->google-api-python-client->tensor2tensor) (2.4.7)\n"
          ],
          "name": "stdout"
        }
      ]
    },
    {
      "cell_type": "code",
      "metadata": {
        "id": "YlDZpk7oLnm-"
      },
      "source": [
        "from tensorflow.keras.layers import Bidirectional, LSTM, Dense, Activation, Concatenate, Masking, GRU\n",
        "from tensorflow.keras import Sequential\n",
        "from tensorflow.keras import Input, Model\n",
        "from tensorflow.keras.utils import to_categorical\n",
        "from ast import literal_eval\n",
        "from tensorflow.keras.preprocessing.sequence import pad_sequences\n",
        "import numpy as np\n",
        "import pandas as pd\n",
        "from sklearn.metrics import f1_score\n",
        "#from keras.utils import plot_model\n",
        "from sklearn.model_selection import train_test_split\n",
        "from sklearn.model_selection import cross_val_score\n",
        "import tensorflow as tf\n",
        "import transformers as ppb\n",
        "import warnings\n",
        "warnings.filterwarnings('ignore')\n",
        "from tqdm import tqdm_notebook"
      ],
      "execution_count": null,
      "outputs": []
    },
    {
      "cell_type": "markdown",
      "metadata": {
        "id": "uJ07_hgeCG7N"
      },
      "source": [
        "## Dataset"
      ]
    },
    {
      "cell_type": "code",
      "metadata": {
        "colab": {
          "base_uri": "https://localhost:8080/"
        },
        "id": "iGdFYdryCFnx",
        "outputId": "f7949a68-4a63-4904-8d6e-525abc896a23"
      },
      "source": [
        "from google.colab import drive\n",
        "drive.mount(\"/content/drive\")"
      ],
      "execution_count": null,
      "outputs": [
        {
          "output_type": "stream",
          "text": [
            "Drive already mounted at /content/drive; to attempt to forcibly remount, call drive.mount(\"/content/drive\", force_remount=True).\n"
          ],
          "name": "stdout"
        }
      ]
    },
    {
      "cell_type": "code",
      "metadata": {
        "id": "p_LXZJEgCP1I",
        "colab": {
          "base_uri": "https://localhost:8080/",
          "height": 111
        },
        "outputId": "42955db8-ee5c-4b42-c97c-35677bfe8698"
      },
      "source": [
        "dataset_vnc_dir = '/content/drive/MyDrive/ВКР/Sense Disambiguation Corpus/token_level_vnc.csv'\n",
        "data_vnc = pd.read_csv(dataset_vnc_dir )\n",
        "data_vnc.drop(data_vnc.iloc[:, :1], axis=1, inplace=True)\n",
        "data_vnc.head(2)"
      ],
      "execution_count": null,
      "outputs": [
        {
          "output_type": "execute_result",
          "data": {
            "text/html": [
              "<div>\n",
              "<style scoped>\n",
              "    .dataframe tbody tr th:only-of-type {\n",
              "        vertical-align: middle;\n",
              "    }\n",
              "\n",
              "    .dataframe tbody tr th {\n",
              "        vertical-align: top;\n",
              "    }\n",
              "\n",
              "    .dataframe thead th {\n",
              "        text-align: right;\n",
              "    }\n",
              "</style>\n",
              "<table border=\"1\" class=\"dataframe\">\n",
              "  <thead>\n",
              "    <tr style=\"text-align: right;\">\n",
              "      <th></th>\n",
              "      <th>Idiom Normal</th>\n",
              "      <th>Idiom Inflected</th>\n",
              "      <th>Token</th>\n",
              "      <th>Label</th>\n",
              "      <th>Context</th>\n",
              "    </tr>\n",
              "  </thead>\n",
              "  <tbody>\n",
              "    <tr>\n",
              "      <th>0</th>\n",
              "      <td>взваливать на плечи</td>\n",
              "      <td>взваливают на плечи</td>\n",
              "      <td>бесчеловечный</td>\n",
              "      <td>2</td>\n",
              "      <td>Там несвобода, и тут несвобода, там сажают и ...</td>\n",
              "    </tr>\n",
              "    <tr>\n",
              "      <th>1</th>\n",
              "      <td>выступить на сцену</td>\n",
              "      <td>выступить на сцену</td>\n",
              "      <td>выступить</td>\n",
              "      <td>0</td>\n",
              "      <td>Monsieur Орлов, наш учитель пения, говорил мн...</td>\n",
              "    </tr>\n",
              "  </tbody>\n",
              "</table>\n",
              "</div>"
            ],
            "text/plain": [
              "          Idiom Normal  ...                                            Context\n",
              "0  взваливать на плечи  ...   Там несвобода, и тут несвобода, там сажают и ...\n",
              "1   выступить на сцену  ...   Monsieur Орлов, наш учитель пения, говорил мн...\n",
              "\n",
              "[2 rows x 5 columns]"
            ]
          },
          "metadata": {
            "tags": []
          },
          "execution_count": 4
        }
      ]
    },
    {
      "cell_type": "code",
      "metadata": {
        "id": "1__zN0o2bMHa",
        "colab": {
          "base_uri": "https://localhost:8080/",
          "height": 111
        },
        "outputId": "0adc799f-2295-42c7-d818-9804cfb44a1c"
      },
      "source": [
        "dataset_anc_dir = '/content/drive/MyDrive/ВКР/Sense Disambiguation Corpus/token_level_anc.csv'\n",
        "data_anc = pd.read_csv(dataset_anc_dir )\n",
        "data_anc.drop(data_anc.iloc[:, :1], axis=1, inplace=True)\n",
        "data_anc.head(2)"
      ],
      "execution_count": null,
      "outputs": [
        {
          "output_type": "execute_result",
          "data": {
            "text/html": [
              "<div>\n",
              "<style scoped>\n",
              "    .dataframe tbody tr th:only-of-type {\n",
              "        vertical-align: middle;\n",
              "    }\n",
              "\n",
              "    .dataframe tbody tr th {\n",
              "        vertical-align: top;\n",
              "    }\n",
              "\n",
              "    .dataframe thead th {\n",
              "        text-align: right;\n",
              "    }\n",
              "</style>\n",
              "<table border=\"1\" class=\"dataframe\">\n",
              "  <thead>\n",
              "    <tr style=\"text-align: right;\">\n",
              "      <th></th>\n",
              "      <th>Idiom Normal</th>\n",
              "      <th>Idiom Inflected</th>\n",
              "      <th>Token</th>\n",
              "      <th>Label</th>\n",
              "      <th>Context</th>\n",
              "    </tr>\n",
              "  </thead>\n",
              "  <tbody>\n",
              "    <tr>\n",
              "      <th>0</th>\n",
              "      <td>старый воробей</td>\n",
              "      <td>старые воробьи</td>\n",
              "      <td>старые</td>\n",
              "      <td>1</td>\n",
              "      <td>― Ведь мы с вами, Марья Алексевна, старые вор...</td>\n",
              "    </tr>\n",
              "    <tr>\n",
              "      <th>1</th>\n",
              "      <td>заблудшая овца</td>\n",
              "      <td>заблудшим овцам</td>\n",
              "      <td>заблудшим</td>\n",
              "      <td>1</td>\n",
              "      <td>― Хирлемс не должен быть слишком строг, если...</td>\n",
              "    </tr>\n",
              "  </tbody>\n",
              "</table>\n",
              "</div>"
            ],
            "text/plain": [
              "     Idiom Normal  ...                                            Context\n",
              "0  старый воробей  ...   ― Ведь мы с вами, Марья Алексевна, старые вор...\n",
              "1  заблудшая овца  ...    ― Хирлемс не должен быть слишком строг, если...\n",
              "\n",
              "[2 rows x 5 columns]"
            ]
          },
          "metadata": {
            "tags": []
          },
          "execution_count": 5
        }
      ]
    },
    {
      "cell_type": "markdown",
      "metadata": {
        "id": "cMWQ8P-zJedK"
      },
      "source": [
        "## Define Classifier"
      ]
    },
    {
      "cell_type": "code",
      "metadata": {
        "id": "EHONaUqhJhD5",
        "colab": {
          "base_uri": "https://localhost:8080/"
        },
        "outputId": "11861f6d-b0bf-4bff-e0fd-4ba68ef705f2"
      },
      "source": [
        "MAX_CONTEXT_LEN = 149\n",
        "MAX_TOKEN_LEN = 13\n",
        "VECTOR_DIM = 768\n",
        "NUM_CLASSES = 3\n",
        "\n",
        "def build_model():\n",
        "    input_token = Input(shape=(MAX_TOKEN_LEN, VECTOR_DIM), name='input1')\n",
        "    input_context = Input(shape=(MAX_CONTEXT_LEN,VECTOR_DIM), name='input2')\n",
        "\n",
        "    #token\n",
        "    forward_layer = GRU(10, return_sequences=False, dropout=0.5)\n",
        "    backward_layer = GRU(10, return_sequences=False, dropout=0.5,\n",
        "                    go_backwards=True)\n",
        "    bidirectional1 = Bidirectional(forward_layer, backward_layer=backward_layer,\n",
        "                      input_shape=(MAX_TOKEN_LEN,VECTOR_DIM))(input_token)\n",
        "\n",
        "    #context\n",
        "    bidirectional2 = Bidirectional(forward_layer, backward_layer=backward_layer,\n",
        "                      input_shape=(MAX_CONTEXT_LEN,VECTOR_DIM))(input_context)\n",
        "\n",
        "    concat = Concatenate(axis=1)([bidirectional1, bidirectional2])\n",
        "\n",
        "    dense = Dense(NUM_CLASSES)(concat)\n",
        "    softmax = Activation('softmax', name='output')(dense)\n",
        "\n",
        "    model = Model(inputs=[input_token, input_context], outputs=softmax)\n",
        "    model.compile(loss='binary_crossentropy', optimizer='rmsprop', metrics=['accuracy'])\n",
        "    #plot_model(model, to_file='multiple_inputs.png')\n",
        "    return model\n",
        "model_all = build_model()\n",
        "\n",
        "model_all.summary()"
      ],
      "execution_count": null,
      "outputs": [
        {
          "output_type": "stream",
          "text": [
            "Model: \"model\"\n",
            "__________________________________________________________________________________________________\n",
            "Layer (type)                    Output Shape         Param #     Connected to                     \n",
            "==================================================================================================\n",
            "input1 (InputLayer)             [(None, 13, 768)]    0                                            \n",
            "__________________________________________________________________________________________________\n",
            "input2 (InputLayer)             [(None, 149, 768)]   0                                            \n",
            "__________________________________________________________________________________________________\n",
            "bidirectional (Bidirectional)   (None, 20)           46800       input1[0][0]                     \n",
            "__________________________________________________________________________________________________\n",
            "bidirectional_1 (Bidirectional) (None, 20)           46800       input2[0][0]                     \n",
            "__________________________________________________________________________________________________\n",
            "concatenate (Concatenate)       (None, 40)           0           bidirectional[0][0]              \n",
            "                                                                 bidirectional_1[0][0]            \n",
            "__________________________________________________________________________________________________\n",
            "dense (Dense)                   (None, 3)            123         concatenate[0][0]                \n",
            "__________________________________________________________________________________________________\n",
            "output (Activation)             (None, 3)            0           dense[0][0]                      \n",
            "==================================================================================================\n",
            "Total params: 70,323\n",
            "Trainable params: 70,323\n",
            "Non-trainable params: 0\n",
            "__________________________________________________________________________________________________\n"
          ],
          "name": "stdout"
        }
      ]
    },
    {
      "cell_type": "markdown",
      "metadata": {
        "id": "cUH7P_6n3S7a"
      },
      "source": [
        "## Embed"
      ]
    },
    {
      "cell_type": "markdown",
      "metadata": {
        "id": "IzdkAja53UYL"
      },
      "source": [
        "### Load BERT"
      ]
    },
    {
      "cell_type": "code",
      "metadata": {
        "id": "7WEtg6rP3R4f"
      },
      "source": [
        "import torch\n",
        "from transformers import AutoTokenizer, AutoModel, TFAutoModel\n",
        "  \n",
        "tokenizer = AutoTokenizer.from_pretrained(\"DeepPavlov/rubert-base-cased\")\n",
        "\n",
        "BERT_model = AutoModel.from_pretrained('DeepPavlov/rubert-base-cased')"
      ],
      "execution_count": null,
      "outputs": []
    },
    {
      "cell_type": "code",
      "metadata": {
        "id": "fqovw-mS3XP_"
      },
      "source": [
        "def get_bert_embeddings_single_sentence(sentence):\n",
        "  inputs = tokenizer(sentence, return_tensors=\"pt\")\n",
        "  outputs=BERT_model(**inputs)\n",
        "  return outputs.last_hidden_state\n",
        "  \n",
        "def get_bert_embeddings(sentences, padded_size=150, vec_size=768):\n",
        "  embeddings_all = []\n",
        "  #for sentence in tqdm_notebook(sentences):\n",
        "  for sentence in tqdm_notebook(sentences):\n",
        "    lhs = get_bert_embeddings_single_sentence(sentence)\n",
        "    vecs = lhs[0]\n",
        "    sentence_padded = np.empty(shape=(padded_size, ), dtype=object)\n",
        "    for id, token in enumerate(sentence_padded):\n",
        "      try:\n",
        "        sentence_padded[id] = vecs[id].detach().numpy()\n",
        "      except:\n",
        "        sentence_padded[id] = np.zeros(vec_size)\n",
        "    embeddings_all.append(sentence_padded)\n",
        "  return embeddings_all"
      ],
      "execution_count": null,
      "outputs": []
    },
    {
      "cell_type": "markdown",
      "metadata": {
        "id": "-8Qtz4jxj685"
      },
      "source": [
        "## VNC"
      ]
    },
    {
      "cell_type": "code",
      "metadata": {
        "colab": {
          "base_uri": "https://localhost:8080/",
          "height": 66,
          "referenced_widgets": [
            "a848414f7dd240caa9ed74b62d3f31d2",
            "572dd1faa01940779ffe97d57b4b8a59",
            "d22319f630614c8fa09e6ad94d53c869",
            "05310cb4c1c24b63bbda43dfecd1b466",
            "3efe9834d52541738cc093d62b6713c9",
            "c675230b3073462abd496306953bbcae",
            "9418c6bfa45b499c96188013fa028bd7",
            "256d9ee05ffd4aa0b903c1b0e897b65b"
          ]
        },
        "id": "_5MTh24qmeLL",
        "outputId": "c9b72c92-c936-44c2-d470-c588c25034d7"
      },
      "source": [
        "tokens_vnc = get_bert_embeddings(data_vnc['Token'][:2000], padded_size=15)"
      ],
      "execution_count": null,
      "outputs": [
        {
          "output_type": "display_data",
          "data": {
            "application/vnd.jupyter.widget-view+json": {
              "model_id": "a848414f7dd240caa9ed74b62d3f31d2",
              "version_minor": 0,
              "version_major": 2
            },
            "text/plain": [
              "HBox(children=(FloatProgress(value=0.0, max=2000.0), HTML(value='')))"
            ]
          },
          "metadata": {
            "tags": []
          }
        },
        {
          "output_type": "stream",
          "text": [
            "\n"
          ],
          "name": "stdout"
        }
      ]
    },
    {
      "cell_type": "code",
      "metadata": {
        "colab": {
          "base_uri": "https://localhost:8080/",
          "height": 66,
          "referenced_widgets": [
            "3efad11c2d0a44dfbe1122eda5355570",
            "a916b8380a7043dc9070b4cffefd3de1",
            "2146b82134e24c369520958ea34cf121",
            "6849da92e427416e9d3d2a8d3d928adb",
            "41d1d6029b43479e8f8160ec8c495674",
            "e8e033c6a3714901b8443fbcc18f367d",
            "37f2681b295749a78d41fa604cc9cce5",
            "ef698eb49dfb424d963f0d682f3c551d"
          ]
        },
        "id": "sXSV8INBnGfp",
        "outputId": "e0a4a94f-9fbe-4262-b7c6-108376648cd9"
      },
      "source": [
        "tokens_vnc2 = get_bert_embeddings(data_vnc['Token'][2000:], padded_size=15)"
      ],
      "execution_count": null,
      "outputs": [
        {
          "output_type": "display_data",
          "data": {
            "application/vnd.jupyter.widget-view+json": {
              "model_id": "3efad11c2d0a44dfbe1122eda5355570",
              "version_minor": 0,
              "version_major": 2
            },
            "text/plain": [
              "HBox(children=(FloatProgress(value=0.0, max=1846.0), HTML(value='')))"
            ]
          },
          "metadata": {
            "tags": []
          }
        },
        {
          "output_type": "stream",
          "text": [
            "\n"
          ],
          "name": "stdout"
        }
      ]
    },
    {
      "cell_type": "code",
      "metadata": {
        "id": "xTHnSaV2s3gW"
      },
      "source": [
        "embedded_tokens_vnc = tokens_vnc + tokens_vnc2"
      ],
      "execution_count": null,
      "outputs": []
    },
    {
      "cell_type": "code",
      "metadata": {
        "colab": {
          "base_uri": "https://localhost:8080/",
          "height": 66,
          "referenced_widgets": [
            "6a94ed49ddc6413ab4a2223ce21dc937",
            "da395320454f4a40b4bed6da9c229888",
            "c58beddf367d4bbf8206f28301201ad8",
            "f8b56da218d8414c82256b33cbd1da0e",
            "fadd97f6a01e4810afd08563e0fecac3",
            "a6ac09cdb08647fc8a711b3816e7953d",
            "2d5e799bd91a4c7398e6faad03d95629",
            "968db515b5b94fbeab17e3bd23c415e4"
          ]
        },
        "id": "mxNKWGHoncRR",
        "outputId": "4a313b2e-c981-4ff4-a93b-60927b4f41d9"
      },
      "source": [
        "contexts_vnc1 = get_bert_embeddings(data_vnc['Context'][:2000])"
      ],
      "execution_count": null,
      "outputs": [
        {
          "output_type": "display_data",
          "data": {
            "application/vnd.jupyter.widget-view+json": {
              "model_id": "6a94ed49ddc6413ab4a2223ce21dc937",
              "version_minor": 0,
              "version_major": 2
            },
            "text/plain": [
              "HBox(children=(FloatProgress(value=0.0, max=2000.0), HTML(value='')))"
            ]
          },
          "metadata": {
            "tags": []
          }
        },
        {
          "output_type": "stream",
          "text": [
            "\n"
          ],
          "name": "stdout"
        }
      ]
    },
    {
      "cell_type": "code",
      "metadata": {
        "colab": {
          "base_uri": "https://localhost:8080/",
          "height": 66,
          "referenced_widgets": [
            "004939f86c474d5eb35f9e6f8a8c20d0",
            "261b5e7956fc44a88962b3bab0a4f863",
            "7bfa7bf6072a4ec8bcf3e9a118bc0998",
            "770437e805764951af63d26901a54982",
            "cae562b3a2e049c08265e5fc14435779",
            "f5cc344f7e3f486b82d8603a37d077dc",
            "ca555192b5c648e68dd211252fdbed3a",
            "a5566f6105194c54ad71d7dc176fef14"
          ]
        },
        "id": "eI5V8tSWovoq",
        "outputId": "4d544789-3a19-40f4-e13e-1881a95be236"
      },
      "source": [
        "contexts_vnc2 = get_bert_embeddings(data_vnc['Context'][2000:])"
      ],
      "execution_count": null,
      "outputs": [
        {
          "output_type": "display_data",
          "data": {
            "application/vnd.jupyter.widget-view+json": {
              "model_id": "004939f86c474d5eb35f9e6f8a8c20d0",
              "version_minor": 0,
              "version_major": 2
            },
            "text/plain": [
              "HBox(children=(FloatProgress(value=0.0, max=1846.0), HTML(value='')))"
            ]
          },
          "metadata": {
            "tags": []
          }
        },
        {
          "output_type": "stream",
          "text": [
            "\n"
          ],
          "name": "stdout"
        }
      ]
    },
    {
      "cell_type": "code",
      "metadata": {
        "id": "MPrTnjMQpUXl"
      },
      "source": [
        "embedded_contexts_vnc = contexts_vnc1 + contexts_vnc2"
      ],
      "execution_count": null,
      "outputs": []
    },
    {
      "cell_type": "code",
      "metadata": {
        "id": "wrdp7OElmE1o"
      },
      "source": [
        "labels_vnc = to_categorical(data_vnc.Label)\n",
        "X_train_tokens_vnc, X_test_tokens_vnc = train_test_split(embedded_tokens_vnc, test_size=0.3, random_state=34)\n",
        "X_train_contexts_vnc, X_test_contexts_vnc = train_test_split(embedded_contexts_vnc, test_size=0.3, random_state=34)\n",
        "Y_train_vnc, Y_test_vnc = train_test_split(labels_vnc, test_size=0.3, random_state=34)"
      ],
      "execution_count": null,
      "outputs": []
    },
    {
      "cell_type": "markdown",
      "metadata": {
        "id": "-H4GbpTTnM8R"
      },
      "source": [
        "### Classifier"
      ]
    },
    {
      "cell_type": "markdown",
      "metadata": {
        "id": "iH-tsczi5Kzs"
      },
      "source": [
        "#### Define"
      ]
    },
    {
      "cell_type": "code",
      "metadata": {
        "id": "j4mpD9SF5I22"
      },
      "source": [
        "MAX_CONTEXT_LEN = 150\n",
        "MAX_TOKEN_LEN = 15\n",
        "VECTOR_DIM = 768\n",
        "NUM_CLASSES = 3\n",
        "\n",
        "def build_model():\n",
        "    input_token = Input(shape=(MAX_TOKEN_LEN, VECTOR_DIM), name='input1')\n",
        "    input_context = Input(shape=(MAX_CONTEXT_LEN,VECTOR_DIM), name='input2')\n",
        "\n",
        "    #token\n",
        "    forward_layer = GRU(10, return_sequences=False, dropout=0.5)\n",
        "    backward_layer = GRU(10, return_sequences=False, dropout=0.5,\n",
        "                    go_backwards=True)\n",
        "    bidirectional1 = Bidirectional(forward_layer, backward_layer=backward_layer,\n",
        "                      input_shape=(MAX_TOKEN_LEN,VECTOR_DIM))(input_token)\n",
        "\n",
        "    #context\n",
        "    bidirectional2 = Bidirectional(forward_layer, backward_layer=backward_layer,\n",
        "                      input_shape=(MAX_CONTEXT_LEN,VECTOR_DIM))(input_context)\n",
        "\n",
        "    concat = Concatenate(axis=1)([bidirectional1, bidirectional2])\n",
        "\n",
        "    dense = Dense(NUM_CLASSES)(concat)\n",
        "    softmax = Activation('softmax', name='output')(dense)\n",
        "\n",
        "    model = Model(inputs=[input_token, input_context], outputs=softmax)\n",
        "    model.compile(loss='binary_crossentropy', optimizer='rmsprop', metrics=['accuracy'])\n",
        "    #plot_model(model, to_file='multiple_inputs.png')\n",
        "    return model"
      ],
      "execution_count": null,
      "outputs": []
    },
    {
      "cell_type": "markdown",
      "metadata": {
        "id": "LBuPi_2S5PC8"
      },
      "source": [
        "#### Train & Test"
      ]
    },
    {
      "cell_type": "code",
      "metadata": {
        "id": "nzhB5L6gnPPm"
      },
      "source": [
        "model_vnc = build_model()"
      ],
      "execution_count": null,
      "outputs": []
    },
    {
      "cell_type": "code",
      "metadata": {
        "id": "ndBx3IVetalp"
      },
      "source": [
        "tokens_tensor_train_vnc = tf.convert_to_tensor(X_train_tokens_vnc)\n",
        "contexts_tensor_train_vnc = tf.convert_to_tensor(X_train_contexts_vnc)\n",
        "tokens_tensor_test_vnc = tf.convert_to_tensor(X_test_tokens_vnc)\n",
        "contexts_tensor_test_vnc = tf.convert_to_tensor(X_test_contexts_vnc)"
      ],
      "execution_count": null,
      "outputs": []
    },
    {
      "cell_type": "code",
      "metadata": {
        "id": "-e36qyQUkhYW",
        "colab": {
          "base_uri": "https://localhost:8080/"
        },
        "outputId": "b44d5866-54b4-492d-e6c1-0edafdd8332a"
      },
      "source": [
        "model_vnc.fit({'input1': tokens_tensor_train_vnc, 'input2': contexts_tensor_train_vnc}, \n",
        "               {'output': Y_train_vnc}, batch_size=8, epochs=10)"
      ],
      "execution_count": null,
      "outputs": [
        {
          "output_type": "stream",
          "text": [
            "Epoch 1/10\n",
            "337/337 [==============================] - 45s 115ms/step - loss: 0.5359 - accuracy: 0.5776\n",
            "Epoch 2/10\n",
            "337/337 [==============================] - 39s 116ms/step - loss: 0.3741 - accuracy: 0.7585\n",
            "Epoch 3/10\n",
            "337/337 [==============================] - 39s 115ms/step - loss: 0.3043 - accuracy: 0.8117\n",
            "Epoch 4/10\n",
            "337/337 [==============================] - 38s 113ms/step - loss: 0.2740 - accuracy: 0.8306\n",
            "Epoch 5/10\n",
            "337/337 [==============================] - 38s 114ms/step - loss: 0.2519 - accuracy: 0.8507\n",
            "Epoch 6/10\n",
            "337/337 [==============================] - 39s 115ms/step - loss: 0.2294 - accuracy: 0.8692\n",
            "Epoch 7/10\n",
            "337/337 [==============================] - 38s 114ms/step - loss: 0.2188 - accuracy: 0.8711\n",
            "Epoch 8/10\n",
            "337/337 [==============================] - 38s 114ms/step - loss: 0.2048 - accuracy: 0.8830\n",
            "Epoch 9/10\n",
            "337/337 [==============================] - 39s 115ms/step - loss: 0.2016 - accuracy: 0.8826\n",
            "Epoch 10/10\n",
            "337/337 [==============================] - 39s 115ms/step - loss: 0.1856 - accuracy: 0.8926\n"
          ],
          "name": "stdout"
        },
        {
          "output_type": "execute_result",
          "data": {
            "text/plain": [
              "<tensorflow.python.keras.callbacks.History at 0x7fbf9a6ff750>"
            ]
          },
          "metadata": {
            "tags": []
          },
          "execution_count": 59
        }
      ]
    },
    {
      "cell_type": "code",
      "metadata": {
        "colab": {
          "base_uri": "https://localhost:8080/"
        },
        "id": "2bZm3Lv3rFfn",
        "outputId": "7d997895-5125-4353-eb4e-08fb21defdc1"
      },
      "source": [
        "model_vnc.evaluate({'input1': tokens_tensor_test_vnc, 'input2': contexts_tensor_test_vnc}, \n",
        "               {'output': Y_test_vnc})"
      ],
      "execution_count": null,
      "outputs": [
        {
          "output_type": "stream",
          "text": [
            "37/37 [==============================] - 3s 53ms/step - loss: 0.2163 - accuracy: 0.8804\n"
          ],
          "name": "stdout"
        },
        {
          "output_type": "execute_result",
          "data": {
            "text/plain": [
              "[0.21632592380046844, 0.8804159164428711]"
            ]
          },
          "metadata": {
            "tags": []
          },
          "execution_count": 60
        }
      ]
    },
    {
      "cell_type": "code",
      "metadata": {
        "colab": {
          "base_uri": "https://localhost:8080/"
        },
        "id": "IuD9DFwY--RX",
        "outputId": "aaed8750-fc10-4213-c840-4267b2c80256"
      },
      "source": [
        "preds_vnc = model_vnc.predict({'input1': tokens_tensor_test_vnc, 'input2': contexts_tensor_test_vnc})\n",
        "f1_score(np.argmax(preds_vnc, axis=1), np.argmax(Y_test_vnc, axis=1), average='micro')"
      ],
      "execution_count": null,
      "outputs": [
        {
          "output_type": "execute_result",
          "data": {
            "text/plain": [
              "0.8804159445407279"
            ]
          },
          "metadata": {
            "tags": []
          },
          "execution_count": 61
        }
      ]
    },
    {
      "cell_type": "code",
      "metadata": {
        "colab": {
          "base_uri": "https://localhost:8080/"
        },
        "id": "nt-u-1W9S8-t",
        "outputId": "7b9cc440-826a-4542-e835-f3f9054b0b3b"
      },
      "source": [
        "f1_score(np.argmax(preds_vnc, axis=1), np.argmax(Y_test_vnc, axis=1), average='macro')"
      ],
      "execution_count": null,
      "outputs": [
        {
          "output_type": "execute_result",
          "data": {
            "text/plain": [
              "0.8742530924506257"
            ]
          },
          "metadata": {
            "tags": []
          },
          "execution_count": 62
        }
      ]
    },
    {
      "cell_type": "code",
      "metadata": {
        "colab": {
          "base_uri": "https://localhost:8080/"
        },
        "id": "xys8TK71TUmd",
        "outputId": "b10e7f8f-d48d-42a0-97d6-ee96b97e75f4"
      },
      "source": [
        "f1_score(np.argmax(preds_vnc, axis=1), np.argmax(Y_test_vnc, axis=1), average='weighted')"
      ],
      "execution_count": null,
      "outputs": [
        {
          "output_type": "execute_result",
          "data": {
            "text/plain": [
              "0.878672066300463"
            ]
          },
          "metadata": {
            "tags": []
          },
          "execution_count": 63
        }
      ]
    },
    {
      "cell_type": "markdown",
      "metadata": {
        "id": "SABSFxZNrNz0"
      },
      "source": [
        "## ANC"
      ]
    },
    {
      "cell_type": "code",
      "metadata": {
        "colab": {
          "base_uri": "https://localhost:8080/"
        },
        "id": "qPv5Epzq5mfz",
        "outputId": "87951aa7-0d8e-461b-ac70-cb58097d691a"
      },
      "source": [
        "data_anc.shape"
      ],
      "execution_count": null,
      "outputs": [
        {
          "output_type": "execute_result",
          "data": {
            "text/plain": [
              "(2540, 5)"
            ]
          },
          "metadata": {
            "tags": []
          },
          "execution_count": 65
        }
      ]
    },
    {
      "cell_type": "code",
      "metadata": {
        "colab": {
          "base_uri": "https://localhost:8080/",
          "height": 115,
          "referenced_widgets": [
            "a28a24a6f09d428a99881bbb5f53af33",
            "8bd14132257c40ee93c2cca8f592c331",
            "7835f8b15f3243e2bafb266fa0734173",
            "0e83f7f692cf4cb1a2359dd45748ea98",
            "aed13c5d0dd849f1ab62021c51419008",
            "7bf8e104f5f146ef8b226d607575a6d9",
            "7d1d9f2bca7b4618aeae696ca56cf428",
            "9140374c31d94281ba2bb91f34bd8362",
            "0459d045c17045da9f29110ee91269cc",
            "1c78c99b16324058b51047fa8d3b0125",
            "93d01f1743e24114a593cc0570f99316",
            "437db5881aba41cfad19a781429d8c0d",
            "276c899e5dab45348a84db4056f41c73",
            "9b1c19904e4f4cb491b3046a755cde59",
            "dfc482ab1a8f4d7ba2d31b2e79f919b6",
            "9bd8ec34b9f7486090e2f2051dcb01f9"
          ]
        },
        "id": "WxnBSPKT5igP",
        "outputId": "8e126ce7-8c77-48fb-8cb8-1a97890044df"
      },
      "source": [
        "tokens_anc = get_bert_embeddings(data_anc['Token'][:1000], padded_size=15)\n",
        "tokens_anc2 = get_bert_embeddings(data_anc['Token'][1000:], padded_size=15)"
      ],
      "execution_count": null,
      "outputs": [
        {
          "output_type": "display_data",
          "data": {
            "application/vnd.jupyter.widget-view+json": {
              "model_id": "a28a24a6f09d428a99881bbb5f53af33",
              "version_minor": 0,
              "version_major": 2
            },
            "text/plain": [
              "HBox(children=(FloatProgress(value=0.0, max=1000.0), HTML(value='')))"
            ]
          },
          "metadata": {
            "tags": []
          }
        },
        {
          "output_type": "stream",
          "text": [
            "\n"
          ],
          "name": "stdout"
        },
        {
          "output_type": "display_data",
          "data": {
            "application/vnd.jupyter.widget-view+json": {
              "model_id": "0459d045c17045da9f29110ee91269cc",
              "version_minor": 0,
              "version_major": 2
            },
            "text/plain": [
              "HBox(children=(FloatProgress(value=0.0, max=1540.0), HTML(value='')))"
            ]
          },
          "metadata": {
            "tags": []
          }
        },
        {
          "output_type": "stream",
          "text": [
            "\n"
          ],
          "name": "stdout"
        }
      ]
    },
    {
      "cell_type": "code",
      "metadata": {
        "id": "Pmq1ouwK5ros"
      },
      "source": [
        "embedded_tokens_anc = tokens_anc + tokens_anc2"
      ],
      "execution_count": null,
      "outputs": []
    },
    {
      "cell_type": "code",
      "metadata": {
        "id": "uewQVAs5-eWS"
      },
      "source": [
        "del tokens_anc\n",
        "del tokens_anc2"
      ],
      "execution_count": null,
      "outputs": []
    },
    {
      "cell_type": "code",
      "metadata": {
        "colab": {
          "base_uri": "https://localhost:8080/",
          "height": 115,
          "referenced_widgets": [
            "7ce18e6856694d71a25e796742c581c8",
            "1bc62b2d994447c5a52c57d989b5e0eb",
            "307c9f64118a42c2b65748fabb44a6a4",
            "8d9ffef9814043338b4173ae24481760",
            "03141538638c4a35be245291b113e0db",
            "a09af9c911c84698b5bee1b3b099af16",
            "f28c2a9515e84282b55034755ae40ff3",
            "f1423f8829fd4504b92162c921ffc7c3",
            "e171b53198674f6085e3d18b0a057c5f",
            "4b1dbe8570264125bc63efc0513ff247",
            "bd4ea7f8aaf9456886c2b14d77ccf1f3",
            "fef244c9e8174b88b09f224226c89624",
            "f5f5786f62684ba98b3a6d0109d27a79",
            "41ed8de4bdc8447eb3dc71cdf3d7ad15",
            "97465fba4b7342a7af4bbe3460d647d6",
            "2e05774b6e434cb9b91946ea7de9b5cb"
          ]
        },
        "id": "ML0l2liB5w1M",
        "outputId": "d2c2d6ab-e0d7-47cc-899a-39fc5d06665b"
      },
      "source": [
        "contexts_anc1 = get_bert_embeddings(data_anc['Context'][:1000])\n",
        "contexts_anc2 = get_bert_embeddings(data_anc['Context'][1000:])"
      ],
      "execution_count": null,
      "outputs": [
        {
          "output_type": "display_data",
          "data": {
            "application/vnd.jupyter.widget-view+json": {
              "model_id": "7ce18e6856694d71a25e796742c581c8",
              "version_minor": 0,
              "version_major": 2
            },
            "text/plain": [
              "HBox(children=(FloatProgress(value=0.0, max=1000.0), HTML(value='')))"
            ]
          },
          "metadata": {
            "tags": []
          }
        },
        {
          "output_type": "stream",
          "text": [
            "\n"
          ],
          "name": "stdout"
        },
        {
          "output_type": "display_data",
          "data": {
            "application/vnd.jupyter.widget-view+json": {
              "model_id": "e171b53198674f6085e3d18b0a057c5f",
              "version_minor": 0,
              "version_major": 2
            },
            "text/plain": [
              "HBox(children=(FloatProgress(value=0.0, max=1540.0), HTML(value='')))"
            ]
          },
          "metadata": {
            "tags": []
          }
        },
        {
          "output_type": "stream",
          "text": [
            "\n"
          ],
          "name": "stdout"
        }
      ]
    },
    {
      "cell_type": "code",
      "metadata": {
        "id": "X4I6N3dH55OP"
      },
      "source": [
        "embedded_contexts_anc = contexts_anc1 + contexts_anc2"
      ],
      "execution_count": null,
      "outputs": []
    },
    {
      "cell_type": "code",
      "metadata": {
        "id": "SvnsZ6C0-YFO"
      },
      "source": [
        "del contexts_anc1\n",
        "del contexts_anc2"
      ],
      "execution_count": null,
      "outputs": []
    },
    {
      "cell_type": "code",
      "metadata": {
        "id": "N2uoYzhZsneO"
      },
      "source": [
        "labels_anc = to_categorical(data_anc.Label)\n",
        "X_train_tokens_anc, X_test_tokens_anc = train_test_split(embedded_tokens_anc, test_size=0.3, random_state=34)\n",
        "X_train_contexts_anc, X_test_contexts_anc = train_test_split(embedded_contexts_anc, test_size=0.3, random_state=34)\n",
        "Y_train_anc, Y_test_anc = train_test_split(labels_anc, test_size=0.3, random_state=34)"
      ],
      "execution_count": null,
      "outputs": []
    },
    {
      "cell_type": "markdown",
      "metadata": {
        "id": "J8vv7_Zks3ge"
      },
      "source": [
        "### Classifier"
      ]
    },
    {
      "cell_type": "markdown",
      "metadata": {
        "id": "h3fZIp5rRKvY"
      },
      "source": [
        "#### Train & Test"
      ]
    },
    {
      "cell_type": "code",
      "metadata": {
        "id": "9vCwNTmaRWBj"
      },
      "source": [
        "model_anc = build_model()"
      ],
      "execution_count": null,
      "outputs": []
    },
    {
      "cell_type": "code",
      "metadata": {
        "id": "erKKU37URU85"
      },
      "source": [
        "tokens_tensor_train_anc = tf.convert_to_tensor(X_train_tokens_anc)\n",
        "contexts_tensor_train_anc = tf.convert_to_tensor(X_train_contexts_anc)\n",
        "tokens_tensor_test_anc = tf.convert_to_tensor(X_test_tokens_anc)\n",
        "contexts_tensor_test_anc = tf.convert_to_tensor(X_test_contexts_anc)"
      ],
      "execution_count": null,
      "outputs": []
    },
    {
      "cell_type": "code",
      "metadata": {
        "colab": {
          "base_uri": "https://localhost:8080/"
        },
        "id": "K_k9TTCfs7hb",
        "outputId": "35adc8e9-a48b-4674-9c13-b2790efe6e1c"
      },
      "source": [
        "model_anc.fit({'input1': tokens_tensor_train_anc, 'input2': contexts_tensor_train_anc}, \n",
        "               {'output': Y_train_anc}, batch_size=8, epochs=10)"
      ],
      "execution_count": null,
      "outputs": [
        {
          "output_type": "stream",
          "text": [
            "Epoch 1/10\n",
            "223/223 [==============================] - 31s 112ms/step - loss: 0.5567 - accuracy: 0.5512\n",
            "Epoch 2/10\n",
            "223/223 [==============================] - 25s 111ms/step - loss: 0.4131 - accuracy: 0.7165\n",
            "Epoch 3/10\n",
            "223/223 [==============================] - 25s 112ms/step - loss: 0.3405 - accuracy: 0.7756\n",
            "Epoch 4/10\n",
            "223/223 [==============================] - 25s 111ms/step - loss: 0.3065 - accuracy: 0.8054\n",
            "Epoch 5/10\n",
            "223/223 [==============================] - 24s 109ms/step - loss: 0.2823 - accuracy: 0.8223\n",
            "Epoch 6/10\n",
            "223/223 [==============================] - 24s 108ms/step - loss: 0.2697 - accuracy: 0.8307\n",
            "Epoch 7/10\n",
            "223/223 [==============================] - 25s 112ms/step - loss: 0.2401 - accuracy: 0.8543\n",
            "Epoch 8/10\n",
            "223/223 [==============================] - 24s 110ms/step - loss: 0.2306 - accuracy: 0.8600\n",
            "Epoch 9/10\n",
            "223/223 [==============================] - 25s 110ms/step - loss: 0.2095 - accuracy: 0.8763\n",
            "Epoch 10/10\n",
            "223/223 [==============================] - 24s 109ms/step - loss: 0.2004 - accuracy: 0.8847\n"
          ],
          "name": "stdout"
        },
        {
          "output_type": "execute_result",
          "data": {
            "text/plain": [
              "<tensorflow.python.keras.callbacks.History at 0x7fcc32dd4ed0>"
            ]
          },
          "metadata": {
            "tags": []
          },
          "execution_count": 25
        }
      ]
    },
    {
      "cell_type": "code",
      "metadata": {
        "colab": {
          "base_uri": "https://localhost:8080/"
        },
        "id": "6txZ7eLitC1R",
        "outputId": "ce6671a7-b057-4421-cfe9-363a25623760"
      },
      "source": [
        "model_anc.evaluate({'input1': tokens_tensor_test_anc, 'input2': contexts_tensor_test_anc}, \n",
        "               {'output': Y_test_anc})"
      ],
      "execution_count": null,
      "outputs": [
        {
          "output_type": "stream",
          "text": [
            "24/24 [==============================] - 3s 50ms/step - loss: 0.2543 - accuracy: 0.8465\n"
          ],
          "name": "stdout"
        },
        {
          "output_type": "execute_result",
          "data": {
            "text/plain": [
              "[0.2543363571166992, 0.8464567065238953]"
            ]
          },
          "metadata": {
            "tags": []
          },
          "execution_count": 26
        }
      ]
    },
    {
      "cell_type": "code",
      "metadata": {
        "colab": {
          "base_uri": "https://localhost:8080/"
        },
        "id": "wEiu6Q9681_n",
        "outputId": "033df916-6fff-413b-d16f-91ba2aeb95d9"
      },
      "source": [
        "preds_anc = model_anc.predict({'input1': tokens_tensor_test_anc, 'input2': contexts_tensor_test_anc})\n",
        "f1_score(np.argmax(preds_anc, axis=1), np.argmax(Y_test_anc, axis=1), average='micro')"
      ],
      "execution_count": null,
      "outputs": [
        {
          "output_type": "execute_result",
          "data": {
            "text/plain": [
              "0.846456692913386"
            ]
          },
          "metadata": {
            "tags": []
          },
          "execution_count": 27
        }
      ]
    },
    {
      "cell_type": "code",
      "metadata": {
        "colab": {
          "base_uri": "https://localhost:8080/"
        },
        "id": "2JqngCkVR0qd",
        "outputId": "8eb08e6c-e2fe-47b9-b507-6023a6bdb89e"
      },
      "source": [
        "f1_score(np.argmax(preds_anc, axis=1), np.argmax(Y_test_anc, axis=1), average='macro')"
      ],
      "execution_count": null,
      "outputs": [
        {
          "output_type": "execute_result",
          "data": {
            "text/plain": [
              "0.8282772401349909"
            ]
          },
          "metadata": {
            "tags": []
          },
          "execution_count": 28
        }
      ]
    },
    {
      "cell_type": "code",
      "metadata": {
        "colab": {
          "base_uri": "https://localhost:8080/"
        },
        "id": "8-Sa67P46Tdp",
        "outputId": "68c0bbd0-ed09-4b2c-d806-5a28031652ab"
      },
      "source": [
        "f1_score(np.argmax(preds_anc, axis=1), np.argmax(Y_test_anc, axis=1), average='weighted')"
      ],
      "execution_count": null,
      "outputs": [
        {
          "output_type": "execute_result",
          "data": {
            "text/plain": [
              "0.8440899316515293"
            ]
          },
          "metadata": {
            "tags": []
          },
          "execution_count": 29
        }
      ]
    },
    {
      "cell_type": "markdown",
      "metadata": {
        "id": "4AdG_B-FW_NC"
      },
      "source": [
        "### Smaller Dataset"
      ]
    },
    {
      "cell_type": "markdown",
      "metadata": {
        "id": "PxQiDsgBKBYl"
      },
      "source": [
        "#### 70%"
      ]
    },
    {
      "cell_type": "code",
      "metadata": {
        "id": "NKFk2Mp0XZCA"
      },
      "source": [
        "model_anc_70 = build_model()"
      ],
      "execution_count": null,
      "outputs": []
    },
    {
      "cell_type": "code",
      "metadata": {
        "colab": {
          "base_uri": "https://localhost:8080/"
        },
        "id": "MzQjmw1-Ytmb",
        "outputId": "90763b68-964c-4cd1-8ecb-baa1bdd8f364"
      },
      "source": [
        "len(X_train_tokens_anc) * 0.7"
      ],
      "execution_count": null,
      "outputs": [
        {
          "output_type": "execute_result",
          "data": {
            "text/plain": [
              "1244.6"
            ]
          },
          "metadata": {
            "tags": []
          },
          "execution_count": 31
        }
      ]
    },
    {
      "cell_type": "code",
      "metadata": {
        "id": "4U5WAJW6ZjSm",
        "colab": {
          "base_uri": "https://localhost:8080/"
        },
        "outputId": "7994564e-f211-4229-b0d1-98a35955c2a4"
      },
      "source": [
        "len(X_test_tokens_anc) * 0.7"
      ],
      "execution_count": null,
      "outputs": [
        {
          "output_type": "execute_result",
          "data": {
            "text/plain": [
              "533.4"
            ]
          },
          "metadata": {
            "tags": []
          },
          "execution_count": 32
        }
      ]
    },
    {
      "cell_type": "code",
      "metadata": {
        "id": "iOAoGEStW-ft"
      },
      "source": [
        "tokens_tensor_train_anc_70 = tf.convert_to_tensor(X_train_tokens_anc[:1245])\n",
        "tokens_tensor_test_anc_70 = tf.convert_to_tensor(X_test_tokens_anc[:533])\n",
        "contexts_tensor_train_anc_70 = tf.convert_to_tensor(X_train_contexts_anc[:1245])\n",
        "contexts_tensor_test_anc_70 = tf.convert_to_tensor(X_test_contexts_anc[:533])"
      ],
      "execution_count": null,
      "outputs": []
    },
    {
      "cell_type": "code",
      "metadata": {
        "id": "qX05NvqLYWi7",
        "colab": {
          "base_uri": "https://localhost:8080/"
        },
        "outputId": "5270ceaa-712b-43a6-8b94-d957a2bac7be"
      },
      "source": [
        "model_anc_70.fit({'input1': tokens_tensor_train_anc_70, 'input2': contexts_tensor_train_anc_70}, \n",
        "               {'output': Y_train_anc[:1245]}, batch_size=8, epochs=10)"
      ],
      "execution_count": null,
      "outputs": [
        {
          "output_type": "stream",
          "text": [
            "Epoch 1/10\n",
            "156/156 [==============================] - 24s 111ms/step - loss: 0.5827 - accuracy: 0.5221\n",
            "Epoch 2/10\n",
            "156/156 [==============================] - 17s 110ms/step - loss: 0.4626 - accuracy: 0.6635\n",
            "Epoch 3/10\n",
            "156/156 [==============================] - 17s 108ms/step - loss: 0.3717 - accuracy: 0.7494\n",
            "Epoch 4/10\n",
            "156/156 [==============================] - 17s 110ms/step - loss: 0.3369 - accuracy: 0.7807\n",
            "Epoch 5/10\n",
            "156/156 [==============================] - 17s 109ms/step - loss: 0.2963 - accuracy: 0.8072\n",
            "Epoch 6/10\n",
            "156/156 [==============================] - 17s 110ms/step - loss: 0.2798 - accuracy: 0.8313\n",
            "Epoch 7/10\n",
            "156/156 [==============================] - 17s 111ms/step - loss: 0.2589 - accuracy: 0.8514\n",
            "Epoch 8/10\n",
            "156/156 [==============================] - 17s 112ms/step - loss: 0.2484 - accuracy: 0.8450\n",
            "Epoch 9/10\n",
            "156/156 [==============================] - 17s 109ms/step - loss: 0.2281 - accuracy: 0.8554\n",
            "Epoch 10/10\n",
            "156/156 [==============================] - 17s 109ms/step - loss: 0.2063 - accuracy: 0.8795\n"
          ],
          "name": "stdout"
        },
        {
          "output_type": "execute_result",
          "data": {
            "text/plain": [
              "<tensorflow.python.keras.callbacks.History at 0x7fcc2eb96d90>"
            ]
          },
          "metadata": {
            "tags": []
          },
          "execution_count": 38
        }
      ]
    },
    {
      "cell_type": "code",
      "metadata": {
        "colab": {
          "base_uri": "https://localhost:8080/"
        },
        "id": "Db7d6dnTInr7",
        "outputId": "fc1f9c3e-0ac2-4916-d6e1-3852740e29e9"
      },
      "source": [
        "model_anc_70.evaluate({'input1': tokens_tensor_test_anc_70, 'input2': contexts_tensor_test_anc_70}, \n",
        "               {'output': Y_test_anc[:533]})"
      ],
      "execution_count": null,
      "outputs": [
        {
          "output_type": "stream",
          "text": [
            "17/17 [==============================] - 2s 48ms/step - loss: 0.3474 - accuracy: 0.7692\n"
          ],
          "name": "stdout"
        },
        {
          "output_type": "execute_result",
          "data": {
            "text/plain": [
              "[0.3474300503730774, 0.7692307829856873]"
            ]
          },
          "metadata": {
            "tags": []
          },
          "execution_count": 45
        }
      ]
    },
    {
      "cell_type": "code",
      "metadata": {
        "colab": {
          "base_uri": "https://localhost:8080/"
        },
        "id": "Wb-fvsyvNg5-",
        "outputId": "b19c81b9-47ba-4b8b-fb6a-34d83d304ed8"
      },
      "source": [
        "model_anc_70.evaluate({'input1': tokens_tensor_test_anc, 'input2': contexts_tensor_test_anc}, \n",
        "               {'output': Y_test_anc})"
      ],
      "execution_count": null,
      "outputs": [
        {
          "output_type": "stream",
          "text": [
            "24/24 [==============================] - 1s 48ms/step - loss: 0.3370 - accuracy: 0.7743\n"
          ],
          "name": "stdout"
        },
        {
          "output_type": "execute_result",
          "data": {
            "text/plain": [
              "[0.33695778250694275, 0.7742782235145569]"
            ]
          },
          "metadata": {
            "tags": []
          },
          "execution_count": 80
        }
      ]
    },
    {
      "cell_type": "code",
      "metadata": {
        "colab": {
          "base_uri": "https://localhost:8080/"
        },
        "id": "7pw2baVQIh42",
        "outputId": "673bf8cf-3382-44d9-f805-302dfec80da1"
      },
      "source": [
        "preds_anc = model_anc_70.predict({'input1': tokens_tensor_test_anc_70, 'input2': contexts_tensor_test_anc_70})\n",
        "f1_score(np.argmax(preds_anc, axis=1), np.argmax(Y_test_anc[:533], axis=1), average='micro')"
      ],
      "execution_count": null,
      "outputs": [
        {
          "output_type": "execute_result",
          "data": {
            "text/plain": [
              "0.7692307692307693"
            ]
          },
          "metadata": {
            "tags": []
          },
          "execution_count": 56
        }
      ]
    },
    {
      "cell_type": "code",
      "metadata": {
        "colab": {
          "base_uri": "https://localhost:8080/"
        },
        "id": "WF5Wa_h8JMxo",
        "outputId": "860e7088-794f-46f7-d1ed-85cc9de605b8"
      },
      "source": [
        "f1_score(np.argmax(preds_anc, axis=1), np.argmax(Y_test_anc[:533], axis=1), average='macro')"
      ],
      "execution_count": null,
      "outputs": [
        {
          "output_type": "execute_result",
          "data": {
            "text/plain": [
              "0.7551143207017397"
            ]
          },
          "metadata": {
            "tags": []
          },
          "execution_count": 57
        }
      ]
    },
    {
      "cell_type": "code",
      "metadata": {
        "colab": {
          "base_uri": "https://localhost:8080/"
        },
        "id": "ezj-blkxJTHY",
        "outputId": "e3b76f71-e4e9-4bef-fc0a-221b2252a92b"
      },
      "source": [
        "f1_score(np.argmax(preds_anc, axis=1), np.argmax(Y_test_anc[:533], axis=1), average='weighted')"
      ],
      "execution_count": null,
      "outputs": [
        {
          "output_type": "execute_result",
          "data": {
            "text/plain": [
              "0.7608885368190298"
            ]
          },
          "metadata": {
            "tags": []
          },
          "execution_count": 58
        }
      ]
    },
    {
      "cell_type": "code",
      "metadata": {
        "colab": {
          "base_uri": "https://localhost:8080/"
        },
        "id": "8c2tHL6WOF-q",
        "outputId": "9cc96020-28af-4cc6-a912-8cbcaba6daf3"
      },
      "source": [
        "preds_anc = model_anc_70.predict({'input1': tokens_tensor_test_anc, 'input2': contexts_tensor_test_anc})\n",
        "print(f1_score(np.argmax(preds_anc, axis=1), np.argmax(Y_test_anc, axis=1), average='micro'))\n",
        "print(f1_score(np.argmax(preds_anc, axis=1), np.argmax(Y_test_anc, axis=1), average='macro'))\n",
        "print(f1_score(np.argmax(preds_anc, axis=1), np.argmax(Y_test_anc, axis=1), average='weighted'))"
      ],
      "execution_count": null,
      "outputs": [
        {
          "output_type": "stream",
          "text": [
            "0.7742782152230971\n",
            "0.7575736606935134\n",
            "0.7657849693883884\n"
          ],
          "name": "stdout"
        }
      ]
    },
    {
      "cell_type": "markdown",
      "metadata": {
        "id": "402sWNuRKGIy"
      },
      "source": [
        "#### 50% "
      ]
    },
    {
      "cell_type": "code",
      "metadata": {
        "id": "eYyD7dDdKHbh"
      },
      "source": [
        "model_anc_50 = build_model()"
      ],
      "execution_count": null,
      "outputs": []
    },
    {
      "cell_type": "code",
      "metadata": {
        "colab": {
          "base_uri": "https://localhost:8080/"
        },
        "id": "wc-h9ACdKI4g",
        "outputId": "31ed7af4-8318-4231-a1aa-fc96146ddc48"
      },
      "source": [
        "len(X_train_tokens_anc) * 0.5"
      ],
      "execution_count": null,
      "outputs": [
        {
          "output_type": "execute_result",
          "data": {
            "text/plain": [
              "889.0"
            ]
          },
          "metadata": {
            "tags": []
          },
          "execution_count": 51
        }
      ]
    },
    {
      "cell_type": "code",
      "metadata": {
        "colab": {
          "base_uri": "https://localhost:8080/"
        },
        "id": "Eh-FHuprKOs_",
        "outputId": "63a5cf3d-ef18-444e-f32d-e14ca9b1be7f"
      },
      "source": [
        "len(X_test_tokens_anc) * 0.5"
      ],
      "execution_count": null,
      "outputs": [
        {
          "output_type": "execute_result",
          "data": {
            "text/plain": [
              "381.0"
            ]
          },
          "metadata": {
            "tags": []
          },
          "execution_count": 52
        }
      ]
    },
    {
      "cell_type": "code",
      "metadata": {
        "id": "RqN1n_vSKRsF"
      },
      "source": [
        "tokens_tensor_train_anc_50 = tf.convert_to_tensor(X_train_tokens_anc[:889])\n",
        "tokens_tensor_test_anc_50 = tf.convert_to_tensor(X_test_tokens_anc[:381])\n",
        "contexts_tensor_train_anc_50 = tf.convert_to_tensor(X_train_contexts_anc[:889])\n",
        "contexts_tensor_test_anc_50 = tf.convert_to_tensor(X_test_contexts_anc[:381])"
      ],
      "execution_count": null,
      "outputs": []
    },
    {
      "cell_type": "code",
      "metadata": {
        "colab": {
          "base_uri": "https://localhost:8080/"
        },
        "id": "bnbzgWCnKbPB",
        "outputId": "025735c9-3ef1-4fd2-d9ea-d8eb6c545e5d"
      },
      "source": [
        "model_anc_50.fit({'input1': tokens_tensor_train_anc_50, 'input2': contexts_tensor_train_anc_50}, \n",
        "               {'output': Y_train_anc[:889]}, batch_size=8, epochs=10)"
      ],
      "execution_count": null,
      "outputs": [
        {
          "output_type": "stream",
          "text": [
            "Epoch 1/10\n",
            "112/112 [==============================] - 18s 110ms/step - loss: 0.5843 - accuracy: 0.5231\n",
            "Epoch 2/10\n",
            "112/112 [==============================] - 12s 111ms/step - loss: 0.4896 - accuracy: 0.6457\n",
            "Epoch 3/10\n",
            "112/112 [==============================] - 12s 109ms/step - loss: 0.4011 - accuracy: 0.7379\n",
            "Epoch 4/10\n",
            "112/112 [==============================] - 12s 111ms/step - loss: 0.3412 - accuracy: 0.7919\n",
            "Epoch 5/10\n",
            "112/112 [==============================] - 12s 109ms/step - loss: 0.3116 - accuracy: 0.8200\n",
            "Epoch 6/10\n",
            "112/112 [==============================] - 12s 110ms/step - loss: 0.2824 - accuracy: 0.8200\n",
            "Epoch 7/10\n",
            "112/112 [==============================] - 12s 110ms/step - loss: 0.2620 - accuracy: 0.8414\n",
            "Epoch 8/10\n",
            "112/112 [==============================] - 13s 112ms/step - loss: 0.2288 - accuracy: 0.8763\n",
            "Epoch 9/10\n",
            "112/112 [==============================] - 12s 109ms/step - loss: 0.2184 - accuracy: 0.8864\n",
            "Epoch 10/10\n",
            "112/112 [==============================] - 12s 108ms/step - loss: 0.1983 - accuracy: 0.8774\n"
          ],
          "name": "stdout"
        },
        {
          "output_type": "execute_result",
          "data": {
            "text/plain": [
              "<tensorflow.python.keras.callbacks.History at 0x7fcc2b959fd0>"
            ]
          },
          "metadata": {
            "tags": []
          },
          "execution_count": 54
        }
      ]
    },
    {
      "cell_type": "code",
      "metadata": {
        "colab": {
          "base_uri": "https://localhost:8080/"
        },
        "id": "v0kPLecFKi8u",
        "outputId": "0086a78a-99e3-4b10-fa75-6c7c1217eae4"
      },
      "source": [
        "model_anc_50.evaluate({'input1': tokens_tensor_test_anc_50, 'input2': contexts_tensor_test_anc_50}, \n",
        "               {'output': Y_test_anc[:381]})"
      ],
      "execution_count": null,
      "outputs": [
        {
          "output_type": "stream",
          "text": [
            "12/12 [==============================] - 2s 53ms/step - loss: 0.3153 - accuracy: 0.7953\n"
          ],
          "name": "stdout"
        },
        {
          "output_type": "execute_result",
          "data": {
            "text/plain": [
              "[0.3153291344642639, 0.7952755689620972]"
            ]
          },
          "metadata": {
            "tags": []
          },
          "execution_count": 55
        }
      ]
    },
    {
      "cell_type": "code",
      "metadata": {
        "colab": {
          "base_uri": "https://localhost:8080/"
        },
        "id": "WUQw5sBzNnxd",
        "outputId": "ec14c812-e544-4a47-e6ff-3395b2abed0e"
      },
      "source": [
        "model_anc_50.evaluate({'input1': tokens_tensor_test_anc, 'input2': contexts_tensor_test_anc}, \n",
        "               {'output': Y_test_anc})"
      ],
      "execution_count": null,
      "outputs": [
        {
          "output_type": "stream",
          "text": [
            "24/24 [==============================] - 1s 50ms/step - loss: 0.3237 - accuracy: 0.7861\n"
          ],
          "name": "stdout"
        },
        {
          "output_type": "execute_result",
          "data": {
            "text/plain": [
              "[0.3237176835536957, 0.7860892415046692]"
            ]
          },
          "metadata": {
            "tags": []
          },
          "execution_count": 81
        }
      ]
    },
    {
      "cell_type": "code",
      "metadata": {
        "colab": {
          "base_uri": "https://localhost:8080/"
        },
        "id": "WkW3XEOnKjQk",
        "outputId": "b565410b-0b8b-4093-ad82-9ced3fa2b8cf"
      },
      "source": [
        "preds_anc = model_anc_50.predict({'input1': tokens_tensor_test_anc_50, 'input2': contexts_tensor_test_anc_50})\n",
        "f1_score(np.argmax(preds_anc, axis=1), np.argmax(Y_test_anc[:381], axis=1), average='micro')"
      ],
      "execution_count": null,
      "outputs": [
        {
          "output_type": "execute_result",
          "data": {
            "text/plain": [
              "0.7952755905511811"
            ]
          },
          "metadata": {
            "tags": []
          },
          "execution_count": 59
        }
      ]
    },
    {
      "cell_type": "code",
      "metadata": {
        "colab": {
          "base_uri": "https://localhost:8080/"
        },
        "id": "L4Wtn1VZLPEz",
        "outputId": "f754c15e-fa70-4087-ac93-342ef664e440"
      },
      "source": [
        "f1_score(np.argmax(preds_anc, axis=1), np.argmax(Y_test_anc[:381], axis=1), average='macro')"
      ],
      "execution_count": null,
      "outputs": [
        {
          "output_type": "execute_result",
          "data": {
            "text/plain": [
              "0.7598666577325114"
            ]
          },
          "metadata": {
            "tags": []
          },
          "execution_count": 60
        }
      ]
    },
    {
      "cell_type": "code",
      "metadata": {
        "colab": {
          "base_uri": "https://localhost:8080/"
        },
        "id": "IU8votvPLRMt",
        "outputId": "ac49f121-5a87-4e39-c061-ac221219e7c7"
      },
      "source": [
        "f1_score(np.argmax(preds_anc, axis=1), np.argmax(Y_test_anc[:381], axis=1), average='weighted')"
      ],
      "execution_count": null,
      "outputs": [
        {
          "output_type": "execute_result",
          "data": {
            "text/plain": [
              "0.7974725046095319"
            ]
          },
          "metadata": {
            "tags": []
          },
          "execution_count": 61
        }
      ]
    },
    {
      "cell_type": "code",
      "metadata": {
        "colab": {
          "base_uri": "https://localhost:8080/"
        },
        "id": "zPZwaJDJOkTm",
        "outputId": "17f86061-2776-4a06-c224-0260ab8f0e45"
      },
      "source": [
        "preds_anc = model_anc_50.predict({'input1': tokens_tensor_test_anc, 'input2': contexts_tensor_test_anc})\n",
        "print(f1_score(np.argmax(preds_anc, axis=1), np.argmax(Y_test_anc, axis=1), average='micro'))\n",
        "print(f1_score(np.argmax(preds_anc, axis=1), np.argmax(Y_test_anc, axis=1), average='macro'))\n",
        "print(f1_score(np.argmax(preds_anc, axis=1), np.argmax(Y_test_anc, axis=1), average='weighted'))"
      ],
      "execution_count": null,
      "outputs": [
        {
          "output_type": "stream",
          "text": [
            "0.7860892388451444\n",
            "0.753947509573183\n",
            "0.7885989264285002\n"
          ],
          "name": "stdout"
        }
      ]
    },
    {
      "cell_type": "markdown",
      "metadata": {
        "id": "w9fojgVuLaJA"
      },
      "source": [
        "#### 30%"
      ]
    },
    {
      "cell_type": "code",
      "metadata": {
        "id": "-eq3GqxGLT25"
      },
      "source": [
        "model_anc_30 = build_model()"
      ],
      "execution_count": null,
      "outputs": []
    },
    {
      "cell_type": "code",
      "metadata": {
        "colab": {
          "base_uri": "https://localhost:8080/"
        },
        "id": "UH2GLhYjLiTH",
        "outputId": "c8c533da-eb76-4e4a-8d80-752709624a55"
      },
      "source": [
        "len(X_train_tokens_anc) * 0.3"
      ],
      "execution_count": null,
      "outputs": [
        {
          "output_type": "execute_result",
          "data": {
            "text/plain": [
              "533.4"
            ]
          },
          "metadata": {
            "tags": []
          },
          "execution_count": 63
        }
      ]
    },
    {
      "cell_type": "code",
      "metadata": {
        "colab": {
          "base_uri": "https://localhost:8080/"
        },
        "id": "JvCPsqmGLj2b",
        "outputId": "a2a758d4-856c-4300-e4d2-fc9949fa01c5"
      },
      "source": [
        "len(X_test_tokens_anc) * 0.3"
      ],
      "execution_count": null,
      "outputs": [
        {
          "output_type": "execute_result",
          "data": {
            "text/plain": [
              "228.6"
            ]
          },
          "metadata": {
            "tags": []
          },
          "execution_count": 64
        }
      ]
    },
    {
      "cell_type": "code",
      "metadata": {
        "id": "YDqRqUBXLjav"
      },
      "source": [
        "tokens_tensor_train_anc_30 = tf.convert_to_tensor(X_train_tokens_anc[:533])\n",
        "tokens_tensor_test_anc_30 = tf.convert_to_tensor(X_test_tokens_anc[:228])\n",
        "contexts_tensor_train_anc_30 = tf.convert_to_tensor(X_train_contexts_anc[:533])\n",
        "contexts_tensor_test_anc_30 = tf.convert_to_tensor(X_test_contexts_anc[:228])"
      ],
      "execution_count": null,
      "outputs": []
    },
    {
      "cell_type": "code",
      "metadata": {
        "colab": {
          "base_uri": "https://localhost:8080/"
        },
        "id": "JRN-nZDfLzu3",
        "outputId": "7733d6c4-afd5-4142-c80f-600e7e5ca8d6"
      },
      "source": [
        "model_anc_30.fit({'input1': tokens_tensor_train_anc_30, 'input2': contexts_tensor_train_anc_30}, \n",
        "               {'output': Y_train_anc[:533]}, batch_size=8, epochs=10)"
      ],
      "execution_count": null,
      "outputs": [
        {
          "output_type": "stream",
          "text": [
            "Epoch 1/10\n",
            "67/67 [==============================] - 14s 111ms/step - loss: 0.5990 - accuracy: 0.5216\n",
            "Epoch 2/10\n",
            "67/67 [==============================] - 7s 109ms/step - loss: 0.5495 - accuracy: 0.5591\n",
            "Epoch 3/10\n",
            "67/67 [==============================] - 7s 109ms/step - loss: 0.4917 - accuracy: 0.6398\n",
            "Epoch 4/10\n",
            "67/67 [==============================] - 7s 109ms/step - loss: 0.4201 - accuracy: 0.7186\n",
            "Epoch 5/10\n",
            "67/67 [==============================] - 7s 108ms/step - loss: 0.3818 - accuracy: 0.7505\n",
            "Epoch 6/10\n",
            "67/67 [==============================] - 7s 106ms/step - loss: 0.3440 - accuracy: 0.7974\n",
            "Epoch 7/10\n",
            "67/67 [==============================] - 7s 107ms/step - loss: 0.3152 - accuracy: 0.8011\n",
            "Epoch 8/10\n",
            "67/67 [==============================] - 7s 108ms/step - loss: 0.2955 - accuracy: 0.8311\n",
            "Epoch 9/10\n",
            "67/67 [==============================] - 7s 110ms/step - loss: 0.2821 - accuracy: 0.8405\n",
            "Epoch 10/10\n",
            "67/67 [==============================] - 7s 109ms/step - loss: 0.2566 - accuracy: 0.8780\n"
          ],
          "name": "stdout"
        },
        {
          "output_type": "execute_result",
          "data": {
            "text/plain": [
              "<tensorflow.python.keras.callbacks.History at 0x7fcc28bc7e90>"
            ]
          },
          "metadata": {
            "tags": []
          },
          "execution_count": 66
        }
      ]
    },
    {
      "cell_type": "code",
      "metadata": {
        "colab": {
          "base_uri": "https://localhost:8080/"
        },
        "id": "RvT2ELZ8L6W9",
        "outputId": "39da598c-a94d-476c-f5ea-02c92a6b8893"
      },
      "source": [
        "model_anc_30.evaluate({'input1': tokens_tensor_test_anc_30, 'input2': contexts_tensor_test_anc_30}, \n",
        "               {'output': Y_test_anc[:228]})"
      ],
      "execution_count": null,
      "outputs": [
        {
          "output_type": "stream",
          "text": [
            "8/8 [==============================] - 2s 43ms/step - loss: 0.3739 - accuracy: 0.7149\n"
          ],
          "name": "stdout"
        },
        {
          "output_type": "execute_result",
          "data": {
            "text/plain": [
              "[0.37392914295196533, 0.7149122953414917]"
            ]
          },
          "metadata": {
            "tags": []
          },
          "execution_count": 67
        }
      ]
    },
    {
      "cell_type": "code",
      "metadata": {
        "colab": {
          "base_uri": "https://localhost:8080/"
        },
        "id": "yvUZPYIDNuna",
        "outputId": "8a0fa570-fc9d-4309-f739-acd4833b294f"
      },
      "source": [
        "model_anc_30.evaluate({'input1': tokens_tensor_test_anc, 'input2': contexts_tensor_test_anc}, \n",
        "               {'output': Y_test_anc})"
      ],
      "execution_count": null,
      "outputs": [
        {
          "output_type": "stream",
          "text": [
            "24/24 [==============================] - 1s 50ms/step - loss: 0.3808 - accuracy: 0.7231\n"
          ],
          "name": "stdout"
        },
        {
          "output_type": "execute_result",
          "data": {
            "text/plain": [
              "[0.3807950019836426, 0.7230970859527588]"
            ]
          },
          "metadata": {
            "tags": []
          },
          "execution_count": 82
        }
      ]
    },
    {
      "cell_type": "code",
      "metadata": {
        "colab": {
          "base_uri": "https://localhost:8080/"
        },
        "id": "S9mMjb3JMKHc",
        "outputId": "493ed5c7-13fe-43cc-d945-8594f98cd4ec"
      },
      "source": [
        "preds_anc = model_anc_30.predict({'input1': tokens_tensor_test_anc_30, 'input2': contexts_tensor_test_anc_30})\n",
        "f1_score(np.argmax(preds_anc, axis=1), np.argmax(Y_test_anc[:228], axis=1), average='micro')"
      ],
      "execution_count": null,
      "outputs": [
        {
          "output_type": "execute_result",
          "data": {
            "text/plain": [
              "0.7149122807017545"
            ]
          },
          "metadata": {
            "tags": []
          },
          "execution_count": 71
        }
      ]
    },
    {
      "cell_type": "code",
      "metadata": {
        "colab": {
          "base_uri": "https://localhost:8080/"
        },
        "id": "iqAIa064MUUc",
        "outputId": "51c15433-83a3-41ae-fede-7768dce7bf3d"
      },
      "source": [
        "f1_score(np.argmax(preds_anc, axis=1), np.argmax(Y_test_anc[:228], axis=1), average='macro')"
      ],
      "execution_count": null,
      "outputs": [
        {
          "output_type": "execute_result",
          "data": {
            "text/plain": [
              "0.6542285484916788"
            ]
          },
          "metadata": {
            "tags": []
          },
          "execution_count": 72
        }
      ]
    },
    {
      "cell_type": "code",
      "metadata": {
        "colab": {
          "base_uri": "https://localhost:8080/"
        },
        "id": "YV7_vU0gMV4u",
        "outputId": "5c670059-2471-469b-fed4-a1ef27f75d23"
      },
      "source": [
        "f1_score(np.argmax(preds_anc, axis=1), np.argmax(Y_test_anc[:228], axis=1), average='weighted')"
      ],
      "execution_count": null,
      "outputs": [
        {
          "output_type": "execute_result",
          "data": {
            "text/plain": [
              "0.7115881047138798"
            ]
          },
          "metadata": {
            "tags": []
          },
          "execution_count": 73
        }
      ]
    },
    {
      "cell_type": "code",
      "metadata": {
        "colab": {
          "base_uri": "https://localhost:8080/"
        },
        "id": "eGWSSdlVOyd_",
        "outputId": "5c0ee3ac-139c-42a8-d90f-1c8bc1c46455"
      },
      "source": [
        "preds_anc = model_anc_30.predict({'input1': tokens_tensor_test_anc, 'input2': contexts_tensor_test_anc})\n",
        "print(f1_score(np.argmax(preds_anc, axis=1), np.argmax(Y_test_anc, axis=1), average='micro'))\n",
        "print(f1_score(np.argmax(preds_anc, axis=1), np.argmax(Y_test_anc, axis=1), average='macro'))\n",
        "print(f1_score(np.argmax(preds_anc, axis=1), np.argmax(Y_test_anc, axis=1), average='weighted'))"
      ],
      "execution_count": null,
      "outputs": [
        {
          "output_type": "stream",
          "text": [
            "0.7230971128608924\n",
            "0.6771530270266309\n",
            "0.7213731338246442\n"
          ],
          "name": "stdout"
        }
      ]
    },
    {
      "cell_type": "markdown",
      "metadata": {
        "id": "UmGvgy-9Mmsw"
      },
      "source": [
        "### 10%"
      ]
    },
    {
      "cell_type": "code",
      "metadata": {
        "id": "VU-sjLxtMo55"
      },
      "source": [
        "model_anc_10 = build_model()"
      ],
      "execution_count": null,
      "outputs": []
    },
    {
      "cell_type": "code",
      "metadata": {
        "colab": {
          "base_uri": "https://localhost:8080/"
        },
        "id": "Wq-NYukwMwiv",
        "outputId": "468f51d4-46ec-4786-9a30-262fd03080f5"
      },
      "source": [
        "len(X_train_tokens_anc) * 0.1"
      ],
      "execution_count": null,
      "outputs": [
        {
          "output_type": "execute_result",
          "data": {
            "text/plain": [
              "177.8"
            ]
          },
          "metadata": {
            "tags": []
          },
          "execution_count": 75
        }
      ]
    },
    {
      "cell_type": "code",
      "metadata": {
        "colab": {
          "base_uri": "https://localhost:8080/"
        },
        "id": "CJinr0kzMxoN",
        "outputId": "dde6a903-8bdd-49d9-bbcc-9937e02f006d"
      },
      "source": [
        "len(X_test_tokens_anc) * 0.1"
      ],
      "execution_count": null,
      "outputs": [
        {
          "output_type": "execute_result",
          "data": {
            "text/plain": [
              "76.2"
            ]
          },
          "metadata": {
            "tags": []
          },
          "execution_count": 76
        }
      ]
    },
    {
      "cell_type": "code",
      "metadata": {
        "id": "InYfK0KRMyF_"
      },
      "source": [
        "tokens_tensor_train_anc_10 = tf.convert_to_tensor(X_train_tokens_anc[:177])\n",
        "tokens_tensor_test_anc_10 = tf.convert_to_tensor(X_test_tokens_anc[:76])\n",
        "contexts_tensor_train_anc_10 = tf.convert_to_tensor(X_train_contexts_anc[:177])\n",
        "contexts_tensor_test_anc_10 = tf.convert_to_tensor(X_test_contexts_anc[:76])"
      ],
      "execution_count": null,
      "outputs": []
    },
    {
      "cell_type": "code",
      "metadata": {
        "colab": {
          "base_uri": "https://localhost:8080/"
        },
        "id": "_Mtq8mZINBi7",
        "outputId": "a338fa73-429f-4191-c13e-a4f7a568cbbe"
      },
      "source": [
        "model_anc_10.fit({'input1': tokens_tensor_train_anc_10, 'input2': contexts_tensor_train_anc_10}, \n",
        "               {'output': Y_train_anc[:177]}, batch_size=8, epochs=10)"
      ],
      "execution_count": null,
      "outputs": [
        {
          "output_type": "stream",
          "text": [
            "Epoch 1/10\n",
            "23/23 [==============================] - 9s 107ms/step - loss: 0.6242 - accuracy: 0.4633\n",
            "Epoch 2/10\n",
            "23/23 [==============================] - 2s 106ms/step - loss: 0.5663 - accuracy: 0.5198\n",
            "Epoch 3/10\n",
            "23/23 [==============================] - 2s 105ms/step - loss: 0.5386 - accuracy: 0.5932\n",
            "Epoch 4/10\n",
            "23/23 [==============================] - 2s 105ms/step - loss: 0.5076 - accuracy: 0.6271\n",
            "Epoch 5/10\n",
            "23/23 [==============================] - 2s 108ms/step - loss: 0.4690 - accuracy: 0.6836\n",
            "Epoch 6/10\n",
            "23/23 [==============================] - 2s 104ms/step - loss: 0.4172 - accuracy: 0.7684\n",
            "Epoch 7/10\n",
            "23/23 [==============================] - 3s 111ms/step - loss: 0.3797 - accuracy: 0.7797\n",
            "Epoch 8/10\n",
            "23/23 [==============================] - 2s 106ms/step - loss: 0.3457 - accuracy: 0.8079\n",
            "Epoch 9/10\n",
            "23/23 [==============================] - 2s 107ms/step - loss: 0.3078 - accuracy: 0.8757\n",
            "Epoch 10/10\n",
            "23/23 [==============================] - 3s 111ms/step - loss: 0.2683 - accuracy: 0.8983\n"
          ],
          "name": "stdout"
        },
        {
          "output_type": "execute_result",
          "data": {
            "text/plain": [
              "<tensorflow.python.keras.callbacks.History at 0x7fcc25b6ab90>"
            ]
          },
          "metadata": {
            "tags": []
          },
          "execution_count": 78
        }
      ]
    },
    {
      "cell_type": "code",
      "metadata": {
        "colab": {
          "base_uri": "https://localhost:8080/"
        },
        "id": "Ldk_eTw4NIhP",
        "outputId": "c51011b3-42fc-4238-fd13-e49178115332"
      },
      "source": [
        "model_anc_10.evaluate({'input1': tokens_tensor_test_anc_10, 'input2': contexts_tensor_test_anc_10}, \n",
        "               {'output': Y_test_anc[:76]})"
      ],
      "execution_count": null,
      "outputs": [
        {
          "output_type": "stream",
          "text": [
            "3/3 [==============================] - 1s 46ms/step - loss: 0.3939 - accuracy: 0.7237\n"
          ],
          "name": "stdout"
        },
        {
          "output_type": "execute_result",
          "data": {
            "text/plain": [
              "[0.3938930332660675, 0.7236841917037964]"
            ]
          },
          "metadata": {
            "tags": []
          },
          "execution_count": 79
        }
      ]
    },
    {
      "cell_type": "code",
      "metadata": {
        "colab": {
          "base_uri": "https://localhost:8080/"
        },
        "id": "mi9flbI2NVQo",
        "outputId": "04ff20f5-d2a1-4d66-8969-422eb91940e9"
      },
      "source": [
        "model_anc_10.evaluate({'input1': tokens_tensor_test_anc, 'input2': contexts_tensor_test_anc}, \n",
        "               {'output': Y_test_anc})"
      ],
      "execution_count": null,
      "outputs": [
        {
          "output_type": "stream",
          "text": [
            "24/24 [==============================] - 1s 49ms/step - loss: 0.4407 - accuracy: 0.6811\n"
          ],
          "name": "stdout"
        },
        {
          "output_type": "execute_result",
          "data": {
            "text/plain": [
              "[0.44073590636253357, 0.6811023354530334]"
            ]
          },
          "metadata": {
            "tags": []
          },
          "execution_count": 85
        }
      ]
    },
    {
      "cell_type": "code",
      "metadata": {
        "colab": {
          "base_uri": "https://localhost:8080/"
        },
        "id": "2p3obrvUO6hs",
        "outputId": "00e93e5d-cadf-4d52-808d-7fc4bb31ef15"
      },
      "source": [
        "preds_anc = model_anc_10.predict({'input1': tokens_tensor_test_anc_10, 'input2': contexts_tensor_test_anc_10})\n",
        "print(f1_score(np.argmax(preds_anc, axis=1), np.argmax(Y_test_anc[:76], axis=1), average='micro'))\n",
        "print(f1_score(np.argmax(preds_anc, axis=1), np.argmax(Y_test_anc[:76], axis=1), average='macro'))\n",
        "print(f1_score(np.argmax(preds_anc, axis=1), np.argmax(Y_test_anc[:76], axis=1), average='weighted'))"
      ],
      "execution_count": null,
      "outputs": [
        {
          "output_type": "stream",
          "text": [
            "0.7236842105263158\n",
            "0.6627346300548914\n",
            "0.7175054311277221\n"
          ],
          "name": "stdout"
        }
      ]
    },
    {
      "cell_type": "code",
      "metadata": {
        "colab": {
          "base_uri": "https://localhost:8080/"
        },
        "id": "8cXBLJbeN1Ue",
        "outputId": "5b61c5a2-a3a5-4854-f2d0-0e042a0b5b57"
      },
      "source": [
        "preds_anc = model_anc_10.predict({'input1': tokens_tensor_test_anc, 'input2': contexts_tensor_test_anc})\n",
        "print(f1_score(np.argmax(preds_anc, axis=1), np.argmax(Y_test_anc, axis=1), average='micro'))\n",
        "print(f1_score(np.argmax(preds_anc, axis=1), np.argmax(Y_test_anc, axis=1), average='macro'))\n",
        "print(f1_score(np.argmax(preds_anc, axis=1), np.argmax(Y_test_anc, axis=1), average='weighted'))"
      ],
      "execution_count": null,
      "outputs": [
        {
          "output_type": "stream",
          "text": [
            "0.6811023622047244\n",
            "0.6395481678106575\n",
            "0.6805693329009728\n"
          ],
          "name": "stdout"
        }
      ]
    }
  ]
}