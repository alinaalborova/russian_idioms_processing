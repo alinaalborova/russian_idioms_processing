{
  "nbformat": 4,
  "nbformat_minor": 0,
  "metadata": {
    "colab": {
      "name": "Parser for Fedorov's Dctionary of Russian Idioms.ipynb",
      "provenance": [],
      "toc_visible": true,
      "authorship_tag": "ABX9TyOQucIvWYNqEyWtezg8jOU1",
      "include_colab_link": true
    },
    "kernelspec": {
      "name": "python3",
      "display_name": "Python 3"
    }
  },
  "cells": [
    {
      "cell_type": "markdown",
      "metadata": {
        "id": "view-in-github",
        "colab_type": "text"
      },
      "source": [
        "<a href=\"https://colab.research.google.com/github/alinaalborova/russian_idioms_processing/blob/main/Parser_for_Fedorov's_Dctionary_of_Russian_Idioms.ipynb\" target=\"_parent\"><img src=\"https://colab.research.google.com/assets/colab-badge.svg\" alt=\"Open In Colab\"/></a>"
      ]
    },
    {
      "cell_type": "code",
      "metadata": {
        "id": "Ae6uR7sCSwmL"
      },
      "source": [
        "import re\n",
        "import numpy as np\n",
        "import pandas as pd"
      ],
      "execution_count": null,
      "outputs": []
    },
    {
      "cell_type": "code",
      "metadata": {
        "id": "oKuoy0V9Xi0k"
      },
      "source": [
        "f = open(\"rus-rus_phr_fedor.dsl\", \"r\", encoding='utf-8')\n",
        "print(f.readlines(50))"
      ],
      "execution_count": null,
      "outputs": []
    },
    {
      "cell_type": "code",
      "metadata": {
        "id": "op1_OQiUXsIX"
      },
      "source": [
        "data_f = f.readlines()"
      ],
      "execution_count": null,
      "outputs": []
    },
    {
      "cell_type": "code",
      "metadata": {
        "id": "4_NnfMAmSytz"
      },
      "source": [
        "data_f = data_f[:100]"
      ],
      "execution_count": null,
      "outputs": []
    },
    {
      "cell_type": "code",
      "metadata": {
        "id": "VhjtAsGVEEQm"
      },
      "source": [
        "string = '\\t[m1][p]прост.[/p] [p]экспрес.[/p] Выражение изумления, восхищения, недоумения и т. п.[/m]\\n'\n",
        "re.findall('\\[p\\]\\w+\\.', string)"
      ],
      "execution_count": null,
      "outputs": []
    },
    {
      "cell_type": "code",
      "metadata": {
        "id": "YfOBQyg_X6kE"
      },
      "source": [
        "idioms = []\n",
        "meanings = []\n",
        "tags = []\n",
        "examples = []\n",
        "for id, line in enumerate(data_f):\n",
        "  if '\\t' not in line and line != '\\n':\n",
        "    idioms.append((id, line.replace('\\n', '').replace('{', '').replace('}', '').replace('\\\\', '')))\n",
        "  elif line[3] == '1':\n",
        "    tags_ = re.findall('\\[p\\]\\w+\\.', line)\n",
        "    for tag in tags_:\n",
        "      tags.append((id, tag.replace('[p]', '')))\n",
        "      line = line.replace(tag, '')\n",
        "    if line != '\\xa0':\n",
        "      meanings.append((id, line.replace('\\t[m1]', '').replace('[/m]\\n', '')))\n",
        "  elif line[3] == '2':\n",
        "    examples.append((id, re.findall('\\[i\\].*\\[\\/i\\]', line)[0].replace('[i]', '').replace('[/i]', '')))\n",
        "#idioms"
      ],
      "execution_count": null,
      "outputs": []
    },
    {
      "cell_type": "code",
      "metadata": {
        "id": "cu633ut9fuEM"
      },
      "source": [
        "idioms_list = []\n",
        "for i in idioms:\n",
        "  idioms_list.append([i[1], list(), list(), list()])\n",
        "print(idioms_list)"
      ],
      "execution_count": null,
      "outputs": []
    },
    {
      "cell_type": "code",
      "metadata": {
        "id": "RaXP0wg5ip2D"
      },
      "source": [
        "idioms_indices = []\n",
        "for i in idioms:\n",
        "  idioms_indices.append(i[0])\n",
        "#idioms_indices"
      ],
      "execution_count": null,
      "outputs": []
    },
    {
      "cell_type": "code",
      "metadata": {
        "id": "YoE-xvnxi1FJ"
      },
      "source": [
        "meanings_indices = []\n",
        "for i in meanings:\n",
        "  meanings_indices.append(i[0])\n",
        "#meanings_indices"
      ],
      "execution_count": null,
      "outputs": []
    },
    {
      "cell_type": "code",
      "metadata": {
        "id": "xze07BAyKBWw"
      },
      "source": [
        "examples_indices = []\n",
        "for i in examples:\n",
        "  examples_indices.append(i[0])\n",
        "#examples_indices"
      ],
      "execution_count": null,
      "outputs": []
    },
    {
      "cell_type": "code",
      "metadata": {
        "id": "3x797w3hF9ux"
      },
      "source": [
        "tags_indices = []\n",
        "for i in tags:\n",
        "  tags_indices.append(i[0])"
      ],
      "execution_count": null,
      "outputs": []
    },
    {
      "cell_type": "code",
      "metadata": {
        "id": "LfmIbLDBi8IJ"
      },
      "source": [
        "idioms_indices_pairs = []\n",
        "for index, i in enumerate(idioms_indices):\n",
        "  idioms_indices_pairs.append([idioms_indices[index-1], i])\n",
        "  idioms_indices_pairs_ = idioms_indices_pairs[1:]\n",
        "#print(idioms_indices_pairs_)"
      ],
      "execution_count": null,
      "outputs": []
    },
    {
      "cell_type": "code",
      "metadata": {
        "id": "FkWuGH7dk7O2"
      },
      "source": [
        "idioms_indices_ranges = []\n",
        "for pair in idioms_indices_pairs_:\n",
        "  pair_range = []\n",
        "  s = pair[0]\n",
        "  f = pair[1]\n",
        "  for i in range(s+1, f):\n",
        "    pair_range.append(i)\n",
        "  idioms_indices_ranges.append(pair_range)\n",
        "#idioms_indices_ranges"
      ],
      "execution_count": null,
      "outputs": []
    },
    {
      "cell_type": "code",
      "metadata": {
        "id": "_gZlKojv99Jl"
      },
      "source": [
        "#fill the gaps\n",
        "for i, i_range in enumerate(idioms_indices_ranges):\n",
        "  if not i_range:\n",
        "    i_range = idioms_indices_ranges[+1]\n",
        "    idioms_indices_ranges[i] = i_range\n",
        "idioms_indices_ranges"
      ],
      "execution_count": null,
      "outputs": []
    },
    {
      "cell_type": "code",
      "metadata": {
        "id": "GiVKLKOpHQ3X"
      },
      "source": [
        "idioms_list_ = idioms_list\n",
        "idioms_list_ "
      ],
      "execution_count": null,
      "outputs": []
    },
    {
      "cell_type": "code",
      "metadata": {
        "id": "Ll4WqKHZjZEL"
      },
      "source": [
        "for id, p_range in enumerate(idioms_indices_ranges):\n",
        "  for id_m, index in enumerate(meanings_indices):\n",
        "    if index in p_range:\n",
        "      idioms_list_[id][1].append(meanings[id_m][1])"
      ],
      "execution_count": null,
      "outputs": []
    },
    {
      "cell_type": "code",
      "metadata": {
        "id": "nrIyx1WBIYcM"
      },
      "source": [
        "#idioms_list_"
      ],
      "execution_count": null,
      "outputs": []
    },
    {
      "cell_type": "code",
      "metadata": {
        "id": "Xpgj4KrmJ9gq"
      },
      "source": [
        "for id, p_range in enumerate(idioms_indices_ranges):\n",
        "  for id_m, index in enumerate(examples_indices):\n",
        "    if index in p_range:\n",
        "      idioms_list_[id][2].append(examples[id_m][1])\n",
        "#idioms_list_"
      ],
      "execution_count": null,
      "outputs": []
    },
    {
      "cell_type": "code",
      "metadata": {
        "id": "QguohwwWGZ1f"
      },
      "source": [
        "for id, p_range in enumerate(idioms_indices_ranges):\n",
        "  for id_m, index in enumerate(tags_indices):\n",
        "    if index in p_range:\n",
        "      idioms_list_[id][3].append(tags[id_m][1])"
      ],
      "execution_count": null,
      "outputs": []
    },
    {
      "cell_type": "code",
      "metadata": {
        "id": "aTTSN7NakPZ7"
      },
      "source": [
        "dataframe = pd.DataFrame(idioms_list)"
      ],
      "execution_count": null,
      "outputs": []
    },
    {
      "cell_type": "code",
      "metadata": {
        "id": "bACumVmnwm6p"
      },
      "source": [
        "dataframe.shape"
      ],
      "execution_count": null,
      "outputs": []
    },
    {
      "cell_type": "code",
      "metadata": {
        "id": "gZdfwMsAOCpS"
      },
      "source": [
        "dataframe.get(1)[1]"
      ],
      "execution_count": null,
      "outputs": []
    },
    {
      "cell_type": "code",
      "metadata": {
        "id": "3yXcXHgYI5ZH"
      },
      "source": [
        "import json\n",
        "\n",
        "parsed_dict = {}\n",
        "parsed_dict['Idioms'] = []\n",
        "\n",
        "for i in idioms_list:\n",
        "  parsed_dict['Idioms'].append({\n",
        "      'idiom': i[0],\n",
        "      'meanings': i[1],\n",
        "      'examples': i[2],\n",
        "      'tags': i[3]\n",
        "  })"
      ],
      "execution_count": null,
      "outputs": []
    },
    {
      "cell_type": "code",
      "metadata": {
        "id": "gs4o_pdGJr6n"
      },
      "source": [
        "parsed_dict"
      ],
      "execution_count": null,
      "outputs": []
    },
    {
      "cell_type": "code",
      "metadata": {
        "id": "cAIuAEB16Acg"
      },
      "source": [
        "dataframe.iloc[2][1]"
      ],
      "execution_count": null,
      "outputs": []
    },
    {
      "cell_type": "code",
      "metadata": {
        "id": "KWPFB1t1UF1z"
      },
      "source": [
        "dataframe.to_csv('fedorov.csv', encoding='utf-8-sig')"
      ],
      "execution_count": null,
      "outputs": []
    }
  ]
}